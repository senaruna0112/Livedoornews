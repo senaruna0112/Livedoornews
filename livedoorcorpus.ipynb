{
  "cells": [
    {
      "cell_type": "markdown",
      "metadata": {
        "id": "view-in-github",
        "colab_type": "text"
      },
      "source": [
        "<a href=\"https://colab.research.google.com/github/senaruna0112/Livedoornews/blob/main/livedoorcorpus.ipynb\" target=\"_parent\"><img src=\"https://colab.research.google.com/assets/colab-badge.svg\" alt=\"Open In Colab\"/></a>"
      ]
    },
    {
      "cell_type": "markdown",
      "metadata": {
        "id": "6VwttR26CSZG"
      },
      "source": [
        "#livedoorのニュースをupload"
      ]
    },
    {
      "cell_type": "code",
      "execution_count": 2,
      "metadata": {
        "id": "TT8cKP6bBgYX"
      },
      "outputs": [],
      "source": [
        "import pandas as pd"
      ]
    },
    {
      "cell_type": "code",
      "execution_count": 3,
      "metadata": {
        "colab": {
          "base_uri": "https://localhost:8080/"
        },
        "id": "G6zbI5aR4oeE",
        "outputId": "23cf5b8a-74a6-4730-8093-c3d15f20495c"
      },
      "outputs": [
        {
          "output_type": "stream",
          "name": "stdout",
          "text": [
            "Mounted at /content/drive\n"
          ]
        }
      ],
      "source": [
        "from google.colab import drive\n",
        "drive.mount('/content/drive')"
      ]
    },
    {
      "cell_type": "code",
      "execution_count": 4,
      "metadata": {
        "colab": {
          "base_uri": "https://localhost:8080/",
          "height": 814
        },
        "id": "NveK7s4rDNjG",
        "outputId": "18b16701-6745-4637-caf3-c5a77e8c267e"
      },
      "outputs": [
        {
          "output_type": "execute_result",
          "data": {
            "text/html": [
              "\n",
              "  <div id=\"df-271a7df2-8474-4fc2-8cd9-dff0b13ebdcb\">\n",
              "    <div class=\"colab-df-container\">\n",
              "      <div>\n",
              "<style scoped>\n",
              "    .dataframe tbody tr th:only-of-type {\n",
              "        vertical-align: middle;\n",
              "    }\n",
              "\n",
              "    .dataframe tbody tr th {\n",
              "        vertical-align: top;\n",
              "    }\n",
              "\n",
              "    .dataframe thead th {\n",
              "        text-align: right;\n",
              "    }\n",
              "</style>\n",
              "<table border=\"1\" class=\"dataframe\">\n",
              "  <thead>\n",
              "    <tr style=\"text-align: right;\">\n",
              "      <th></th>\n",
              "      <th>url</th>\n",
              "      <th>datetime</th>\n",
              "      <th>title</th>\n",
              "      <th>body</th>\n",
              "      <th>media</th>\n",
              "    </tr>\n",
              "  </thead>\n",
              "  <tbody>\n",
              "    <tr>\n",
              "      <th>0</th>\n",
              "      <td>http://news.livedoor.com/article/detail/6341361/</td>\n",
              "      <td>2012-03-06T08:40:00+0900</td>\n",
              "      <td>敗れたばかりのアメリカ代表エース＆監督、なでしこジャパンを称賛</td>\n",
              "      <td>5日深夜、アルガルベカップの舞台で、サッカー女子Ｗ杯決勝戦以来の激突となる宿敵アメリカ代表を...</td>\n",
              "      <td>sports-watch</td>\n",
              "    </tr>\n",
              "    <tr>\n",
              "      <th>1</th>\n",
              "      <td>http://news.livedoor.com/article/detail/5906273/</td>\n",
              "      <td>2011-10-03T09:00:00+0900</td>\n",
              "      <td>【Sports Watch】あまりにも美しい日本代表キャプテン、照準は世界</td>\n",
              "      <td>カーリング女子日本代表の中部電力が、11月に中国の南京で開催されるパシフィック選手権に向けた...</td>\n",
              "      <td>sports-watch</td>\n",
              "    </tr>\n",
              "    <tr>\n",
              "      <th>2</th>\n",
              "      <td>http://news.livedoor.com/article/detail/5679854/</td>\n",
              "      <td>2011-07-03T08:30:00+0900</td>\n",
              "      <td>【Sports Watch】日本と激突!?　驚愕テクニックを持つ“女ジダン”</td>\n",
              "      <td>ドイツで開催中の女子W杯。なでしこジャパンは、ニュージーランドと対戦したグループリーグの初戦...</td>\n",
              "      <td>sports-watch</td>\n",
              "    </tr>\n",
              "    <tr>\n",
              "      <th>3</th>\n",
              "      <td>http://news.livedoor.com/article/detail/4629259/</td>\n",
              "      <td>2010-02-27T20:25:00+0900</td>\n",
              "      <td>【Sports Watch】進むフィギュアの高得点化、荒川のトリノ五輪時得点は——</td>\n",
              "      <td>日本時間26日、バンクーバー五輪で開催された注目の女子フィギュアスケートでは、金メダルを獲得...</td>\n",
              "      <td>sports-watch</td>\n",
              "    </tr>\n",
              "    <tr>\n",
              "      <th>4</th>\n",
              "      <td>http://news.livedoor.com/article/detail/6800367/</td>\n",
              "      <td>2012-07-28T11:00:00+0900</td>\n",
              "      <td>内村航平ら選手が見せる競技前のしぐさの秘密</td>\n",
              "      <td>27日放送、フジテレビ「とくダネ！」は、「メダル獲得のキーポイント 競技直前の\"しぐさ\"に秘...</td>\n",
              "      <td>sports-watch</td>\n",
              "    </tr>\n",
              "    <tr>\n",
              "      <th>...</th>\n",
              "      <td>...</td>\n",
              "      <td>...</td>\n",
              "      <td>...</td>\n",
              "      <td>...</td>\n",
              "      <td>...</td>\n",
              "    </tr>\n",
              "    <tr>\n",
              "      <th>7362</th>\n",
              "      <td>http://news.livedoor.com/article/detail/6859873/</td>\n",
              "      <td>2012-08-16T12:20:00+0900</td>\n",
              "      <td>竹島まで泳ぐもパニック障害に。ネットでは呆れる声が続々と</td>\n",
              "      <td>15日、韓国人歌手の金章勲（キム・ジャンフン）氏が、韓国の学生らと水泳リレーで竹島へ渡ったが...</td>\n",
              "      <td>topic-news</td>\n",
              "    </tr>\n",
              "    <tr>\n",
              "      <th>7363</th>\n",
              "      <td>http://news.livedoor.com/article/detail/6408532/</td>\n",
              "      <td>2012-03-27T19:12:00+0900</td>\n",
              "      <td>アイドルの顔を「尻の穴」と例えたさんまの発言が波紋呼ぶ</td>\n",
              "      <td>24日、MBSラジオ「ヤングタウン」で、明石家さんまがモーニング娘。のメンバー・光井愛佳の顔...</td>\n",
              "      <td>topic-news</td>\n",
              "    </tr>\n",
              "    <tr>\n",
              "      <th>7364</th>\n",
              "      <td>http://news.livedoor.com/article/detail/6705929/</td>\n",
              "      <td>2012-06-29T11:50:00+0900</td>\n",
              "      <td>“ガチで未経験”おかもとまりが明かす「捧げたい」人とは？</td>\n",
              "      <td>28日深夜放送、テレビ東京「くだまき八兵衛X」では、「アイドル暴露ダメ出し合い第15弾」とし...</td>\n",
              "      <td>topic-news</td>\n",
              "    </tr>\n",
              "    <tr>\n",
              "      <th>7365</th>\n",
              "      <td>http://news.livedoor.com/article/detail/6506733/</td>\n",
              "      <td>2012-04-26T13:42:00+0900</td>\n",
              "      <td>猫ひろし、日本国籍再取得に暗雲も「当たり前だ」の声</td>\n",
              "      <td>法律相談などを扱う「弁護士ドットコム」が25日に報じた『カンボジア人になった猫ひろし　二度と...</td>\n",
              "      <td>topic-news</td>\n",
              "    </tr>\n",
              "    <tr>\n",
              "      <th>7366</th>\n",
              "      <td>http://news.livedoor.com/article/detail/6498671/</td>\n",
              "      <td>2012-04-24T12:52:00+0900</td>\n",
              "      <td>暴露やめない高岡蒼佑に「宮崎あおいの性癖も流せ」「高岡は最低のクズ男」とネットが騒然</td>\n",
              "      <td>24日、週刊誌「女性自身」は、「宮崎あおい　高岡蒼佑が狙う“第二の不倫相手”は広告代理店関係...</td>\n",
              "      <td>topic-news</td>\n",
              "    </tr>\n",
              "  </tbody>\n",
              "</table>\n",
              "<p>7367 rows × 5 columns</p>\n",
              "</div>\n",
              "      <button class=\"colab-df-convert\" onclick=\"convertToInteractive('df-271a7df2-8474-4fc2-8cd9-dff0b13ebdcb')\"\n",
              "              title=\"Convert this dataframe to an interactive table.\"\n",
              "              style=\"display:none;\">\n",
              "        \n",
              "  <svg xmlns=\"http://www.w3.org/2000/svg\" height=\"24px\"viewBox=\"0 0 24 24\"\n",
              "       width=\"24px\">\n",
              "    <path d=\"M0 0h24v24H0V0z\" fill=\"none\"/>\n",
              "    <path d=\"M18.56 5.44l.94 2.06.94-2.06 2.06-.94-2.06-.94-.94-2.06-.94 2.06-2.06.94zm-11 1L8.5 8.5l.94-2.06 2.06-.94-2.06-.94L8.5 2.5l-.94 2.06-2.06.94zm10 10l.94 2.06.94-2.06 2.06-.94-2.06-.94-.94-2.06-.94 2.06-2.06.94z\"/><path d=\"M17.41 7.96l-1.37-1.37c-.4-.4-.92-.59-1.43-.59-.52 0-1.04.2-1.43.59L10.3 9.45l-7.72 7.72c-.78.78-.78 2.05 0 2.83L4 21.41c.39.39.9.59 1.41.59.51 0 1.02-.2 1.41-.59l7.78-7.78 2.81-2.81c.8-.78.8-2.07 0-2.86zM5.41 20L4 18.59l7.72-7.72 1.47 1.35L5.41 20z\"/>\n",
              "  </svg>\n",
              "      </button>\n",
              "      \n",
              "  <style>\n",
              "    .colab-df-container {\n",
              "      display:flex;\n",
              "      flex-wrap:wrap;\n",
              "      gap: 12px;\n",
              "    }\n",
              "\n",
              "    .colab-df-convert {\n",
              "      background-color: #E8F0FE;\n",
              "      border: none;\n",
              "      border-radius: 50%;\n",
              "      cursor: pointer;\n",
              "      display: none;\n",
              "      fill: #1967D2;\n",
              "      height: 32px;\n",
              "      padding: 0 0 0 0;\n",
              "      width: 32px;\n",
              "    }\n",
              "\n",
              "    .colab-df-convert:hover {\n",
              "      background-color: #E2EBFA;\n",
              "      box-shadow: 0px 1px 2px rgba(60, 64, 67, 0.3), 0px 1px 3px 1px rgba(60, 64, 67, 0.15);\n",
              "      fill: #174EA6;\n",
              "    }\n",
              "\n",
              "    [theme=dark] .colab-df-convert {\n",
              "      background-color: #3B4455;\n",
              "      fill: #D2E3FC;\n",
              "    }\n",
              "\n",
              "    [theme=dark] .colab-df-convert:hover {\n",
              "      background-color: #434B5C;\n",
              "      box-shadow: 0px 1px 3px 1px rgba(0, 0, 0, 0.15);\n",
              "      filter: drop-shadow(0px 1px 2px rgba(0, 0, 0, 0.3));\n",
              "      fill: #FFFFFF;\n",
              "    }\n",
              "  </style>\n",
              "\n",
              "      <script>\n",
              "        const buttonEl =\n",
              "          document.querySelector('#df-271a7df2-8474-4fc2-8cd9-dff0b13ebdcb button.colab-df-convert');\n",
              "        buttonEl.style.display =\n",
              "          google.colab.kernel.accessAllowed ? 'block' : 'none';\n",
              "\n",
              "        async function convertToInteractive(key) {\n",
              "          const element = document.querySelector('#df-271a7df2-8474-4fc2-8cd9-dff0b13ebdcb');\n",
              "          const dataTable =\n",
              "            await google.colab.kernel.invokeFunction('convertToInteractive',\n",
              "                                                     [key], {});\n",
              "          if (!dataTable) return;\n",
              "\n",
              "          const docLinkHtml = 'Like what you see? Visit the ' +\n",
              "            '<a target=\"_blank\" href=https://colab.research.google.com/notebooks/data_table.ipynb>data table notebook</a>'\n",
              "            + ' to learn more about interactive tables.';\n",
              "          element.innerHTML = '';\n",
              "          dataTable['output_type'] = 'display_data';\n",
              "          await google.colab.output.renderOutput(dataTable, element);\n",
              "          const docLink = document.createElement('div');\n",
              "          docLink.innerHTML = docLinkHtml;\n",
              "          element.appendChild(docLink);\n",
              "        }\n",
              "      </script>\n",
              "    </div>\n",
              "  </div>\n",
              "  "
            ],
            "text/plain": [
              "                                                   url  \\\n",
              "0     http://news.livedoor.com/article/detail/6341361/   \n",
              "1     http://news.livedoor.com/article/detail/5906273/   \n",
              "2     http://news.livedoor.com/article/detail/5679854/   \n",
              "3     http://news.livedoor.com/article/detail/4629259/   \n",
              "4     http://news.livedoor.com/article/detail/6800367/   \n",
              "...                                                ...   \n",
              "7362  http://news.livedoor.com/article/detail/6859873/   \n",
              "7363  http://news.livedoor.com/article/detail/6408532/   \n",
              "7364  http://news.livedoor.com/article/detail/6705929/   \n",
              "7365  http://news.livedoor.com/article/detail/6506733/   \n",
              "7366  http://news.livedoor.com/article/detail/6498671/   \n",
              "\n",
              "                      datetime                                       title  \\\n",
              "0     2012-03-06T08:40:00+0900             敗れたばかりのアメリカ代表エース＆監督、なでしこジャパンを称賛   \n",
              "1     2011-10-03T09:00:00+0900       【Sports Watch】あまりにも美しい日本代表キャプテン、照準は世界   \n",
              "2     2011-07-03T08:30:00+0900      【Sports Watch】日本と激突!?　驚愕テクニックを持つ“女ジダン”   \n",
              "3     2010-02-27T20:25:00+0900   【Sports Watch】進むフィギュアの高得点化、荒川のトリノ五輪時得点は——   \n",
              "4     2012-07-28T11:00:00+0900                       内村航平ら選手が見せる競技前のしぐさの秘密   \n",
              "...                        ...                                         ...   \n",
              "7362  2012-08-16T12:20:00+0900                竹島まで泳ぐもパニック障害に。ネットでは呆れる声が続々と   \n",
              "7363  2012-03-27T19:12:00+0900                 アイドルの顔を「尻の穴」と例えたさんまの発言が波紋呼ぶ   \n",
              "7364  2012-06-29T11:50:00+0900                “ガチで未経験”おかもとまりが明かす「捧げたい」人とは？   \n",
              "7365  2012-04-26T13:42:00+0900                   猫ひろし、日本国籍再取得に暗雲も「当たり前だ」の声   \n",
              "7366  2012-04-24T12:52:00+0900  暴露やめない高岡蒼佑に「宮崎あおいの性癖も流せ」「高岡は最低のクズ男」とネットが騒然   \n",
              "\n",
              "                                                   body         media  \n",
              "0     5日深夜、アルガルベカップの舞台で、サッカー女子Ｗ杯決勝戦以来の激突となる宿敵アメリカ代表を...  sports-watch  \n",
              "1     カーリング女子日本代表の中部電力が、11月に中国の南京で開催されるパシフィック選手権に向けた...  sports-watch  \n",
              "2     ドイツで開催中の女子W杯。なでしこジャパンは、ニュージーランドと対戦したグループリーグの初戦...  sports-watch  \n",
              "3     日本時間26日、バンクーバー五輪で開催された注目の女子フィギュアスケートでは、金メダルを獲得...  sports-watch  \n",
              "4     27日放送、フジテレビ「とくダネ！」は、「メダル獲得のキーポイント 競技直前の\"しぐさ\"に秘...  sports-watch  \n",
              "...                                                 ...           ...  \n",
              "7362  15日、韓国人歌手の金章勲（キム・ジャンフン）氏が、韓国の学生らと水泳リレーで竹島へ渡ったが...    topic-news  \n",
              "7363  24日、MBSラジオ「ヤングタウン」で、明石家さんまがモーニング娘。のメンバー・光井愛佳の顔...    topic-news  \n",
              "7364  28日深夜放送、テレビ東京「くだまき八兵衛X」では、「アイドル暴露ダメ出し合い第15弾」とし...    topic-news  \n",
              "7365  法律相談などを扱う「弁護士ドットコム」が25日に報じた『カンボジア人になった猫ひろし　二度と...    topic-news  \n",
              "7366  24日、週刊誌「女性自身」は、「宮崎あおい　高岡蒼佑が狙う“第二の不倫相手”は広告代理店関係...    topic-news  \n",
              "\n",
              "[7367 rows x 5 columns]"
            ]
          },
          "metadata": {},
          "execution_count": 4
        }
      ],
      "source": [
        "df=pd.read_csv(\"/content/drive/MyDrive/Profmike/livedoornews.csv\", sep=\",\")\n",
        "df\n"
      ]
    },
    {
      "cell_type": "code",
      "source": [
        ""
      ],
      "metadata": {
        "id": "es6ebMcFiUkt"
      },
      "execution_count": null,
      "outputs": []
    },
    {
      "cell_type": "markdown",
      "metadata": {
        "id": "APifU6eZcVYx"
      },
      "source": [
        "## 事前に知っているトピックで分類（通常は未知）"
      ]
    },
    {
      "cell_type": "code",
      "execution_count": 5,
      "metadata": {
        "colab": {
          "base_uri": "https://localhost:8080/"
        },
        "id": "OOjZfKN9DbL3",
        "outputId": "8e848c52-e574-4f88-bbea-f5a7b5e4b527"
      },
      "outputs": [
        {
          "output_type": "stream",
          "name": "stdout",
          "text": [
            "dokujo-tsushin\n",
            "it-life-hack\n",
            "kaden-channel\n",
            "livedoor-homme\n",
            "movie-enter\n",
            "peachy\n",
            "smax\n",
            "sports-watch\n",
            "topic-news\n"
          ]
        }
      ],
      "source": [
        "for topic, sdf in df.groupby('media'):\n",
        "    print(topic)\n",
        "    sdf=sdf.reset_index()\n",
        "    sdf = sdf.reset_index()\n",
        "    if topic ==\"sports-watch\":\n",
        "        sport_df=sdf\n",
        "    if topic==\"it-life-hack\":\n",
        "        itdf=sdf"
      ]
    },
    {
      "cell_type": "markdown",
      "metadata": {
        "id": "-wCJwBbNwoea"
      },
      "source": [
        "データをシャッフルする"
      ]
    },
    {
      "cell_type": "code",
      "execution_count": 6,
      "metadata": {
        "colab": {
          "base_uri": "https://localhost:8080/",
          "height": 388
        },
        "id": "rtiCL3oXwlqn",
        "outputId": "6b07bc16-ace2-4f68-96ef-b07295a8c334"
      },
      "outputs": [
        {
          "output_type": "execute_result",
          "data": {
            "text/html": [
              "\n",
              "  <div id=\"df-cd0f44fa-0a5d-45c3-8a3d-58b687ce8b28\">\n",
              "    <div class=\"colab-df-container\">\n",
              "      <div>\n",
              "<style scoped>\n",
              "    .dataframe tbody tr th:only-of-type {\n",
              "        vertical-align: middle;\n",
              "    }\n",
              "\n",
              "    .dataframe tbody tr th {\n",
              "        vertical-align: top;\n",
              "    }\n",
              "\n",
              "    .dataframe thead th {\n",
              "        text-align: right;\n",
              "    }\n",
              "</style>\n",
              "<table border=\"1\" class=\"dataframe\">\n",
              "  <thead>\n",
              "    <tr style=\"text-align: right;\">\n",
              "      <th></th>\n",
              "      <th>url</th>\n",
              "      <th>datetime</th>\n",
              "      <th>title</th>\n",
              "      <th>body</th>\n",
              "      <th>media</th>\n",
              "    </tr>\n",
              "  </thead>\n",
              "  <tbody>\n",
              "    <tr>\n",
              "      <th>0</th>\n",
              "      <td>http://news.livedoor.com/article/detail/6895468/</td>\n",
              "      <td>2012-08-28T10:55:00+0900</td>\n",
              "      <td>BluetoothキーボードでiPadはモバイルノートパソコンの代わりになるのか！？モバイル...</td>\n",
              "      <td>キーボードがあれば使いやすくなる！？\\nwebも動画も写真もサクサク見られる「iPad」。ネ...</td>\n",
              "      <td>smax</td>\n",
              "    </tr>\n",
              "    <tr>\n",
              "      <th>1</th>\n",
              "      <td>http://news.livedoor.com/article/detail/6538350/</td>\n",
              "      <td>2012-05-08T15:55:00+0900</td>\n",
              "      <td>Pantech、HD液晶やSnapdragon S4、Android 4.0 ICS搭載スマ...</td>\n",
              "      <td>ゼロから始めるスマートフォン\\nPantech（パンテック）は3日、Androidスマートフ...</td>\n",
              "      <td>smax</td>\n",
              "    </tr>\n",
              "    <tr>\n",
              "      <th>2</th>\n",
              "      <td>http://news.livedoor.com/article/detail/6440610/</td>\n",
              "      <td>2012-04-05T18:00:00+0900</td>\n",
              "      <td>「タニタ調子こいてる」「刑務所メシより酷い」ヘルシー弁当の内容に物議</td>\n",
              "      <td>5日、家庭用・業務用の計量器メーカーのタニタが「ヘルシー弁当」を発売すると、各メディアが報じ...</td>\n",
              "      <td>topic-news</td>\n",
              "    </tr>\n",
              "    <tr>\n",
              "      <th>3</th>\n",
              "      <td>http://news.livedoor.com/article/detail/6351207/</td>\n",
              "      <td>2012-03-08T23:08:00+0900</td>\n",
              "      <td>ネットで集まった祈りを祈祷・・・３月11日に山伏による復興祈願、供養が福島県で開催【話題】</td>\n",
              "      <td>東日本大震災からもうすぐ１年。当日は多くの取り組みやイベントが予定されている。ネットを利用す...</td>\n",
              "      <td>kaden-channel</td>\n",
              "    </tr>\n",
              "    <tr>\n",
              "      <th>4</th>\n",
              "      <td>http://news.livedoor.com/article/detail/6568183/</td>\n",
              "      <td>2012-05-17T13:40:00+0900</td>\n",
              "      <td>香里奈が青木裕子アナに突っ込み「何か発表とかありますか？」</td>\n",
              "      <td>女優の香里奈が17日、東京・千代田区の大丸東京店で行われた、映画『ガール』（5月26日公開）...</td>\n",
              "      <td>movie-enter</td>\n",
              "    </tr>\n",
              "  </tbody>\n",
              "</table>\n",
              "</div>\n",
              "      <button class=\"colab-df-convert\" onclick=\"convertToInteractive('df-cd0f44fa-0a5d-45c3-8a3d-58b687ce8b28')\"\n",
              "              title=\"Convert this dataframe to an interactive table.\"\n",
              "              style=\"display:none;\">\n",
              "        \n",
              "  <svg xmlns=\"http://www.w3.org/2000/svg\" height=\"24px\"viewBox=\"0 0 24 24\"\n",
              "       width=\"24px\">\n",
              "    <path d=\"M0 0h24v24H0V0z\" fill=\"none\"/>\n",
              "    <path d=\"M18.56 5.44l.94 2.06.94-2.06 2.06-.94-2.06-.94-.94-2.06-.94 2.06-2.06.94zm-11 1L8.5 8.5l.94-2.06 2.06-.94-2.06-.94L8.5 2.5l-.94 2.06-2.06.94zm10 10l.94 2.06.94-2.06 2.06-.94-2.06-.94-.94-2.06-.94 2.06-2.06.94z\"/><path d=\"M17.41 7.96l-1.37-1.37c-.4-.4-.92-.59-1.43-.59-.52 0-1.04.2-1.43.59L10.3 9.45l-7.72 7.72c-.78.78-.78 2.05 0 2.83L4 21.41c.39.39.9.59 1.41.59.51 0 1.02-.2 1.41-.59l7.78-7.78 2.81-2.81c.8-.78.8-2.07 0-2.86zM5.41 20L4 18.59l7.72-7.72 1.47 1.35L5.41 20z\"/>\n",
              "  </svg>\n",
              "      </button>\n",
              "      \n",
              "  <style>\n",
              "    .colab-df-container {\n",
              "      display:flex;\n",
              "      flex-wrap:wrap;\n",
              "      gap: 12px;\n",
              "    }\n",
              "\n",
              "    .colab-df-convert {\n",
              "      background-color: #E8F0FE;\n",
              "      border: none;\n",
              "      border-radius: 50%;\n",
              "      cursor: pointer;\n",
              "      display: none;\n",
              "      fill: #1967D2;\n",
              "      height: 32px;\n",
              "      padding: 0 0 0 0;\n",
              "      width: 32px;\n",
              "    }\n",
              "\n",
              "    .colab-df-convert:hover {\n",
              "      background-color: #E2EBFA;\n",
              "      box-shadow: 0px 1px 2px rgba(60, 64, 67, 0.3), 0px 1px 3px 1px rgba(60, 64, 67, 0.15);\n",
              "      fill: #174EA6;\n",
              "    }\n",
              "\n",
              "    [theme=dark] .colab-df-convert {\n",
              "      background-color: #3B4455;\n",
              "      fill: #D2E3FC;\n",
              "    }\n",
              "\n",
              "    [theme=dark] .colab-df-convert:hover {\n",
              "      background-color: #434B5C;\n",
              "      box-shadow: 0px 1px 3px 1px rgba(0, 0, 0, 0.15);\n",
              "      filter: drop-shadow(0px 1px 2px rgba(0, 0, 0, 0.3));\n",
              "      fill: #FFFFFF;\n",
              "    }\n",
              "  </style>\n",
              "\n",
              "      <script>\n",
              "        const buttonEl =\n",
              "          document.querySelector('#df-cd0f44fa-0a5d-45c3-8a3d-58b687ce8b28 button.colab-df-convert');\n",
              "        buttonEl.style.display =\n",
              "          google.colab.kernel.accessAllowed ? 'block' : 'none';\n",
              "\n",
              "        async function convertToInteractive(key) {\n",
              "          const element = document.querySelector('#df-cd0f44fa-0a5d-45c3-8a3d-58b687ce8b28');\n",
              "          const dataTable =\n",
              "            await google.colab.kernel.invokeFunction('convertToInteractive',\n",
              "                                                     [key], {});\n",
              "          if (!dataTable) return;\n",
              "\n",
              "          const docLinkHtml = 'Like what you see? Visit the ' +\n",
              "            '<a target=\"_blank\" href=https://colab.research.google.com/notebooks/data_table.ipynb>data table notebook</a>'\n",
              "            + ' to learn more about interactive tables.';\n",
              "          element.innerHTML = '';\n",
              "          dataTable['output_type'] = 'display_data';\n",
              "          await google.colab.output.renderOutput(dataTable, element);\n",
              "          const docLink = document.createElement('div');\n",
              "          docLink.innerHTML = docLinkHtml;\n",
              "          element.appendChild(docLink);\n",
              "        }\n",
              "      </script>\n",
              "    </div>\n",
              "  </div>\n",
              "  "
            ],
            "text/plain": [
              "                                                url                  datetime  \\\n",
              "0  http://news.livedoor.com/article/detail/6895468/  2012-08-28T10:55:00+0900   \n",
              "1  http://news.livedoor.com/article/detail/6538350/  2012-05-08T15:55:00+0900   \n",
              "2  http://news.livedoor.com/article/detail/6440610/  2012-04-05T18:00:00+0900   \n",
              "3  http://news.livedoor.com/article/detail/6351207/  2012-03-08T23:08:00+0900   \n",
              "4  http://news.livedoor.com/article/detail/6568183/  2012-05-17T13:40:00+0900   \n",
              "\n",
              "                                               title  \\\n",
              "0  BluetoothキーボードでiPadはモバイルノートパソコンの代わりになるのか！？モバイル...   \n",
              "1  Pantech、HD液晶やSnapdragon S4、Android 4.0 ICS搭載スマ...   \n",
              "2                 「タニタ調子こいてる」「刑務所メシより酷い」ヘルシー弁当の内容に物議   \n",
              "3      ネットで集まった祈りを祈祷・・・３月11日に山伏による復興祈願、供養が福島県で開催【話題】   \n",
              "4                      香里奈が青木裕子アナに突っ込み「何か発表とかありますか？」   \n",
              "\n",
              "                                                body          media  \n",
              "0  キーボードがあれば使いやすくなる！？\\nwebも動画も写真もサクサク見られる「iPad」。ネ...           smax  \n",
              "1  ゼロから始めるスマートフォン\\nPantech（パンテック）は3日、Androidスマートフ...           smax  \n",
              "2  5日、家庭用・業務用の計量器メーカーのタニタが「ヘルシー弁当」を発売すると、各メディアが報じ...     topic-news  \n",
              "3  東日本大震災からもうすぐ１年。当日は多くの取り組みやイベントが予定されている。ネットを利用す...  kaden-channel  \n",
              "4  女優の香里奈が17日、東京・千代田区の大丸東京店で行われた、映画『ガール』（5月26日公開）...    movie-enter  "
            ]
          },
          "metadata": {},
          "execution_count": 6
        }
      ],
      "source": [
        "mixdf = df.sample(frac=1, random_state=123).reset_index(drop=True)\n",
        "mixdf.head()"
      ]
    },
    {
      "cell_type": "code",
      "execution_count": 7,
      "metadata": {
        "id": "DzksXHqIEsJj"
      },
      "outputs": [],
      "source": [
        "#limited 4000 documents\n",
        "mixdf4000 = mixdf[0:4000]"
      ]
    },
    {
      "cell_type": "code",
      "execution_count": 8,
      "metadata": {
        "colab": {
          "base_uri": "https://localhost:8080/"
        },
        "id": "h6_teou2EWFh",
        "outputId": "2321e5e5-5f7e-46d1-8995-9b3b3a0819d1"
      },
      "outputs": [
        {
          "output_type": "stream",
          "name": "stdout",
          "text": [
            "dokujo-tsushin\n",
            "it-life-hack\n",
            "kaden-channel\n",
            "livedoor-homme\n",
            "movie-enter\n",
            "peachy\n",
            "smax\n",
            "sports-watch\n",
            "topic-news\n"
          ]
        }
      ],
      "source": [
        "for topic, sdf in mixdf4000.groupby('media'):\n",
        "    print(topic)\n",
        "    sdf=sdf.reset_index()\n",
        "    sdf = sdf.reset_index()\n",
        "    if topic ==\"sports-watch\":\n",
        "        sport_df=sdf\n",
        "    if topic==\"movie-enter\":\n",
        "        movie_df=sdf\n",
        "    if topic==\"dokujo-tsushin\":\n",
        "        dokujo_df=sdf\n",
        "    if topic==\"it-life-hack\":\n",
        "        it_df=sdf\n",
        "    if topic==\"kaden-channel\":\n",
        "        kaden_df=sdf\n",
        "    if topic==\"livedoor-homme\":\n",
        "        home_df=sdf\n",
        "    if topic==\"smax\":\n",
        "        smax_df=sdf\n",
        "    if topic==\"peachy\":\n",
        "        peachy_df=sdf\n",
        "    if topic==\"topic-news\":\n",
        "        topic_df=sdf"
      ]
    },
    {
      "cell_type": "code",
      "execution_count": 9,
      "metadata": {
        "id": "uhIKODx2_eu5"
      },
      "outputs": [],
      "source": [
        "def topic_index(df):\n",
        "    dfnum=df[\"index\"].values\n",
        "    dfnum=dfnum.tolist()\n",
        "    return(dfnum)"
      ]
    },
    {
      "cell_type": "code",
      "execution_count": 10,
      "metadata": {
        "id": "qbH0rpY8aEwM"
      },
      "outputs": [],
      "source": [
        "sport_df[\"index\"]\n",
        "sportnum = sport_df[\"index\"].values\n",
        "sport_num=sportnum.tolist()\n",
        "# sport_df.to_csv(\"sport502.csv\")"
      ]
    },
    {
      "cell_type": "code",
      "execution_count": 11,
      "metadata": {
        "id": "yIntcKEBAAqh"
      },
      "outputs": [],
      "source": [
        "movienum = movie_df[\"index\"].values\n",
        "movie_num=movienum.tolist()\n",
        "movie_df = movie_df.reset_index(drop=True)"
      ]
    },
    {
      "cell_type": "code",
      "execution_count": 12,
      "metadata": {
        "id": "goy5QCMBYSdl"
      },
      "outputs": [],
      "source": [
        "movie_sport_df = pd.concat([sport_df, movie_df]).reset_index(drop=True)"
      ]
    },
    {
      "cell_type": "code",
      "execution_count": null,
      "metadata": {
        "id": "kQgvt2xvblEc"
      },
      "outputs": [],
      "source": [
        "movie_sport_df"
      ]
    },
    {
      "cell_type": "code",
      "execution_count": null,
      "metadata": {
        "id": "0FV32y4r581a"
      },
      "outputs": [],
      "source": [
        "selecteddf=mixdf[0:len(sport_df)]\n",
        "selecteddf\n",
        "# selecteddf.to_csv(\"slected502.csv\")"
      ]
    },
    {
      "cell_type": "code",
      "execution_count": null,
      "metadata": {
        "id": "IiPpKmW0mHld"
      },
      "outputs": [],
      "source": [
        "random2df= mixdf[1000:1502].reset_index(drop=True)\n",
        "random2df"
      ]
    },
    {
      "cell_type": "markdown",
      "metadata": {
        "id": "__XjjCQJDqps"
      },
      "source": [
        "#mecabを使えるように"
      ]
    },
    {
      "cell_type": "code",
      "execution_count": 17,
      "metadata": {
        "id": "Z3PnAVLEDm0J",
        "colab": {
          "base_uri": "https://localhost:8080/"
        },
        "outputId": "fb3c96f9-d8c1-4d31-b0ff-36d5b3c2c058"
      },
      "outputs": [
        {
          "output_type": "stream",
          "name": "stdout",
          "text": [
            "Reading package lists... Done\n",
            "Building dependency tree       \n",
            "Reading state information... Done\n",
            "The following package was automatically installed and is no longer required:\n",
            "  libnvidia-common-470\n",
            "Use 'apt autoremove' to remove it.\n",
            "The following additional packages will be installed:\n",
            "  aptitude-common libcgi-fast-perl libcgi-pm-perl libclass-accessor-perl\n",
            "  libcwidget3v5 libencode-locale-perl libfcgi-perl libhtml-parser-perl\n",
            "  libhtml-tagset-perl libhttp-date-perl libhttp-message-perl libio-html-perl\n",
            "  libio-string-perl liblwp-mediatypes-perl libparse-debianchangelog-perl\n",
            "  libsigc++-2.0-0v5 libsub-name-perl libtimedate-perl liburi-perl libxapian30\n",
            "Suggested packages:\n",
            "  aptitude-doc-en | aptitude-doc apt-xapian-index debtags tasksel\n",
            "  libcwidget-dev libdata-dump-perl libhtml-template-perl libxml-simple-perl\n",
            "  libwww-perl xapian-tools\n",
            "The following NEW packages will be installed:\n",
            "  aptitude aptitude-common libcgi-fast-perl libcgi-pm-perl\n",
            "  libclass-accessor-perl libcwidget3v5 libencode-locale-perl libfcgi-perl\n",
            "  libhtml-parser-perl libhtml-tagset-perl libhttp-date-perl\n",
            "  libhttp-message-perl libio-html-perl libio-string-perl\n",
            "  liblwp-mediatypes-perl libparse-debianchangelog-perl libsigc++-2.0-0v5\n",
            "  libsub-name-perl libtimedate-perl liburi-perl libxapian30\n",
            "0 upgraded, 21 newly installed, 0 to remove and 39 not upgraded.\n",
            "Need to get 3,877 kB of archives.\n",
            "After this operation, 15.6 MB of additional disk space will be used.\n",
            "Get:1 http://archive.ubuntu.com/ubuntu bionic/main amd64 aptitude-common all 0.8.10-6ubuntu1 [1,014 kB]\n",
            "Get:2 http://archive.ubuntu.com/ubuntu bionic/main amd64 libsigc++-2.0-0v5 amd64 2.10.0-2 [10.9 kB]\n",
            "Get:3 http://archive.ubuntu.com/ubuntu bionic/main amd64 libcwidget3v5 amd64 0.5.17-7 [286 kB]\n",
            "Get:4 http://archive.ubuntu.com/ubuntu bionic-updates/main amd64 libxapian30 amd64 1.4.5-1ubuntu0.1 [631 kB]\n",
            "Get:5 http://archive.ubuntu.com/ubuntu bionic/main amd64 aptitude amd64 0.8.10-6ubuntu1 [1,269 kB]\n",
            "Get:6 http://archive.ubuntu.com/ubuntu bionic/main amd64 libhtml-tagset-perl all 3.20-3 [12.1 kB]\n",
            "Get:7 http://archive.ubuntu.com/ubuntu bionic/main amd64 liburi-perl all 1.73-1 [77.2 kB]\n",
            "Get:8 http://archive.ubuntu.com/ubuntu bionic/main amd64 libhtml-parser-perl amd64 3.72-3build1 [85.9 kB]\n",
            "Get:9 http://archive.ubuntu.com/ubuntu bionic/main amd64 libcgi-pm-perl all 4.38-1 [185 kB]\n",
            "Get:10 http://archive.ubuntu.com/ubuntu bionic/main amd64 libfcgi-perl amd64 0.78-2build1 [32.8 kB]\n",
            "Get:11 http://archive.ubuntu.com/ubuntu bionic/main amd64 libcgi-fast-perl all 1:2.13-1 [9,940 B]\n",
            "Get:12 http://archive.ubuntu.com/ubuntu bionic/main amd64 libsub-name-perl amd64 0.21-1build1 [11.6 kB]\n",
            "Get:13 http://archive.ubuntu.com/ubuntu bionic/main amd64 libclass-accessor-perl all 0.51-1 [21.2 kB]\n",
            "Get:14 http://archive.ubuntu.com/ubuntu bionic/main amd64 libencode-locale-perl all 1.05-1 [12.3 kB]\n",
            "Get:15 http://archive.ubuntu.com/ubuntu bionic/main amd64 libtimedate-perl all 2.3000-2 [37.5 kB]\n",
            "Get:16 http://archive.ubuntu.com/ubuntu bionic/main amd64 libhttp-date-perl all 6.02-1 [10.4 kB]\n",
            "Get:17 http://archive.ubuntu.com/ubuntu bionic/main amd64 libio-html-perl all 1.001-1 [14.9 kB]\n",
            "Get:18 http://archive.ubuntu.com/ubuntu bionic/main amd64 liblwp-mediatypes-perl all 6.02-1 [21.7 kB]\n",
            "Get:19 http://archive.ubuntu.com/ubuntu bionic/main amd64 libhttp-message-perl all 6.14-1 [72.1 kB]\n",
            "Get:20 http://archive.ubuntu.com/ubuntu bionic/main amd64 libio-string-perl all 1.08-3 [11.1 kB]\n",
            "Get:21 http://archive.ubuntu.com/ubuntu bionic/main amd64 libparse-debianchangelog-perl all 1.2.0-12 [49.5 kB]\n",
            "Fetched 3,877 kB in 1s (3,285 kB/s)\n",
            "Selecting previously unselected package aptitude-common.\n",
            "(Reading database ... 155320 files and directories currently installed.)\n",
            "Preparing to unpack .../00-aptitude-common_0.8.10-6ubuntu1_all.deb ...\n",
            "Unpacking aptitude-common (0.8.10-6ubuntu1) ...\n",
            "Selecting previously unselected package libsigc++-2.0-0v5:amd64.\n",
            "Preparing to unpack .../01-libsigc++-2.0-0v5_2.10.0-2_amd64.deb ...\n",
            "Unpacking libsigc++-2.0-0v5:amd64 (2.10.0-2) ...\n",
            "Selecting previously unselected package libcwidget3v5:amd64.\n",
            "Preparing to unpack .../02-libcwidget3v5_0.5.17-7_amd64.deb ...\n",
            "Unpacking libcwidget3v5:amd64 (0.5.17-7) ...\n",
            "Selecting previously unselected package libxapian30:amd64.\n",
            "Preparing to unpack .../03-libxapian30_1.4.5-1ubuntu0.1_amd64.deb ...\n",
            "Unpacking libxapian30:amd64 (1.4.5-1ubuntu0.1) ...\n",
            "Selecting previously unselected package aptitude.\n",
            "Preparing to unpack .../04-aptitude_0.8.10-6ubuntu1_amd64.deb ...\n",
            "Unpacking aptitude (0.8.10-6ubuntu1) ...\n",
            "Selecting previously unselected package libhtml-tagset-perl.\n",
            "Preparing to unpack .../05-libhtml-tagset-perl_3.20-3_all.deb ...\n",
            "Unpacking libhtml-tagset-perl (3.20-3) ...\n",
            "Selecting previously unselected package liburi-perl.\n",
            "Preparing to unpack .../06-liburi-perl_1.73-1_all.deb ...\n",
            "Unpacking liburi-perl (1.73-1) ...\n",
            "Selecting previously unselected package libhtml-parser-perl.\n",
            "Preparing to unpack .../07-libhtml-parser-perl_3.72-3build1_amd64.deb ...\n",
            "Unpacking libhtml-parser-perl (3.72-3build1) ...\n",
            "Selecting previously unselected package libcgi-pm-perl.\n",
            "Preparing to unpack .../08-libcgi-pm-perl_4.38-1_all.deb ...\n",
            "Unpacking libcgi-pm-perl (4.38-1) ...\n",
            "Selecting previously unselected package libfcgi-perl.\n",
            "Preparing to unpack .../09-libfcgi-perl_0.78-2build1_amd64.deb ...\n",
            "Unpacking libfcgi-perl (0.78-2build1) ...\n",
            "Selecting previously unselected package libcgi-fast-perl.\n",
            "Preparing to unpack .../10-libcgi-fast-perl_1%3a2.13-1_all.deb ...\n",
            "Unpacking libcgi-fast-perl (1:2.13-1) ...\n",
            "Selecting previously unselected package libsub-name-perl.\n",
            "Preparing to unpack .../11-libsub-name-perl_0.21-1build1_amd64.deb ...\n",
            "Unpacking libsub-name-perl (0.21-1build1) ...\n",
            "Selecting previously unselected package libclass-accessor-perl.\n",
            "Preparing to unpack .../12-libclass-accessor-perl_0.51-1_all.deb ...\n",
            "Unpacking libclass-accessor-perl (0.51-1) ...\n",
            "Selecting previously unselected package libencode-locale-perl.\n",
            "Preparing to unpack .../13-libencode-locale-perl_1.05-1_all.deb ...\n",
            "Unpacking libencode-locale-perl (1.05-1) ...\n",
            "Selecting previously unselected package libtimedate-perl.\n",
            "Preparing to unpack .../14-libtimedate-perl_2.3000-2_all.deb ...\n",
            "Unpacking libtimedate-perl (2.3000-2) ...\n",
            "Selecting previously unselected package libhttp-date-perl.\n",
            "Preparing to unpack .../15-libhttp-date-perl_6.02-1_all.deb ...\n",
            "Unpacking libhttp-date-perl (6.02-1) ...\n",
            "Selecting previously unselected package libio-html-perl.\n",
            "Preparing to unpack .../16-libio-html-perl_1.001-1_all.deb ...\n",
            "Unpacking libio-html-perl (1.001-1) ...\n",
            "Selecting previously unselected package liblwp-mediatypes-perl.\n",
            "Preparing to unpack .../17-liblwp-mediatypes-perl_6.02-1_all.deb ...\n",
            "Unpacking liblwp-mediatypes-perl (6.02-1) ...\n",
            "Selecting previously unselected package libhttp-message-perl.\n",
            "Preparing to unpack .../18-libhttp-message-perl_6.14-1_all.deb ...\n",
            "Unpacking libhttp-message-perl (6.14-1) ...\n",
            "Selecting previously unselected package libio-string-perl.\n",
            "Preparing to unpack .../19-libio-string-perl_1.08-3_all.deb ...\n",
            "Unpacking libio-string-perl (1.08-3) ...\n",
            "Selecting previously unselected package libparse-debianchangelog-perl.\n",
            "Preparing to unpack .../20-libparse-debianchangelog-perl_1.2.0-12_all.deb ...\n",
            "Unpacking libparse-debianchangelog-perl (1.2.0-12) ...\n",
            "Setting up libhtml-tagset-perl (3.20-3) ...\n",
            "Setting up libxapian30:amd64 (1.4.5-1ubuntu0.1) ...\n",
            "Setting up libencode-locale-perl (1.05-1) ...\n",
            "Setting up libtimedate-perl (2.3000-2) ...\n",
            "Setting up libio-html-perl (1.001-1) ...\n",
            "Setting up aptitude-common (0.8.10-6ubuntu1) ...\n",
            "Setting up liblwp-mediatypes-perl (6.02-1) ...\n",
            "Setting up liburi-perl (1.73-1) ...\n",
            "Setting up libhtml-parser-perl (3.72-3build1) ...\n",
            "Setting up libcgi-pm-perl (4.38-1) ...\n",
            "Setting up libio-string-perl (1.08-3) ...\n",
            "Setting up libsub-name-perl (0.21-1build1) ...\n",
            "Setting up libfcgi-perl (0.78-2build1) ...\n",
            "Setting up libsigc++-2.0-0v5:amd64 (2.10.0-2) ...\n",
            "Setting up libclass-accessor-perl (0.51-1) ...\n",
            "Setting up libhttp-date-perl (6.02-1) ...\n",
            "Setting up libcgi-fast-perl (1:2.13-1) ...\n",
            "Setting up libparse-debianchangelog-perl (1.2.0-12) ...\n",
            "Setting up libhttp-message-perl (6.14-1) ...\n",
            "Setting up libcwidget3v5:amd64 (0.5.17-7) ...\n",
            "Setting up aptitude (0.8.10-6ubuntu1) ...\n",
            "update-alternatives: using /usr/bin/aptitude-curses to provide /usr/bin/aptitude (aptitude) in auto mode\n",
            "Processing triggers for man-db (2.8.3-2ubuntu0.1) ...\n",
            "Processing triggers for libc-bin (2.27-3ubuntu1.3) ...\n",
            "/sbin/ldconfig.real: /usr/local/lib/python3.7/dist-packages/ideep4py/lib/libmkldnn.so.0 is not a symbolic link\n",
            "\n",
            "git is already installed at the requested version (1:2.17.1-1ubuntu0.9)\n",
            "make is already installed at the requested version (4.1-9.1ubuntu1)\n",
            "curl is already installed at the requested version (7.58.0-2ubuntu3.16)\n",
            "xz-utils is already installed at the requested version (5.2.2-1.3)\n",
            "git is already installed at the requested version (1:2.17.1-1ubuntu0.9)\n",
            "make is already installed at the requested version (4.1-9.1ubuntu1)\n",
            "curl is already installed at the requested version (7.58.0-2ubuntu3.16)\n",
            "xz-utils is already installed at the requested version (5.2.2-1.3)\n",
            "The following NEW packages will be installed:\n",
            "  file libmagic-mgc{a} libmagic1{a} libmecab-dev libmecab2{a} mecab mecab-ipadic{a} mecab-ipadic-utf8 mecab-jumandic{a} mecab-jumandic-utf8{a} mecab-utils{a} \n",
            "The following packages will be REMOVED:\n",
            "  libnvidia-common-470{u} \n",
            "0 packages upgraded, 11 newly installed, 1 to remove and 39 not upgraded.\n",
            "Need to get 29.3 MB of archives. After unpacking 282 MB will be used.\n",
            "Get: 1 http://archive.ubuntu.com/ubuntu bionic-updates/main amd64 libmagic-mgc amd64 1:5.32-2ubuntu0.4 [184 kB]\n",
            "Get: 2 http://archive.ubuntu.com/ubuntu bionic-updates/main amd64 libmagic1 amd64 1:5.32-2ubuntu0.4 [68.6 kB]\n",
            "Get: 3 http://archive.ubuntu.com/ubuntu bionic-updates/main amd64 file amd64 1:5.32-2ubuntu0.4 [22.1 kB]\n",
            "Get: 4 http://archive.ubuntu.com/ubuntu bionic/universe amd64 libmecab2 amd64 0.996-5 [257 kB]\n",
            "Get: 5 http://archive.ubuntu.com/ubuntu bionic/universe amd64 libmecab-dev amd64 0.996-5 [308 kB]\n",
            "Get: 6 http://archive.ubuntu.com/ubuntu bionic/universe amd64 mecab-utils amd64 0.996-5 [4,856 B]\n",
            "Get: 7 http://archive.ubuntu.com/ubuntu bionic/universe amd64 mecab-jumandic-utf8 all 7.0-20130310-4 [16.2 MB]\n",
            "Get: 8 http://archive.ubuntu.com/ubuntu bionic/universe amd64 mecab-jumandic all 7.0-20130310-4 [2,212 B]\n",
            "Get: 9 http://archive.ubuntu.com/ubuntu bionic/universe amd64 mecab-ipadic all 2.7.0-20070801+main-1 [12.1 MB]\n",
            "Get: 10 http://archive.ubuntu.com/ubuntu bionic/universe amd64 mecab amd64 0.996-5 [132 kB]\n",
            "Get: 11 http://archive.ubuntu.com/ubuntu bionic/universe amd64 mecab-ipadic-utf8 all 2.7.0-20070801+main-1 [3,522 B]\n",
            "Fetched 29.3 MB in 2s (16.0 MB/s)\n",
            "(Reading database ... 155779 files and directories currently installed.)\n",
            "Removing libnvidia-common-470 (470.103.01-0ubuntu1) ...\n",
            "Selecting previously unselected package libmagic-mgc.\n",
            "(Reading database ... 155774 files and directories currently installed.)\n",
            "Preparing to unpack .../00-libmagic-mgc_1%3a5.32-2ubuntu0.4_amd64.deb ...\n",
            "Unpacking libmagic-mgc (1:5.32-2ubuntu0.4) ...\n",
            "Selecting previously unselected package libmagic1:amd64.\n",
            "Preparing to unpack .../01-libmagic1_1%3a5.32-2ubuntu0.4_amd64.deb ...\n",
            "Unpacking libmagic1:amd64 (1:5.32-2ubuntu0.4) ...\n",
            "Selecting previously unselected package file.\n",
            "Preparing to unpack .../02-file_1%3a5.32-2ubuntu0.4_amd64.deb ...\n",
            "Unpacking file (1:5.32-2ubuntu0.4) ...\n",
            "Selecting previously unselected package libmecab2:amd64.\n",
            "Preparing to unpack .../03-libmecab2_0.996-5_amd64.deb ...\n",
            "Unpacking libmecab2:amd64 (0.996-5) ...\n",
            "Selecting previously unselected package libmecab-dev.\n",
            "Preparing to unpack .../04-libmecab-dev_0.996-5_amd64.deb ...\n",
            "Unpacking libmecab-dev (0.996-5) ...\n",
            "Selecting previously unselected package mecab-utils.\n",
            "Preparing to unpack .../05-mecab-utils_0.996-5_amd64.deb ...\n",
            "Unpacking mecab-utils (0.996-5) ...\n",
            "Selecting previously unselected package mecab-jumandic-utf8.\n",
            "Preparing to unpack .../06-mecab-jumandic-utf8_7.0-20130310-4_all.deb ...\n",
            "Unpacking mecab-jumandic-utf8 (7.0-20130310-4) ...\n",
            "Selecting previously unselected package mecab-jumandic.\n",
            "Preparing to unpack .../07-mecab-jumandic_7.0-20130310-4_all.deb ...\n",
            "Unpacking mecab-jumandic (7.0-20130310-4) ...\n",
            "Selecting previously unselected package mecab-ipadic.\n",
            "Preparing to unpack .../08-mecab-ipadic_2.7.0-20070801+main-1_all.deb ...\n",
            "Unpacking mecab-ipadic (2.7.0-20070801+main-1) ...\n",
            "Selecting previously unselected package mecab.\n",
            "Preparing to unpack .../09-mecab_0.996-5_amd64.deb ...\n",
            "Unpacking mecab (0.996-5) ...\n",
            "Selecting previously unselected package mecab-ipadic-utf8.\n",
            "Preparing to unpack .../10-mecab-ipadic-utf8_2.7.0-20070801+main-1_all.deb ...\n",
            "Unpacking mecab-ipadic-utf8 (2.7.0-20070801+main-1) ...\n",
            "Setting up libmecab2:amd64 (0.996-5) ...\n",
            "Setting up libmagic-mgc (1:5.32-2ubuntu0.4) ...\n",
            "Setting up libmagic1:amd64 (1:5.32-2ubuntu0.4) ...\n",
            "Setting up mecab-utils (0.996-5) ...\n",
            "Setting up mecab-ipadic (2.7.0-20070801+main-1) ...\n",
            "Compiling IPA dictionary for Mecab.  This takes long time...\n",
            "reading /usr/share/mecab/dic/ipadic/unk.def ... 40\n",
            "emitting double-array: 100% |###########################################| \n",
            "/usr/share/mecab/dic/ipadic/model.def is not found. skipped.\n",
            "reading /usr/share/mecab/dic/ipadic/Noun.adjv.csv ... 3328\n",
            "reading /usr/share/mecab/dic/ipadic/Noun.demonst.csv ... 120\n",
            "reading /usr/share/mecab/dic/ipadic/Auxil.csv ... 199\n",
            "reading /usr/share/mecab/dic/ipadic/Noun.org.csv ... 16668\n",
            "reading /usr/share/mecab/dic/ipadic/Noun.place.csv ... 72999\n",
            "reading /usr/share/mecab/dic/ipadic/Noun.name.csv ... 34202\n",
            "reading /usr/share/mecab/dic/ipadic/Postp-col.csv ... 91\n",
            "reading /usr/share/mecab/dic/ipadic/Suffix.csv ... 1393\n",
            "reading /usr/share/mecab/dic/ipadic/Noun.number.csv ... 42\n",
            "reading /usr/share/mecab/dic/ipadic/Conjunction.csv ... 171\n",
            "reading /usr/share/mecab/dic/ipadic/Others.csv ... 2\n",
            "reading /usr/share/mecab/dic/ipadic/Adverb.csv ... 3032\n",
            "reading /usr/share/mecab/dic/ipadic/Noun.others.csv ... 151\n",
            "reading /usr/share/mecab/dic/ipadic/Adj.csv ... 27210\n",
            "reading /usr/share/mecab/dic/ipadic/Noun.csv ... 60477\n",
            "reading /usr/share/mecab/dic/ipadic/Noun.verbal.csv ... 12146\n",
            "reading /usr/share/mecab/dic/ipadic/Noun.proper.csv ... 27327\n",
            "reading /usr/share/mecab/dic/ipadic/Verb.csv ... 130750\n",
            "reading /usr/share/mecab/dic/ipadic/Postp.csv ... 146\n",
            "reading /usr/share/mecab/dic/ipadic/Interjection.csv ... 252\n",
            "reading /usr/share/mecab/dic/ipadic/Noun.nai.csv ... 42\n",
            "reading /usr/share/mecab/dic/ipadic/Adnominal.csv ... 135\n",
            "reading /usr/share/mecab/dic/ipadic/Noun.adverbal.csv ... 795\n",
            "reading /usr/share/mecab/dic/ipadic/Symbol.csv ... 208\n",
            "reading /usr/share/mecab/dic/ipadic/Filler.csv ... 19\n",
            "reading /usr/share/mecab/dic/ipadic/Prefix.csv ... 221\n",
            "emitting double-array: 100% |###########################################| \n",
            "reading /usr/share/mecab/dic/ipadic/matrix.def ... 1316x1316\n",
            "emitting matrix      : 100% |###########################################| \n",
            "\n",
            "done!\n",
            "update-alternatives: using /var/lib/mecab/dic/ipadic to provide /var/lib/mecab/dic/debian (mecab-dictionary) in auto mode\n",
            "Setting up libmecab-dev (0.996-5) ...\n",
            "Setting up file (1:5.32-2ubuntu0.4) ...\n",
            "Setting up mecab-jumandic-utf8 (7.0-20130310-4) ...\n",
            "Compiling Juman dictionary for Mecab.\n",
            "reading /usr/share/mecab/dic/juman/unk.def ... 37\n",
            "emitting double-array: 100% |###########################################| \n",
            "reading /usr/share/mecab/dic/juman/Emoticon.csv ... 972\n",
            "reading /usr/share/mecab/dic/juman/Noun.hukusi.csv ... 81\n",
            "reading /usr/share/mecab/dic/juman/Assert.csv ... 34\n",
            "reading /usr/share/mecab/dic/juman/Noun.koyuu.csv ... 7964\n",
            "reading /usr/share/mecab/dic/juman/Auto.csv ... 18931\n",
            "reading /usr/share/mecab/dic/juman/Noun.keishiki.csv ... 8\n",
            "reading /usr/share/mecab/dic/juman/Suffix.csv ... 2128\n",
            "reading /usr/share/mecab/dic/juman/Special.csv ... 158\n",
            "reading /usr/share/mecab/dic/juman/Noun.suusi.csv ... 49\n",
            "reading /usr/share/mecab/dic/juman/Postp.csv ... 108\n",
            "reading /usr/share/mecab/dic/juman/Demonstrative.csv ... 97\n",
            "reading /usr/share/mecab/dic/juman/ContentW.csv ... 551145\n",
            "reading /usr/share/mecab/dic/juman/AuxV.csv ... 593\n",
            "reading /usr/share/mecab/dic/juman/Wikipedia.csv ... 167709\n",
            "reading /usr/share/mecab/dic/juman/Prefix.csv ... 90\n",
            "reading /usr/share/mecab/dic/juman/Rengo.csv ... 1118\n",
            "emitting double-array: 100% |###########################################| \n",
            "reading /usr/share/mecab/dic/juman/matrix.def ... 1876x1876\n",
            "emitting matrix      : 100% |###########################################| \n",
            "\n",
            "done!\n",
            "Setting up mecab-ipadic-utf8 (2.7.0-20070801+main-1) ...\n",
            "Compiling IPA dictionary for Mecab.  This takes long time...\n",
            "reading /usr/share/mecab/dic/ipadic/unk.def ... 40\n",
            "emitting double-array: 100% |###########################################| \n",
            "/usr/share/mecab/dic/ipadic/model.def is not found. skipped.\n",
            "reading /usr/share/mecab/dic/ipadic/Noun.adjv.csv ... 3328\n",
            "reading /usr/share/mecab/dic/ipadic/Noun.demonst.csv ... 120\n",
            "reading /usr/share/mecab/dic/ipadic/Auxil.csv ... 199\n",
            "reading /usr/share/mecab/dic/ipadic/Noun.org.csv ... 16668\n",
            "reading /usr/share/mecab/dic/ipadic/Noun.place.csv ... 72999\n",
            "reading /usr/share/mecab/dic/ipadic/Noun.name.csv ... 34202\n",
            "reading /usr/share/mecab/dic/ipadic/Postp-col.csv ... 91\n",
            "reading /usr/share/mecab/dic/ipadic/Suffix.csv ... 1393\n",
            "reading /usr/share/mecab/dic/ipadic/Noun.number.csv ... 42\n",
            "reading /usr/share/mecab/dic/ipadic/Conjunction.csv ... 171\n",
            "reading /usr/share/mecab/dic/ipadic/Others.csv ... 2\n",
            "reading /usr/share/mecab/dic/ipadic/Adverb.csv ... 3032\n",
            "reading /usr/share/mecab/dic/ipadic/Noun.others.csv ... 151\n",
            "reading /usr/share/mecab/dic/ipadic/Adj.csv ... 27210\n",
            "reading /usr/share/mecab/dic/ipadic/Noun.csv ... 60477\n",
            "reading /usr/share/mecab/dic/ipadic/Noun.verbal.csv ... 12146\n",
            "reading /usr/share/mecab/dic/ipadic/Noun.proper.csv ... 27327\n",
            "reading /usr/share/mecab/dic/ipadic/Verb.csv ... 130750\n",
            "reading /usr/share/mecab/dic/ipadic/Postp.csv ... 146\n",
            "reading /usr/share/mecab/dic/ipadic/Interjection.csv ... 252\n",
            "reading /usr/share/mecab/dic/ipadic/Noun.nai.csv ... 42\n",
            "reading /usr/share/mecab/dic/ipadic/Adnominal.csv ... 135\n",
            "reading /usr/share/mecab/dic/ipadic/Noun.adverbal.csv ... 795\n",
            "reading /usr/share/mecab/dic/ipadic/Symbol.csv ... 208\n",
            "reading /usr/share/mecab/dic/ipadic/Filler.csv ... 19\n",
            "reading /usr/share/mecab/dic/ipadic/Prefix.csv ... 221\n",
            "emitting double-array: 100% |###########################################| \n",
            "reading /usr/share/mecab/dic/ipadic/matrix.def ... 1316x1316\n",
            "emitting matrix      : 100% |###########################################| \n",
            "\n",
            "done!\n",
            "update-alternatives: using /var/lib/mecab/dic/ipadic-utf8 to provide /var/lib/mecab/dic/debian (mecab-dictionary) in auto mode\n",
            "Setting up mecab (0.996-5) ...\n",
            "Compiling IPA dictionary for Mecab.  This takes long time...\n",
            "reading /usr/share/mecab/dic/ipadic/unk.def ... 40\n",
            "emitting double-array: 100% |###########################################| \n",
            "/usr/share/mecab/dic/ipadic/model.def is not found. skipped.\n",
            "reading /usr/share/mecab/dic/ipadic/Noun.adjv.csv ... 3328\n",
            "reading /usr/share/mecab/dic/ipadic/Noun.demonst.csv ... 120\n",
            "reading /usr/share/mecab/dic/ipadic/Auxil.csv ... 199\n",
            "reading /usr/share/mecab/dic/ipadic/Noun.org.csv ... 16668\n",
            "reading /usr/share/mecab/dic/ipadic/Noun.place.csv ... 72999\n",
            "reading /usr/share/mecab/dic/ipadic/Noun.name.csv ... 34202\n",
            "reading /usr/share/mecab/dic/ipadic/Postp-col.csv ... 91\n",
            "reading /usr/share/mecab/dic/ipadic/Suffix.csv ... 1393\n",
            "reading /usr/share/mecab/dic/ipadic/Noun.number.csv ... 42\n",
            "reading /usr/share/mecab/dic/ipadic/Conjunction.csv ... 171\n",
            "reading /usr/share/mecab/dic/ipadic/Others.csv ... 2\n",
            "reading /usr/share/mecab/dic/ipadic/Adverb.csv ... 3032\n",
            "reading /usr/share/mecab/dic/ipadic/Noun.others.csv ... 151\n",
            "reading /usr/share/mecab/dic/ipadic/Adj.csv ... 27210\n",
            "reading /usr/share/mecab/dic/ipadic/Noun.csv ... 60477\n",
            "reading /usr/share/mecab/dic/ipadic/Noun.verbal.csv ... 12146\n",
            "reading /usr/share/mecab/dic/ipadic/Noun.proper.csv ... 27327\n",
            "reading /usr/share/mecab/dic/ipadic/Verb.csv ... 130750\n",
            "reading /usr/share/mecab/dic/ipadic/Postp.csv ... 146\n",
            "reading /usr/share/mecab/dic/ipadic/Interjection.csv ... 252\n",
            "reading /usr/share/mecab/dic/ipadic/Noun.nai.csv ... 42\n",
            "reading /usr/share/mecab/dic/ipadic/Adnominal.csv ... 135\n",
            "reading /usr/share/mecab/dic/ipadic/Noun.adverbal.csv ... 795\n",
            "reading /usr/share/mecab/dic/ipadic/Symbol.csv ... 208\n",
            "reading /usr/share/mecab/dic/ipadic/Filler.csv ... 19\n",
            "reading /usr/share/mecab/dic/ipadic/Prefix.csv ... 221\n",
            "emitting double-array: 100% |###########################################| \n",
            "reading /usr/share/mecab/dic/ipadic/matrix.def ... 1316x1316\n",
            "emitting matrix      : 100% |###########################################| \n",
            "\n",
            "done!\n",
            "Setting up mecab-jumandic (7.0-20130310-4) ...\n",
            "Processing triggers for man-db (2.8.3-2ubuntu0.1) ...\n",
            "Processing triggers for libc-bin (2.27-3ubuntu1.3) ...\n",
            "/sbin/ldconfig.real: /usr/local/lib/python3.7/dist-packages/ideep4py/lib/libmkldnn.so.0 is not a symbolic link\n",
            "\n",
            "                            \n",
            "Collecting mecab-python3==0.7\n",
            "  Downloading mecab-python3-0.7.tar.gz (41 kB)\n",
            "\u001b[K     |████████████████████████████████| 41 kB 350 kB/s \n",
            "\u001b[?25hBuilding wheels for collected packages: mecab-python3\n",
            "  Building wheel for mecab-python3 (setup.py) ... \u001b[?25l\u001b[?25hdone\n",
            "  Created wheel for mecab-python3: filename=mecab_python3-0.7-cp37-cp37m-linux_x86_64.whl size=156601 sha256=bcc2aa2824651bc2ad668e3c01d5c580e48300a9cf75049c3b6a754c189f6759\n",
            "  Stored in directory: /root/.cache/pip/wheels/47/46/95/3748ec2c4936cb69ee4d248a85e862064ea1e84819344c5292\n",
            "Successfully built mecab-python3\n",
            "Installing collected packages: mecab-python3\n",
            "Successfully installed mecab-python3-0.7\n"
          ]
        }
      ],
      "source": [
        "!apt install aptitude\n",
        "!aptitude install mecab libmecab-dev mecab-ipadic-utf8 git make curl xz-utils file -y\n",
        "!pip install mecab-python3==0.7"
      ]
    },
    {
      "cell_type": "code",
      "execution_count": 18,
      "metadata": {
        "id": "luYyDepgDx5W"
      },
      "outputs": [],
      "source": [
        "import MeCab\n",
        "mecab = MeCab.Tagger()\n",
        "import re\n",
        "from collections import Counter"
      ]
    },
    {
      "cell_type": "markdown",
      "metadata": {
        "id": "2264Wa17DzrQ"
      },
      "source": [
        "#テキストのリスト化"
      ]
    },
    {
      "cell_type": "code",
      "execution_count": 19,
      "metadata": {
        "id": "yBotsXMMD14T"
      },
      "outputs": [],
      "source": [
        "def dftotext(df):\n",
        "    texts=[]\n",
        "    for i in range(len(df)):\n",
        "        texts.append(df[\"body\"][i])\n",
        "    return(texts)"
      ]
    },
    {
      "cell_type": "code",
      "execution_count": 30,
      "metadata": {
        "id": "0K8Kfz0HEDY0"
      },
      "outputs": [],
      "source": [
        "stexts=dftotext(selecteddf)\n",
        "alltexts =dftotext(mixdf4000)"
      ]
    },
    {
      "cell_type": "code",
      "execution_count": null,
      "metadata": {
        "id": "-bI0DG3Y8sz0"
      },
      "outputs": [],
      "source": [
        "bigtexts=dftotext(df)"
      ]
    },
    {
      "cell_type": "code",
      "source": [
        "sport_texts=dftotext(sport_df)\n",
        "movie_texts=dftotext(movie_df)\n",
        "movspo_texts=dftotext(movie_sport_df)\n",
        "kadentexts=dftotext(kaden_df)\n",
        "hometexts=dftotext(home_df)\n",
        "ittexts= dftotext(it_df)\n",
        "dokujotexts = dftotext(dokujo_df)\n",
        "smaxtexts=dftotext(smax_df)\n",
        "peachtexts = dftotext(peachy_df)\n",
        "topictexts=dftotext(topic_df)"
      ],
      "metadata": {
        "id": "bF3VouvP-hCy"
      },
      "execution_count": 20,
      "outputs": []
    },
    {
      "cell_type": "markdown",
      "metadata": {
        "id": "nnGenG90EKN9"
      },
      "source": [
        "## 単語のクリーニング"
      ]
    },
    {
      "cell_type": "code",
      "execution_count": 21,
      "metadata": {
        "colab": {
          "base_uri": "https://localhost:8080/"
        },
        "id": "fSyUN8VnEOEw",
        "outputId": "6564168b-1f51-4e3f-afae-d617f5afc288"
      },
      "outputs": [
        {
          "output_type": "stream",
          "name": "stdout",
          "text": [
            "Collecting neologdn\n",
            "  Downloading neologdn-0.5.1.tar.gz (57 kB)\n",
            "\u001b[?25l\r\u001b[K     |█████▊                          | 10 kB 14.4 MB/s eta 0:00:01\r\u001b[K     |███████████▌                    | 20 kB 17.0 MB/s eta 0:00:01\r\u001b[K     |█████████████████▏              | 30 kB 19.7 MB/s eta 0:00:01\r\u001b[K     |███████████████████████         | 40 kB 22.3 MB/s eta 0:00:01\r\u001b[K     |████████████████████████████▋   | 51 kB 6.7 MB/s eta 0:00:01\r\u001b[K     |████████████████████████████████| 57 kB 1.3 MB/s \n",
            "\u001b[?25hBuilding wheels for collected packages: neologdn\n",
            "  Building wheel for neologdn (setup.py) ... \u001b[?25l\u001b[?25hdone\n",
            "  Created wheel for neologdn: filename=neologdn-0.5.1-cp37-cp37m-linux_x86_64.whl size=172975 sha256=2d179769e9592f9e27d6046624077a308e7d8c608ae799da90a0c86768a523fd\n",
            "  Stored in directory: /root/.cache/pip/wheels/19/15/5c/55b33d02e16129ef81313e4c86e473d6dd1cecf7317a525a9b\n",
            "Successfully built neologdn\n",
            "Installing collected packages: neologdn\n",
            "Successfully installed neologdn-0.5.1\n"
          ]
        }
      ],
      "source": [
        "!pip install neologdn\n",
        "import neologdn\n",
        "import re"
      ]
    },
    {
      "cell_type": "code",
      "execution_count": 22,
      "metadata": {
        "id": "NFKnDDnRETOo"
      },
      "outputs": [],
      "source": [
        "def normal_text(texts):\n",
        "    normalized_text=[]\n",
        "    for i in range(len(texts)):\n",
        "        normalized_text.append(neologdn.normalize(texts[i]))\n",
        "    normalized_text\n",
        "    texts=[]\n",
        "    for i in range(len(normalized_text)):    \n",
        "        text = re.sub(r'(\\d)([,.])(\\d+)', r'\\1\\3', normalized_text[i]) #桁区切りの数字の除去\n",
        "        text = re.sub(r'\\d+', '0', text) #数字を0にする\n",
        "        text = tmp = re.sub(r'[!-/:-@[-`{-~]', r' ', text)# 半角記号の置換\n",
        "        text = text_removed_symbol = re.sub(u'[■-♯]', ' ', text)    # 全角記号の置換 (ここでは0x25A0 - 0x266Fのブロックのみを除去)\n",
        "        texts.append(text)\n",
        "    return(texts)"
      ]
    },
    {
      "cell_type": "code",
      "execution_count": 31,
      "metadata": {
        "id": "wOde1g95ETYK"
      },
      "outputs": [],
      "source": [
        "stexts=normal_text(stexts)\n",
        "alltexts=normal_text(alltexts)"
      ]
    },
    {
      "cell_type": "code",
      "execution_count": null,
      "metadata": {
        "id": "UaLM4Pmr85vc"
      },
      "outputs": [],
      "source": [
        "bigtexts=normal_text(bigtexts)"
      ]
    },
    {
      "cell_type": "code",
      "source": [
        "sport_texts=normal_text(sport_texts)\n",
        "movie_texts=normal_text(movie_texts)\n",
        "kadentexts=normal_text(kadentexts)\n",
        "movspo_texts=normal_text(movspo_texts)\n",
        "hometexts=normal_text(hometexts)\n",
        "ittexts= normal_text(ittexts)\n",
        "dokujotexts = normal_text(dokujotexts)\n",
        "smaxtexts=normal_text(smaxtexts)\n",
        "peachtexts = normal_text(peachtexts)\n",
        "topictexts=normal_text(topictexts)"
      ],
      "metadata": {
        "id": "YiwuFxd0_TW1"
      },
      "execution_count": 23,
      "outputs": []
    },
    {
      "cell_type": "code",
      "source": [
        ""
      ],
      "metadata": {
        "colab": {
          "base_uri": "https://localhost:8080/"
        },
        "id": "q9CXmjSiBaXI",
        "outputId": "450a7564-48a6-4ccd-ee6d-40a0f230c496"
      },
      "execution_count": 43,
      "outputs": [
        {
          "output_type": "stream",
          "name": "stdout",
          "text": [
            "(457, 12611)\n"
          ]
        }
      ]
    },
    {
      "cell_type": "markdown",
      "metadata": {
        "id": "Qu_nPrFgEpbH"
      },
      "source": [
        "## テキストの単語ごとの多次元リストの作成する関数\n"
      ]
    },
    {
      "cell_type": "code",
      "execution_count": 25,
      "metadata": {
        "id": "ZW3sSzVTErI-"
      },
      "outputs": [],
      "source": [
        "def get_keywords_list(texts):\n",
        "    keywords = [[] for i in range(len(texts))]\n",
        "    for i in range(len(texts)):\n",
        "        tokenizer = MeCab.Tagger(\"-Ochasen\")\n",
        "        tokenizer.parse(\"\")\n",
        "        node = tokenizer.parseToNode(texts[i])\n",
        "        while node:\n",
        "            if node.feature.split(\",\")[0] == u\"名詞\":\n",
        "                keywords[i].append(node.surface)\n",
        "            elif node.feature.split(\",\")[0] == u\"形容詞\":\n",
        "                keywords[i].append(node.feature.split(\",\")[6])\n",
        "            elif node.feature.split(\",\")[0] == u\"動詞\":\n",
        "                keywords[i].append(node.feature.split(\",\")[6])\n",
        "            node = node.next\n",
        "    return(keywords)"
      ]
    },
    {
      "cell_type": "code",
      "execution_count": 32,
      "metadata": {
        "id": "tZOGPhK2EwKU"
      },
      "outputs": [],
      "source": [
        "skeywords=get_keywords_list(stexts)\n",
        "allkeywords=get_keywords_list(alltexts)"
      ]
    },
    {
      "cell_type": "code",
      "execution_count": 27,
      "metadata": {
        "id": "TAMyUUI-b6qW"
      },
      "outputs": [],
      "source": [
        "sportkeywords=get_keywords_list(sport_texts)\n",
        "moviekeywords=get_keywords_list(movie_texts)\n",
        "movspokeywords=get_keywords_list(movspo_texts)\n",
        "dokujokeywords=get_keywords_list(dokujotexts)"
      ]
    },
    {
      "cell_type": "code",
      "execution_count": null,
      "metadata": {
        "id": "Xy17EunK9zFg"
      },
      "outputs": [],
      "source": [
        "bigkeywords =get_keywords_list(bigtexts)"
      ]
    },
    {
      "cell_type": "markdown",
      "metadata": {
        "id": "f2zQRfmUK1wB"
      },
      "source": [
        "## STOPWORD"
      ]
    },
    {
      "cell_type": "code",
      "execution_count": 33,
      "metadata": {
        "id": "nAJZj36cK6WR"
      },
      "outputs": [],
      "source": [
        "with open(\"/content/drive/MyDrive/Profmike/noun_verb_30.txt\") as f: # 0 SURU ETC REMOVING\n",
        "  stopword = f.read().split()"
      ]
    },
    {
      "cell_type": "code",
      "execution_count": null,
      "metadata": {
        "id": "VlQ41GGlLrPE"
      },
      "outputs": [],
      "source": [
        "stopword"
      ]
    },
    {
      "cell_type": "code",
      "execution_count": 34,
      "metadata": {
        "colab": {
          "base_uri": "https://localhost:8080/"
        },
        "id": "KRGsHxBcMI4k",
        "outputId": "b25429f1-0405-48d4-893b-3338e12f052b"
      },
      "outputs": [
        {
          "output_type": "stream",
          "name": "stdout",
          "text": [
            "1311922\n",
            "1063169\n"
          ]
        }
      ],
      "source": [
        "print(sum([len(key) for key in allkeywords])) # original word num 1311922\n",
        "allkeywords = [[word for word in key if word not in stopword] for key in allkeywords]\n",
        "print(sum([len(key) for key in allkeywords])) # after removing 1063169"
      ]
    },
    {
      "cell_type": "code",
      "execution_count": null,
      "metadata": {
        "colab": {
          "base_uri": "https://localhost:8080/"
        },
        "id": "LTw6M6Gt9-SF",
        "outputId": "582710b1-1bc6-4441-e25f-ec6ccdf81a31"
      },
      "outputs": [
        {
          "name": "stdout",
          "output_type": "stream",
          "text": [
            "1974204\n",
            "1974204\n"
          ]
        }
      ],
      "source": [
        "print(sum([len(key) for key in bigkeywords])) # original word num 2438534\n",
        "bigkeywords = [[word for word in key if word not in stopword] for key in bigkeywords]\n",
        "print(sum([len(key) for key in bigkeywords])) # after removing 1974204"
      ]
    },
    {
      "cell_type": "markdown",
      "metadata": {
        "id": "3DubTlLzNSQ9"
      },
      "source": [
        "for selected, sport documents"
      ]
    },
    {
      "cell_type": "code",
      "execution_count": 35,
      "metadata": {
        "id": "_8lm6fSDNX6k"
      },
      "outputs": [],
      "source": [
        "skeywords  = [[word for word in key if word not in stopword] for key in skeywords]\n",
        "sportkeywords =  [[word for word in key if word not in stopword] for key in sportkeywords]\n",
        "moviekeywords =  [[word for word in key if word not in stopword] for key in moviekeywords]\n",
        "movspokeywords =  [[word for word in key if word not in stopword] for key in movspokeywords]"
      ]
    },
    {
      "cell_type": "code",
      "source": [
        "print(sum([len(key) for key in dokujokeywords])) # original word num 191766\n",
        "dokujokeywords = [[word for word in key if word not in stopword] for key in dokujokeywords]\n",
        "print(sum([len(key) for key in dokujokeywords])) # after removing 155815"
      ],
      "metadata": {
        "colab": {
          "base_uri": "https://localhost:8080/"
        },
        "id": "Cfg3fih-i_cw",
        "outputId": "e8c59d03-c707-4e1e-dbda-df3435ff1132"
      },
      "execution_count": 36,
      "outputs": [
        {
          "output_type": "stream",
          "name": "stdout",
          "text": [
            "191766\n",
            "155815\n"
          ]
        }
      ]
    },
    {
      "cell_type": "code",
      "source": [
        "each=[]\n",
        "for i in range(len(dokujokeywords)):\n",
        "  each.append(len(dokujokeywords[i]))\n",
        "each\n",
        "a = each\n",
        "a= np.array(a)"
      ],
      "metadata": {
        "id": "lVBTzgk6k7RZ"
      },
      "execution_count": 126,
      "outputs": []
    },
    {
      "cell_type": "code",
      "source": [
        "import matplotlib.pyplot as plt\n",
        "# 箱ひげ図\n",
        "fig, ax = plt.subplots()\n",
        "bp = ax.boxplot(a)\n",
        "plt.title('women')\n",
        "plt.grid() # 横線ラインを入れることができます。\n",
        "# 描画\n",
        "plt.show()"
      ],
      "metadata": {
        "colab": {
          "base_uri": "https://localhost:8080/",
          "height": 281
        },
        "id": "8YBlIReimrS0",
        "outputId": "a07714b6-5c7e-4325-ca9b-ebc77e13ae25"
      },
      "execution_count": 129,
      "outputs": [
        {
          "output_type": "display_data",
          "data": {
            "image/png": "[encoded data removed]",
            "text/plain": [
              "<Figure size 432x288 with 1 Axes>"
            ]
          },
          "metadata": {
            "needs_background": "light"
          }
        }
      ]
    },
    {
      "cell_type": "markdown",
      "metadata": {
        "id": "wApY5PtCE2KE"
      },
      "source": [
        "##どのワードが頻繁なのかカウント"
      ]
    },
    {
      "cell_type": "code",
      "execution_count": 37,
      "metadata": {
        "id": "Ad4D9vUfFESB"
      },
      "outputs": [],
      "source": [
        "from collections import defaultdict\n",
        "from collections import Counter\n",
        "from gensim import corpora"
      ]
    },
    {
      "cell_type": "code",
      "execution_count": 38,
      "metadata": {
        "id": "6j6nxZuSFS0i"
      },
      "outputs": [],
      "source": [
        "def word_freqs(keywords):\n",
        "    word_freqs =[]\n",
        "    for i in range(len(keywords)):\n",
        "        word_freqs.append(defaultdict(int))\n",
        "        for keyword in keywords[i]:\n",
        "            word_freqs[i][keyword] += 1\n",
        "    return(word_freqs)"
      ]
    },
    {
      "cell_type": "code",
      "execution_count": 39,
      "metadata": {
        "id": "yvNVB5YCFU2h"
      },
      "outputs": [],
      "source": [
        "word_freqs_s = word_freqs(skeywords)\n",
        "word_freqs_sport = word_freqs(sportkeywords)\n",
        "word_freqs_movie = word_freqs(moviekeywords)\n",
        "word_freqs_all =word_freqs(allkeywords)"
      ]
    },
    {
      "cell_type": "markdown",
      "metadata": {
        "id": "QZOaFvHv8Yyt"
      },
      "source": [
        "頻出単語の可視化"
      ]
    },
    {
      "cell_type": "code",
      "execution_count": 34,
      "metadata": {
        "id": "6trR7EY28fZZ",
        "colab": {
          "base_uri": "https://localhost:8080/"
        },
        "outputId": "66e17cde-3bbc-4f83-9ad2-0c63b23c0278"
      },
      "outputs": [
        {
          "output_type": "stream",
          "name": "stdout",
          "text": [
            "Collecting japanize_matplotlib\n",
            "  Downloading japanize-matplotlib-1.1.3.tar.gz (4.1 MB)\n",
            "\u001b[K     |████████████████████████████████| 4.1 MB 21.9 MB/s \n",
            "\u001b[?25hRequirement already satisfied: matplotlib in /usr/local/lib/python3.7/dist-packages (from japanize_matplotlib) (3.2.2)\n",
            "Requirement already satisfied: cycler>=0.10 in /usr/local/lib/python3.7/dist-packages (from matplotlib->japanize_matplotlib) (0.11.0)\n",
            "Requirement already satisfied: numpy>=1.11 in /usr/local/lib/python3.7/dist-packages (from matplotlib->japanize_matplotlib) (1.21.5)\n",
            "Requirement already satisfied: python-dateutil>=2.1 in /usr/local/lib/python3.7/dist-packages (from matplotlib->japanize_matplotlib) (2.8.2)\n",
            "Requirement already satisfied: pyparsing!=2.0.4,!=2.1.2,!=2.1.6,>=2.0.1 in /usr/local/lib/python3.7/dist-packages (from matplotlib->japanize_matplotlib) (3.0.7)\n",
            "Requirement already satisfied: kiwisolver>=1.0.1 in /usr/local/lib/python3.7/dist-packages (from matplotlib->japanize_matplotlib) (1.3.2)\n",
            "Requirement already satisfied: six>=1.5 in /usr/local/lib/python3.7/dist-packages (from python-dateutil>=2.1->matplotlib->japanize_matplotlib) (1.15.0)\n",
            "Building wheels for collected packages: japanize-matplotlib\n",
            "  Building wheel for japanize-matplotlib (setup.py) ... \u001b[?25l\u001b[?25hdone\n",
            "  Created wheel for japanize-matplotlib: filename=japanize_matplotlib-1.1.3-py3-none-any.whl size=4120275 sha256=66780392cbbfa955e4b005cdac186d697eef3c885faf91bcc72d84102ca59380\n",
            "  Stored in directory: /root/.cache/pip/wheels/83/97/6b/e9e0cde099cc40f972b8dd23367308f7705ae06cd6d4714658\n",
            "Successfully built japanize-matplotlib\n",
            "Installing collected packages: japanize-matplotlib\n",
            "Successfully installed japanize-matplotlib-1.1.3\n"
          ]
        }
      ],
      "source": [
        "!pip install japanize_matplotlib"
      ]
    },
    {
      "cell_type": "code",
      "execution_count": null,
      "metadata": {
        "id": "r4YaaJOj8luw"
      },
      "outputs": [],
      "source": [
        "import matplotlib.pyplot as plt\n",
        "import japanize_matplotlib"
      ]
    },
    {
      "cell_type": "code",
      "execution_count": null,
      "metadata": {
        "id": "4o-lwIKL8rYb"
      },
      "outputs": [],
      "source": [
        "%matplotlib inline"
      ]
    },
    {
      "cell_type": "code",
      "execution_count": null,
      "metadata": {
        "id": "fsPVw1cH8xH1"
      },
      "outputs": [],
      "source": [
        "sorted_word_freq = sorted(word_freqs_all, key=lambda x:x[1], reverse=True)#key= は何を基準にsortしたいか x:x[1] はindex1(出現回数)を指定\n",
        "sorted_word_freq"
      ]
    },
    {
      "cell_type": "code",
      "execution_count": null,
      "metadata": {
        "id": "iN00YWmc9yj4"
      },
      "outputs": [],
      "source": [
        "# keys= [_[0] for _ in sorted_word_freq[1,][:10]]\n",
        "# values= [_[1] for _ in sorted_word_freq[:10]]\n",
        "# keys"
      ]
    },
    {
      "cell_type": "code",
      "execution_count": null,
      "metadata": {
        "id": "NkMyu9cg97qn"
      },
      "outputs": [],
      "source": [
        "plt.figure(figsize=(8,4)) #枠の確保\n",
        "plt.bar(keys, values)\n",
        "plt.show"
      ]
    },
    {
      "cell_type": "markdown",
      "metadata": {
        "id": "uzmvaLAIF105"
      },
      "source": [
        "#Matrix Aの作成"
      ]
    },
    {
      "cell_type": "markdown",
      "metadata": {
        "id": "cH0fWL3AZVgp"
      },
      "source": [
        "##bagofwordsのMATRIX"
      ]
    },
    {
      "cell_type": "code",
      "execution_count": 40,
      "metadata": {
        "id": "fnj2wrDVGDYB"
      },
      "outputs": [],
      "source": [
        "import numpy as np\n",
        "from sklearn.feature_extraction.text import CountVectorizer\n",
        "from sklearn.feature_extraction.text import TfidfTransformer\n",
        "from sklearn.metrics.pairwise import cosine_similarity"
      ]
    },
    {
      "cell_type": "code",
      "execution_count": 41,
      "metadata": {
        "id": "ff4pz_-MNPpL"
      },
      "outputs": [],
      "source": [
        "def split_text_only_nva(text):\n",
        "    words = []\n",
        "    tagger = MeCab.Tagger()\n",
        "    for c in tagger.parse(text).splitlines()[:-1]:\n",
        "        lines = c.split('\\n')\n",
        "        for line in lines:\n",
        "            feature = line.split('\\t')\n",
        "            if len(feature) == 2: #'EOS'と''を省く\n",
        "                info = feature[1].split(',')\n",
        "                hinshi = info[0]\n",
        "            if hinshi in ('名詞', '動詞',\"形容詞\"):\n",
        "              surface = info[6]\n",
        "              if surface not in stopword:\n",
        "                words.append(surface)\n",
        "    return ' '.join(words)"
      ]
    },
    {
      "cell_type": "code",
      "execution_count": 42,
      "metadata": {
        "id": "2SJYxoXSM89H"
      },
      "outputs": [],
      "source": [
        "def get_bow_matrixA(texts):\n",
        "    messages_list = []\n",
        "    for i in range(len(texts)):\n",
        "        messages_list.append(split_text_only_nva(texts[i]))\n",
        "    messages_list\n",
        "    docs = np.array(messages_list)\n",
        "    count = CountVectorizer()\n",
        "    bags = count.fit_transform(docs)\n",
        "    matrix=bags.toarray()\n",
        "    return(matrix)"
      ]
    },
    {
      "cell_type": "code",
      "execution_count": 43,
      "metadata": {
        "id": "MDcoCslLM_Le"
      },
      "outputs": [],
      "source": [
        "# A_bow_s = get_bow_matrixA(stexts) #\n",
        "A_bow_all=get_bow_matrixA(alltexts)"
      ]
    },
    {
      "cell_type": "code",
      "source": [
        "A_bow_sport= get_bow_matrixA(sport_texts)\n",
        "A_bow_movie = get_bow_matrixA(movie_texts)\n",
        "A_bow_it = get_bow_matrixA(ittexts) \n",
        "A_bow_kaden= get_bow_matrixA(kadentexts)\n",
        "A_bow_home = get_bow_matrixA(hometexts)\n",
        "A_bow_dokujo=get_bow_matrixA(dokujotexts)\n",
        "A_bow_smax= get_bow_matrixA(smaxtexts)\n",
        "A_bow_peach = get_bow_matrixA(peachtexts)\n",
        "A_bow_topic=get_bow_matrixA(topictexts)"
      ],
      "metadata": {
        "id": "Q8DMYcoU_vgq"
      },
      "execution_count": 172,
      "outputs": []
    },
    {
      "cell_type": "code",
      "execution_count": 173,
      "metadata": {
        "colab": {
          "base_uri": "https://localhost:8080/"
        },
        "id": "xM3cSKfpBGA6",
        "outputId": "f99be1b2-ab78-4976-df52-a21097def648"
      },
      "outputs": [
        {
          "output_type": "stream",
          "name": "stdout",
          "text": [
            "(462, 7902)\n",
            "(480, 7999)\n",
            "(271, 9758)\n",
            "(457, 13293)\n",
            "(456, 6750)\n",
            "(454, 11777)\n",
            "(428, 8907)\n"
          ]
        }
      ],
      "source": [
        "# DIFFRENT DIMENSION \n",
        "# print(A_bow_s.shape)\n",
        "print(A_bow_sport.shape)\n",
        "print(A_bow_movie.shape)\n",
        "print(A_bow_all.shape)\n",
        "print(A_bow_it.shape)\n",
        "print(A_bow_kaden.shape)\n",
        "print(A_bow_home.shape)\n",
        "print(A_bow_dokujo.shape)\n",
        "print(A_bow_smax.shape)\n",
        "print(A_bow_peach.shape)\n",
        "print(A_bow_topic.shape)"
      ]
    },
    {
      "cell_type": "markdown",
      "metadata": {
        "id": "KNBo3phyYxOh"
      },
      "source": [
        "##tf-idfのMATRIXを作成"
      ]
    },
    {
      "cell_type": "code",
      "execution_count": 44,
      "metadata": {
        "id": "ZN_BIUSqY1vD"
      },
      "outputs": [],
      "source": [
        "import numpy as np\n",
        "\n",
        "from sklearn.feature_extraction.text import TfidfVectorizer\n",
        "from sklearn.feature_extraction.text import TfidfTransformer\n",
        "\n",
        "# tf-idf\n",
        "def get_tf_idf_matrixA(texts):\n",
        "    messages_list = []\n",
        "    for i in range(len(texts)):\n",
        "        messages_list.append(split_text_only_nva(texts[i]))\n",
        "    messages_list\n",
        "    docs = np.array(messages_list)\n",
        "    count = CountVectorizer()\n",
        "    bags = count.fit_transform(docs)\n",
        "    tfidf = TfidfTransformer(use_idf=True, norm=\"l2\", smooth_idf=True) #norm='l2'を指定すると単語ベクトルの長さが1になるようコサイン正規化\n",
        "    np.set_printoptions(precision=2)\n",
        "    tf_idf = tfidf.fit_transform(bags)\n",
        "    matrix=tf_idf.toarray()\n",
        "    return(matrix)"
      ]
    },
    {
      "cell_type": "code",
      "execution_count": null,
      "metadata": {
        "id": "Ra20X5IbY66r"
      },
      "outputs": [],
      "source": [
        "A_tfidf_s=get_tf_idf_matrixA(stexts)\n",
        "A_tfidf_sport= get_tf_idf_matrixA(sport_texts)\n",
        "A_tfidf_movie=get_tf_idf_matrixA(movie_texts)\n",
        "A_tfidf_all = get_tf_idf_matrixA(alltexts)"
      ]
    },
    {
      "cell_type": "markdown",
      "metadata": {
        "id": "jDwh4HT4Zght"
      },
      "source": [
        "#NCIを計算する"
      ]
    },
    {
      "cell_type": "code",
      "execution_count": 45,
      "metadata": {
        "id": "aNtK9voSZevc"
      },
      "outputs": [],
      "source": [
        "from scipy.linalg import svd \n",
        "import math\n",
        "#引数はmatrixAとドキュメントの数\n",
        "def compute_NCI(x,num_doc):\n",
        "    U, S, V = svd(x) \n",
        "    S = sorted(S, reverse=True)\n",
        "    print(S)\n",
        "    k= 2\n",
        "    sigma = S[:k]\n",
        "    total =0\n",
        "    for i in range(len(sigma)):\n",
        "        a= sigma[i]\n",
        "        sig2 = a**4\n",
        "        totalall = total +sig2\n",
        "        total = totalall\n",
        "    total\n",
        "    NCI= math.sqrt(total)\n",
        "    print(NCI/num_doc)"
      ]
    },
    {
      "cell_type": "code",
      "execution_count": null,
      "metadata": {
        "colab": {
          "base_uri": "https://localhost:8080/"
        },
        "id": "Dg5dLJpMZnQk",
        "outputId": "c86431d6-843c-4069-f445-745c1c8f83dc"
      },
      "outputs": [
        {
          "name": "stdout",
          "output_type": "stream",
          "text": [
            "[159.4532899280352, 119.09640630566089, 89.15617011986507, 85.60188936895172, 77.6483707070208, 72.28076743551433, 68.51394747828795, 64.81226192401152, 60.92910315720901, 58.79320898783121, 57.931090427352814, 57.18839241743791, 55.311965195819, 55.02470163405979, 53.0196465748622, 52.83871938819095, 52.177550490900956, 51.201690620903555, 50.371091199814636, 49.47466132743345, 48.85474541203898, 47.86479387080957, 47.52435760737059, 46.646961342085284, 46.33410879947093, 45.377825541285894, 44.84184434855977, 44.736029851714484, 43.75567103221367, 43.64874103905354, 43.28227444039134, 42.1658693626854, 41.46553534821674, 41.32053701707267, 40.92069020612867, 40.66160409553611, 40.045870895516394, 39.69491464012853, 39.26283756829586, 39.16973539282834, 38.4815026840237, 38.20425718807726, 37.6833142518459, 37.49576899294375, 36.91297834078951, 36.74689256611374, 36.44568402540696, 36.22287031004797, 36.1482611450267, 35.66050690789833, 35.46083546878073, 35.31471185664613, 35.141449683110885, 34.51632495643906, 34.44028856953394, 34.232651921330024, 34.13710821807887, 33.598560881912654, 33.34120274754231, 33.30728712505029, 33.011136601681734, 32.847496676691776, 32.83940419670303, 32.63212734744844, 32.49087255158433, 32.31435492001668, 32.07422086733123, 31.87760262621051, 31.726055608132018, 31.595611760999486, 31.336702501158214, 31.255755000329223, 31.03960669642428, 30.934025897407388, 30.884052283490394, 30.53601116422687, 30.443703875309946, 30.190860410099017, 30.16394555726442, 29.99396554362104, 29.961799834924225, 29.90580256415094, 29.735884650577912, 29.449043532575633, 29.41503438878506, 29.322655724923937, 29.12844814563031, 29.04500083713847, 28.838900954673125, 28.78201847679389, 28.688856746651044, 28.598648911156133, 28.496073908336275, 28.351508121977833, 28.196500018300263, 27.94145957500889, 27.826888061398773, 27.787495861723347, 27.70276403475964, 27.622646272223477, 27.519956726148052, 27.31367291753121, 27.195604352367962, 27.075113291174674, 26.966888708849964, 26.848232768815077, 26.78088709801024, 26.684849708106476, 26.629074415743244, 26.514911035171643, 26.478709657376882, 26.38746288860595, 26.266268082961414, 26.018910529143486, 25.900619210115583, 25.837047802937782, 25.65646261711517, 25.647387176574224, 25.604661443381488, 25.505396455147242, 25.329722543495144, 25.297806916149145, 25.2029855407, 25.161621011888407, 25.079308038410044, 25.066672479125824, 24.978022970372784, 24.832620895252145, 24.743897912517895, 24.609790971245474, 24.52931318981022, 24.314229384479304, 24.24059161845363, 24.188728778284553, 24.06698219879373, 23.983528179886346, 23.872159758604976, 23.84463378510447, 23.728502872992625, 23.62738128186185, 23.49387446795504, 23.448258549069106, 23.37131966812236, 23.302380704084435, 23.242768068032234, 23.107793309353614, 23.085170464673453, 22.97865344541555, 22.90128622190172, 22.86031758735837, 22.70301428738207, 22.59162395094519, 22.524977871320147, 22.50278951206812, 22.468577644873555, 22.339251668781284, 22.30097082123818, 22.239171052034656, 22.097096387902948, 21.9761542439574, 21.94715300780067, 21.898872255648104, 21.859646266302946, 21.80657827385507, 21.740419908749164, 21.67476889512113, 21.629024618320145, 21.531868354121997, 21.489935450874487, 21.397931122293137, 21.33901997149372, 21.298408157025513, 21.20846356392458, 21.166726322647136, 21.100580786565423, 21.046250921375247, 20.904550113526824, 20.888113601077414, 20.812402307760888, 20.78311919521287, 20.72632017286616, 20.658836893151413, 20.585795446306985, 20.487999264612412, 20.459373568432287, 20.387195076825385, 20.30630774996275, 20.253726734083273, 20.12806989866193, 20.05564325276726, 20.007302423189643, 19.998264883639788, 19.94385534315902, 19.842127082647934, 19.81535005600694, 19.726037161063957, 19.661667692743663, 19.595621738611385, 19.54049850816329, 19.50763027817426, 19.44155168886648, 19.414380657850707, 19.387940865536844, 19.351002612934025, 19.251560059948083, 19.182367382386808, 19.12776360971395, 19.11520838604966, 19.074269191855617, 18.994019358636642, 18.977956253788857, 18.92864098697426, 18.878017488016997, 18.820886769786046, 18.74767641093141, 18.738218508147312, 18.68719842999374, 18.627627912368066, 18.603370748664915, 18.558165344352165, 18.52610616960074, 18.413662198578955, 18.399037280435508, 18.291352723733034, 18.25276148609994, 18.17615865674213, 18.130528024343445, 18.08573328295521, 18.032240146756113, 17.99850210615998, 17.970776155213596, 17.907755549633237, 17.857391499786637, 17.817597085387735, 17.75709846007184, 17.74961568594435, 17.708122418229927, 17.658057585640258, 17.58697649755063, 17.540149741459444, 17.454142685566996, 17.4042658789441, 17.38634478247001, 17.325016848911467, 17.29137705026671, 17.213090443672716, 17.129070292462114, 17.0632929525857, 16.989547300574248, 16.96380222798561, 16.88507345041306, 16.871093157847042, 16.81110850201945, 16.762539299362956, 16.700717925482692, 16.630698579961276, 16.60290145284411, 16.561244709526314, 16.515458117810073, 16.470609822499885, 16.434320945354834, 16.414476974426375, 16.384238677442987, 16.304047363607133, 16.292009979835683, 16.2470880794244, 16.224787827322942, 16.179555816131817, 16.145054154255494, 16.115996101210573, 16.04493573048651, 16.01035285207237, 15.969562418395574, 15.952503703531614, 15.908805978577776, 15.882346361680693, 15.860034384713984, 15.762047305854743, 15.696115683935572, 15.69031747790515, 15.544455702309298, 15.514104060868343, 15.489376227059159, 15.452639899325966, 15.408457012865219, 15.368191321347927, 15.346950419396881, 15.318008198026199, 15.290454423197337, 15.201096176116158, 15.177088967201753, 15.14775712560218, 15.130116992921948, 15.091809681725506, 15.034048656625854, 15.005883612931402, 14.960247583519779, 14.93752340598877, 14.915773275352445, 14.843867880283348, 14.807792493357976, 14.758086016808198, 14.717715151099798, 14.646802785943407, 14.62581886494029, 14.580692192165674, 14.567568850921436, 14.51468231493161, 14.475545531330951, 14.425790755123902, 14.357859766410604, 14.348414675159349, 14.291368249004568, 14.264599653476076, 14.255238009051881, 14.227533844524366, 14.170487170208833, 14.131218748096837, 14.080391051055381, 13.988626439747886, 13.971874440038551, 13.958657602829183, 13.89710349513672, 13.844372611993123, 13.83695424074858, 13.791045679035397, 13.751050541325887, 13.696025955501085, 13.679500134744368, 13.668546193804959, 13.590032459463515, 13.520674226730454, 13.495739961983197, 13.46295039828541, 13.436911772163961, 13.404312416649523, 13.374080072858762, 13.319491472103303, 13.280675328667394, 13.257164511318676, 13.23792475549754, 13.173945032141681, 13.122055441935705, 13.101837822446887, 13.050579502931956, 13.033012637182159, 12.999512690493468, 12.95283620662272, 12.902241672090943, 12.869191816501386, 12.834654306802316, 12.79956042513769, 12.77548554492677, 12.743146012547998, 12.71136553519166, 12.690356038046122, 12.655163771313768, 12.617079439387044, 12.607534835939083, 12.560624893333843, 12.538621618442791, 12.497122247717956, 12.47884663606444, 12.420568179623974, 12.370312591846721, 12.346067234908679, 12.293561398157985, 12.258412145952738, 12.231002854310704, 12.219281064210424, 12.148681905410275, 12.130352119997998, 12.09508728417485, 12.047837895855345, 11.99718267846667, 11.989470289979241, 11.923407546096193, 11.856275709541713, 11.811473959812915, 11.809166102077164, 11.796959189713462, 11.74435065234227, 11.69956588995955, 11.679497011206223, 11.643410018309643, 11.60365211685317, 11.558022107114297, 11.495983247942858, 11.484703934973195, 11.446930211365174, 11.395134436397809, 11.341769485427674, 11.315471031216745, 11.28410398709621, 11.272358708245822, 11.226003123446912, 11.145204632685138, 11.134092641466058, 11.099707503876626, 11.077304235474262, 11.051943161194478, 11.020896746360448, 10.97898018382734, 10.93601287823534, 10.896157369548815, 10.880842420990286, 10.846686690262043, 10.791851577228934, 10.72468205530374, 10.708533610036655, 10.69328412357028, 10.625522239276302, 10.575331100021213, 10.56025313559205, 10.53328256181609, 10.484047164254715, 10.447323058850856, 10.415180673194058, 10.398225338398413, 10.375853911408598, 10.307037783405558, 10.274586742185443, 10.182220470247339, 10.162240307887776, 10.11973143137985, 10.104953216910733, 10.070432811397627, 10.035461541942276, 9.985809839028947, 9.979276826702295, 9.920882857875833, 9.874268704988316, 9.840492992128054, 9.836287649678138, 9.775430560266823, 9.758192843068494, 9.677989448029265, 9.67166720569139, 9.61033108783022, 9.563988829476578, 9.53228941860951, 9.508496869044787, 9.484126287903065, 9.446232104731845, 9.387866932491928, 9.352869458790765, 9.325007918564044, 9.262713389388981, 9.238114192665998, 9.199674756953879, 9.111733666348497, 9.109519640084978, 9.052216186567431, 9.013669763007835, 8.944725417077438, 8.89194402180955, 8.875639654463379, 8.827977450871412, 8.800762933366611, 8.76224118729948, 8.719569093541706, 8.680681580376728, 8.64489310663898, 8.594948166027782, 8.552801862238779, 8.51841863431713, 8.477226027621963, 8.392299159512492, 8.36563034623476, 8.324307883268993, 8.20688282435665, 8.190509079438554, 8.113384023896119, 8.090787988587794, 8.009052761607526, 7.984535206942505, 7.89368807629822, 7.824695826524501, 7.636769534545789, 7.584333902999677, 7.554312198501331, 7.528350071040047, 7.41325753158652, 7.357910208124663, 7.1982097113259655, 6.997232583065297, 6.8062052989746356, 6.694853030336056, 6.585967516955873, 6.504790858822052, 6.459998216516819, 6.378670933656008, 6.318898867075476, 6.250390961403195, 6.227764710511671, 6.045512034122367, 5.956670823181934, 5.693126268801365, 5.517513705298727, 5.330445161067085, 7.081259132926784e-14, 7.041611895286416e-15]\n",
            "57.99629175804984\n"
          ]
        }
      ],
      "source": [
        "#ランダム bag of words\n",
        "compute_NCI(A_bow_s,len(A_bow_s))"
      ]
    },
    {
      "cell_type": "code",
      "execution_count": null,
      "metadata": {
        "colab": {
          "base_uri": "https://localhost:8080/"
        },
        "id": "FDcLC8W-fITe",
        "outputId": "18ec0b19-81cb-4139-d410-723ac2b1bbdd"
      },
      "outputs": [
        {
          "name": "stdout",
          "output_type": "stream",
          "text": [
            "[105.2670100151621, 54.28418459564334, 49.736830688651345, 45.63645485232526, 40.449650140130515, 38.62413702051017, 35.57883457877521, 35.3618974865576, 34.29640508412678, 33.836052132776274, 33.0161287329113, 32.501428060171754, 32.05666671747257, 30.787376226180008, 30.666370307913905, 29.23389940477036, 28.84043235573929, 28.12270038218874, 28.009863351956202, 27.71156597781496, 26.887576710115557, 26.85558247231766, 26.78000054738759, 26.481483460702567, 26.108130525252676, 25.900589177682182, 25.50955854864876, 25.141546078240513, 24.930089762765483, 24.29778323836914, 24.139808869118514, 24.126238948948522, 23.82115876668212, 23.70677250938046, 23.435307012159967, 23.257871200882757, 23.13695869640361, 22.994150810047522, 22.61535805291452, 22.366676167244396, 22.30153324741811, 22.040744763423024, 21.912861759372404, 21.73067932238836, 21.693285849917103, 21.409226891535024, 21.346802851314344, 21.16786239480452, 20.93936140778431, 20.72051683027557, 20.679006663732032, 20.619469103890474, 20.44667665269696, 20.133179879950408, 20.07020608142012, 20.019514498563915, 19.875566852688006, 19.714238152309452, 19.54739839941923, 19.460546169674704, 19.42461986792796, 19.236468648539685, 19.200359868425426, 19.079501407205406, 18.91795275684033, 18.784399758169425, 18.750317648882586, 18.619852676572865, 18.568256076884985, 18.447087329750502, 18.355187491138775, 18.30771011630197, 18.187246068950287, 18.129870637108763, 18.01659609999603, 17.997895054334588, 17.862610941174378, 17.780625056192346, 17.7487425382322, 17.685489139103353, 17.57774238741671, 17.48776812925766, 17.356185300691337, 17.264576969484583, 17.223088912074154, 17.13557387162669, 17.072212566045316, 16.96789148050692, 16.923133918034228, 16.83039180943756, 16.800364220141756, 16.751539951239426, 16.69064007383642, 16.58794398162357, 16.557640251156524, 16.48996027712008, 16.447015013301588, 16.38494427386464, 16.294441886209576, 16.277527077263766, 16.224861239391604, 16.132458281831905, 16.015325522012944, 15.971774682852443, 15.894811603945914, 15.872103890588786, 15.792862683641491, 15.783413358257214, 15.709920778335446, 15.648271005569656, 15.583189970650329, 15.526074396941935, 15.494120651797353, 15.427048956316494, 15.405550552574466, 15.334388992387822, 15.264209975621979, 15.219666772468248, 15.171304339787556, 15.110530303697823, 15.079638892132778, 15.016275523752483, 14.916799236855468, 14.872624873470649, 14.862820061893629, 14.80755362954936, 14.771049173776525, 14.757860897188907, 14.669688078998051, 14.589194123287553, 14.569707361968419, 14.506026848914189, 14.471240788923323, 14.450989696243296, 14.400125410666291, 14.377377950555069, 14.345493174655589, 14.27874179772957, 14.266651080612828, 14.248726454259257, 14.160116382133843, 14.125387185433242, 14.094002073220622, 14.053294608465185, 14.008884642727985, 13.975280651299796, 13.912055575375652, 13.865111192443088, 13.781590272198526, 13.764034255663704, 13.728389970536009, 13.709254198377627, 13.671782807873019, 13.632115783582528, 13.606787687933275, 13.547399655690546, 13.533274891186585, 13.4828761987804, 13.457412801343771, 13.421566547955146, 13.385066056500976, 13.319514975329044, 13.30027951175224, 13.284210388261522, 13.231830671290579, 13.22810647359455, 13.208033092188007, 13.126309007301394, 13.098645367996658, 13.069552882752001, 13.010112428848661, 12.995719771575871, 12.946712130178707, 12.931601939494994, 12.894449379748119, 12.857105287922629, 12.818441913554496, 12.76941934219031, 12.732750991206677, 12.704941442486797, 12.66387305615108, 12.63107408754021, 12.608789911013039, 12.588075880400835, 12.555233406755896, 12.53858432670425, 12.488187691946857, 12.470714962936558, 12.42773017405484, 12.411468118397847, 12.332399936110795, 12.303653969455002, 12.287588771276054, 12.267402397048743, 12.24349320053354, 12.225484095850977, 12.190259912281608, 12.173019267186204, 12.143428174437508, 12.121113481847743, 12.08811762045695, 12.039267246640165, 12.016046217961318, 11.991207145136379, 11.945283859653259, 11.931935309979677, 11.92264127770599, 11.872515156268863, 11.862805770767457, 11.831969553935796, 11.781500509083088, 11.773814096086964, 11.730981410384603, 11.680889214715767, 11.648305431126609, 11.637829612818205, 11.613222222415134, 11.574713853125601, 11.536127350119115, 11.514586732580781, 11.50061285156348, 11.480282811743006, 11.44080969450462, 11.435627838468195, 11.376747858190411, 11.362893981043067, 11.33617685502582, 11.310863955434986, 11.27364148184279, 11.26203824964056, 11.22990694593696, 11.226564861789441, 11.207721505805893, 11.178441289584997, 11.123998328570314, 11.092397120718092, 11.084162430466344, 11.081334314321683, 11.046507171808637, 11.023360866837084, 11.009649783292016, 10.976217440218218, 10.932404125641247, 10.924676763183584, 10.885200314077077, 10.857246668159027, 10.841408467445685, 10.806382047337843, 10.778395782442239, 10.767478680984944, 10.72157119957634, 10.708505856461752, 10.69164724456085, 10.674500029631538, 10.63866501735568, 10.612489227413302, 10.610116855361019, 10.569573394662523, 10.543658910037419, 10.519552040767762, 10.515513880776087, 10.467561725931334, 10.446074091631015, 10.422802939622443, 10.408850370426643, 10.39195946736865, 10.367564195815232, 10.337977430211524, 10.31953520616458, 10.29265269453314, 10.260590138844837, 10.241721880404008, 10.221881501251408, 10.200410328726063, 10.165742135355469, 10.134984629344686, 10.120170084580417, 10.095107635482183, 10.073998757136042, 10.049886723173397, 10.031769538524562, 10.022089651876728, 10.015522384379885, 9.976278857570438, 9.953399449784085, 9.95193046402936, 9.907429794290165, 9.892008944764664, 9.852509511805613, 9.83630541167617, 9.834890221738721, 9.799216182126097, 9.773641708132962, 9.765090651443444, 9.73691079878788, 9.716715794400352, 9.69543941973757, 9.678295304191682, 9.66802693666219, 9.63627871374562, 9.624324591236395, 9.587735742691791, 9.576840526953475, 9.555295539119074, 9.550115635182472, 9.508826653139865, 9.49912212823553, 9.481744697441163, 9.459737906260854, 9.457294768556528, 9.43221265341788, 9.403810767482463, 9.385434977939807, 9.361493293699015, 9.350490017677858, 9.326569130682428, 9.298968587831913, 9.281243813760971, 9.255606696618319, 9.235621294868471, 9.228167154733667, 9.21448444004581, 9.202590460144073, 9.19301107799185, 9.171426237865166, 9.151348142589844, 9.13195565741579, 9.09860930335508, 9.087173745621888, 9.056988413779598, 9.047538361710123, 9.036130859319996, 9.001445506393704, 8.992364756296398, 8.965079607877234, 8.944728308296073, 8.929035276264067, 8.903402216222027, 8.88242576071668, 8.856181837347734, 8.83801834694229, 8.80893204670476, 8.802361610959712, 8.789346734015412, 8.766007019821487, 8.745419306669515, 8.727353346041431, 8.714067793599877, 8.706476290930135, 8.660571873335792, 8.63551679874963, 8.62984267832973, 8.598157631734221, 8.590172356141352, 8.585005958883542, 8.553379591487948, 8.542803750616612, 8.523582274251945, 8.501082603443239, 8.481657312866485, 8.461577822111883, 8.434953413535508, 8.433514915143911, 8.41169568009824, 8.352839338859393, 8.350159000534768, 8.332975199101945, 8.32748504187124, 8.309556374250846, 8.302864674131339, 8.297126065885188, 8.250971688156822, 8.238894535555835, 8.2228721264785, 8.220740774930471, 8.189363348103363, 8.180088461158793, 8.168378899922816, 8.124550829549758, 8.107852981216727, 8.079744874512627, 8.070816760924794, 8.054714545195958, 8.050782675799798, 8.018610333308205, 7.985337506654048, 7.976806473358873, 7.966281101784994, 7.936049532963504, 7.912900756595578, 7.897082606625601, 7.883344676288577, 7.863875767514751, 7.855668998552535, 7.851167155264727, 7.842302969641048, 7.797608409067902, 7.785494305878438, 7.752900960996105, 7.723062901789542, 7.7177134532074225, 7.6883036994581255, 7.683181117296232, 7.66050370507709, 7.645707535958946, 7.628086509247353, 7.619004478831065, 7.610726357273796, 7.5743932466536155, 7.567478682749273, 7.540046851604897, 7.521166975873076, 7.506333113768366, 7.487259197841227, 7.455442361270493, 7.428865475072928, 7.4099821186089585, 7.396856175772933, 7.3674802824751735, 7.348097681783961, 7.329425670623723, 7.326158663409363, 7.310407514000096, 7.2770807310744905, 7.246961545288402, 7.219060248847088, 7.208801226889607, 7.1976810336146535, 7.159625389531745, 7.149288281115145, 7.128458420845641, 7.117390493256141, 7.106790620422684, 7.079850043703851, 7.055897915408552, 7.025635277676368, 7.000759552269507, 6.987879241464217, 6.978414486105601, 6.950081200595078, 6.918956078587524, 6.9030534104232535, 6.869828065460615, 6.8564145500111575, 6.821796559087359, 6.80796806469909, 6.792884092711627, 6.770572311996291, 6.766103694305307, 6.7343893538167485, 6.732660882916475, 6.697125149232399, 6.681038743158258, 6.648352863536703, 6.629345223143338, 6.595818196384607, 6.577999000351387, 6.567733772523051, 6.556279145579309, 6.514113385419523, 6.484113016117191, 6.483149770443652, 6.460195470108274, 6.424427519253475, 6.414116799758212, 6.392166503913051, 6.364301604790203, 6.331363700424747, 6.301298380726102, 6.287786442871121, 6.254162656927934, 6.2050212287889375, 6.184868842537848, 6.163925023809178, 6.160253946626062, 6.1467690439507505, 6.112758770793186, 6.0764380301820085, 6.06994113454601, 6.025747258646611, 5.996747940651538, 5.970767803397499, 5.956284424502777, 5.933521208957565, 5.892357946640452, 5.856539322925049, 5.847573720200526, 5.800337086827616, 5.761643301139457, 5.755045811056176, 5.7212405948942235, 5.663314875536658, 5.61525703309746, 5.581529762158096, 5.515142834384263, 5.462259105631792, 5.407556463998833, 5.268196047945542, 5.133957941101883, 5.034120471391098, 4.901995780546265, 4.849475540268239]\n",
            "22.841163190953502\n"
          ]
        }
      ],
      "source": [
        "#スポーツの文書bag of words\n",
        "compute_NCI(A_bow_sport, len(A_bow_sport))"
      ]
    },
    {
      "cell_type": "code",
      "execution_count": null,
      "metadata": {
        "colab": {
          "base_uri": "https://localhost:8080/"
        },
        "id": "T8B64PMPDS2u",
        "outputId": "55be288b-55ca-4051-efb7-e6c19a29e34b"
      },
      "outputs": [
        {
          "name": "stdout",
          "output_type": "stream",
          "text": [
            "[220.7567232818859, 97.33227610805626, 77.78586922202675, 69.80011291668043, 67.14651898914089, 59.81941217938589, 58.69323625080292, 55.66201085278412, 52.18131771690603, 51.01478604144955, 48.6998666415795, 47.79552302944354, 47.13476035354263, 45.971913201164945, 45.2169796122223, 44.8283661775165, 43.959634377911215, 43.47107696068518, 42.55041326437197, 42.23856088258734, 41.83938342781834, 41.19047335109021, 41.01736652937645, 40.01260932753703, 39.89815284279976, 39.55635764261542, 39.27770362955168, 39.10625576645212, 38.99999588071027, 38.433878549661905, 38.12338968213267, 37.67092155430276, 37.46879847193461, 37.1458013839202, 36.850518246616126, 36.571422725236275, 36.395599804260144, 36.011727473332236, 35.60445693223671, 35.532566640781674, 35.258647023951546, 34.833117588475766, 34.684081764304636, 34.62790554097773, 34.205134189245065, 34.13255392586958, 33.95580950128457, 33.72937840410743, 33.49018584717248, 33.23204275942857, 33.03625981801479, 32.83626751386444, 32.70505795592701, 32.440902300314946, 32.3667499459075, 32.27576544000795, 32.1695843542339, 31.87973352629312, 31.69052127382792, 31.551494367251134, 31.50114763771898, 31.307204620211934, 31.20289392798225, 31.05795921758463, 30.815982894151038, 30.562643599460504, 30.32384945099032, 30.223704199181174, 30.03844917056873, 29.95845470957935, 29.851086338608994, 29.70036549524543, 29.609829268211303, 29.432048937055292, 29.335952043156972, 29.10664323448419, 29.01507210152288, 28.865637162828367, 28.693827011958135, 28.55933825939998, 28.509652352008043, 28.45559429003245, 28.308315431911655, 28.116007214626848, 28.016393267339897, 27.921188078483762, 27.88700440913084, 27.64639784599232, 27.48857215559989, 27.443124810799873, 27.404737771340322, 27.10480323119819, 26.970194731502023, 26.776649639315487, 26.712154982815125, 26.572646083589824, 26.489004624327965, 26.438775046840558, 26.34123375924738, 26.161665105863943, 26.096302652184434, 26.077708461275964, 25.90880268885266, 25.650855230263794, 25.63334902529736, 25.550743606222895, 25.41649475972762, 25.329224905749175, 25.245912741439135, 25.147497708341028, 25.00695757558974, 24.875658696267767, 24.83974835374444, 24.688765946933817, 24.63883171192329, 24.549441855557824, 24.490779968563043, 24.33363161738236, 24.245314066388982, 24.1886021536506, 24.080462155833057, 24.048716764229447, 24.000887521765705, 23.897831955064138, 23.789250384173677, 23.724219743800834, 23.685063490964414, 23.540534184833714, 23.48572431584351, 23.452711087087202, 23.34461490528747, 23.129570408001225, 23.124211638817844, 23.01866663950946, 22.911511265700977, 22.872985043838387, 22.80543332513148, 22.627702674573698, 22.609357499759554, 22.578607220034833, 22.47388597245029, 22.41815124229647, 22.326229465986202, 22.302286066605777, 22.079979119704078, 22.053542924055595, 21.957751455320874, 21.933036506156594, 21.876892136792268, 21.818854263818615, 21.744416268929154, 21.736285901756958, 21.600379116524465, 21.46253098441822, 21.409598865094676, 21.37264796910499, 21.253356406663215, 21.18212310864221, 21.14525710433966, 21.11527467827848, 20.99372850318903, 20.868004646275747, 20.83907176024966, 20.789662969330365, 20.728454108542365, 20.610323954830275, 20.52870988951958, 20.518537294025247, 20.457595649233028, 20.41648216936866, 20.325891446073875, 20.25557211815799, 20.191695379861255, 20.148530156338015, 20.106141524022036, 20.04320153931834, 19.96981034904443, 19.91817843930632, 19.836605083868335, 19.77464818115521, 19.76231944639657, 19.72237070220017, 19.68006647777877, 19.607352991701784, 19.50006981315826, 19.4071410816372, 19.33439861664672, 19.281588928216962, 19.20158213374982, 19.14136082955963, 19.107755195785778, 19.008777494464795, 18.969822627077548, 18.949239412154142, 18.854100522531194, 18.788842744978133, 18.7371054597725, 18.679282100900814, 18.632485823600703, 18.57402111713003, 18.50923374960556, 18.464041725476726, 18.390838792671225, 18.356266046620664, 18.273679151843137, 18.216352332214168, 18.155758795966193, 18.152814661491632, 18.123217650246954, 18.055359651898033, 18.01322199861224, 17.988111550296836, 17.903951710043337, 17.89076782954471, 17.828644041642846, 17.766855901602824, 17.630924933198738, 17.569068740485186, 17.54315561561812, 17.51888767924814, 17.46826610889571, 17.40798242184796, 17.392427421447046, 17.30688731280076, 17.256472255519572, 17.215366768411773, 17.19313630582833, 17.142415062425794, 17.11023432582704, 16.993726756982635, 16.97180414042373, 16.94093484025249, 16.873735541160645, 16.850644722466384, 16.75791470309188, 16.718516626188368, 16.598595339576782, 16.577803308897515, 16.559965731868243, 16.498036255582107, 16.485162629875006, 16.385879230727397, 16.326209312917765, 16.286774522024423, 16.247394545042845, 16.22859772762753, 16.189352817418555, 16.09201362494745, 16.044283157616082, 16.003860699953723, 15.964122309235288, 15.91749377064753, 15.891566484674216, 15.854438677990109, 15.75610514443281, 15.7357645413604, 15.714452402261688, 15.674862874506571, 15.642775687024457, 15.5781087938369, 15.506386733063206, 15.478759251025085, 15.449564419389995, 15.36420575728473, 15.293729097730655, 15.278761099828301, 15.2690783484857, 15.194189839586452, 15.176109298192857, 15.13090106680572, 15.066204740400407, 15.045968746390749, 15.004651476334637, 14.952478607263444, 14.912393270299379, 14.789379957875484, 14.774574892344347, 14.735763386802125, 14.70894146998002, 14.680792395252183, 14.652868005978407, 14.573226064521537, 14.539311116999498, 14.527008262278907, 14.448488370248265, 14.415468582522562, 14.399625215170209, 14.355470534470106, 14.28301449661601, 14.264137264151728, 14.235069240279982, 14.195362781695382, 14.17057312919519, 14.091038329623983, 14.032795609805378, 13.988705537772779, 13.943007929160622, 13.913039763779857, 13.896475585484641, 13.888597356925995, 13.848776683208143, 13.771724692075058, 13.756258558588298, 13.714625604712486, 13.67592082612469, 13.6064620186691, 13.578136344475372, 13.567227613628644, 13.532446104407565, 13.500862041766823, 13.463352674659287, 13.442872415107715, 13.372977708480029, 13.266034186036057, 13.230415161468118, 13.214634859399366, 13.16749738330007, 13.145629667633445, 13.109712789719145, 13.070263089114059, 12.994579765342486, 12.974749293399883, 12.922871010310292, 12.917993910540746, 12.890063934184276, 12.859758603660564, 12.801284320144015, 12.762603266682515, 12.725207181540801, 12.693373438644619, 12.6188556314041, 12.588497674282417, 12.559986836320427, 12.516900616995088, 12.467926795788665, 12.452803959149156, 12.429176720948258, 12.357897041386062, 12.333784835459236, 12.275279195270068, 12.243818292870902, 12.217754292012621, 12.212826450748224, 12.153877796239975, 12.13634424853996, 12.109920323006344, 12.068527823433268, 12.023267356635648, 12.009643469670946, 11.965562626417201, 11.92918325767853, 11.907131708480389, 11.870908956231503, 11.829554233804025, 11.811988471629547, 11.734654664800734, 11.714091982457862, 11.651471037284063, 11.613720003367145, 11.599115782300002, 11.55006006740959, 11.539794567278873, 11.484798448037973, 11.462507136931459, 11.420399043732475, 11.416077936592606, 11.373896259303573, 11.317040098514397, 11.280375823495401, 11.218120197247995, 11.209064832207845, 11.144982143062203, 11.082908967186686, 11.056270471951459, 11.03156018726245, 11.003136329832973, 10.98323419503453, 10.935979936041093, 10.906345964775138, 10.854793487938037, 10.829887717928834, 10.804091602024414, 10.775120265106175, 10.73931110426181, 10.695188985275978, 10.63356087796785, 10.621234104594313, 10.57194078912845, 10.55125975883724, 10.507471777381742, 10.461644699353664, 10.44568534825352, 10.432128183844078, 10.417699290615781, 10.357656033117681, 10.285984759056445, 10.274109892488031, 10.22483101623604, 10.21861748809501, 10.138106445415554, 10.100887529118706, 10.077869178955858, 10.061702480403929, 10.048073737084284, 9.963208436132183, 9.910079488890736, 9.885415874938035, 9.842348262883851, 9.773824554052135, 9.733339739243355, 9.722371886468498, 9.694716049820014, 9.627489861448264, 9.604873290031188, 9.566790038903811, 9.55109284786171, 9.52824626701394, 9.496433016479656, 9.484693283410639, 9.419459404819127, 9.416485865546937, 9.354364812829692, 9.342471954095238, 9.302602547623529, 9.225641125956601, 9.185517315654764, 9.168358118796146, 9.137318457428076, 9.095569011915755, 9.044486191739397, 9.007079272627012, 8.945355693937152, 8.90595769307286, 8.866902977243925, 8.82309087503613, 8.747344381683178, 8.708761274413739, 8.70163337245909, 8.63859582322576, 8.53275930220309, 8.500868601424388, 8.467689140946353, 8.434375383785838, 8.361730125428181, 8.310037326895996, 8.25956826319996, 8.233279691345158, 8.134379182803238, 8.045625890560403, 8.007667278689237, 7.9503251975346245, 7.9148699578994055, 7.8522718730912064, 7.830781887089358, 7.76607237640872, 7.739151519113384, 7.666721354729849, 7.558597230103728, 7.5224670067538355, 7.511448438201625, 7.490886103805632, 7.394512452104148, 7.364962334033279, 7.341102859212757, 7.266876690505962, 7.208319162100968, 7.121718548383652, 7.083637221889157, 7.043781970600575, 7.026074349507003, 6.901755707730748, 6.864343881824637, 6.792037855477839, 6.738246203944003, 6.701133406032644, 6.670406900771334, 6.6225321786312294, 6.545347555182513, 6.432675052419305, 6.355747383870105, 6.334940401433575, 6.229954272960507, 6.1623670141911315, 6.094930308219328, 5.991480041404009, 5.946427903523983, 5.858655284173728, 5.713619780879654, 5.377652451538737, 1.3834790888915502]\n",
            "101.3179620558156\n"
          ]
        }
      ],
      "source": [
        "#movie bag of words\n",
        "compute_NCI(A_bow_movie,len(A_bow_movie))"
      ]
    },
    {
      "cell_type": "code",
      "execution_count": null,
      "metadata": {
        "colab": {
          "base_uri": "https://localhost:8080/"
        },
        "id": "dkCgGB1hVlUj",
        "outputId": "fedf3f32-0239-4d47-b3ec-5ba59552254e"
      },
      "outputs": [
        {
          "name": "stdout",
          "output_type": "stream",
          "text": [
            "[503.991535793779, 413.6666795731347, 317.92732869727286, 265.80583197878644, 213.36284378372443, 171.29219436473858, 147.67503783617434, 142.0503716095806, 136.53658046496724, 134.02005026901222, 131.4282657916618, 130.39168684599704, 126.21685153943451, 124.08752470490663, 118.94292633512357, 116.50561285118081, 112.74884514051622, 111.2084464728681, 109.76304250892099, 105.16949923348791, 104.20953780685444, 100.98018070202632, 99.8760510285066, 97.2656590253664, 95.7259541148326, 94.70526748511257, 93.97433797211743, 93.2626283487498, 91.74977387094768, 89.56159809402855, 88.6548792697937, 86.97130750572849, 86.56376743239954, 85.12574335514353, 84.53822052070659, 84.33986448151798, 83.20896013931484, 82.46889144303346, 81.6629378315371, 80.96568596482716, 80.41828819775408, 80.1498853789396, 79.33930701570328, 78.55757952202305, 77.64546739855523, 77.23477859228943, 76.81697940236093, 76.58356731906007, 75.95132057968974, 74.2118505061968, 74.04725922511743, 73.53799165517346, 73.30262170046515, 72.72244091464185, 72.5198934703729, 71.9942994510451, 71.24404525406888, 71.03710382935063, 70.96357889683959, 70.4496115395281, 69.72250758581998, 68.96266250117529, 68.69492818461907, 68.41645892169284, 68.1459274380804, 67.64470973429069, 67.57035661184119, 66.99442127049106, 66.58553357630376, 66.18751407296016, 65.9644587740931, 65.66475408195456, 65.45392435257098, 65.18320304101375, 64.28263376540713, 64.13040631854254, 63.965242201874354, 63.79934991062182, 63.4304303520634, 63.13063656910474, 62.96473025769551, 62.670587284278085, 62.27609986011004, 62.24591607311217, 62.08588833655873, 61.58890155235792, 61.29337731754086, 61.0864139898339, 61.0076193932429, 60.46123835855966, 60.08084272363192, 59.871981064862354, 59.458774284961834, 59.4054350909689, 59.305346623784736, 59.194096741911565, 58.67810180211705, 58.16481632444085, 57.999833118834225, 57.8264492774042, 57.582831096381014, 57.36753384730542, 57.329373215516306, 57.20631759576139, 56.994411537201806, 56.782141322618266, 56.492834924423164, 56.072310210213885, 55.86819940935643, 55.6953681727408, 55.43009240501355, 55.1814288412671, 55.04758347557275, 54.85678104828918, 54.7952863764177, 54.64996052293673, 54.32640732827844, 54.26524210265519, 54.236914809969996, 53.84385109384946, 53.623423152993546, 53.456313693951834, 53.349872350210305, 53.23353740399745, 53.07905812273298, 52.91567354895704, 52.7070508992841, 52.472505456088705, 52.39910855493653, 52.206585381909946, 52.05493169741497, 51.90110790326784, 51.86138211388942, 51.631453407569964, 51.45471366322826, 51.335949220958504, 51.31060925427154, 51.085334559832084, 50.9082116950478, 50.764660648796934, 50.55685871374917, 50.3550657275443, 50.15670872170431, 49.98858248977441, 49.915893947217654, 49.8081132133962, 49.67228126735179, 49.483554355337326, 49.27843062708402, 49.24049647920271, 49.09629024785385, 48.98908917883596, 48.85207518876322, 48.76201068977289, 48.61219260163934, 48.56230582023309, 48.377465543792134, 48.19173605282146, 48.06383721003696, 48.053345378325346, 47.87078046185991, 47.7616688156398, 47.70366813023568, 47.52589213905687, 47.319533829975086, 47.28189983831569, 47.24657445589407, 47.01997623120833, 46.89691370480496, 46.78134971032595, 46.701463695360644, 46.536536678234604, 46.387584692355134, 46.21422070794567, 46.139457199386314, 46.10003618755588, 46.012461842658254, 45.84943712162068, 45.678676949635175, 45.62270581471668, 45.551719470786594, 45.47115584567514, 45.418123347976604, 45.37918375921865, 45.324669255425555, 45.271798438876964, 45.036016452246734, 44.98948457183395, 44.882625957380334, 44.73511987990034, 44.63651903697422, 44.51238245397549, 44.50724302299953, 44.3653401713128, 44.29023589717597, 44.246441753341486, 44.14379121039531, 44.051692263895404, 43.908345946538866, 43.862346093968725, 43.690798260423314, 43.64353581997978, 43.582383298948685, 43.47662541619204, 43.43856101380267, 43.37215014703958, 43.3082025529727, 43.211263345871686, 43.114296148535935, 43.10046252218272, 43.067567009625314, 42.89694082960712, 42.774686967315574, 42.609666084144266, 42.602199359704734, 42.51624782116704, 42.437124334629814, 42.423140548703536, 42.305188702724514, 42.24161448920317, 42.14452529333303, 42.07004554798573, 42.037812763324006, 41.99338198411275, 41.785319427028675, 41.765322768537764, 41.727669926241795, 41.67951080352396, 41.55466132045405, 41.51370495888797, 41.471956979756015, 41.35761922755215, 41.33316825557927, 41.24684667664959, 41.15846602932095, 41.102687948854616, 41.06970904758068, 40.97855236490515, 40.8723731194924, 40.82990177056735, 40.75188495358128, 40.72493145534527, 40.65440863825737, 40.59440301048229, 40.528533279386096, 40.4061174658404, 40.364636185255996, 40.29480668374853, 40.277471251232726, 40.20298441775744, 40.09814012880375, 39.974077947626704, 39.93333250718642, 39.906508433634485, 39.81579330768088, 39.78789183107304, 39.716812675449965, 39.66045269116913, 39.597027103121995, 39.574755543878894, 39.50057484887662, 39.410475852533814, 39.3514657239688, 39.311295253750636, 39.2363234972229, 39.21569191798937, 39.17170202529164, 39.08932447184847, 39.03493367319636, 38.983363718854996, 38.93252409782441, 38.91107796600048, 38.88249386055083, 38.80095578991513, 38.74806162077017, 38.65415462833013, 38.623703533470625, 38.56923565239105, 38.51902158574764, 38.46657430928785, 38.39419080631968, 38.36683238805307, 38.29730896979338, 38.22733702924738, 38.20206983695993, 38.11350532969336, 38.10121385970207, 37.99856018835897, 37.87999085647375, 37.82596059160562, 37.75668913952081, 37.728739639405624, 37.69842761601876, 37.58394157946404, 37.570813885425665, 37.497854125745256, 37.46587840960555, 37.4370993794265, 37.36206293227173, 37.303960813443396, 37.265541902399114, 37.209368674687035, 37.19778883134932, 37.12996583102586, 37.01951989450485, 36.98797303597324, 36.88950471657693, 36.84833303481334, 36.82395547122763, 36.787296554461214, 36.75326586565133, 36.72806415999493, 36.659563014996905, 36.62999337123752, 36.59373664416003, 36.567794688945646, 36.44908438169956, 36.4331232642639, 36.41243743491549, 36.39311672716565, 36.31807065454491, 36.28903824131203, 36.246381227024386, 36.17208416755047, 36.12804232725481, 36.08581558139593, 36.03997250581083, 36.02351939982935, 36.0145410330405, 35.89723077735527, 35.81459121930705, 35.777225834345366, 35.75184777673556, 35.70753002320265, 35.660764138591766, 35.6106051694657, 35.55861269396008, 35.51069946512715, 35.501149798215764, 35.44651518238314, 35.41479627076812, 35.361286707966364, 35.35286491429118, 35.29246420052697, 35.23041302592958, 35.18216388887347, 35.13605711029695, 35.06754957331096, 35.050447950205296, 35.01122794833702, 34.976622194717365, 34.92129134233243, 34.86118047304114, 34.79608475880526, 34.777437686595725, 34.76247012642221, 34.695363967502956, 34.67544880741573, 34.63617665861961, 34.5936436316727, 34.54966290861336, 34.517693421705616, 34.48857320508245, 34.4465212534006, 34.379666278697016, 34.362674419676864, 34.32777551167564, 34.24985247049723, 34.201026403237364, 34.15975676534843, 34.140796759445514, 34.08150590709225, 34.050541554806905, 34.04770825168525, 34.014331240160814, 33.94454102786435, 33.92833525755701, 33.908215009242255, 33.83710462725271, 33.78125595445385, 33.76564471248601, 33.710254599298835, 33.702967881370604, 33.65913416647395, 33.64473148096182, 33.56490616849552, 33.5025290026049, 33.47018329549614, 33.44959823591715, 33.396367360334274, 33.3733057786184, 33.35592909529049, 33.26626586764344, 33.246889786688364, 33.188775317111045, 33.180177043040736, 33.16456625464299, 33.13818526358711, 33.08853804390813, 33.01650993821203, 32.980652007551534, 32.95541743508951, 32.93014178584991, 32.89121835063833, 32.82859030160228, 32.815510102315, 32.77331874721261, 32.76074123023563, 32.71846678725635, 32.70293037953807, 32.63307013349202, 32.605703064258755, 32.559201591134745, 32.53659460738798, 32.48962398283532, 32.468514049237534, 32.44108536030552, 32.37171738079711, 32.33471344735282, 32.33376136285623, 32.3110016844852, 32.2938584763435, 32.23969032360644, 32.20280342027927, 32.1449047983172, 32.12740083947043, 32.08984495673859, 32.04694273902959, 31.987861484816232, 31.97308514135043, 31.966877279983347, 31.937338584796038, 31.898935765619683, 31.86246468963289, 31.84758647377924, 31.82769351724382, 31.787295312117394, 31.718318789926055, 31.704512237657724, 31.677601740866965, 31.65740309869959, 31.62766804443103, 31.584439173230614, 31.563236520270664, 31.52848363651703, 31.45768279568286, 31.44828400252628, 31.37817395406966, 31.349462927745464, 31.336917765446, 31.323272750680843, 31.26308219957045, 31.245016599461195, 31.226893308118676, 31.181554124019648, 31.162022009366005, 31.137951186846983, 31.087382114534915, 31.085168756300135, 31.015853111033824, 30.967985883371295, 30.959337551665605, 30.91936924412517, 30.908180307357433, 30.899502211384686, 30.8478329281057, 30.815632609646922, 30.783815380035424, 30.738291109833597, 30.712649792184706, 30.684011013152297, 30.670737867929795, 30.603467990907237, 30.591592993594386, 30.561004580526212, 30.517404671485068, 30.504114660222598, 30.470923363200644, 30.420585720332326, 30.414125760321873, 30.37627256960101, 30.352624967986173, 30.301615878269573, 30.264415942513555, 30.254034993782827, 30.237869453455428, 30.209035307736798, 30.18645821863193, 30.164091118807647, 30.15364631119217, 30.102926199245644, 30.06111041076698, 30.031183379897655, 30.005503996974525, 29.998482433926544, 29.97656476813939, 29.947451847837584, 29.915186177588748, 29.889566634129157, 29.86613404249589, 29.812026922079202, 29.771918979599036, 29.755895619988816, 29.720234354857414, 29.710329964492143, 29.69809857753938, 29.672263119275613, 29.628082025384206, 29.589241705950815, 29.55357415244501, 29.54773411872809, 29.525275739158232, 29.45873532677548, 29.45431470910744, 29.42937488398132, 29.414280337835617, 29.358880843451722, 29.330363426839014, 29.30996329830144, 29.290055711405664, 29.258495367638396, 29.200435429599022, 29.184610530056286, 29.169684871512164, 29.13906729322247, 29.123588393739947, 29.104792335218075, 29.071338084026102, 29.043621866307667, 29.015452670145248, 28.980250237781387, 28.964212263403414, 28.940250477351967, 28.93701680090138, 28.921920449462743, 28.858897435728107, 28.824132835267648, 28.815785624701206, 28.782856875315858, 28.759495398267145, 28.727514636047534, 28.70745442621503, 28.674204253885954, 28.665674118114815, 28.617784152621226, 28.600575063920804, 28.597847328147896, 28.560054753428844, 28.542999794288978, 28.522947560210277, 28.502665768762313, 28.43944490452172, 28.412760615468933, 28.372310479360387, 28.36988502089578, 28.340091252436206, 28.31993601841556, 28.27628102567288, 28.262132232166945, 28.23184393903437, 28.224643078766462, 28.203754782281226, 28.164393392203298, 28.14650898314725, 28.130777364314824, 28.102248863102414, 28.061886057203942, 28.038645589311958, 28.017867092191214, 28.01145635815922, 27.98519917066846, 27.925009836427048, 27.914644015941185, 27.89037986517339, 27.857154949466203, 27.815501103671195, 27.779058737390404, 27.774271740872457, 27.765999688753578, 27.708939948353123, 27.69829450810643, 27.680104526704074, 27.650863108484618, 27.633467714356225, 27.6231084263478, 27.588861992842382, 27.5772549559978, 27.530076099918656, 27.501204201256385, 27.48769837187287, 27.46342385883713, 27.43607975917441, 27.4187957589703, 27.40749759568519, 27.40029702810321, 27.36484371648247, 27.33428664154797, 27.298652639577547, 27.280927674696947, 27.264783732188782, 27.24395396562935, 27.20864776044211, 27.18648430962817, 27.152652490870015, 27.131191575458597, 27.107688385466027, 27.093127023878353, 27.089777108118927, 27.049006278381572, 27.03218889522493, 26.99101554317013, 26.977421641694292, 26.96367656516047, 26.942625000814225, 26.92480891124278, 26.893229616629913, 26.88184891548559, 26.855299305151483, 26.852905450265435, 26.839278807956866, 26.80676500213285, 26.779139006458156, 26.745098508537012, 26.733874780606023, 26.712000248911277, 26.699112093940382, 26.691424041155795, 26.668647881301965, 26.63879548467689, 26.617123209304253, 26.597418738470083, 26.56240370903491, 26.541502114526363, 26.51603291859048, 26.475137530435248, 26.46067689462507, 26.4140847719304, 26.4044255626354, 26.383904591534076, 26.355551789944283, 26.335061707781765, 26.323708302446352, 26.305527240941245, 26.29380146879546, 26.26414357914035, 26.26034276672129, 26.20748848476719, 26.20583982010967, 26.175314249599616, 26.156229500456696, 26.148360491154026, 26.10915923284498, 26.09707623102597, 26.076372667562705, 26.06347547187175, 26.054599390931223, 26.031845664783162, 25.991908619178993, 25.96922084015224, 25.960693286492628, 25.944765688770406, 25.917346072919862, 25.90454697827565, 25.879429630381935, 25.85101415593049, 25.84140711817151, 25.83185709566379, 25.778271698787687, 25.771403128331677, 25.73640957144783, 25.73127398163152, 25.722556586594774, 25.710318732578322, 25.681044644145764, 25.645689384809806, 25.62849427947271, 25.61484021576123, 25.58150588146321, 25.56872831499974, 25.55201341169062, 25.54259752704712, 25.51576267688703, 25.483408867282055, 25.466780762275093, 25.449316866245383, 25.44377712211189, 25.41718711342831, 25.38040665712958, 25.349001686523888, 25.334486455589598, 25.32036615853078, 25.27193232961755, 25.249635362590052, 25.237651812608036, 25.229191054942355, 25.21911824637477, 25.19685376124401, 25.182872169682394, 25.15167277194268, 25.140196623839643, 25.123972099586833, 25.095935547889102, 25.060027789026996, 25.05257376629069, 25.039045393181986, 25.002788213335553, 24.982269221612565, 24.969788046530887, 24.94644550570459, 24.92911390814155, 24.907140333042975, 24.896477198768373, 24.885317423771173, 24.859816890958843, 24.818619190913296, 24.808806525323785, 24.786968062106993, 24.78240726858795, 24.755903550422993, 24.7111760421024, 24.699612988801068, 24.69162945667367, 24.66406277127364, 24.65975028319025, 24.63678591414218, 24.627487071924723, 24.601168375482235, 24.590305989935608, 24.570721227486715, 24.55841792342282, 24.523210799058457, 24.515369929596925, 24.50743258982809, 24.498525470382837, 24.474471085900177, 24.449441883880368, 24.440926122643003, 24.412652490355597, 24.403777156715016, 24.40277308414185, 24.382445228745397, 24.353315840057235, 24.34199638032153, 24.332375001124078, 24.300756405980227, 24.281935760140712, 24.26590921877224, 24.259111357844343, 24.201999922167733, 24.185296925286476, 24.167571873512294, 24.15741191657571, 24.140102388563857, 24.123834891541055, 24.09995158383019, 24.082532341283482, 24.068034932058463, 24.049173245718045, 24.031366947435536, 24.030314649458614, 24.013168679192592, 23.99414901588538, 23.972726589683976, 23.922708523139214, 23.919230732360088, 23.90807404659917, 23.900586567474324, 23.88912708555875, 23.87019377929478, 23.857266029771043, 23.839129098821832, 23.81900621136559, 23.790901394859308, 23.778512272709285, 23.77064655102977, 23.75201130270311, 23.73967788700766, 23.711054761675417, 23.69254147195731, 23.677727765315957, 23.656351663596652, 23.639605162665113, 23.63059108610688, 23.613750141555354, 23.59736703340992, 23.5695608915572, 23.56220737374195, 23.55533454258679, 23.54022961508733, 23.525338336048662, 23.512902054141634, 23.478750206613313, 23.469136218933716, 23.45669176615192, 23.43219260471781, 23.421978790921006, 23.402896590386817, 23.398593630047987, 23.35092562477259, 23.345637853387352, 23.32261070867018, 23.310191011100574, 23.28726935178915, 23.257760412636433, 23.23082973199135, 23.221935570417664, 23.218036873825746, 23.199992512076104, 23.189936378061187, 23.1743327861412, 23.152831327164773, 23.142290107873368, 23.132722166551705, 23.11669672093356, 23.101170593123857, 23.094448913262838, 23.047117548533876, 23.03659256598802, 23.005945804870613, 23.001562126149416, 22.989017578850486, 22.95473631276295, 22.94411562024659, 22.939494572769764, 22.921321285885824, 22.917921442217835, 22.89752550203909, 22.87051857815126, 22.85111749636902, 22.84308109286695, 22.812417577752722, 22.811162022225076, 22.794702155863817, 22.774659927060476, 22.76205614111505, 22.746979900354376, 22.73280859480525, 22.725230950404082, 22.71431003246364, 22.68122625569571, 22.673873662791564, 22.6650158194854, 22.661745717034552, 22.64111108835819, 22.633057830121253, 22.61130197037553, 22.58991332545568, 22.580854135082003, 22.557296154671942, 22.55450008627555, 22.544325958561945, 22.526991940590992, 22.48925409282978, 22.47984647737534, 22.46393013586553, 22.454978529501304, 22.436380945159534, 22.429125082116347, 22.42251153515901, 22.40821889772631, 22.39023806950072, 22.37344930326609, 22.350033980850725, 22.307934348959165, 22.29705436120699, 22.285746842699805, 22.275194498007, 22.270515171651013, 22.247651594260947, 22.21059449426267, 22.2054882593002, 22.196910633266114, 22.184574502489745, 22.164435889466063, 22.157292813989113, 22.136805728607406, 22.124410655112918, 22.107689088193272, 22.101171294741874, 22.07775612261563, 22.061663543055992, 22.055885024029486, 22.023333373790674, 22.017416632919076, 22.009406591871183, 22.002137695713465, 21.987966986508734, 21.981747502773384, 21.962493407680505, 21.954168633114893, 21.94084043526983, 21.927882032279506, 21.886375452257525, 21.870419458302162, 21.852942232284356, 21.834744841093563, 21.826365345499898, 21.809276809049344, 21.799936720251754, 21.790694120961323, 21.767592166179632, 21.764423596963503, 21.748929559776435, 21.743118557857205, 21.713167116456773, 21.704991751797454, 21.702069669527052, 21.6813266315646, 21.659470588564144, 21.656602342821483, 21.626363784531645, 21.614795498794287, 21.598255058035598, 21.587887700681037, 21.571439509046957, 21.56192662296779, 21.55196769121636, 21.533160951644373, 21.523054419669165, 21.503074380553056, 21.494685923754652, 21.486873103061843, 21.477298074819924, 21.44881279064058, 21.43705505557604, 21.417447685236617, 21.399766489981726, 21.382427503568096, 21.365545208999244, 21.346874968478364, 21.33976425196932, 21.335332396577794, 21.31252531397594, 21.30085908603595, 21.292580840056576, 21.274231116864257, 21.26084951694771, 21.232723967355795, 21.227915962575228, 21.21882642907558, 21.205045501130247, 21.195282102778002, 21.170996665550486, 21.1531461747223, 21.13814843538822, 21.12966639648282, 21.1128076985039, 21.107768178350028, 21.096438826589658, 21.078051050434766, 21.074922567355557, 21.053151901735557, 21.046799025463127, 21.031472241657298, 21.022622083408326, 21.006964184237997, 20.985332498052095, 20.97822401382169, 20.965601498533808, 20.948422435700238, 20.944133246790123, 20.936236769589062, 20.922969878662755, 20.91180382962682, 20.890789119164463, 20.882025523557875, 20.859433473329897, 20.8310699806415, 20.822955676687545, 20.817274240526665, 20.79892965613243, 20.794208689463783, 20.780169784292372, 20.774061115295282, 20.752140021383518, 20.740318538320807, 20.715239204241335, 20.71254403801597, 20.699522871488202, 20.67453365026333, 20.663545022149357, 20.658824977367065, 20.638136091594756, 20.626401712129063, 20.607366426935947, 20.597916584543217, 20.58395162365896, 20.577858926228593, 20.558392221487882, 20.545635916641984, 20.527129506798186, 20.500761132821584, 20.496356801050915, 20.488563234239816, 20.480382277053963, 20.469807493277152, 20.448679432982793, 20.430850331388463, 20.41308977207631, 20.40537846788881, 20.38823135550909, 20.38543311191678, 20.379384141636212, 20.363020787818094, 20.348293102487855, 20.341136819895947, 20.316439539758047, 20.306998993034295, 20.29637147587868, 20.289520560655166, 20.28000396726713, 20.255074347318192, 20.237619956192866, 20.23095456382346, 20.221662129514957, 20.21485493467051, 20.20317765363273, 20.19213175811819, 20.164964028652086, 20.15998705071121, 20.1532233481537, 20.136595978510194, 20.12530903743265, 20.105910943978635, 20.09105194936587, 20.076987000492206, 20.070085772789795, 20.057032088853106, 20.043441237907512, 20.035652542031816, 20.02625108044977, 20.011223686902515, 20.00014193593157, 19.98967430775688, 19.98053636933326, 19.958420750809132, 19.94664915918683, 19.924179545912786, 19.915257319065326, 19.913298801668237, 19.90209422181855, 19.891811988775004, 19.885739561633102, 19.8673491259465, 19.860867578272792, 19.83974525367494, 19.82587107432483, 19.82078525744352, 19.80557841471456, 19.79112627676484, 19.778566370166047, 19.769842499963254, 19.760570924573596, 19.74565959338075, 19.725439354549756, 19.72119735210709, 19.70636348701379, 19.690804872639834, 19.68085217875007, 19.658104974727205, 19.654450781257314, 19.63502048768798, 19.630089173815005, 19.62368787061902, 19.608056732817893, 19.58779749069984, 19.578982762571986, 19.563485778980503, 19.556269106909117, 19.550003924249474, 19.529336739012777, 19.52340699386012, 19.505894354021013, 19.497353226749173, 19.4904868480886, 19.47274948896839, 19.468507319583388, 19.4543959162789, 19.438227198662464, 19.419958997624672, 19.411706532773113, 19.393283683072283, 19.382370113735938, 19.377523032436294, 19.355710331703296, 19.355305721966616, 19.341483068552517, 19.31820342212512, 19.30905632287484, 19.298682762482102, 19.2789245268786, 19.262347685781684, 19.26112568193224, 19.252981588057345, 19.240852675113935, 19.222810549949187, 19.215765773922982, 19.203850014254147, 19.192006102869314, 19.179808820606205, 19.17477954325139, 19.1610473539959, 19.150493284275978, 19.137423728899453, 19.135071145293107, 19.11322408764055, 19.105887689517377, 19.096137836270792, 19.09176483285175, 19.079850932188553, 19.064070280219745, 19.04719716445602, 19.042096726467257, 19.029941003167025, 19.01066790568154, 18.997627180637018, 18.977243007813414, 18.96499950349012, 18.96145680506236, 18.94426168431783, 18.943252649592274, 18.935119238688138, 18.920057431032706, 18.908082390618418, 18.893610413082484, 18.882754508784558, 18.876653013066434, 18.86447165871808, 18.84556958225593, 18.826509623839407, 18.80373121188201, 18.80204667480481, 18.790057200955193, 18.769916199557283, 18.76097590499474, 18.759865715330843, 18.73627142315187, 18.732294746850588, 18.73050469335886, 18.713033880115038, 18.70855228708029, 18.707726214261793, 18.685751105718793, 18.666896201688132, 18.654544096425333, 18.646223490076416, 18.641169632631524, 18.623291073959155, 18.619098526171435, 18.59492852296118, 18.59104566285651, 18.579885220560833, 18.570031653879482, 18.558689638467072, 18.539528898405067, 18.533390859585012, 18.52712765178428, 18.501248826478943, 18.489821561278106, 18.487056183957506, 18.475104686114086, 18.464074406099186, 18.45292130862202, 18.438213924040266, 18.427066376871107, 18.420998977084697, 18.40939417458152, 18.3959690381563, 18.379555983174797, 18.37054373434055, 18.3662538817095, 18.35502099128203, 18.344181693865515, 18.3354319262961, 18.31811823508365, 18.30951742148077, 18.29906453050441, 18.291084806161955, 18.285275291022195, 18.255984928329056, 18.25215224524527, 18.238590138485254, 18.229897541746688, 18.206598479867036, 18.201010733203763, 18.188356246985155, 18.181771045495847, 18.176143563561077, 18.158645530986927, 18.152374941915692, 18.13982444098275, 18.135296127850573, 18.12753104534852, 18.117121950096532, 18.106773502996756, 18.098277453527395, 18.0881556217641, 18.0705889141803, 18.06337047297826, 18.050692705117736, 18.044393554102665, 18.018070790031075, 18.008189865121036, 18.000223505695867, 17.99115318225602, 17.980371311253837, 17.972963112557615, 17.966103665673128, 17.94911664948689, 17.93730203427503, 17.927659885626937, 17.92556052974286, 17.912160441582586, 17.91002914011997, 17.885915289508535, 17.8819156920587, 17.8754248221586, 17.857444441779275, 17.852268316528054, 17.837546442590277, 17.814938599803405, 17.811900074954472, 17.805775503723343, 17.787350080623177, 17.784085422591147, 17.778702416755902, 17.76590155526101, 17.75627540653202, 17.74728711858663, 17.732473768123615, 17.727635046440064, 17.720954478250917, 17.706486934547055, 17.697254498095283, 17.69315240497146, 17.681854364063845, 17.664990137219394, 17.65954015535806, 17.654232131755425, 17.637287087132012, 17.63071259126828, 17.605305326773713, 17.599101573771424, 17.58822110293447, 17.572745905671184, 17.57081415661913, 17.565247175956042, 17.55275344528233, 17.52921015267452, 17.521910068337046, 17.5142273033649, 17.508980589020805, 17.496481111294017, 17.489694815862332, 17.4680145004499, 17.45798019022891, 17.44989353206342, 17.44596594569375, 17.444842216386718, 17.431193640242196, 17.420189925585213, 17.410405554547182, 17.404353458852892, 17.39838029368121, 17.387826959420536, 17.37962388995888, 17.37241634373523, 17.365509951393037, 17.3651852516471, 17.342270849392563, 17.331656919337725, 17.322352035163746, 17.30986321288545, 17.298248588301718, 17.284065066978833, 17.28327753986449, 17.277470926329617, 17.254904692271275, 17.244634746345692, 17.241106754472206, 17.233910972093966, 17.22305444967889, 17.208648452546374, 17.201900862121676, 17.19030618273035, 17.180766478848266, 17.174460307259473, 17.16208592389343, 17.1597864133407, 17.14289168959905, 17.126585627258333, 17.116102679200615, 17.10491669797462, 17.102388048693793, 17.094681261473013, 17.08396167517555, 17.075214540734013, 17.066544726005354, 17.048113089228757, 17.042032036228132, 17.03744038621413, 17.027191671007976, 17.022211472174636, 17.008143782230352, 17.00151580340833, 16.98503315813866, 16.98142240796812, 16.960504666569495, 16.94901382351113, 16.938079233148308, 16.92733989472387, 16.91538781607265, 16.912262026718476, 16.905285662657157, 16.895909662074946, 16.88383777505252, 16.878307988673985, 16.866027649704495, 16.85665435361936, 16.84166045393924, 16.824043883918115, 16.819810518120136, 16.818262028235768, 16.80654762349843, 16.803877399920115, 16.794145445038154, 16.781197670600257, 16.77610705201677, 16.774592022509186, 16.754309056520395, 16.74514254219366, 16.734402410006894, 16.72213011683961, 16.70708552104618, 16.69556336430237, 16.691476570846934, 16.68518731985616, 16.67439042047444, 16.65874387567213, 16.648524217861734, 16.64175711896471, 16.629797791979602, 16.625363212167915, 16.621347537859787, 16.608089068689342, 16.59728696524944, 16.5861601704527, 16.57833615246324, 16.572384927160805, 16.565079113602334, 16.549609753738558, 16.54377892264108, 16.53861370399072, 16.527284084441675, 16.51276880649243, 16.503948179301247, 16.496771238924467, 16.48283540482686, 16.48173479833013, 16.472256357181674, 16.45703011906296, 16.45372927957846, 16.446360298528564, 16.439587725737404, 16.435213905121557, 16.426689086230216, 16.412486410064798, 16.39567222989886, 16.388570428172397, 16.37250021407838, 16.365525063602007, 16.356890153401835, 16.34832947221486, 16.34251628241828, 16.331201038370626, 16.325504724364503, 16.313282192539894, 16.301772121149195, 16.29816439622752, 16.27984115044298, 16.27060932804881, 16.269265638041393, 16.263541033844657, 16.246936912391824, 16.237633026628565, 16.23026819977992, 16.227087419892882, 16.216584414427597, 16.210037194075163, 16.19433830132743, 16.18628305942166, 16.180825120381787, 16.174432993268006, 16.163474478806254, 16.156748208035044, 16.148385177506718, 16.140492497126623, 16.121341882104428, 16.11968142528086, 16.111137516171084, 16.100337002460748, 16.089347795458732, 16.082059937554774, 16.07271897325682, 16.0522308800635, 16.04536567153763, 16.03382726188364, 16.02850230362009, 16.02069771520279, 16.010825552649653, 16.005802589245782, 15.995196200842958, 15.992347860343454, 15.970899415105688, 15.968077687827304, 15.956638611017205, 15.949178208888432, 15.948493096568901, 15.934002373166045, 15.9179937901457, 15.911446091411365, 15.906146465805804, 15.89767884671893, 15.887904416664034, 15.887134893741175, 15.87801294171878, 15.866331531011992, 15.855823591753126, 15.841841647248536, 15.83371489428533, 15.830841820390571, 15.82736271051402, 15.824352996634314, 15.804729980005442, 15.803268130115365, 15.795099098387286, 15.779299008693826, 15.776315451559716, 15.76647482531937, 15.759197604349005, 15.749628689937806, 15.740405451020909, 15.728665859869214, 15.713568677620163, 15.70868268441449, 15.698015773789738, 15.689519687997464, 15.68467354703687, 15.677276574775547, 15.664442400999496, 15.654161287882781, 15.644174425723065, 15.63898136120309, 15.636917056225126, 15.630001629349284, 15.620407128117943, 15.613670026749858, 15.606012557664842, 15.597319050617171, 15.584414288743853, 15.569034004656451, 15.561358497879056, 15.559516460097765, 15.539939595686466, 15.5351402247724, 15.52871601018488, 15.521254280759443, 15.51093426848244, 15.502005244679024, 15.499890545165469, 15.48620157310382, 15.480641141963092, 15.47554908437769, 15.468876462799917, 15.457865852634427, 15.450619786849657, 15.447724709557276, 15.435487152179677, 15.428417932211374, 15.42303754710418, 15.413878419423376, 15.401501595005008, 15.401015627916308, 15.38753821691803, 15.370932696051437, 15.36343338853607, 15.354850209620702, 15.353923538259137, 15.346901718857364, 15.336730710582007, 15.326248978082926, 15.316819431253291, 15.30994818133269, 15.306008078494836, 15.298824703300673, 15.291952521479317, 15.286997169746067, 15.283634963109996, 15.27793381303839, 15.260086277331066, 15.252312208044705, 15.250605659975395, 15.242139462307861, 15.227803902253669, 15.212369469847896, 15.209335490849908, 15.208963193340521, 15.199841768321255, 15.188408765344343, 15.184351747583525, 15.17932241711132, 15.156632376072245, 15.153455780055308, 15.150873199510507, 15.134248741967074, 15.128887789197945, 15.118574611358842, 15.114783228581297, 15.11050165154006, 15.102506723693512, 15.095960912430993, 15.090459123966262, 15.086140139131752, 15.07296071527111, 15.067981441935762, 15.052247241200265, 15.043847802583306, 15.042806958469386, 15.031340891776269, 15.019515611516226, 15.018255458834469, 15.004113504952928, 15.002167271374455, 14.984745646477558, 14.978883645141545, 14.969738116267298, 14.959753894644992, 14.954785430957601, 14.950805070367686, 14.941839693911634, 14.938687373668243, 14.928440507393411, 14.909025027289074, 14.902374564960496, 14.890821613786466, 14.88577394119764, 14.879500085956458, 14.872818280548682, 14.866956914836845, 14.85982410865874, 14.850844364540896, 14.839717802676072, 14.830761424904383, 14.825939498736952, 14.815261320044039, 14.80679522496898, 14.804253695635438, 14.79892973161672, 14.793861950025786, 14.7787758720053, 14.770577396098735, 14.761926411318138, 14.749168241586817, 14.747749120067136, 14.73626114917488, 14.73210951188303, 14.727717368162889, 14.71160312212381, 14.702943986743502, 14.696006498735432, 14.69145078316997, 14.684533037982387, 14.672691619629907, 14.666264584019773, 14.660425153570422, 14.65418949934591, 14.650006818653367, 14.643864115852718, 14.627245134992043, 14.61630152938279, 14.605280152574519, 14.598340401071436, 14.591657127960252, 14.58316464154097, 14.580060794888777, 14.56915651435874, 14.568705608975831, 14.563438199901128, 14.55923598885886, 14.549431090974451, 14.53637517455947, 14.534789018955516, 14.524026670850805, 14.515714633837357, 14.514395739805972, 14.499114195101946, 14.492741618802985, 14.480580978437347, 14.470848912532638, 14.46642736782408, 14.462019492615285, 14.447803893914408, 14.44087680333911, 14.440126384305564, 14.429927280780918, 14.420520911691897, 14.41629811524866, 14.400659548521682, 14.393298225577592, 14.382163604936455, 14.37376275754685, 14.369239393315777, 14.365627005134481, 14.357756478081141, 14.349431548556954, 14.342218372220083, 14.32838434357024, 14.327329358065331, 14.319798272449463, 14.307620645075167, 14.302266121171726, 14.292807674518734, 14.287897390582751, 14.276877300177908, 14.269074478882526, 14.266923512152466, 14.256046444266596, 14.242715677007249, 14.241045642212415, 14.237148882447766, 14.23341921791717, 14.221639877111166, 14.212818481773779, 14.205775574004175, 14.200468886252574, 14.193406628220226, 14.182216644843532, 14.17580347629728, 14.16358938112449, 14.15841773990264, 14.149571228472396, 14.143060928357093, 14.141908441766784, 14.134910088648644, 14.132074816634946, 14.13009444630559, 14.109409359991881, 14.10865849601188, 14.105948766453322, 14.099839536482998, 14.096679267457585, 14.086990702579934, 14.076612887593273, 14.059911105332729, 14.05810122754234, 14.048627893001964, 14.044715622270882, 14.03624158935638, 14.02544923975753, 14.021050620067218, 14.013738703232033, 14.007725434281497, 14.001854509679442, 13.991011634886599, 13.989424498823402, 13.975134476153299, 13.963458930633482, 13.96012725902454, 13.950474776677387, 13.946797969270593, 13.936028563695675, 13.928532200908707, 13.92513189623945, 13.919012066230938, 13.912243518483868, 13.906038722820863, 13.890004670693214, 13.884670098244083, 13.872022830688309, 13.868143447901696, 13.862368206542211, 13.85880435251709, 13.857743258008679, 13.847300539253755, 13.842492544709803, 13.840817754098405, 13.825196080695044, 13.819871575001562, 13.817068361738187, 13.80069110066791, 13.794421551586844, 13.785665082896923, 13.779796178764704, 13.773420618897589, 13.762595111664501, 13.757531668711712, 13.751709706120186, 13.742253235943888, 13.73877221698438, 13.735597856296717, 13.715951904095323, 13.711105463092945, 13.705408206964599, 13.704168296993654, 13.691234400553764, 13.689394651606403, 13.68529962189299, 13.680198303671524, 13.666039745652693, 13.665065121153328, 13.64985178265436, 13.645507064786493, 13.64406790555633, 13.637849910031887, 13.628134320944113, 13.620718186180014, 13.612271370609003, 13.607401822657277, 13.597709606398658, 13.58302579329229, 13.576278729295154, 13.57096385616496, 13.561389289471363, 13.55714844695259, 13.55081643085568, 13.54735074839368, 13.538142888462778, 13.53443305540296, 13.527536145814018, 13.523003104591934, 13.510324929632484, 13.504256815367105, 13.49726330957692, 13.484740674657562, 13.478320090346562, 13.476237312732067, 13.46574943053016, 13.463834193152508, 13.46165995928853, 13.454729156148247, 13.451858885645894, 13.441476030686797, 13.436532776259673, 13.424245141934735, 13.421480378718643, 13.417838790685765, 13.41387508837755, 13.409084237594275, 13.396767291977143, 13.39435320239685, 13.380112046285781, 13.37821321039528, 13.370472929636806, 13.360777400914351, 13.356248262648638, 13.344596447092846, 13.339511928949303, 13.333055742733942, 13.325540900386494, 13.312562798829807, 13.310927376866738, 13.306724367400543, 13.305394044609823, 13.296193908916813, 13.290772476362735, 13.286365235424656, 13.278818327249212, 13.264473299864925, 13.257678609839092, 13.253940289958072, 13.247440090232026, 13.234830427873456, 13.222071238336243, 13.215741782396915, 13.211696688211015, 13.209081046281188, 13.208159367479315, 13.198351452430863, 13.187591692644588, 13.184444242782172, 13.17476285551254, 13.165261814137159, 13.155449857441052, 13.151488666932787, 13.151108236616658, 13.143138397062044, 13.1378755203251, 13.134728560064035, 13.125112249748211, 13.121992260709339, 13.115885328904016, 13.107703780957053, 13.095100439138358, 13.089995445768636, 13.08531581725622, 13.0812964892707, 13.075028161220073, 13.06052268290577, 13.058137412827492, 13.054117210337305, 13.04984815736263, 13.045624598833975, 13.034869989052522, 13.034573861793028, 13.023848337538558, 13.01299950692254, 13.008534188353556, 12.9977863367562, 12.98707279105279, 12.983844446062633, 12.973815014223552, 12.970940888348984, 12.963041637657067, 12.953900574760345, 12.947041698373473, 12.945622239307328, 12.938660543298145, 12.929018749201408, 12.924482543922775, 12.915993063045212, 12.912081292430578, 12.903067883462901, 12.892703622386291, 12.889984354186861, 12.884102383594163, 12.878184363221557, 12.87513099393248, 12.869604167892767, 12.860121208898384, 12.852315417038774, 12.845203998731096, 12.843088011733212, 12.841320496013406, 12.832094435776064, 12.824962538153873, 12.816946554657608, 12.808398743852447, 12.803906979033636, 12.797984595549835, 12.790560485164542, 12.781339414684425, 12.779336837109064, 12.775791297186432, 12.76339061006673, 12.75954137315495, 12.754734337845719, 12.747614621867273, 12.740314320233336, 12.732958955870041, 12.726600350685699, 12.723054669558385, 12.720092561471198, 12.712307096509058, 12.703105194736725, 12.696417517123573, 12.688393044789315, 12.685243723638177, 12.679528673613351, 12.675496630906776, 12.670142939561767, 12.661869333479718, 12.649253231569219, 12.64462265764265, 12.640796900938541, 12.6306593825673, 12.628213034487104, 12.626228750911103, 12.620358485788074, 12.59952994772599, 12.58967346638208, 12.586349326971149, 12.578108244139356, 12.574561308700313, 12.57346563136668, 12.561208089011451, 12.557572843720397, 12.549874015115156, 12.539309938628858, 12.536164523598977, 12.531101767554599, 12.52705428529653, 12.517184227492548, 12.516290525961677, 12.511819553274453, 12.50129176349427, 12.495600314837706, 12.495178252469616, 12.488035587302846, 12.48630156860236, 12.47548665476363, 12.467837937127284, 12.467037431594624, 12.449949034567666, 12.443409435330892, 12.43968597452389, 12.435646777866365, 12.425571106862396, 12.421817126859803, 12.414570816772915, 12.409290715820571, 12.40399488735584, 12.396998993111351, 12.391703449408709, 12.38364253895226, 12.373609508458589, 12.369723480585758, 12.361658332211004, 12.357165934637475, 12.354235292929902, 12.338100340170374, 12.327800344542357, 12.325274775203853, 12.320776918920487, 12.318543500104306, 12.316395889406543, 12.304620662340241, 12.29873521594322, 12.296056716550707, 12.289350276986442, 12.283903656639618, 12.27759322001638, 12.271155439047416, 12.261744309440276, 12.255973962831789, 12.25330012940795, 12.241942041290551, 12.241473979202116, 12.228740684684531, 12.219781295063436, 12.214631135381094, 12.210953565734757, 12.205461500361972, 12.197135857772627, 12.191581922193475, 12.184918627065985, 12.180335695433888, 12.176412662604251, 12.170472985211234, 12.16766072187552, 12.157623432606096, 12.15352169162473, 12.1493145165353, 12.140030529345744, 12.137544221446085, 12.126377729829256, 12.123759600952175, 12.11830184573828, 12.114235720705402, 12.113112097630333, 12.105359498245875, 12.0952760824409, 12.08724763277484, 12.077571341837213, 12.072497773929575, 12.06853971394796, 12.06519421356538, 12.060077485789648, 12.054726437737337, 12.045539367643356, 12.041324620251448, 12.03415302190001, 12.025345683027883, 12.022360090478719, 12.010457643314114, 12.002336714156929, 12.000615537244038, 11.991719902750846, 11.983712380996472, 11.978492210843877, 11.974112058953846, 11.965739661430748, 11.965012743264369, 11.961538305771864, 11.956388869920012, 11.953632977489146, 11.94394624384726, 11.9386734226259, 11.935009622339342, 11.926577454566022, 11.92234110037046, 11.913518373921288, 11.912442123729143, 11.895617999035421, 11.891993510700258, 11.887088915350118, 11.880496774405694, 11.87658469790849, 11.872920801770176, 11.870375428175482, 11.862578892173635, 11.855993344711994, 11.850292599096473, 11.844203919034502, 11.836654734062979, 11.82906229322843, 11.82582617018877, 11.822891217163942, 11.819764907474672, 11.816351165425495, 11.804707879768033, 11.801455386644976, 11.796593846409694, 11.794758447931082, 11.78509193811065, 11.780513328858671, 11.772778839673984, 11.764745847761487, 11.756571302985352, 11.755032392636311, 11.749562900860969, 11.737381817709421, 11.73395263069365, 11.72734613642145, 11.722312950736727, 11.714725431500261, 11.707479045561305, 11.706496238596385, 11.702662479845943, 11.695380594675932, 11.688915142856837, 11.684605055636968, 11.67744262367427, 11.671064322028933, 11.66628681882521, 11.658319546796044, 11.652207646303932, 11.642513963259152, 11.641284329265666, 11.633345995603019, 11.630617251236835, 11.62209608003886, 11.620216274885994, 11.611050335931067, 11.608402856747519, 11.60605183031823, 11.598975737025345, 11.595132885548884, 11.590689960055975, 11.583431868626834, 11.575306025431665, 11.56904686532583, 11.56260236778316, 11.558899126206244, 11.551084150975223, 11.546681010128724, 11.539644974563183, 11.531416319547912, 11.521343106378545, 11.516675498861085, 11.51341431731556, 11.507299446610052, 11.503411766310915, 11.496804167369085, 11.488192418961813, 11.483564984066014, 11.479845882468798, 11.473449404934556, 11.469726478890072, 11.46458930877232, 11.458763474218474, 11.455634543464999, 11.447172803833105, 11.439013340867788, 11.437329067103654, 11.43516362766888, 11.428337676644194, 11.420536650242965, 11.411106241330662, 11.405530102993069, 11.403388858145316, 11.399454438159191, 11.388118449107873, 11.380013771533795, 11.372924505503946, 11.370835298372334, 11.369374251167116, 11.357882479651611, 11.354967586496153, 11.35135059446696, 11.348457843018204, 11.335821544172703, 11.333343837414057, 11.323588138524727, 11.318489331313824, 11.312755176187077, 11.30662396557357, 11.304442663310747, 11.299879343529796, 11.297562798818467, 11.285104324621354, 11.275285733666198, 11.271851721045705, 11.264947304507267, 11.263866983965537, 11.259474810549275, 11.256179576916564, 11.252961709089952, 11.239579837316995, 11.229880670656083, 11.223435755625292, 11.222899279018943, 11.212870159015543, 11.211201084101226, 11.206117401717938, 11.197310885774137, 11.191127322214523, 11.184906390709967, 11.180153030408654, 11.17510329451422, 11.173699621295585, 11.168925488856333, 11.16259104091319, 11.159728809546465, 11.152759862315031, 11.144718440674174, 11.138877084958033, 11.134510715013585, 11.131746783061159, 11.128675615645179, 11.120501584424652, 11.118141145138575, 11.109909934336466, 11.10698863865475, 11.101030583361512, 11.094861303937986, 11.088524304250594, 11.08146242260489, 11.077603638886961, 11.07379737796901, 11.067715940831702, 11.06484138020576, 11.052508462904003, 11.05158094296433, 11.041723164875748, 11.039946465725729, 11.034919593048148, 11.030905768441226, 11.026313102281538, 11.01627757184744, 11.011663627647238, 11.008758721883657, 10.999488596959035, 10.993072893084303, 10.990693554534491, 10.986304451419123, 10.979067557032058, 10.969345777141719, 10.963597675562841, 10.961166572256122, 10.954741618233031, 10.949952989247375, 10.946378649852285, 10.94439982108821, 10.940007789351577, 10.931846009979944, 10.92494205887414, 10.921417255126237, 10.917161401769226, 10.910665181794107, 10.90617086238945, 10.899260067948351, 10.89097981564205, 10.886151087673934, 10.88582478134921, 10.87700242810909, 10.871530763112093, 10.864154195902382, 10.858998494078122, 10.85619050609521, 10.84735423913713, 10.843099282252718, 10.833621439819321, 10.827715314154284, 10.821846527021677, 10.81837017050102, 10.813607064253409, 10.80933500503889, 10.80294819614073, 10.799050692620803, 10.792539242303897, 10.787921423163914, 10.783302028783947, 10.77741521841409, 10.771350365166649, 10.76351151401469, 10.759847268913543, 10.754237038633716, 10.751212956760456, 10.745958321658462, 10.74204455958889, 10.738118671446331, 10.72692698269941, 10.72186118087745, 10.718069224213544, 10.713135065950556, 10.70738084298896, 10.699848132395152, 10.694382307997488, 10.690047485035965, 10.688295367498728, 10.68475087734716, 10.675762331571091, 10.672040154530128, 10.665865184540102, 10.660845219775961, 10.651946687030312, 10.650055889282752, 10.646028427708282, 10.639380930207107, 10.633477909923583, 10.628702864971835, 10.621768324925384, 10.612591264000898, 10.61044362547998, 10.606934764880894, 10.601102862980424, 10.595231407218629, 10.587409520653498, 10.585258418193908, 10.581041172468895, 10.579253659338873, 10.576602137814747, 10.572690330153009, 10.56574279983522, 10.556916072832491, 10.548625773648109, 10.54675997236737, 10.541271495888015, 10.536003054931665, 10.529558074308198, 10.528816595140464, 10.520495454019965, 10.51431630710989, 10.510643527294725, 10.502667025376748, 10.500318794770678, 10.493246031838328, 10.487260859717967, 10.482965827281886, 10.480178363449495, 10.470404978675582, 10.465011982703823, 10.463048304994167, 10.456045956520535, 10.45501311135911, 10.453846734609472, 10.446427276467361, 10.439088260172953, 10.429843210157166, 10.429096852959741, 10.4248179233033, 10.419254891850768, 10.412571529107854, 10.401336921780459, 10.399707215069778, 10.397465591508995, 10.389790691743682, 10.384353973701396, 10.381254041133129, 10.37921723607808, 10.372728277182228, 10.371229736147047, 10.362913854131609, 10.35593564349568, 10.35339893611959, 10.349902339361606, 10.345782363037504, 10.342177498720199, 10.335907747290062, 10.330352014595967, 10.32169585220691, 10.315706547223803, 10.310344904533375, 10.305757838105063, 10.300029070145145, 10.29622706256976, 10.288986288191786, 10.285198090716422, 10.281975806546006, 10.275300621721982, 10.271717889044872, 10.262421106154019, 10.25888755207334, 10.250592473245655, 10.250134141571005, 10.243031540515183, 10.233526293306458, 10.231622023041442, 10.225271978344912, 10.224009977049114, 10.215635851736927, 10.213656029361388, 10.205549784019073, 10.201201236631396, 10.197391259777488, 10.192252655813252, 10.183891446549556, 10.17939322447902, 10.173059532916922, 10.169755137718091, 10.162499762684241, 10.159264553355843, 10.157960419950742, 10.150897325867172, 10.146667109847511, 10.144456493550448, 10.130741913724398, 10.12835444021412, 10.123348930075306, 10.122066724259696, 10.1154469340458, 10.108775682210245, 10.106625231606666, 10.102539369098032, 10.096491808828727, 10.090104346873806, 10.086015363947809, 10.078976985722699, 10.076407048750115, 10.072867187279572, 10.068757984276965, 10.064128221884031, 10.062383181300948, 10.054831916715369, 10.05099499712571, 10.038679014494589, 10.037850600894982, 10.035340676669694, 10.03062985584171, 10.026826577137793, 10.020515088656444, 10.016632814637482, 10.007150017187406, 10.003721550814284, 9.997673821609538, 9.99277142774721, 9.988237420257134, 9.984032994569457, 9.982556361053067, 9.97397037107388, 9.963140450412732, 9.961625179521054, 9.958820363455107, 9.954385231670035, 9.945482878185501, 9.940111653854286, 9.936898387037335, 9.928165076332172, 9.927445169336734, 9.92412442144084, 9.916383099423665, 9.912575998887572, 9.90582435783057, 9.90261102024895, 9.897145029912584, 9.894526984307037, 9.88869245071423, 9.88321972646707, 9.8812870813961, 9.873728773471095, 9.871606581973497, 9.864282572200532, 9.856002458573137, 9.853702319552676, 9.851626363076676, 9.845099318253505, 9.836135957368342, 9.830389416361031, 9.82800625402078, 9.822268132308345, 9.817034881021177, 9.812726871044942, 9.810837874963061, 9.809135710203382, 9.803779682799432, 9.798038216757615, 9.794525615286796, 9.791855682548867, 9.780343789148999, 9.776181801484508, 9.77297497156205, 9.771142167165578, 9.764056224484277, 9.763639357284767, 9.755270580176159, 9.7485452178846, 9.745364901803855, 9.74073412682077, 9.7363818930247, 9.73351135519221, 9.727134684160912, 9.72390777902498, 9.71293887044139, 9.709882164999671, 9.70470635228871, 9.700551386097182, 9.697578533479009, 9.685686916111575, 9.680348197833254, 9.674840764663092, 9.67266595175198, 9.668678315046641, 9.667694075875282, 9.66454819296694, 9.662223546086347, 9.654248216523893, 9.64687737089749, 9.64519479896615, 9.640771996833683, 9.635246635043908, 9.63066664358899, 9.62807643487451, 9.61822495128561, 9.613780899771859, 9.608040256082836, 9.606521677829988, 9.605210242140418, 9.596219124175608, 9.59273333583839, 9.58686958396494, 9.583467474963108, 9.575798819162225, 9.572040070736751, 9.568378652324359, 9.563029506621639, 9.558744866407443, 9.55175682095949, 9.547777146043147, 9.544367308480908, 9.541144966072816, 9.533465894479288, 9.530546452992915, 9.524016805753055, 9.51573304433199, 9.51238539816693, 9.508840625347135, 9.498544061839219, 9.494429300206855, 9.492432551438954, 9.49136326489656, 9.481883223934513, 9.480488212348924, 9.47943907446211, 9.475535761106824, 9.466123172020653, 9.463509483965066, 9.459989883855659, 9.45032215119889, 9.449626873425252, 9.446678147292284, 9.438544649580598, 9.431859744771582, 9.427821147808167, 9.423065316902315, 9.420118474827452, 9.416369203303862, 9.414164929686285, 9.403601086922816, 9.399856510252958, 9.394392170280263, 9.385945626795884, 9.37960728319158, 9.376592636069692, 9.374727160126355, 9.370074220163483, 9.365330338801403, 9.361832417039858, 9.354733689013134, 9.351152611098875, 9.345993830497397, 9.344695207251483, 9.34232099365697, 9.333597678426054, 9.32672701643744, 9.32215057318695, 9.31401897675731, 9.313267820729, 9.309708211615673, 9.307164062189742, 9.300145408718596, 9.29346108703724, 9.2891768514808, 9.286082770251511, 9.282894585008151, 9.279720659623843, 9.273835207255285, 9.266478455150297, 9.264942841941691, 9.254285373795854, 9.252348416250438, 9.248138122028026, 9.246580715514563, 9.242896484759557, 9.235182723174011, 9.230015049623233, 9.225406379112894, 9.222639066272297, 9.216175010347333, 9.213295698665869, 9.209595905647696, 9.205664801485481, 9.200110198640742, 9.195599984776216, 9.188767837071522, 9.185941034466827, 9.178242386025167, 9.175175503454712, 9.171556544110432, 9.165937653339455, 9.161796103483002, 9.159156824106264, 9.154448540460695, 9.151123252605231, 9.147501381607482, 9.138100083578674, 9.13436733780755, 9.128437770705139, 9.125580301471128, 9.12144559852543, 9.11487355988106, 9.11010893541585, 9.10811592766196, 9.103496765968742, 9.096227502445887, 9.094879676773246, 9.088867681678245, 9.084355224768455, 9.083772305553316, 9.076247300305731, 9.075187557970896, 9.070401068787877, 9.06739287723988, 9.062927722702012, 9.059749811342146, 9.056905838083662, 9.046278960933439, 9.03986486928909, 9.032186261078756, 9.026595489105443, 9.01898025538673, 9.018151848825257, 9.015762897991815, 9.013918836675641, 9.00989050569992, 9.002533048393751, 9.000636162432498, 8.995519637615262, 8.987348754238127, 8.984173756401242, 8.979251741013076, 8.976113294509178, 8.966729497477372, 8.963899275681033, 8.96038120980144, 8.958399259986498, 8.95429444263912, 8.952331282684208, 8.945396504940296, 8.940076039598164, 8.937757392080234, 8.933252665784664, 8.928049222681514, 8.920530298541552, 8.918418658901832, 8.917045356867355, 8.909275175238928, 8.8986682806291, 8.89574552773537, 8.893179771293221, 8.886599106943764, 8.884839225194847, 8.882841614001771, 8.87996094031273, 8.87095523231207, 8.86654536010722, 8.861807065481484, 8.856147907698897, 8.85289258638097, 8.85148504263384, 8.843193321454708, 8.8402338926194, 8.837960892310784, 8.829799142817297, 8.827916466119113, 8.822967183262666, 8.818996146685462, 8.813471697056169, 8.812825926050072, 8.80278573282845, 8.798751266598911, 8.796171513946831, 8.788455424682887, 8.785373847683543, 8.779737143258224, 8.775282263048153, 8.769948126407444, 8.76434045869112, 8.75949793734348, 8.756915982649376, 8.755123638050435, 8.75367231629813, 8.747365902514906, 8.739423366417498, 8.736818787605367, 8.731671741789931, 8.726904213878525, 8.724874662092795, 8.718731298057122, 8.714375380977511, 8.711595174482907, 8.708883635891262, 8.705733299865312, 8.700415603924947, 8.694943970193382, 8.691435479242632, 8.687871159555618, 8.681429292023225, 8.677171800958128, 8.674359779135525, 8.670885875252308, 8.666452027037177, 8.663488217503446, 8.65812043264816, 8.655762226013687, 8.653072537270816, 8.647848380533304, 8.641360827484394, 8.639249117240546, 8.633641518149108, 8.626378013340979, 8.621212935628686, 8.61874912582648, 8.610811015571912, 8.609526679719318, 8.606741808324381, 8.605684819452316, 8.599927140237558, 8.592718681024767, 8.590825888777884, 8.580975180348096, 8.57886876441614, 8.574439251488675, 8.566272707896829, 8.564411110450699, 8.55616712562548, 8.555179179990356, 8.54981590124932, 8.548915751145781, 8.5454311092811, 8.542292737945157, 8.533138459849509, 8.52889692275739, 8.525473652123912, 8.519191966161616, 8.516993948348027, 8.511803648404738, 8.50710600387242, 8.500737035290353, 8.495142739596771, 8.494464815782148, 8.483881680013816, 8.48202272766894, 8.479839065065917, 8.475320679126117, 8.471403901787227, 8.467507381445964, 8.465090296739588, 8.463262823997283, 8.457777605436199, 8.454079474218759, 8.451394482800227, 8.446670827086919, 8.443548838500963, 8.433332649175584, 8.431729906614807, 8.42209798254133, 8.419148871993036, 8.416477340227983, 8.40981401617101, 8.403300765189123, 8.402232554381749, 8.3980557723452, 8.393213828129118, 8.389840096454172, 8.387145405286406, 8.385644502007137, 8.382337882574877, 8.380634322967934, 8.369585155872823, 8.366521207425365, 8.357567210868284, 8.352685388270002, 8.351886549331608, 8.345798497653936, 8.34432381819437, 8.338635338916747, 8.337068896256095, 8.329907463074875, 8.328050920291789, 8.323779924776, 8.320065822151793, 8.316076106479908, 8.312702844861924, 8.305388462433534, 8.301457776471093, 8.296597164049034, 8.292519047543838, 8.287853757289826, 8.27950383034965, 8.277581858057179, 8.27373147589724, 8.268636279441976, 8.267106004284013, 8.262046562147972, 8.258881675204675, 8.25091401776272, 8.249898548200713, 8.247769919276042, 8.24093706169288, 8.240577909454446, 8.236267470799707, 8.227963399096312, 8.225033913701134, 8.223815389653483, 8.217944513847511, 8.215488261398914, 8.20878133296993, 8.205251533000999, 8.202630574301516, 8.195198459628077, 8.192094327286886, 8.188359670812458, 8.184171346617658, 8.17853877064396, 8.170442968914465, 8.167486850160286, 8.166504831791046, 8.1643313631348, 8.157822416965349, 8.151104212295321, 8.149736860069432, 8.146310629871271, 8.141080323200491, 8.135430154196596, 8.13240373728292, 8.12699952469484, 8.124567865988602, 8.120207427794401, 8.11744509886804, 8.113763889224302, 8.10991281530132, 8.102851368059818, 8.096710406112562, 8.095365890131195, 8.08665443479044, 8.084148309363982, 8.076236398288593, 8.0706674343197, 8.067417953689493, 8.066630473839055, 8.061420045986088, 8.059669945636406, 8.056739799881285, 8.053655393883428, 8.050295593482359, 8.044305238018325, 8.042862230586996, 8.033446972740865, 8.030969798641623, 8.029334455449927, 8.020217064308925, 8.018224940777388, 8.014004006740887, 8.011954125792775, 8.007921646919089, 8.000556835488766, 7.997763943922055, 7.996678672824347, 7.989914008897512, 7.988150951723576, 7.980746368544765, 7.977686605469796, 7.9709027464053, 7.965124304418965, 7.963692562935542, 7.96210923439894, 7.958765999957051, 7.953874067845831, 7.951582977085238, 7.947531338195444, 7.940516121951556, 7.934320992797369, 7.9282478967849075, 7.922708098265349, 7.920854672936418, 7.9192327199352714, 7.915914570500155, 7.908878217853854, 7.905234643486293, 7.901871768906641, 7.894899622687048, 7.89315018832285, 7.88806460303177, 7.885757680977441, 7.885426028411395, 7.878722655211863, 7.876276640772032, 7.873653014067269, 7.870277516106897, 7.866370213869883, 7.859021794306188, 7.853612452532234, 7.849542281731262, 7.846975114319418, 7.843113618150241, 7.841118040198332, 7.832746245676384, 7.826687118249707, 7.823041656332484, 7.817360629802777, 7.814234346994516, 7.812896485922508, 7.8093496311832675, 7.805898568850859, 7.801246039171677, 7.800025833508509, 7.791420068573793, 7.789208999300016, 7.783309001280892, 7.779832493161773, 7.776414876086541, 7.773348706616589, 7.766494640480117, 7.762930279458624, 7.760477361966628, 7.750304420400869, 7.746390309998837, 7.742563674652248, 7.741949964698889, 7.738817701553549, 7.737187976674878, 7.7323283435456425, 7.728290250150285, 7.722199479816975, 7.7169085602645975, 7.712000887805406, 7.7096378343664025, 7.7079754248080645, 7.703128291865328, 7.6984178752408745, 7.696692880436973, 7.687770126723546, 7.682577335405722, 7.678760557198516, 7.677014768235897, 7.67522236016226, 7.670380416606617, 7.667010112375688, 7.65896672688854, 7.655837960967946, 7.651298695536967, 7.649184504193038, 7.645168468321391, 7.642631873719458, 7.639469379821507, 7.633656481131665, 7.625033753266783, 7.622686605951844, 7.619760512097996, 7.615793114177998, 7.613314428774354, 7.610278807800828, 7.607272380313546, 7.601260778389392, 7.599021143281037, 7.590723951558788, 7.58864116539092, 7.583889819951764, 7.5815390987406515, 7.577289007961144, 7.5751165551568596, 7.568553445273574, 7.566689355287637, 7.561973509261429, 7.557675794652849, 7.553856351228759, 7.546525152819061, 7.545490369600859, 7.540202392193208, 7.535869573691651, 7.5283523956570875, 7.523487222452248, 7.522420710051712, 7.521482738525467, 7.512727971422686, 7.510361475969439, 7.5092732432861355, 7.503811113929254, 7.499274960599787, 7.495623825852107, 7.492947346378491, 7.486828828209674, 7.485536370322239, 7.484395803911552, 7.478686417389012, 7.475587608989845, 7.472527831085937, 7.463767131530797, 7.4574648694531005, 7.455062396947743, 7.45025493746719, 7.448106689808796, 7.445922945034528, 7.442991480350634, 7.437886811836734, 7.43493121687343, 7.42653833179127, 7.425502552932715, 7.421555927847855, 7.417753683569658, 7.4119253850815054, 7.407082524322224, 7.405328308969199, 7.401912910170003, 7.396797946771053, 7.389428198499226, 7.387372298882496, 7.382954757988155, 7.380114666873185, 7.374927365239239, 7.374668698525951, 7.36672992480188, 7.366198470990104, 7.361489882509517, 7.356354163306095, 7.354333396916381, 7.346836130189031, 7.3450425676775195, 7.34284797986049, 7.339802053390673, 7.332633009727483, 7.3267714453465835, 7.322559868916947, 7.32238001641451, 7.320764588646132, 7.316042511463652, 7.312906087706925, 7.311323399798761, 7.303315594525387, 7.302337183160797, 7.299111256103452, 7.29383204696165, 7.291047353213692, 7.284331791258394, 7.280800212382964, 7.277268727947975, 7.2755742197194655, 7.268323168458927, 7.266189180772894, 7.260729590727164, 7.259863938593191, 7.253193473873043, 7.251152376803034, 7.246689864503529, 7.240144450255565, 7.236530046106323, 7.232653665383999, 7.229621941251164, 7.226148070921936, 7.222832428068695, 7.22167412536696, 7.220144780981531, 7.214342248688261, 7.209271186899109, 7.20548511501135, 7.195767211531977, 7.191405406166874, 7.190326131569791, 7.187186469851614, 7.185308114310474, 7.18124393605946, 7.176353175614508, 7.170767686292467, 7.167539146021555, 7.166904096026453, 7.160331863515513, 7.155195415731281, 7.151717939980638, 7.1507993414272395, 7.14645966983003, 7.142325585628678, 7.133766865090531, 7.1301645788908745, 7.128133467695846, 7.125398305595799, 7.118435258392588, 7.117390700343761, 7.113622964533061, 7.107961134893468, 7.106115557357262, 7.103182016933586, 7.095099969689402, 7.0933788330857865, 7.091301990541534, 7.084729678305219, 7.081633649368187, 7.077903913042345, 7.070225398362572, 7.066820082138221, 7.062121327264104, 7.058974704555943, 7.056586388679138, 7.055774318284163, 7.052257313284201, 7.048310061696485, 7.042989222591974, 7.038091769344474, 7.036513978361432, 7.030832979411832, 7.026763765255195, 7.022262846212472, 7.016367810762211, 7.0156071493575896, 7.012977780890895, 7.01145530309517, 7.006746500657726, 7.005215316632084, 7.000425254918237, 6.9973848913496814, 6.995108110300316, 6.986344902011123, 6.984062157071719, 6.980451008055, 6.976986783499292, 6.968560221742103, 6.96476291630103, 6.961530772738837, 6.960081091164869, 6.95828703317959, 6.950050143050994, 6.948173069752244, 6.946890886819868, 6.939427363501048, 6.936673912236699, 6.935823853690927, 6.929744361579013, 6.927758438096621, 6.922589973963859, 6.9215064348385456, 6.917524703072709, 6.9101153066900896, 6.90793333658357, 6.905127107965075, 6.902563072434687, 6.897384187553021, 6.893781011264034, 6.88733355879357, 6.8854690684535775, 6.881386851825485, 6.875566551934345, 6.870616344647901, 6.867623371482991, 6.864137075862752, 6.863160959908747, 6.862419043285267, 6.855692943439379, 6.854063949780787, 6.848682447270926, 6.8467181876870145, 6.842636295676122, 6.835422400015031, 6.83414163687672, 6.8303983789259615, 6.827459744643495, 6.822573020066343, 6.816390261919749, 6.815482765792393, 6.811839311453395, 6.8082195202237, 6.802414857372884, 6.801062948214236, 6.798164956916976, 6.7962319970254335, 6.788083417593964, 6.786420480677006, 6.781467982886277, 6.777452530907869, 6.7706826006719085, 6.768494953574615, 6.765151364235649, 6.7623157268765, 6.757679864437049, 6.753373040160739, 6.748680475592588, 6.747043502205316, 6.740497619221457, 6.73805307778657, 6.732995383518662, 6.728580415436896, 6.7245786481368315, 6.720745471990661, 6.718332602228206, 6.712185005468661, 6.709126501871443, 6.706307189131707, 6.699645247035271, 6.697084065347913, 6.693750469248994, 6.691702177039417, 6.6870663945269735, 6.683656552496705, 6.680726049669827, 6.677259513894946, 6.6741598048478155, 6.669972530099108, 6.665954912015475, 6.658139229262037, 6.655878461344467, 6.651272627190248, 6.649206004979998, 6.645458674202413, 6.637854993000215, 6.636363717813514, 6.633623302873938, 6.630303174206395, 6.627582732697082, 6.6233508301091994, 6.62155499870598, 6.618587969077677, 6.613213025805947, 6.608484864469786, 6.6055202561440085, 6.599929209738908, 6.59572604332734, 6.594541284393123, 6.590234307509317, 6.583895529285555, 6.580881497103402, 6.579414236929705, 6.575246574494658, 6.5711062174534876, 6.567920219106527, 6.563329233413645, 6.560143115437404, 6.556942149899399, 6.55198796388033, 6.550965491896819, 6.544968087787975, 6.541560103350729, 6.53628999777519, 6.535164215004637, 6.532532969841543, 6.527515386522292, 6.52230023841384, 6.520170973667848, 6.515009129452528, 6.511460268263707, 6.509395325719553, 6.501742486784231, 6.50148950278962, 6.493596992472536, 6.490194960398132, 6.48422963128606, 6.4818662019388205, 6.477090386392965, 6.476536363077066, 6.4728784431599, 6.471081386018754, 6.4658224172137775, 6.4593674837892125, 6.455448019595355, 6.454670897532916, 6.451504500463385, 6.448247739604933, 6.445642088368806, 6.441760130981928, 6.434286069039533, 6.430666251018875, 6.428578513975573, 6.42661428008246, 6.423035312043803, 6.417954332716989, 6.413110559946574, 6.412353281202437, 6.404375762419881, 6.402766240492985, 6.400809516260073, 6.394306199996676, 6.393429580665846, 6.386414412737068, 6.38170985818273, 6.3791723404608565, 6.3753627772683235, 6.372640760584306, 6.372166975768147, 6.360920373052845, 6.359896796501038, 6.357351535194957, 6.3555367003546435, 6.349138834826197, 6.346026576993442, 6.34199395701972, 6.338574785606423, 6.336416959838256, 6.33276617813683, 6.330544918868878, 6.326956689439441, 6.321398275300743, 6.316212085037411, 6.31350037192063, 6.308024967478363, 6.301920799884854, 6.30063489480478, 6.2950967743248505, 6.288213288156635, 6.284241207825679, 6.2825720659887, 6.2814728428730495, 6.274640522760534, 6.2718614397492765, 6.269746972133086, 6.267694120749409, 6.262785838738939, 6.256568814349463, 6.2540159548049585, 6.252286801873512, 6.248198766939832, 6.245302053887528, 6.23703769781471, 6.235902931005456, 6.235326356423942, 6.229378549260808, 6.22766704429287, 6.219087105301229, 6.21551326885845, 6.212428782673563, 6.209338805752072, 6.200175288507313, 6.198848831586335, 6.197528416783467, 6.1925191350891575, 6.188602548541186, 6.183161787624186, 6.1808894207043075, 6.177433702891087, 6.17305059232486, 6.171158116772034, 6.169642169299368, 6.1646943998800365, 6.158810823402803, 6.156023394822964, 6.148658436136157, 6.146511897881584, 6.143622704573586, 6.1408595363349034, 6.133905869221193, 6.130427790251819, 6.128697354811163, 6.121928513319309, 6.1198494443180005, 6.117044122918658, 6.1144692031862915, 6.11092301220717, 6.108223535873649, 6.103758512507041, 6.098682472313155, 6.09481806072279, 6.0932485629052, 6.085909664058624, 6.082828488881764, 6.07921161691121, 6.076761337467072, 6.074457572044673, 6.070088368228447, 6.063512435240749, 6.062085221257667, 6.055704412364635, 6.054244208385672, 6.047535535057325, 6.046314014827612, 6.040933353191519, 6.036782752452388, 6.034208991973909, 6.026966065511824, 6.025389803575901, 6.0195079811949235, 6.018414777371482, 6.013588192274161, 6.011777924754798, 6.0072463602424735, 6.002126857347354, 6.000571402194857, 5.994027017487715, 5.9908589918645525, 5.984195845345673, 5.980892579598103, 5.980195547686682, 5.976804084487107, 5.968272199486852, 5.967037302649417, 5.962815778849616, 5.959408614163322, 5.95629885474548, 5.952798171587597, 5.950350854537907, 5.946354108255972, 5.9427862316826205, 5.938019661158975, 5.933832244219781, 5.92972113243702, 5.926110619288287, 5.9245025650427, 5.920367090645447, 5.916583426217811, 5.912760688600376, 5.911457525455228, 5.90918117603143, 5.906297283354151, 5.897068074004302, 5.8932820299956346, 5.892284606292054, 5.887322326220102, 5.884339823017513, 5.879229212138927, 5.875894316234205, 5.870927425974009, 5.866273868340309, 5.8657602228254415, 5.859964026229089, 5.858436155809374, 5.855092753323917, 5.852355623197609, 5.849363215958304, 5.8461188722443955, 5.83892203802993, 5.836890313585097, 5.835265053521917, 5.82723322289462, 5.8235269121350175, 5.821370871663315, 5.819180959727418, 5.8156057339922125, 5.81364201240732, 5.811579449533651, 5.8068904071501795, 5.802888380946216, 5.799567581338896, 5.794385537037604, 5.789249552714028, 5.783981672034599, 5.780120021516031, 5.778389838632111, 5.77597098289781, 5.77098904169039, 5.76981706422891, 5.763162525087507, 5.759851801236781, 5.754674741498528, 5.7505409504374585, 5.744516085562202, 5.742888461521456, 5.740699866163578, 5.735686634922298, 5.734729135505608, 5.729809583141197, 5.727148929501016, 5.723011124157981, 5.720742198689497, 5.718790303163703, 5.715536488072749, 5.707288666298437, 5.706247826099111, 5.702609505199027, 5.697672749523181, 5.695329870312975, 5.687886072904308, 5.686086324964646, 5.681875096329987, 5.680466862883621, 5.6773209053472256, 5.6745921360304, 5.6668960431894835, 5.661710011498436, 5.660921243450068, 5.655747186422363, 5.653967090453643, 5.6523558907512435, 5.645974004359677, 5.6406317768352405, 5.63930297659856, 5.63507487234178, 5.630927590652524, 5.62822578356765, 5.625589635363724, 5.620105695092793, 5.6167328481252605, 5.6132176758344094, 5.605574098342135, 5.601109146832751, 5.598355970032127, 5.592287796908078, 5.589832318195945, 5.586864592180081, 5.5805779914298945, 5.579409487347862, 5.577782448329549, 5.571673017408256, 5.5700252154088625, 5.561757711185917, 5.560408584249391, 5.556787950518418, 5.555136515767142, 5.548383863183541, 5.545746344523164, 5.541138085754788, 5.536111383621948, 5.53373903399961, 5.529930380532976, 5.527591902999108, 5.523030170409951, 5.51843710063313, 5.515708748738902, 5.513208548439053, 5.511583875582268, 5.507649870532898, 5.504407765903994, 5.498610239007069, 5.496255513634909, 5.491512646824986, 5.484175569017346, 5.478019399981169, 5.476140673148047, 5.472904597292827, 5.467526977055312, 5.465466646107848, 5.462261583180392, 5.458251663986675, 5.453071969069621, 5.452262574174227, 5.444641301664624, 5.442179457366052, 5.438407923210747, 5.4344530110501035, 5.430145925336508, 5.429686683620582, 5.4241386820162845, 5.420331278287318, 5.417934317552034, 5.413452177277329, 5.408614599374507, 5.40332277380239, 5.400972519091006, 5.399205349578115, 5.393034128523746, 5.389052520877053, 5.386795359446292, 5.385828338680748, 5.380415474705179, 5.375920039066347, 5.368917723490157, 5.366398552203322, 5.362000885078487, 5.356848934094857, 5.355586554831147, 5.352584910408323, 5.34786102416217, 5.343564396517949, 5.343289286153937, 5.335266856394787, 5.332866713414726, 5.3297618947943795, 5.32737905825801, 5.324520140205039, 5.321961816012317, 5.317373707169627, 5.312403709083737, 5.306005952482072, 5.29880494354465, 5.295725971260241, 5.293869748213145, 5.291639161903812, 5.287801184772319, 5.279995508795354, 5.276045124475536, 5.273570842792406, 5.270544098252046, 5.269284342622243, 5.262476743156734, 5.256831155652383, 5.255606163886966, 5.251037101456417, 5.247156352752637, 5.245419976289031, 5.242466131813839, 5.237891240038713, 5.235456634942253, 5.231770609493211, 5.228550512993589, 5.225882326067006, 5.222293885358046, 5.215889556306387, 5.212124791730312, 5.209232912396194, 5.203901903161213, 5.202183631649871, 5.1989628890620825, 5.194154305125998, 5.191970477065255, 5.185401110773663, 5.1838930441639945, 5.181255953624604, 5.17371292309346, 5.169744973330416, 5.161648235976837, 5.154732323315273, 5.152813339204575, 5.150793990614862, 5.145256491284407, 5.142497223967984, 5.138632042952181, 5.13792673605774, 5.130072568741819, 5.125740939287125, 5.122011121164999, 5.12166573134982, 5.116053750621176, 5.112783838992461, 5.1082535571756305, 5.105316533483054, 5.101127379760706, 5.095905815068303, 5.089808964046176, 5.088080743211431, 5.085687788115399, 5.0802425249942464, 5.07829645989963, 5.074738381478858, 5.0675994285250034, 5.065290735344771, 5.061453742412819, 5.055858268303942, 5.054249292545554, 5.052486492630234, 5.04975081344749, 5.044941879490503, 5.0377150757615565, 5.036556557919729, 5.0309419481183815, 5.0269406776829735, 5.022662878203817, 5.021625687371238, 5.016488371525639, 5.013760232714554, 5.00835019329132, 5.005810236667479, 4.998987164436548, 4.995341678782119, 4.990711624320085, 4.986787041900481, 4.980654656626434, 4.976206614666253, 4.973201700151898, 4.968960884365423, 4.966111906257931, 4.964269765258537, 4.958323826472272, 4.955486402754682, 4.9520782659673985, 4.947982247651321, 4.944624718225658, 4.940424090111466, 4.939351128210732, 4.933245175197142, 4.929766366286266, 4.928626986049262, 4.9238571434501, 4.922778624954223, 4.920136091439606, 4.914700793524669, 4.90991879896394, 4.906202854904666, 4.899488250323074, 4.896009954094596, 4.891111251923745, 4.887798909506365, 4.883355978017979, 4.879803680995008, 4.876347942199843, 4.8710668444949405, 4.868766343051303, 4.864336575587496, 4.858920917408966, 4.856735820403755, 4.850215174861223, 4.846839097518657, 4.842871146492988, 4.838352683404826, 4.833227091930271, 4.830317931562894, 4.825743676075373, 4.821648330136561, 4.815982904747504, 4.815451933057414, 4.80741744253972, 4.806688962607189, 4.802739155455148, 4.797864676466035, 4.794277508595306, 4.790656665512396, 4.784685707391129, 4.781451847974715, 4.77575855434179, 4.7751139402006375, 4.770680163360381, 4.768079294937149, 4.766097506455532, 4.754987446024668, 4.751233181118663, 4.747599424374867, 4.744991621196622, 4.740496616894125, 4.735257200257656, 4.7305966958172405, 4.72731151782346, 4.724719426233803, 4.722794000343375, 4.7165680949729785, 4.712463279279677, 4.707407013611448, 4.7032766720177595, 4.698217554411515, 4.694158296659355, 4.6915315524254035, 4.687355056004531, 4.68279019246844, 4.676119225048987, 4.672154939240063, 4.669508372093639, 4.663723949982192, 4.662100775470513, 4.65616255176662, 4.651686912675701, 4.645435885822929, 4.64491855924986, 4.638042130583642, 4.635523697805255, 4.631850005256444, 4.62486544314786, 4.6230488597225445, 4.618555511110781, 4.615140182050919, 4.613224646819646, 4.607624485240661, 4.605866203636604, 4.5992981554076, 4.590734015934233, 4.5891870836211375, 4.585643527985249, 4.582114921498008, 4.5777722104891385, 4.57521336064156, 4.573176581888749, 4.566636593939122, 4.566056509345234, 4.561968103649106, 4.553674221313575, 4.550554942586884, 4.549467572861456, 4.543933586321068, 4.538838839489968, 4.5314934407965675, 4.5297094986478035, 4.521936806368494, 4.517956375743275, 4.512462301367127, 4.508899828210815, 4.504727597950385, 4.502819324161957, 4.497905040944191, 4.4939925737703685, 4.4883183382193055, 4.486897320982676, 4.479682495036096, 4.476228510458536, 4.472228678795596, 4.4635348914611415, 4.461766736620365, 4.454366499102012, 4.451922726770415, 4.449171347155801, 4.44486996815219, 4.4429989007279245, 4.436404303029612, 4.429741544940049, 4.424904825452025, 4.422402673161917, 4.4159354305527945, 4.413898073029188, 4.41035665628767, 4.407608014709662, 4.401524275065637, 4.400477147135698, 4.398421981460828, 4.392263095012015, 4.386702535640878, 4.380272562754217, 4.376738510056739, 4.374202012670993, 4.3685644740421, 4.366166858115416, 4.3633453088806995, 4.355945324293218, 4.349516066988009, 4.344716453310729, 4.339746866675876, 4.3381546029291975, 4.332963393612707, 4.327938111895123, 4.324784473729154, 4.3221633948691425, 4.3177268689995945, 4.312614008560874, 4.299814974313476, 4.298924637955591, 4.29677811577097, 4.288818248469298, 4.2863531504949, 4.280504098730018, 4.278976575655712, 4.274684943715634, 4.273713386991059, 4.264037679390097, 4.256656105181245, 4.252309360745186, 4.251795581215995, 4.245123524067963, 4.24171831866601, 4.236397857926614, 4.230660158288355, 4.224756037107117, 4.219689481230807, 4.216419094217199, 4.213970383755991, 4.206745065688852, 4.205645945299144, 4.2025168814437714, 4.198277108607572, 4.194381223040567, 4.1923322756671935, 4.187131454706115, 4.173848539326696, 4.166198264514621, 4.163683624495518, 4.154042338653568, 4.151381261263721, 4.147480332752662, 4.146045874186328, 4.142022748740314, 4.137434887258107, 4.129696667577064, 4.125785823411531, 4.125429654804721, 4.117007407468107, 4.116044725047286, 4.110570149607779, 4.098785458278236, 4.095015605321389, 4.0866165826690874, 4.083070265751322, 4.080494052432432, 4.072265406045381, 4.069666992094078, 4.062451441688072, 4.058947265213405, 4.055533815026671, 4.051710156845649, 4.050634833853994, 4.045870106888082, 4.041250639080291, 4.033805477356506, 4.03250764776364, 4.023185716690504, 4.019055944757769, 4.014453917647978, 4.007748674410223, 4.002343759870368, 3.9975351359825577, 3.991686850072594, 3.9865717019570597, 3.9818956304398596, 3.9770701292181303, 3.9751482904442046, 3.9654124308016265, 3.962705402772264, 3.9607101124755415, 3.949985122358644, 3.9475540822686876, 3.9424167148765865, 3.938801584926058, 3.9365286096893146, 3.929136576366757, 3.9225912341665983, 3.911193083148854, 3.905709238762566, 3.9007696940508354, 3.8921456697311307, 3.8886111529266434, 3.8795275718079423, 3.8776835263588794, 3.871527142330016, 3.8638607248977066, 3.857310199637299, 3.8552302106222305, 3.849564298778711, 3.845744232925609, 3.8428783411247793, 3.830146900505274, 3.8271423457563367, 3.8201134305336497, 3.8139701257158722, 3.812312447306852, 3.80648754001251, 3.7986689650027077, 3.796192491297602, 3.791579629555254, 3.7742166424784442, 3.7682438245419134, 3.759481165264638, 3.7549053752119255, 3.7499767663169563, 3.737673919529049, 3.733839278506217, 3.7325458310527524, 3.7260349570561213, 3.7155917336178517, 3.713430041130775, 3.708761423230143, 3.700041160761137, 3.6984815420049717, 3.6927511294619073, 3.683316557859664, 3.676507989774406, 3.6708815827265906, 3.658869210087461, 3.6497159079810424, 3.6390057797042323, 3.6347193416163606, 3.6258027488901337, 3.6206057014777424, 3.6164580651984153, 3.6094019118647647, 3.5931517418885783, 3.592806306559672, 3.583397349168557, 3.577115125789203, 3.57005704708424, 3.560291012535699, 3.552426761393446, 3.55047306217599, 3.5366045697961277, 3.5334925382640345, 3.5237751916901536, 3.5210612433480475, 3.5061889880719477, 3.5013496613880615, 3.49920528994963, 3.4910558411500574, 3.484239365012309, 3.473780569033396, 3.4641041674203805, 3.4569004066829496, 3.449090940323591, 3.437451586724051, 3.425331562162823, 3.4219654888728273, 3.41325657067328, 3.4102684965636403, 3.403704199566738, 3.3901600523358657, 3.383803459818817, 3.379100907087505, 3.3731213271323273, 3.3708000672425436, 3.3561627700804784, 3.3474973520876485, 3.3398797599106365, 3.330814014449235, 3.318313086084747, 3.3090527518042276, 3.2973456322340056, 3.2862688029087543, 3.2804277565022786, 3.2766496146470216, 3.2688863972250837, 3.259064410855844, 3.2520196866694615, 3.24349353549414, 3.2303862949701125, 3.21505337976067, 3.2098891729992967, 3.202729056741059, 3.189844737544518, 3.1867876061176412, 3.1778918914381173, 3.1690129517618524, 3.1600406135034653, 3.145256005649638, 3.1392746533027767, 3.1196952393306288, 3.113604546358378, 3.1033555988521186, 3.099898387442197, 3.081727364085503, 3.0752805496432623, 3.071994544255819, 3.0542496650512425, 3.0425903854460823, 3.0324934999381954, 3.0146887920981325, 3.0075567592033745, 2.9992042049238417, 2.987417375858817, 2.979700270726207, 2.9654869196825913, 2.9628317889661786, 2.950839676310063, 2.9323745727406236, 2.918456828051333, 2.899051981552963, 2.893323288195016, 2.883067899181456, 2.8795040359396427, 2.875180017623675, 2.8491095031263356, 2.8476037037033235, 2.8185077889973904, 2.8036667657003256, 2.7819645737443053, 2.7675032157788992, 2.7563863523698724, 2.736679464124174, 2.7164894623308107, 2.694813237835155, 2.694460881339951, 2.6754631832455447, 2.6640214944069354, 2.6408424951198617, 2.639811509989901, 2.5820852894272845, 2.570431120864891, 2.5428564510633636, 2.5284955501695454, 2.482573926732277, 2.4756772048987847, 2.4623159938604227, 2.439283914958523, 2.4099684707186615, 2.3840075243636556, 2.376965351370055, 2.3598055798406574, 2.281367838737255, 2.269462304939739, 2.2282343265997593, 2.211472702053616, 2.1967330798207123, 2.1846490288102776, 2.1097196025580307, 2.1088540516040437, 2.0811058354424468, 2.0455908327060803, 2.019195511010742, 1.9608693645510442, 1.9470603922440834, 1.9184947966947474, 1.88006751291845, 1.865547305539904, 1.8160015048186207, 1.766800588882036, 1.7410253173613524, 1.6476536394665013, 1.5979037293640692, 1.5735170797255769, 1.5621697986289242, 1.5286313132790355, 1.340370061066306, 1.2949857093616592, 1.2716398746476179, 1.2246623455354786, 1.1327886995543013, 1.093208569583657, 0.9833661145447647, 0.9229588581523936, 0.7624524903654784, 0.6815766222672668, 0.5503549630778437, 0.5098465249181652, 0.44128300097951567, 2.2384494392009006e-13, 1.501945086022549e-14, 1.0201563074172744e-14]\n",
            "76.56773551812516\n"
          ]
        }
      ],
      "source": [
        "#all文書bag of words\n",
        "compute_NCI(A_bow_all, len(A_bow_all))"
      ]
    },
    {
      "cell_type": "code",
      "execution_count": null,
      "metadata": {
        "colab": {
          "base_uri": "https://localhost:8080/"
        },
        "id": "zEvC9At6FDzw",
        "outputId": "33065aa3-bde9-49ea-868f-a1d0134558bd"
      },
      "outputs": [
        {
          "name": "stdout",
          "output_type": "stream",
          "text": [
            "[3.7197834088086728, 2.7292064204204456, 2.2779458671011277, 1.9852818185154746, 1.9503807305554166, 1.8481356555458672, 1.8232441939547832, 1.7474804907953791, 1.6944966385870894, 1.6552265064594067, 1.62344209110353, 1.593892345438048, 1.5857965738212683, 1.557273066197113, 1.5228845850231867, 1.5102132389697962, 1.5006968967788696, 1.4878837773490121, 1.4665346897796552, 1.4491054287415912, 1.4395736945635569, 1.4315337267453996, 1.4172884528202034, 1.415535852789088, 1.4086971213913946, 1.3919027430764448, 1.379439223531047, 1.375351241447581, 1.3637275485126732, 1.3492791149473373, 1.3399145421527057, 1.3355416632420258, 1.3250066502780637, 1.3170482891564, 1.3134743424656554, 1.3095114625545226, 1.3044420906091614, 1.297111665479506, 1.290278668637919, 1.2828625373408251, 1.2780500165513247, 1.2743862043464926, 1.264928084131961, 1.2630811481099864, 1.2556258898543964, 1.2520148637779898, 1.2489927871768858, 1.2433486676353527, 1.2371195394894128, 1.2279732948976525, 1.2272142154691719, 1.2237334549469554, 1.2200693839779833, 1.2174562063828909, 1.2117225089634334, 1.2104812816584258, 1.2059144681352605, 1.2018560620596017, 1.2010272294235915, 1.1975255714970312, 1.1915050328161492, 1.1893259997645869, 1.1866296501455689, 1.1828368980875281, 1.1813402899315586, 1.1792623105783928, 1.1781957296579137, 1.1740897163712085, 1.1711744283997991, 1.168768399353341, 1.1667904182953086, 1.1606119326118818, 1.159590132142367, 1.157151431361637, 1.1559948248413463, 1.1526617328326387, 1.1519697450486948, 1.1474169428549843, 1.144209900238964, 1.1429239233760826, 1.1413762936707124, 1.1406304768811608, 1.1365164511155321, 1.1351424387437128, 1.1319960126771864, 1.1296242038231195, 1.1286125343735118, 1.1257144061406348, 1.121526939004863, 1.1198182962951935, 1.1185055074572954, 1.1163530428741115, 1.1152863494322705, 1.1132781664956723, 1.110891643003892, 1.1106709973622284, 1.109381670115948, 1.105897878385314, 1.1046991025351633, 1.1029981585728013, 1.1014486202070592, 1.099596179109983, 1.0989885807153548, 1.095961088113862, 1.0938955823342198, 1.0936706179128093, 1.090075577518865, 1.0891279820754345, 1.0876181258595288, 1.0856026369332528, 1.0844757624653096, 1.0825405641305559, 1.081132310150513, 1.0781162742615764, 1.0771117986266148, 1.0760184697337134, 1.075277845114847, 1.073958148690791, 1.071635584322147, 1.0715365569268114, 1.0685397431001522, 1.0661863198551256, 1.064170637302926, 1.0625368709077956, 1.0619036899676, 1.0609720433645102, 1.059784767541808, 1.0584261377245119, 1.057876069985783, 1.0554926680042993, 1.0542068726916196, 1.0537770593080795, 1.0527591711679114, 1.0509087315555226, 1.0500953563728588, 1.0478404885828903, 1.0467017862896244, 1.0448783617162898, 1.0437346924602018, 1.0421934002998285, 1.0416315533840252, 1.0401248883798226, 1.0391544069817507, 1.0390118799020291, 1.0379791397012579, 1.037105619966212, 1.035432290403084, 1.0341402858264226, 1.0330451292860905, 1.030645613230253, 1.0302777591198649, 1.0295394905612607, 1.027732780191674, 1.02602618935372, 1.0240596851916908, 1.0236258974775354, 1.0226053926396819, 1.0217901783135417, 1.0211837947862463, 1.0198039534590022, 1.0185281562415232, 1.0170696904681402, 1.0161398241607889, 1.015025576402157, 1.0147912149414064, 1.013794642145147, 1.0117871509193166, 1.0100076969973222, 1.0085843281134637, 1.007547597976565, 1.0068981610373373, 1.006119512671435, 1.0052468011754805, 1.0043008702576843, 1.0031477878651371, 1.0028194205567569, 1.0023347605169763, 1.0015097762194938, 1.0006073572251235, 0.9995255395525889, 0.9986545040248994, 0.9976229357016231, 0.9960763661332797, 0.9952876286893213, 0.9945765683373945, 0.9932701975419531, 0.9927101662739881, 0.9922627118413495, 0.9897900905020794, 0.988423755587785, 0.9879520042546549, 0.9873472188525466, 0.9866121376647822, 0.9847625510786914, 0.9843614940964939, 0.9827587014123097, 0.9820258097734482, 0.9818683111043415, 0.9800731094978256, 0.9792770840360416, 0.9780237838290347, 0.9769194958859505, 0.9763349819749123, 0.9754765149561078, 0.9742734642956421, 0.9735022204260745, 0.972518040102026, 0.9716599812615242, 0.9711722750550076, 0.9702771611774558, 0.9695242318061075, 0.9680557182234396, 0.9663393988038095, 0.9659876837633053, 0.9646172920145388, 0.9640570264895268, 0.9631594707300446, 0.9622486025885375, 0.9611553292786107, 0.9594876317175273, 0.9590213123504, 0.957835632317295, 0.9575903141890367, 0.9560252963321657, 0.9553959584644911, 0.9544331694965009, 0.9530116550077425, 0.9525359143125057, 0.9524101447705887, 0.9515063079043661, 0.9509538592699528, 0.9493752730463392, 0.9480770327365222, 0.9462474466073599, 0.9460921247107349, 0.9452177140083412, 0.9436856528788209, 0.9426431478232428, 0.9419752000092089, 0.9414958830135721, 0.9410601935635668, 0.9384961632373112, 0.9381423595353423, 0.9373536793480437, 0.9358394410813438, 0.9352710411913633, 0.933733945440825, 0.9324301704783621, 0.9319698831977035, 0.9314887460332091, 0.9304891458653592, 0.9299475974347213, 0.9292002966805988, 0.92773586960726, 0.9273864395775226, 0.9263758210913868, 0.9252599993343007, 0.9243703254367495, 0.923967856771201, 0.9220921201507696, 0.9217406802972724, 0.9207767846816635, 0.9192565981218747, 0.9187744099055296, 0.9176405000406004, 0.9171971947080181, 0.9163468042503077, 0.9159916806081465, 0.9154903377971497, 0.9145975584490108, 0.9134478195400012, 0.9123582895076736, 0.9116474416598374, 0.9113823373325838, 0.9095189939413603, 0.9093446130225116, 0.9071222514393421, 0.9058124725205561, 0.9055434160951603, 0.9049894588480315, 0.9033856007895887, 0.902504471898796, 0.9019513504305039, 0.9005862893658523, 0.8992969721220037, 0.8981944834374944, 0.897130179057134, 0.8960573958804473, 0.8956490767143205, 0.8943498712110444, 0.8936291275312188, 0.8922068234062972, 0.8919041036365445, 0.8917459814660222, 0.889238650096439, 0.8879783079093819, 0.8867711725771903, 0.8862007313358893, 0.8856057144318688, 0.884282204763428, 0.8834576387011955, 0.882536685793097, 0.8803726982263133, 0.8786890238908773, 0.8782429490839461, 0.8762479800210684, 0.8752266621523671, 0.8748207166986361, 0.8739015526454019, 0.8732871288873341, 0.872863873354236, 0.8706146702983292, 0.8691521178745159, 0.8675621575089288, 0.867403258748285, 0.8665177959991746, 0.8653707537710318, 0.8646413487971896, 0.8634277901801142, 0.8625431348284704, 0.8615535920925451, 0.8601403369331344, 0.8590580496735516, 0.8572615167538774, 0.8567866569060021, 0.8562839801672494, 0.8555816946638886, 0.8544845112178023, 0.8525042947346151, 0.8506334012006614, 0.8503520309582427, 0.8492590902872487, 0.8488820181098813, 0.8473154668744499, 0.8454695945361027, 0.8452024514529585, 0.8429615329293794, 0.8424894834421499, 0.8412773237597521, 0.8402302826351035, 0.8390262244449105, 0.838436286460399, 0.8379969059340888, 0.8367284141052301, 0.8362904336469078, 0.8353636599661985, 0.8339177534950244, 0.8329101995696347, 0.8318643023369066, 0.8305137571511154, 0.829489176711226, 0.8282900907468304, 0.8277115444918354, 0.8261082218326259, 0.8248850152852736, 0.8234221473395863, 0.8218329032050622, 0.8202577352437964, 0.8190917567804714, 0.8174826636116339, 0.8174202467345117, 0.8157382680345043, 0.8154234591863618, 0.8139282955966265, 0.8129294520142435, 0.811806368714474, 0.8108237325524604, 0.8104970890737772, 0.8087572633414265, 0.8073985516301017, 0.806560955702341, 0.805817773303264, 0.8048371587740331, 0.8016684217932424, 0.80067480655327, 0.8003199932014415, 0.7981835843523782, 0.7975668471055238, 0.7972440007913234, 0.795348005170681, 0.7939948229820151, 0.7927455847780954, 0.7915120891541029, 0.7909674787624908, 0.789151587531993, 0.7881033736986827, 0.7865313926409745, 0.7857223236049938, 0.7843782703649966, 0.7834864745353322, 0.7826548072201992, 0.7820541948471992, 0.7796815633057528, 0.7784419550942604, 0.7768136402705814, 0.7766223878499663, 0.7744692264188523, 0.7734512539765088, 0.7725926904909451, 0.77178869433351, 0.7702378575995182, 0.7701906907599918, 0.7663453187152124, 0.7659252013850754, 0.7641156070999907, 0.7626127423593696, 0.7606874612928155, 0.7591858667944348, 0.7583525307426856, 0.7583100361738369, 0.7548771945902789, 0.7542156809530443, 0.7524667567687111, 0.7496764627187803, 0.7487420098879897, 0.7479969908461229, 0.7471293024031677, 0.7454328935439672, 0.7447144411698852, 0.7426020421022741, 0.7404189045929338, 0.7386912694696387, 0.738132709251865, 0.7358477090098763, 0.7354238382123113, 0.7338780339232209, 0.7329874434928454, 0.7300687195591766, 0.7273646618142345, 0.7264579470012511, 0.7254202451146008, 0.7224487033737655, 0.7222645217494026, 0.7205950308469793, 0.7181102621396447, 0.7168885416054397, 0.715228258903981, 0.7128887153868994, 0.7120195322145029, 0.7101972506347782, 0.7085026505456951, 0.7064950404086999, 0.7048252363874545, 0.7038172043305612, 0.7015670347357068, 0.7005394857381269, 0.6988124659808452, 0.6975901494840773, 0.6942356287919293, 0.6910493658052063, 0.6901368165724059, 0.6895538751407064, 0.6860126332186314, 0.6852076205685441, 0.6833073992673944, 0.6811129850467433, 0.6767308005092775, 0.6745469902643545, 0.6718271113468294, 0.6705473479340213, 0.6686789066301765, 0.6661852826833563, 0.6639618946578908, 0.6619956143115081, 0.6610911286539144, 0.6583275683799257, 0.6528898485538126, 0.6519282659436408, 0.6495453682929927, 0.6451586211176704, 0.6430508187608986, 0.6412522330164052, 0.6376369566687469, 0.6335417723409019, 0.6297472055683687, 0.623901128890935, 0.6222770833085657, 0.6206063714666669, 0.6153561517265517, 0.6120860448272486, 0.6106455369140646, 0.604046913068707, 0.6001562669105087, 0.5962540111599511, 0.5895800285963305, 0.5884064639089376, 0.5844592390126635, 0.5789924618652782, 0.5782952110782967, 0.5729193805173748, 0.5603716946748062, 0.5515678883567532, 0.5491431921540546, 0.537520296754498, 0.523300894060044, 0.5186925973069247, 0.5146732017065476, 0.5020999801061237, 0.49420318772944327, 0.20058510744803265, 1.6627946454094978e-15, 3.7133661071806305e-17]\n",
            "0.0313033012084721\n"
          ]
        }
      ],
      "source": [
        "# random 502の文書tf-idf\n",
        "compute_NCI(A_tfidf_s,len(A_tfidf_s))"
      ]
    },
    {
      "cell_type": "code",
      "execution_count": null,
      "metadata": {
        "colab": {
          "base_uri": "https://localhost:8080/"
        },
        "id": "FELz3PlJFD1F",
        "outputId": "60bd1cb3-e82c-4739-bc2c-a0071b402cb0"
      },
      "outputs": [
        {
          "name": "stdout",
          "output_type": "stream",
          "text": [
            "[4.274043234749097, 2.5034981586507863, 2.2637557445940253, 2.185447770671555, 2.0562532185971922, 1.8998880867017431, 1.8489331515790397, 1.7936116536500826, 1.7500614643952739, 1.6935079736421146, 1.6749931494813275, 1.6631291074859813, 1.6547419279064701, 1.6240659518379048, 1.6081954109284518, 1.596596765528527, 1.569073162886771, 1.545295983263596, 1.5257976220466645, 1.5203549080802503, 1.5110275018514412, 1.5035185213829096, 1.485116933499214, 1.4601589359570277, 1.4562602864888576, 1.433825320498076, 1.4251173295122026, 1.419361772525097, 1.410332903061428, 1.4062301000430024, 1.3985778515377048, 1.3899225916145395, 1.3781616809361943, 1.3758993243350486, 1.364225478519319, 1.3586966010830157, 1.3535960177309936, 1.3502986917724156, 1.3386517322723395, 1.334536041255014, 1.3239149973879942, 1.3131431387702632, 1.308183528121559, 1.3062752255390029, 1.2999729545300487, 1.2995580372616775, 1.2956675894453136, 1.2832902439931106, 1.2765693447053958, 1.2754881318180091, 1.2710691960325116, 1.2654326306641848, 1.2603412853979643, 1.2588710809240162, 1.256143411288012, 1.2525814772209176, 1.2438240251596144, 1.238464587160912, 1.2367660847748962, 1.2322011526165988, 1.2257113025791013, 1.221171205724107, 1.2185598964876256, 1.2147720516427736, 1.2116627215909532, 1.209153860500861, 1.2074347975047353, 1.2042499487700673, 1.2015652473570109, 1.2008326911388345, 1.19490087731977, 1.1913005571843602, 1.1875552593596037, 1.1845003327535781, 1.1832949877074819, 1.180611665602353, 1.1728261276736713, 1.1711917791510846, 1.1684550444626327, 1.1666874757930277, 1.1619127312197, 1.1611365149137796, 1.1548209697525096, 1.1537180575594161, 1.1518399832743185, 1.1508301540084223, 1.1479251515897801, 1.1450204789394196, 1.140288272717838, 1.13864007857121, 1.1367020833202452, 1.1330969660396006, 1.1319253109357623, 1.12985375194651, 1.1284096297762527, 1.1268655495633233, 1.125962959939347, 1.1230133792574957, 1.1207805050660429, 1.117677797045458, 1.1154033835348691, 1.11255476463353, 1.1115667848041866, 1.1092843310268437, 1.106519095298353, 1.1047476382381531, 1.1028339671099003, 1.1013159801325407, 1.0994864929343449, 1.0980729575013286, 1.0944775280763581, 1.0930572976234874, 1.0910679221477309, 1.0892535130410255, 1.0881688987740838, 1.0854917039349694, 1.08392882316226, 1.08231037741226, 1.0815868283171233, 1.080767293491219, 1.0778470674596006, 1.0770761879707111, 1.0737697602053844, 1.0721503593347952, 1.0711343577411252, 1.070110492239973, 1.068375056940594, 1.0667832074827819, 1.064122056872626, 1.062625948262943, 1.0611130668970903, 1.0592319556764511, 1.0561621428655532, 1.054864176584753, 1.0535687112385241, 1.0514240871594145, 1.048516782356629, 1.0477023471317886, 1.0470190451774535, 1.0454541387621101, 1.0428714042392615, 1.041919525237692, 1.041230820898135, 1.038850270313414, 1.037315769734944, 1.0362911202670122, 1.0342580197555076, 1.0329570042468605, 1.0312724229343884, 1.0298440243103515, 1.0276463016172792, 1.0263363990519603, 1.0247966626261062, 1.0241708490113701, 1.022033476512498, 1.0202846407411295, 1.0187856035064986, 1.017987818133437, 1.0168523190025518, 1.0151302389001162, 1.013701602591568, 1.0124334784956288, 1.010946009963749, 1.0099736836214983, 1.0078343169177588, 1.0076856339462872, 1.0065419948934413, 1.0058172413506077, 1.0030496601108123, 1.0015065222484072, 1.000641550188047, 0.9995752751134719, 0.9991406230339397, 0.9975048504077674, 0.9948319259120049, 0.9942496936282312, 0.9931543010159043, 0.9917691490578238, 0.9909428981014836, 0.9886479374894878, 0.9879983646269994, 0.987109423115066, 0.9861794083556669, 0.9851217077628454, 0.982021387207441, 0.9806308595095038, 0.9798882093134896, 0.9779861647027857, 0.976962480608879, 0.9757576023789832, 0.9752668483174778, 0.9743621820434505, 0.9716918009010015, 0.9713915171669716, 0.9699993696557043, 0.9685796734483604, 0.9676625539150359, 0.9662011714345858, 0.9642069504371567, 0.9634825013425683, 0.9613942663672108, 0.9597437909309335, 0.9594106960225178, 0.959284759461788, 0.95738184893447, 0.9562354152176286, 0.9550003246389019, 0.9524964639338733, 0.9518982343150666, 0.9510267526289726, 0.9498293068340546, 0.9492701886840842, 0.9477359726341253, 0.9460374037599351, 0.9458929163039063, 0.9455742815884588, 0.943272482817527, 0.942048948634474, 0.9411944935811519, 0.9390398203695595, 0.9387256787074656, 0.9380372099823319, 0.9357605577010922, 0.9349920086580196, 0.9343724553007209, 0.932679423930312, 0.9320486465251047, 0.928241212851674, 0.9275907120760833, 0.9273727601050429, 0.9256577964098259, 0.9250368246613094, 0.9237602377903054, 0.9230737923251559, 0.9212174669273617, 0.9198090335510545, 0.9186836374059594, 0.9165745308343931, 0.9163387681014343, 0.9158652358119057, 0.913856808040507, 0.912622196412506, 0.9110333336511536, 0.91004148402731, 0.9096318926043989, 0.9082337723162104, 0.9067845664015141, 0.9059568207073044, 0.9049997688752477, 0.903988569381294, 0.9021521586871015, 0.9015416387692378, 0.9008697381909774, 0.8999304447633525, 0.8989069878962849, 0.897492797868324, 0.8970143418345284, 0.8968801986570497, 0.8946310048415805, 0.8933097809031865, 0.8925917727452376, 0.8917529930397291, 0.8905009317418964, 0.8897372113695807, 0.8892341364715416, 0.8869471193146179, 0.8855638762843195, 0.8837668167291364, 0.8831113710149345, 0.8823833962232412, 0.8813036372186873, 0.8803669937988098, 0.8792683131844541, 0.8786013208055555, 0.8761063063785796, 0.8750077029243299, 0.8745487466000642, 0.8731455590055364, 0.8730276867389196, 0.8713704541835835, 0.8702821493087589, 0.8694785596301642, 0.867772071761202, 0.8673043052877533, 0.8665795926816129, 0.8632776194043136, 0.8627634721296603, 0.8620260191984844, 0.8605190711196239, 0.8585989085635193, 0.857951265037807, 0.8577085794023879, 0.8571048099871555, 0.8549970063189084, 0.854314654767379, 0.852986552919236, 0.851993854063199, 0.8497632303259581, 0.8495270113538909, 0.847720909153987, 0.8464062646376291, 0.8455785866656054, 0.8442938724160844, 0.8433489393967191, 0.8432403245360488, 0.8421070820462979, 0.8396072333137774, 0.8391464665446691, 0.8365335843548468, 0.8352468156421302, 0.8345612534074497, 0.83327403550595, 0.8308651881727666, 0.8301182875996435, 0.8298801098116687, 0.8286880739986374, 0.8279541746484265, 0.8277958418137022, 0.8256203798058993, 0.8247840683619009, 0.8231638461315207, 0.8220047888806509, 0.8219297994297002, 0.8205521813717003, 0.8192403021958368, 0.8190495063118091, 0.8177529778318151, 0.8160122943253325, 0.8154238712000004, 0.8140975848771687, 0.811991773524157, 0.8116592213114492, 0.8114971598571757, 0.8102540176725411, 0.8097921719548274, 0.8078319262652887, 0.8062317276687223, 0.8051840230599064, 0.8034508546179542, 0.8026453426741522, 0.8007979862800554, 0.8005556239072187, 0.7990314180743807, 0.7983190292234307, 0.7971341301533197, 0.7956249229151222, 0.7949447386393899, 0.7933147956521004, 0.7930845670969638, 0.7920192764549104, 0.7904104008740191, 0.7893915999595051, 0.7888663843796141, 0.7872484045274443, 0.7866500959900844, 0.7845866684640566, 0.7825276146168956, 0.7816239893602508, 0.7794952341795597, 0.7783871264198504, 0.7780087911877809, 0.7775503240089411, 0.7758772626505744, 0.7754804147170957, 0.7744091652527602, 0.7721137775728788, 0.7708786709713248, 0.7703639561248917, 0.7693544799356828, 0.7674671123622592, 0.7672306502425911, 0.7663609423448364, 0.7643521272237515, 0.7629981971495547, 0.7617684169122609, 0.7608995137121962, 0.7592908834469472, 0.7585282287342503, 0.7562336607953638, 0.7558929910598104, 0.7551078486639122, 0.7536076868307464, 0.7529248795699784, 0.7504047290386606, 0.7490272863521508, 0.748910193936895, 0.7474233435006549, 0.7454852852821908, 0.7449339235676352, 0.7432421241735111, 0.7424590537553185, 0.7401833506809257, 0.7388074209580623, 0.7379483106484686, 0.7370678652968266, 0.7358882400335288, 0.7349236829013244, 0.7336769545888866, 0.7330871822256299, 0.7314128582342664, 0.7292216506205044, 0.728335925309972, 0.7276509365868523, 0.7264206609145227, 0.7244765370491278, 0.7226390598451627, 0.721964766653096, 0.7197417837090743, 0.7183576603339376, 0.7179767280923713, 0.7157439745074711, 0.7153330283355989, 0.7145563045259293, 0.7126733703691529, 0.7110001020821018, 0.7090887828893657, 0.7074954242110464, 0.7068336198279382, 0.7060102229050285, 0.7053054385709355, 0.7029596038371371, 0.7019962133637137, 0.7006049589043843, 0.6974137091795886, 0.6958881395431142, 0.6948167491142154, 0.6938937197714569, 0.6933839081133244, 0.6915431516297325, 0.6907851159078852, 0.6881839544378293, 0.6868014843038948, 0.6862156794696519, 0.6859734864488443, 0.6839920327251847, 0.6828726384425055, 0.6818212915163706, 0.6790344815600479, 0.6780099798487931, 0.6765356916278805, 0.6740167998801201, 0.6731520124962856, 0.6708936436442882, 0.6689231713787606, 0.6676167004326891, 0.6667173119264489, 0.6654097852759422, 0.6647275647729397, 0.661638428784374, 0.6606011216795217, 0.6596644174785894, 0.6583676043984509, 0.6581351214295769, 0.6543743694422696, 0.6539484795591167, 0.6522148070440275, 0.6513431448218217, 0.6490450423022504, 0.6466317372612519, 0.6455927555035685, 0.6438850358299444, 0.6415776261785878, 0.6404293997800697, 0.6372956965974245, 0.6359294038187485, 0.6348635109992009, 0.6328527118442402, 0.6315222700948675, 0.630249233596343, 0.6292891943142882, 0.6262618051786748, 0.6255471290980795, 0.6221439068887396, 0.6208102874342996, 0.6194726304582695, 0.6186020867651362, 0.6159408986499623, 0.6125691251393505, 0.6090851919801782, 0.6078371942253608, 0.6063225860201552, 0.6057990982082382, 0.6036295871689576, 0.5997116197566013, 0.5960202966163203, 0.5933068805585847, 0.5907381227480418, 0.587990173484627, 0.5852628916279586, 0.5795077078081863, 0.577845005608792, 0.5704963483055888, 0.5672134017064849, 0.5649415255219703, 0.5609727334715651, 0.557835970337093, 0.5489667444128802, 0.5471452334299064, 0.5348575363022985, 0.5317521769465225, 0.5225045807922677, 0.5069928655303904]\n",
            "0.03847155420681507\n"
          ]
        }
      ],
      "source": [
        "# sportの文書　tf-idf\n",
        "compute_NCI(A_tfidf_sport,len(A_tfidf_sport))"
      ]
    },
    {
      "cell_type": "code",
      "execution_count": null,
      "metadata": {
        "colab": {
          "base_uri": "https://localhost:8080/"
        },
        "id": "h9_bpqeDEHEH",
        "outputId": "3fa69ba1-b568-416c-86da-265c1c75775f"
      },
      "outputs": [
        {
          "name": "stdout",
          "output_type": "stream",
          "text": [
            "[4.671780659665937, 2.7919257367294352, 2.246812137373389, 2.2015906267384975, 1.9984067753114498, 1.9072961804994608, 1.870573912854608, 1.858564277291272, 1.8424901507012617, 1.7968258632145024, 1.7585117983019265, 1.7434800683752136, 1.7371639501188083, 1.7169146847746524, 1.6972230231597307, 1.6824689905779504, 1.669656068481639, 1.630203280689679, 1.607805402463827, 1.596091341795501, 1.5847205689662431, 1.5680233741543075, 1.5567967560614813, 1.5375894437636521, 1.5341618900112994, 1.5301040486150712, 1.525817147767084, 1.5167652653620158, 1.4967487447664456, 1.4756920501186406, 1.4735194150725939, 1.4640965990576278, 1.4512582398274354, 1.4390896128509705, 1.4279898421987989, 1.420701694665216, 1.4139271066946708, 1.4118198559452952, 1.3936855289442107, 1.3892526800323652, 1.388261559767266, 1.3790614339557101, 1.3707756107858713, 1.3653573920884765, 1.3536091016551222, 1.347139519935352, 1.3436543771945708, 1.332325292122311, 1.3250698344574183, 1.3205482003563809, 1.318327474683195, 1.3159463165551684, 1.3039744875374362, 1.3029096685999915, 1.290624112967216, 1.2881124957282422, 1.2797382991861088, 1.272729759479866, 1.2655302021796093, 1.260734223699051, 1.2566646030634432, 1.254955057342374, 1.2510809835843855, 1.2462705415380795, 1.2445898288717168, 1.239801906514513, 1.2383146947347348, 1.2325631239342258, 1.2321305502861786, 1.2303996967989292, 1.2245906376415736, 1.2188487068732445, 1.2130443669500335, 1.2071048711016894, 1.204314089354374, 1.2015595048915526, 1.2005452669318946, 1.191855970272157, 1.1908129596738009, 1.1892465502925795, 1.18554894681245, 1.179918770488232, 1.1755969242582236, 1.1733963910584357, 1.1724837423384882, 1.1699046422806871, 1.1644730097162581, 1.1637573105548853, 1.1575795589808842, 1.1524704070973968, 1.149374563878557, 1.148301273540004, 1.1437125318097878, 1.1399943477992278, 1.1357650673104516, 1.133842908289147, 1.1320945973907024, 1.1306987047180195, 1.126149211785023, 1.1240757390178098, 1.122478432040383, 1.119530774881173, 1.1143384802536545, 1.1124232972274952, 1.109783690851836, 1.1085354356793196, 1.1039152506922032, 1.1032227455678516, 1.098820160581481, 1.097586487683429, 1.094988572922527, 1.0928819803990977, 1.0893841427946713, 1.0882733377073945, 1.085552082137574, 1.0837778212293743, 1.0802315642521338, 1.0782060097739186, 1.0776186188601722, 1.075472959552437, 1.0723205208956987, 1.0680379576277588, 1.0678849369618637, 1.0644069002645675, 1.0635965364747648, 1.0597427439564886, 1.0594226853968725, 1.0568668398828622, 1.053672277838708, 1.052168012713081, 1.0510931609569314, 1.046671641820972, 1.0461924250081893, 1.0443718577662102, 1.0422619829765123, 1.0417629403370954, 1.0383240561565328, 1.0369802652935978, 1.0345581697625226, 1.0332578200880267, 1.0311636949161567, 1.0296647523860176, 1.0257270998524546, 1.0249381209381796, 1.0236205375780665, 1.0227733069484057, 1.022008090501935, 1.0194251602156967, 1.018143021477086, 1.0174839755833527, 1.0149418721065868, 1.014016015497388, 1.012520743988759, 1.0103148412501732, 1.009669240370846, 1.008075261320292, 1.006542995221056, 1.0056188691255823, 1.0029538670347535, 1.002393961508394, 1.0000259293051894, 0.9988513404132353, 0.9964410932077359, 0.9960665972498826, 0.9949228135093456, 0.9931699930146167, 0.9928410250652518, 0.9901447275184716, 0.9888259918747281, 0.9875737898450273, 0.9859560702395115, 0.9847840054963843, 0.9831587183868105, 0.9810183514033648, 0.979899589603544, 0.9792336245985188, 0.9782185544139389, 0.9775797420792912, 0.9769050771875926, 0.9748564437342419, 0.9737434744004105, 0.9719982068411742, 0.9705294446673579, 0.969537091097619, 0.9690092932332319, 0.9680876147806575, 0.9658171210357527, 0.9638279627844735, 0.9627808631263122, 0.9626292279485222, 0.9608127922186313, 0.9577932244416986, 0.9567828094545694, 0.9556298471419583, 0.9552478114966607, 0.9526297482118291, 0.9523651725903363, 0.9506315597687139, 0.9478969919117773, 0.9470621411960174, 0.9462744863708036, 0.9462447360990471, 0.9435907289767068, 0.9419434609286671, 0.9406024749603404, 0.938676104597998, 0.937984412545168, 0.9373149785793802, 0.9354104128543039, 0.9352064345666374, 0.9328970517246743, 0.9322993416986342, 0.9313523544308202, 0.9291804444923403, 0.9268937851796578, 0.9267356779035368, 0.9244798566306883, 0.9236624658589445, 0.9216183996542993, 0.9195458128573447, 0.9170351849128712, 0.9164661237657847, 0.9158583905093096, 0.9146031331157356, 0.9140089798627958, 0.9123169862286619, 0.9102632442464316, 0.9089224583989695, 0.9072540032839272, 0.9053133940711506, 0.9046094764314087, 0.9027622078077332, 0.9013612482877472, 0.9010436400231323, 0.8990956528932618, 0.8971208261840771, 0.8952926612848365, 0.894209010036222, 0.8937785606872478, 0.8923963964697084, 0.8921319544384972, 0.8908176056558036, 0.8886521478438906, 0.8872486450034801, 0.8865534489456731, 0.8858974237670143, 0.8839895213074203, 0.8818378704359047, 0.8812258910329988, 0.8801872277334443, 0.8790481472694927, 0.8778198842555166, 0.8771937419680689, 0.8735867779581358, 0.8734822287161277, 0.8722163259065753, 0.8704714818367332, 0.8692111929308521, 0.8684764192438705, 0.8678250821640825, 0.8652736382777836, 0.8645579777507806, 0.8624431659174421, 0.8616414793096951, 0.8612022533532236, 0.8591569056261305, 0.8578042634695531, 0.8571735109839129, 0.8558572423157471, 0.8542182469945789, 0.8524144537854458, 0.8518816755043435, 0.8509058293690817, 0.8496887396553596, 0.8488608028148042, 0.8469041797276354, 0.846094043511223, 0.8449635634266245, 0.8434361066853973, 0.8417416239829384, 0.8403060898139681, 0.8371846407194586, 0.836473446766404, 0.8351876548531562, 0.8341537406907675, 0.833322368932112, 0.8313956529581008, 0.8303477041198208, 0.8295174763821167, 0.8276864749401959, 0.825396713522565, 0.8239105888724584, 0.8228276962834449, 0.8221199696004017, 0.8196933380517923, 0.8177130504751833, 0.8162982599645036, 0.8149097431432704, 0.8132480615107439, 0.8125963212506926, 0.8114454281497615, 0.8098663967343488, 0.8080083965547534, 0.8073183179676482, 0.8068223271776968, 0.8060359463949681, 0.8043624064624872, 0.8010426138169575, 0.7997437540623095, 0.7981921161257712, 0.7971921319837113, 0.7968294761988578, 0.7954323024554845, 0.793041204195703, 0.7914036166673686, 0.7894689530940308, 0.7872301047473487, 0.7859815343812456, 0.7845037411075604, 0.7826718109646377, 0.7815297292122688, 0.7812232378492383, 0.7808600766236463, 0.7793585565250646, 0.7775645865342989, 0.7766349917330063, 0.7757872446639253, 0.7729104646222641, 0.7716268432432861, 0.7709722684503572, 0.7705274768593978, 0.7673072335050849, 0.7650073601387533, 0.7641414931365088, 0.7637274287240448, 0.7622313650061469, 0.7608943143590572, 0.7593369719728043, 0.758248922618876, 0.7555648815718988, 0.7537622099610427, 0.7533131378033401, 0.7512210037625492, 0.7507545446488665, 0.7496636624985925, 0.7465881228518543, 0.7447816615775429, 0.7439746206256032, 0.7414971711512066, 0.7413240422500283, 0.7407128552321093, 0.7394338128934609, 0.7391082674708553, 0.7364746697854986, 0.7359812754058186, 0.733238368312822, 0.7327070532425644, 0.7304911949487302, 0.7286208644936151, 0.7272111359963087, 0.7262549704809591, 0.7250135195237273, 0.7247678274933247, 0.7232353098633183, 0.7210990462538236, 0.7197899549810267, 0.7175532356945199, 0.7160787767544492, 0.7148049791190559, 0.7128971682803937, 0.7107834629494152, 0.7097260478326696, 0.708596489410412, 0.7063514173912939, 0.70471639468096, 0.7037601053863158, 0.7011116049919053, 0.7005152164475051, 0.6980059355135387, 0.6959567626762602, 0.6954348621295018, 0.6941244325986301, 0.6923579949655987, 0.6917158967785896, 0.6875912826379565, 0.6868884278488601, 0.6842676761061479, 0.6824496459409667, 0.6797933280969874, 0.6784598483993721, 0.6759358845884966, 0.6741852882766998, 0.6733488222858939, 0.6722646925139801, 0.6717964269490567, 0.6697144338298694, 0.6681573328774452, 0.6647742958612434, 0.6638027728661575, 0.662028159089978, 0.6612424593090434, 0.6603942793249797, 0.6573256428872616, 0.6560925714651605, 0.6539259709234239, 0.6522568870113602, 0.6506531839618975, 0.6499428682898238, 0.6461718190908957, 0.6444944978775476, 0.6430424953234714, 0.6411682681560047, 0.6377716140390852, 0.6354535983334836, 0.6349539191081861, 0.6339487340549017, 0.6322004636159313, 0.6275934844217871, 0.6269793152358267, 0.6243607855688073, 0.6213869809487543, 0.6205934850248541, 0.6197078011370525, 0.6176271613090962, 0.616253262158644, 0.6155383253692733, 0.6131267899567654, 0.6102761042316325, 0.6094556328683948, 0.6060465567703608, 0.6047677384850241, 0.6021672425798459, 0.6010285432606349, 0.5988749702922261, 0.5962805147182445, 0.5941478794635568, 0.5932134819169844, 0.5925542068391979, 0.5866752313080507, 0.5858643792224396, 0.5832428956146637, 0.5824200237812532, 0.581011829759891, 0.5796649964142888, 0.5772230809587985, 0.5756494051385542, 0.5727857563444988, 0.5709434043253141, 0.5675721702536506, 0.5656906190639468, 0.5636042652280508, 0.5620745162426285, 0.5604700916530765, 0.5580863877097949, 0.5529092374505378, 0.5520393459907369, 0.5479560953397808, 0.5443352812584658, 0.5428829179394123, 0.5390224602701537, 0.5356385076345753, 0.5325407303440758, 0.5320154002844641, 0.5254237306470014, 0.5234204507487611, 0.5221767509761497, 0.5165141565111327, 0.5152294617422488, 0.5134221809519508, 0.5018531218555817, 0.4972979181048086, 0.48895052425047086, 0.4837363597733042, 0.48041839786585305, 0.4782533562634672, 0.4732357681987786, 0.4694571620624923, 0.46794115875012354, 0.46595504394666226, 0.45969596972642834, 0.4527868839455933, 0.4457145325867866, 0.4056151672276924, 0.3943886333684941, 0.372647290347678, 0.34198667188680765, 0.3227272436023575, 0.31179113409432724, 0.2844497047954344, 0.17247469419834338]\n",
            "0.04729737172859409\n"
          ]
        }
      ],
      "source": [
        "# movieの文書tf-idf\n",
        "compute_NCI(A_tfidf_movie,len(A_tfidf_movie))"
      ]
    },
    {
      "cell_type": "code",
      "source": [
        "compute_NCI(A_bow_r3, len(A_bow_r3))"
      ],
      "metadata": {
        "colab": {
          "base_uri": "https://localhost:8080/"
        },
        "id": "piP7FbwCEXtU",
        "outputId": "212a6c42-9698-450d-d4fd-7d152135467f"
      },
      "execution_count": 80,
      "outputs": [
        {
          "output_type": "stream",
          "name": "stdout",
          "text": [
            "[502.3122823398515, 150.9952332376866, 117.77758566756027, 91.34172171980074, 88.33289315191332, 74.51838021455318, 71.2213899997354, 68.79923105669293, 62.78077584174363, 58.256441543422206, 55.8914224539219, 55.452668511302434, 54.36435849946071, 52.755737159265, 52.05026388072347, 51.23503765993296, 50.48034766621258, 48.92528876571009, 48.290794977096226, 47.535485017402486, 46.57912006428722, 45.901898458356285, 45.245296290303614, 45.09699430166253, 43.19860025810509, 42.53355229554684, 42.162770173273465, 42.011907525684705, 41.449032575345, 41.00135661849339, 40.43440743068613, 40.23409752519948, 39.27982513769683, 38.9752007008141, 38.29726176054817, 37.866270204355665, 37.542887417630986, 37.34023121225466, 37.211402283207725, 36.569831218720985, 36.20654090494801, 36.04403036768242, 35.737620126236244, 35.48829009773028, 34.973953885424656, 34.7703691085293, 34.445254680780195, 34.19906558502366, 34.03785371460032, 33.88283716138798, 33.72390753026954, 33.4774445326136, 33.35037919394267, 33.06653732534516, 32.987637919488776, 32.85637350227737, 32.44619853331946, 32.39706208048046, 31.88363404574844, 31.66625392889725, 31.654801376047402, 31.471336679991307, 31.36084655951389, 31.19657905404911, 31.16085313664007, 30.950884807263538, 30.774804202191348, 30.685381569813, 30.55803755471995, 30.515951640870753, 30.186651061896438, 30.154005516710665, 30.052548169251075, 29.85983194289533, 29.572849756363027, 29.460724016632966, 29.290130408471697, 29.185527181163625, 29.100524037558355, 28.866536151767615, 28.68418871689354, 28.608745963376418, 28.54003489814275, 28.454597158659176, 28.34482919623571, 27.98076501913911, 27.923368719772427, 27.765235557759627, 27.718662189700968, 27.656709195267762, 27.583856824354058, 27.409085189624328, 27.285431270754714, 27.234236554713753, 27.135067045967375, 27.023472678235954, 26.880103170609633, 26.741414558838212, 26.58958594232518, 26.447055681102643, 26.386662089322243, 26.193534305366352, 26.105743077633505, 26.08107384965259, 25.992468348124003, 25.834703134749777, 25.752950551564627, 25.74546437162363, 25.532982181612763, 25.46021028159375, 25.36246372747313, 25.234173937191553, 25.105077762513456, 25.01474057315469, 24.927497348127087, 24.85222337869332, 24.76551751021446, 24.691680840563365, 24.62129834159303, 24.554661114301673, 24.52443271891569, 24.384749728041328, 24.243809999180797, 24.191213235692068, 24.11002956195754, 24.014754946678917, 23.86960995961128, 23.84530529111372, 23.725162201552966, 23.618131707154618, 23.500861224440257, 23.416651286070177, 23.337132409349536, 23.256242342761084, 23.215045417844465, 23.034747269226514, 22.92027806443467, 22.878164854811068, 22.82454017838648, 22.751848238427556, 22.65412804040535, 22.611467054228477, 22.56639034936357, 22.440031526099464, 22.382438788013523, 22.304133969659905, 22.241890630710103, 22.16620805981727, 22.13717922502495, 22.065495922151616, 22.02186831512551, 21.91892466723706, 21.80054223956664, 21.72834894515053, 21.70433135807466, 21.60208471056564, 21.554300636370137, 21.45957908242356, 21.397138023038973, 21.2852265110381, 21.179881902729797, 21.15874794937992, 21.048674167893488, 20.963879777241583, 20.959005525515952, 20.894938026948008, 20.860641263731118, 20.687428159731436, 20.626199207356247, 20.597719920939543, 20.53402223352354, 20.483005902735194, 20.441036180128265, 20.333445306482883, 20.30689325848685, 20.267921427374308, 20.136528885610584, 20.096754021853812, 20.06005525882329, 19.933488400889257, 19.91132703989857, 19.824544358072085, 19.772613906441656, 19.627296646737022, 19.601465546342947, 19.58940090498643, 19.50531551015811, 19.460340411963085, 19.375062994250957, 19.334362057415884, 19.32741092833119, 19.20209909927065, 19.09969042451257, 19.08126915993855, 19.019540497190814, 18.938338478621976, 18.838019323500166, 18.79852529107493, 18.75080629308594, 18.732631354355128, 18.62449978128921, 18.577465014279472, 18.51435597060878, 18.491620507137345, 18.42723355513388, 18.374630995140617, 18.312609630638587, 18.29854311997406, 18.233525883269095, 18.161115509278766, 18.143766432756177, 18.100157361404488, 18.03743689708364, 18.00651281187073, 17.940677210799173, 17.85656061928182, 17.82040823848098, 17.788707760796267, 17.76806479868656, 17.684645718690604, 17.635228250519276, 17.542328384604577, 17.47418385440472, 17.42943100590662, 17.379981174856223, 17.309414686289323, 17.23364889716295, 17.202134946645288, 17.15927161630493, 17.107464751943528, 17.07121573837598, 16.99896541639044, 16.93768639294315, 16.909627556239354, 16.80246466493521, 16.77794866789896, 16.75727763611489, 16.694832260393593, 16.61711451084859, 16.590182204104803, 16.54350542127993, 16.484295565876224, 16.43492083402059, 16.4036501138762, 16.330125982294394, 16.28378700269587, 16.26630249381594, 16.15710118925451, 16.05363725554066, 16.034630342387672, 15.994426717994319, 15.941715853172369, 15.900091764745936, 15.864188841076244, 15.78371516446063, 15.729824567036403, 15.698029842539418, 15.664891540857694, 15.632382473112068, 15.594811584235577, 15.551587640933482, 15.51506395946948, 15.450416475490993, 15.419438504389094, 15.338243040212339, 15.309145583120728, 15.266232191479007, 15.233069938151868, 15.178634276579404, 15.139816068431447, 15.123029187719887, 15.045865908302396, 15.030253138220505, 15.003841031448646, 14.944984297118038, 14.926974298018331, 14.881712710632629, 14.846278570294725, 14.773839625691405, 14.720538918165328, 14.675445005196563, 14.639705854783776, 14.601878728582157, 14.542920663851818, 14.514451821617955, 14.454118414441584, 14.42851327773211, 14.405954451862659, 14.360831962975286, 14.30651237885817, 14.255148398209645, 14.205726217886083, 14.1972595887808, 14.14499006392226, 14.054931915420722, 14.012704610355344, 13.949044037213811, 13.941193880993055, 13.86180174826685, 13.802042025610403, 13.786103259113208, 13.75356929523481, 13.69661913632985, 13.639053093289652, 13.591757441431128, 13.565105350010827, 13.5531814509332, 13.516134373150972, 13.497747516246397, 13.448504086941979, 13.393855201573, 13.357994733949294, 13.293776264278248, 13.270380005977707, 13.242603532552767, 13.197678111058769, 13.183449372717968, 13.150822004199068, 13.110740209525488, 13.075470749873736, 13.057559864646663, 13.00544070472704, 12.945826165924412, 12.914688597480751, 12.88741843423455, 12.841025664249864, 12.787370252819162, 12.743347901077565, 12.722024696713886, 12.64939913379218, 12.639979715403506, 12.593544598106094, 12.558786172440358, 12.52622864114923, 12.511316601040958, 12.449922453892711, 12.424420206951245, 12.383597164839859, 12.318434799944518, 12.295392105114699, 12.285023348429505, 12.227321039717063, 12.192536199041077, 12.149826712710711, 12.116954249188257, 12.06890544150255, 12.014381916957968, 11.996021772123662, 11.971601028913426, 11.945760112782054, 11.911378998921178, 11.891744684511355, 11.853350751125115, 11.790169429867804, 11.775520440893636, 11.764137634122864, 11.675636373099346, 11.630400935813626, 11.605459116975897, 11.561242113512089, 11.524427397517817, 11.49836345050877, 11.440676776408672, 11.37673191051577, 11.33921901285589, 11.318495950128662, 11.30442996517555, 11.240809106133764, 11.22469123109949, 11.20781320348828, 11.203465555278374, 11.086778991395708, 11.069345578192022, 11.017931618300517, 11.001878529803843, 10.935917200524855, 10.908122393208314, 10.861667403940537, 10.826522760426496, 10.814485283034664, 10.754103665235776, 10.748310037278362, 10.68832654870883, 10.65987221415264, 10.637953961108872, 10.558679222294721, 10.510424403169226, 10.490055588367566, 10.449091666069304, 10.412021121917718, 10.400036888999534, 10.347242507432385, 10.271264609990373, 10.212902453468706, 10.200111058528286, 10.145887768529485, 10.101749395295393, 10.059301519222476, 10.028446802826831, 9.977631859554252, 9.951002070820476, 9.941103962935502, 9.84967091130592, 9.831486787459673, 9.808468998818995, 9.775977044491555, 9.729223213007579, 9.67088344958185, 9.606359919777685, 9.586285213042483, 9.568943315960968, 9.471045082796437, 9.421466656021476, 9.402982813193455, 9.346642188064632, 9.311796100723532, 9.261633920699754, 9.164982691502754, 9.123819079358125, 9.12179527119121, 9.060401384144205, 8.997377064542466, 8.980165034482324, 8.921906927173032, 8.8322275408001, 8.79930584747488, 8.778970715202021, 8.74447247089943, 8.665410552270375, 8.616791205431367, 8.528033044900422, 8.492002848665374, 8.463168408288627, 8.41888906740949, 8.291293476389935, 8.257572777036785, 8.20435738135891, 8.116380383127439, 8.069677267291148, 7.956107668663779, 7.940666596674113, 7.73140576565696, 7.675771939698595, 7.6172628646735125, 7.587326037964764, 7.522658446018099, 7.36621453894, 7.107873094635028, 6.998624731472489, 6.809909154087616, 6.627832634186188, 6.552520122121452, 6.493772400653338, 6.371117807079567, 5.630432545422668, 5.373057518798658, 4.471605894631997]\n",
            "554.3667949560022\n"
          ]
        }
      ]
    },
    {
      "cell_type": "code",
      "source": [
        "compute_NCI(A_bow_dokujo, len(A_bow_dokujo))"
      ],
      "metadata": {
        "colab": {
          "base_uri": "https://localhost:8080/"
        },
        "id": "KOwzbTbSEeTc",
        "outputId": "2dcebeb1-dd47-4083-f941-901b759c4d8e"
      },
      "execution_count": 81,
      "outputs": [
        {
          "output_type": "stream",
          "name": "stdout",
          "text": [
            "[259.1529908191055, 97.94479105436879, 94.98528533104667, 82.1510583505076, 73.33179136429776, 68.7975058942471, 66.50644940259238, 63.033287170268046, 62.13126363424451, 58.70920872281282, 56.506938351830506, 55.95790044336477, 54.39057761163365, 52.96982973091993, 51.19146921796163, 50.34020272991522, 49.52226210962936, 49.231108734874965, 48.89577947569653, 46.58620592406744, 46.14655674663984, 45.33008453369793, 45.032968533779766, 44.34867795941072, 43.82287707263869, 43.30987075196549, 42.77405597808015, 42.643242291069974, 42.31995660699385, 41.87215943929713, 41.39618745594169, 41.33110291129358, 40.632693800645114, 40.100980405226366, 39.64743356137677, 39.38717486152443, 38.93732764900585, 38.90694571855795, 38.4340003515987, 38.140233754494496, 37.62638190113147, 37.2710792655409, 37.02896732357399, 36.78040140141848, 36.594695101749544, 36.33875502595508, 35.99676131269745, 35.74814459850934, 35.65497288311689, 35.366684215517594, 34.9974995851005, 34.94959903926976, 34.80027019557837, 34.68308510785418, 34.54896744647564, 34.368148777310275, 34.25701704935561, 34.07143331815961, 33.94865085118807, 33.8598451519968, 33.700589072839215, 33.60082266514955, 33.38820752639424, 33.25491850718828, 33.025155304784256, 32.72953173426124, 32.61718197597935, 32.42841015771124, 32.25235579884977, 32.156480354747664, 32.02317054280271, 31.935372450075064, 31.73429491386261, 31.716382535746714, 31.49006143234229, 31.231353450672316, 31.140237188066628, 31.025495700368968, 30.927586622832827, 30.752727607498894, 30.67602302918242, 30.587670339338338, 30.455896455078463, 30.25668553771328, 30.177085351319068, 30.07857170774627, 29.8639274381694, 29.76755752562909, 29.725173573707533, 29.64484093178061, 29.45470305507989, 29.33526663021809, 29.19467460154081, 29.146765359448523, 29.05717866916561, 28.9329194314877, 28.767493418609376, 28.712331084466626, 28.567970799452237, 28.482002571567985, 28.43523036186481, 28.264414792683898, 28.21161870783459, 28.112342168626547, 28.059400354206804, 28.00960523953943, 27.74967298996438, 27.673365843475224, 27.63707677417406, 27.573966124212497, 27.443608501841112, 27.405566639290083, 27.364840000623783, 27.33130734598962, 27.140847396535445, 27.03034299171409, 26.896334309676746, 26.756525478254076, 26.72440912894947, 26.650052149757222, 26.551032596966973, 26.492784461254892, 26.266221418092062, 26.24318160192086, 26.18196190276307, 26.12194192229332, 26.00816911220275, 25.950027141102833, 25.906106037501008, 25.894840200102742, 25.80982958800646, 25.725892164188544, 25.59510008835201, 25.4497730411875, 25.410457114261934, 25.317505797416736, 25.220395561080046, 25.168748530886454, 25.12380987714765, 25.055585180964314, 25.00868410968499, 24.96087355818138, 24.924690770643775, 24.83449123160814, 24.74732388075914, 24.689037312375394, 24.63286804272137, 24.569277975692238, 24.526126039091654, 24.45451529402071, 24.342560395118607, 24.309516324346582, 24.222530826379124, 24.2118951012977, 24.081715157396573, 23.946617170150372, 23.920625805074096, 23.833392519831687, 23.788913397010926, 23.758008759278844, 23.698299258792403, 23.667516095725365, 23.534175143079914, 23.472668647831718, 23.45078888252835, 23.382397873913035, 23.33387155512376, 23.24333593269542, 23.168860304016594, 23.12771764499381, 23.0413749306254, 23.000788048268525, 22.914816612731624, 22.876094956362866, 22.829804853832314, 22.782251270858843, 22.742673248827106, 22.664386372577546, 22.621777085316243, 22.57782430424204, 22.526896021218136, 22.389731888164373, 22.34125593202054, 22.337253239605747, 22.28596139084123, 22.20128089500608, 22.182849769397972, 22.088754884924157, 22.066589555914298, 21.97466688215395, 21.933969750317594, 21.890905423982908, 21.83669067548226, 21.760849118913676, 21.706956092546033, 21.690237774216943, 21.59879658876667, 21.549679296209185, 21.49304627936085, 21.462263394805994, 21.40828945607718, 21.354927111586612, 21.31795472123939, 21.24023814177878, 21.228285357717898, 21.153272770015928, 21.124194195251672, 21.0448017882255, 21.001966194369245, 20.89094140537413, 20.82289373323138, 20.8134517796526, 20.781992574637854, 20.747294420097013, 20.72761757952957, 20.68879350972783, 20.631646964687448, 20.59093353697416, 20.565966471286696, 20.53743436268873, 20.456926548866647, 20.429069347320226, 20.40233120098158, 20.26803370559005, 20.202384282932723, 20.16984476675888, 20.09655977542929, 20.05394221673547, 20.045734346532036, 19.979281307679237, 19.93733723850447, 19.91829429578455, 19.844062069847624, 19.797733643680168, 19.740691121955386, 19.71683008571026, 19.6784810233425, 19.636431662607635, 19.58478543243524, 19.558695143736294, 19.499703409051445, 19.473584800745925, 19.41048579211003, 19.38940440359626, 19.3255872681537, 19.27736275297028, 19.232013058935518, 19.191741067771787, 19.151319652927445, 19.10117187886329, 19.0700164793805, 19.005515848897126, 18.944130680668408, 18.850062577985387, 18.833427752482432, 18.813226378086508, 18.740541184563753, 18.688668070605065, 18.67894352114663, 18.6470956799183, 18.56975576657972, 18.560857946002095, 18.557905317955207, 18.489351004165382, 18.425067421526812, 18.384882500509622, 18.33237647288913, 18.300014633296822, 18.283655685181674, 18.19645780885787, 18.142266408746643, 18.122797009456747, 18.068882285203195, 18.00537947132504, 17.979629251301247, 17.953618298355202, 17.935453862359974, 17.847381648837423, 17.84417398014449, 17.80182628736482, 17.774891678151548, 17.702872219536438, 17.660018162337007, 17.633440792968827, 17.588727033914207, 17.55674084511592, 17.545880399596417, 17.46513388644062, 17.446078576179815, 17.373267278548873, 17.36013982067006, 17.29578712431742, 17.275897934085464, 17.22912797531612, 17.151988015613885, 17.128830994176155, 17.067466626793397, 17.044655787382222, 16.977964306939963, 16.90652509556579, 16.86610273748602, 16.819650618650822, 16.775502988215322, 16.756699364940225, 16.720311018689646, 16.672634104626347, 16.63545845053498, 16.59575821886165, 16.5768203140473, 16.530264035563093, 16.51426202257182, 16.43010179533623, 16.41679028389157, 16.388665010678668, 16.327653791400586, 16.26051270493737, 16.204165197192292, 16.19312113918859, 16.15606524133847, 16.10272996518514, 16.082510830814464, 16.064952568355547, 16.015433223778228, 16.009257475819613, 15.934596526018824, 15.906425581183566, 15.892203723680822, 15.832762209831639, 15.789973863560531, 15.723219136578932, 15.65758467926838, 15.642378444835638, 15.559528259599473, 15.52679037250575, 15.52122533230954, 15.49291771643983, 15.451232220689743, 15.427434704834894, 15.351666309092492, 15.296002241766217, 15.253124283099563, 15.24554952560313, 15.196228821738794, 15.15866597905258, 15.082642584343917, 15.041001412870346, 15.016497092613305, 15.002869502794836, 14.926403935590244, 14.895776143966826, 14.825957381232673, 14.802806628292723, 14.782055428159198, 14.742501791793856, 14.692945300787175, 14.671502194813256, 14.615001464935116, 14.581008234737743, 14.547058930110325, 14.494575020112267, 14.48527219482335, 14.480537764649386, 14.409699554300333, 14.364582586612809, 14.342664668087844, 14.306125738061342, 14.248560906074658, 14.23130901688432, 14.173398679113339, 14.104336925265029, 14.100600828103538, 14.04380095461926, 13.991266264316405, 13.97470164306993, 13.93685092571216, 13.886729138387626, 13.856407477207414, 13.83023825287425, 13.784065935947554, 13.733912912033862, 13.708518741952448, 13.682115376877329, 13.61538904749321, 13.603195745314746, 13.568831942437347, 13.53219617511379, 13.485196735823882, 13.449767296120141, 13.410178905093508, 13.401910155914466, 13.329919887511203, 13.31191941500832, 13.250794355678627, 13.196412799931023, 13.157431842608284, 13.139568264463572, 13.098516960353562, 13.025525568615306, 12.98152992736799, 12.94795514859723, 12.893850495230282, 12.867787476143633, 12.816271217553522, 12.792609221299092, 12.728979296895103, 12.67509826018477, 12.67086395570939, 12.638334248699525, 12.577497280250906, 12.501228972293644, 12.48282050877055, 12.414693726238372, 12.343712253389212, 12.32833038965632, 12.25731648066741, 12.201963860666373, 12.192365518600276, 12.109387996339272, 12.025375616578284, 11.983504534308375, 11.936889100655904, 11.882848624371958, 11.857120438971933, 11.801786849208982, 11.761854467560825, 11.655657559394674, 11.58479818864532, 11.531538363992679, 11.458508881581494, 11.425428425374076, 11.346206068369497, 11.261648348472079, 11.239560495779005, 11.172770185789203, 11.148967580704696, 11.107028955067884, 11.045213714051332, 11.011852040091625, 10.90050910382568, 10.839765769919484, 10.804061552839539, 10.670864087682006, 10.565662819161417, 10.508753773702237, 10.476828714266366, 10.437257143798629, 10.2732604483867, 10.188630214456687, 10.139659831775369, 10.045756684400509, 9.90134677678646, 9.784930887225858, 9.693272796487527, 9.363432062758214, 8.571872475034944, 7.5813136469495435, 1.3218034509902823]\n",
            "148.45067557196174\n"
          ]
        }
      ]
    },
    {
      "cell_type": "markdown",
      "metadata": {
        "id": "C0LP4xu3IZLD"
      },
      "source": [
        "フロべ二ウムノルムでやってみる。\n",
        "\n",
        "> NCIが正常に動いている\n",
        "> 次元数があっていないことによる影響が大きい（スポーツの方が大きくなるはず）\n",
        "\n"
      ]
    },
    {
      "cell_type": "code",
      "execution_count": 82,
      "metadata": {
        "id": "Cibo_RicE0f2"
      },
      "outputs": [],
      "source": [
        "from numpy import linalg as LA"
      ]
    },
    {
      "cell_type": "code",
      "execution_count": 83,
      "metadata": {
        "id": "z0Pd8I_6ESY_"
      },
      "outputs": [],
      "source": [
        "def matrix_matrix(matrix):\n",
        "  AT = np.array(matrix).T\n",
        "  x = np.dot(matrix,AT)\n",
        "  print(LA.norm(x,\"fro\")/len(matrix))"
      ]
    },
    {
      "cell_type": "code",
      "execution_count": null,
      "metadata": {
        "id": "WzdlVwu9FHZn"
      },
      "outputs": [],
      "source": [
        "def entity_entity(matrix):\n",
        "  AT = np.array(matrix).T\n",
        "  x = np.dot(AT,matrix)\n",
        "  print(LA.norm(x,\"fro\")/len(matrix))"
      ]
    },
    {
      "cell_type": "code",
      "execution_count": 86,
      "metadata": {
        "colab": {
          "base_uri": "https://localhost:8080/"
        },
        "id": "CfPk0BIvE_CG",
        "outputId": "ae48d533-55d9-449a-ab3f-8d3aa96473c4"
      },
      "outputs": [
        {
          "output_type": "stream",
          "name": "stdout",
          "text": [
            "557.1671340715598\n",
            "156.31512822666159\n"
          ]
        }
      ],
      "source": [
        "matrix_matrix(A_bow_r3)\n",
        "matrix_matrix(A_bow_dokujo)"
      ]
    },
    {
      "cell_type": "code",
      "execution_count": null,
      "metadata": {
        "colab": {
          "base_uri": "https://localhost:8080/"
        },
        "id": "X0Fhq-RXFgX3",
        "outputId": "ac87aef0-9dad-41f1-f4c3-2bb2246a8184"
      },
      "outputs": [
        {
          "name": "stdout",
          "output_type": "stream",
          "text": [
            "86.46798898617048\n"
          ]
        }
      ],
      "source": [
        "#result \n",
        "# print(\"random\")\n",
        "# matrix_matrix(A_bow_s)\n",
        "# matrix_matrix(A_tfidf_s)\n",
        "# print(\"sport\")\n",
        "# matrix_matrix(A_bow_sport)\n",
        "# matrix_matrix(A_tfidf_sport)\n",
        "# print(\"movie\")\n",
        "# matrix_matrix(A_bow_movie)\n",
        "# matrix_matrix(A_tfidf_movie)\n",
        "# print(\"all\")\n",
        "matrix_matrix(A_bow_all)"
      ]
    },
    {
      "cell_type": "markdown",
      "metadata": {
        "id": "3a3F_5uvfuOS"
      },
      "source": [
        "## paper と同じoccurrence のmatrix"
      ]
    },
    {
      "cell_type": "code",
      "execution_count": 46,
      "metadata": {
        "id": "ScqNZaEyfyB6"
      },
      "outputs": [],
      "source": [
        "def get_ooccurence_MatrixA(matrix):\n",
        "    for i in range(len(matrix)):\n",
        "        for j in range(matrix.shape[1]) :\n",
        "            if matrix[i][j] >= 1:\n",
        "                matrix[i][j] = 1\n",
        "    return(matrix)"
      ]
    },
    {
      "cell_type": "code",
      "execution_count": null,
      "metadata": {
        "id": "oK-hb-YEf24P"
      },
      "outputs": [],
      "source": [
        "# A_occurence_s= get_ooccurence_MatrixA(A_bow_s)\n",
        "# A_occurence_sport = get_ooccurence_MatrixA(A_bow_sport)\n",
        "# A_occurence_movie = get_ooccurence_MatrixA(A_bow_movie)\n",
        "A_occurence_all = get_ooccurence_MatrixA(A_bow_all)"
      ]
    },
    {
      "cell_type": "code",
      "source": [
        "A_occurence_r3 = get_ooccurence_MatrixA(A_bow_r3)\n",
        "A_occurence_dokujo = get_ooccurence_MatrixA(A_bow_dokujo)"
      ],
      "metadata": {
        "id": "sTFuyflLFVu9"
      },
      "execution_count": 91,
      "outputs": []
    },
    {
      "cell_type": "code",
      "source": [
        "#従来のNCI\n",
        "compute_NCI(A_occurence_r3, len(A_occurence_r3))\n",
        "# compute_NCI(A_occurence_dokujo, len(A_occurence_dokujo))"
      ],
      "metadata": {
        "colab": {
          "base_uri": "https://localhost:8080/"
        },
        "id": "Gn9oLM9jFjXV",
        "outputId": "83944402-3d59-4a74-8d97-3b142ef6656b"
      },
      "execution_count": 93,
      "outputs": [
        {
          "output_type": "stream",
          "name": "stdout",
          "text": [
            "[68.82757488843836, 36.940794409536785, 28.928327469305938, 25.869304048328736, 22.976612297959065, 22.238608003181124, 21.677556493916306, 21.28009063637229, 20.58927652310812, 19.431153033902874, 19.363107295775656, 19.14571023249581, 18.607739864316642, 18.322424623017763, 18.126899622692992, 18.082336280722146, 17.882757947669496, 17.661274352260172, 17.516325100850665, 17.461086648315998, 17.405250520604827, 17.29208213685762, 17.178768237659863, 17.075571675775624, 17.00509680273699, 16.826588919963456, 16.66131553241756, 16.534675870826234, 16.423946050581424, 16.334839991025444, 16.29537864375701, 16.223327558938053, 16.067307505723512, 15.954524604469272, 15.88525295592102, 15.856244846297859, 15.780178485860876, 15.667582743685315, 15.56841860350299, 15.503920515137471, 15.437365960699543, 15.431226586237639, 15.295693773424926, 15.228408629885749, 15.175395557010756, 15.151876090616293, 15.117489871372152, 15.075390449552293, 15.007466083723365, 14.876551638650737, 14.820160261094939, 14.730355399802765, 14.701273969285726, 14.644453550208306, 14.634847851093497, 14.601562545402173, 14.489779991365074, 14.443815140062437, 14.359946917563246, 14.324364156146741, 14.27592432889323, 14.214125527109791, 14.18707933710137, 14.154272494273618, 14.135733749134497, 14.112513719667763, 14.073314972969689, 14.030300933435683, 13.992430784857678, 13.965463221323194, 13.881553470029456, 13.827712105503487, 13.820824395048813, 13.739872573605066, 13.712039413255885, 13.687299043025503, 13.63882815181551, 13.630845833923125, 13.545738804978958, 13.527951771534612, 13.500453476163983, 13.419126641132149, 13.386307328878164, 13.365659416682735, 13.330390444767913, 13.307720037880927, 13.245213030623134, 13.231873628451991, 13.204393023077678, 13.15555857846694, 13.12854464526272, 13.094054080811066, 13.058232029450476, 12.998998357803076, 12.959523275908838, 12.938471179687305, 12.932397176204233, 12.863671573937841, 12.851438910956144, 12.832813462197263, 12.804077546057789, 12.749026229991028, 12.68610544495532, 12.670739413574323, 12.645146234101494, 12.587872386980193, 12.573794412667821, 12.551843577454557, 12.53716670565954, 12.506691202551933, 12.472491483381216, 12.46641401997135, 12.405280884423302, 12.37225504578426, 12.352477466731237, 12.34867471137389, 12.305625311604945, 12.284283597615973, 12.268893988366449, 12.205531982376225, 12.177549697490662, 12.157304712230845, 12.15095077572467, 12.128858237083438, 12.089842125728007, 12.051241462622412, 12.018084899894651, 11.987500665680036, 11.956635297457105, 11.929333330348475, 11.918575951399262, 11.906938024553039, 11.861990379463036, 11.853775230679684, 11.827434481313473, 11.78912267247215, 11.778030744509408, 11.712393232316709, 11.693593245906817, 11.677117645463088, 11.63052051486473, 11.610565952709052, 11.595986317462593, 11.558259174486848, 11.54941490113198, 11.53105240116477, 11.477183674669192, 11.4605642066388, 11.451603559129296, 11.433498635498347, 11.379713753378836, 11.373844688077494, 11.355417461412456, 11.325826907803904, 11.316950709828253, 11.292468000075642, 11.271029129209172, 11.245170657203667, 11.225430844813898, 11.198805251486307, 11.149094926003874, 11.135269668669793, 11.110919656423203, 11.08447814717443, 11.074973469022616, 11.047352894508572, 11.01291727770695, 11.007127201470954, 10.979736546964396, 10.945603031918408, 10.940153247649304, 10.915744577592877, 10.9009558130032, 10.868463076397656, 10.855008582136314, 10.8506311187248, 10.803263947667622, 10.775122158612929, 10.75065236456697, 10.716359841074471, 10.675078675493845, 10.671201576626972, 10.66270996916942, 10.64362930405341, 10.593814346006612, 10.568802046163217, 10.525626481296982, 10.508861716204574, 10.487008144186476, 10.466088484122496, 10.437346923272633, 10.43074057466823, 10.394074758620768, 10.38488802214478, 10.356453008423124, 10.348891562778014, 10.309501996671386, 10.281387865129584, 10.27993809805081, 10.245834788879396, 10.228562738622506, 10.225642751423528, 10.199212319017906, 10.19415529576288, 10.161115273739828, 10.155136416313713, 10.127492042413596, 10.125845558668827, 10.095020827752913, 10.07312627133837, 10.055246846893017, 10.029795309820427, 10.003197122097767, 9.997792163597765, 9.978413265964612, 9.944237957331056, 9.926983340810727, 9.87762508761928, 9.856830818393767, 9.819409422116598, 9.815507388699686, 9.786491600760314, 9.767476986049445, 9.746884873738027, 9.725554412785073, 9.715428137403995, 9.684583949000523, 9.65879704620735, 9.6406865214839, 9.627991409781172, 9.600833258634951, 9.588823449271901, 9.57897528433443, 9.560873490298174, 9.550329488761063, 9.520282445226758, 9.510162589198675, 9.483319622740765, 9.455297104799847, 9.449320762971865, 9.420278378133084, 9.416997182204387, 9.386982724484135, 9.369938692349008, 9.35316848553863, 9.326177670168303, 9.313937243270546, 9.280221517676612, 9.246840320380626, 9.235622151662165, 9.224124250338772, 9.207357958147954, 9.191483836583675, 9.182701752188546, 9.170357023939271, 9.138184166729616, 9.123820213524601, 9.095503830552037, 9.080544315725701, 9.06778270193789, 9.03867269222395, 9.032927120053323, 9.022574967464545, 8.998523303193348, 8.983063203792673, 8.961080654487539, 8.939977260740577, 8.927124696153882, 8.89905799691714, 8.878616853597073, 8.861107561162816, 8.840325425463602, 8.830967578717143, 8.823169635415924, 8.80599537794264, 8.759961472159668, 8.728697852944384, 8.709017487534604, 8.703384397743783, 8.669466561560267, 8.664788320729906, 8.630961005885585, 8.609190253570569, 8.606510292541625, 8.596552908878605, 8.581892310123795, 8.558689292233517, 8.539293247768416, 8.52435926889819, 8.510804535340718, 8.475601647762609, 8.466043283739687, 8.441758317529303, 8.434470707415926, 8.418186545758148, 8.403102177047774, 8.383203088385427, 8.369045940472393, 8.360295454754263, 8.339903579168604, 8.31267702823098, 8.28949582308886, 8.277176350038204, 8.257774328106658, 8.227307695330648, 8.21675080292384, 8.20583791664465, 8.173139793035077, 8.165826316830772, 8.14558932164676, 8.126228482521288, 8.108028346949913, 8.091717666937392, 8.07726370713162, 8.06398059146041, 8.049506126254057, 8.02685005703664, 8.010293343579015, 8.006589013322838, 7.99634411577234, 7.968758690186474, 7.9626503876465735, 7.917027248588207, 7.907663224307191, 7.902195825566597, 7.883143851480249, 7.853792801525662, 7.837638248706348, 7.8341746977669775, 7.813468400597039, 7.784645490506964, 7.776896369557083, 7.7584017863694905, 7.744183117487463, 7.725841772087899, 7.722456385814726, 7.703139680637896, 7.690172197034117, 7.651862219210345, 7.636817641217454, 7.62097330244678, 7.599552118353988, 7.582929070116848, 7.580872577004385, 7.5562044908049755, 7.5301626866486036, 7.5132166076677604, 7.497598559506713, 7.488580389141878, 7.469599001125763, 7.457449402793717, 7.434974163395693, 7.424738466195229, 7.403585724598802, 7.37760153831112, 7.3642513098222615, 7.3584686661338035, 7.330370668613325, 7.318794853464142, 7.311345027719058, 7.303532889426598, 7.288591422900767, 7.253812359429435, 7.231829425167449, 7.2198869276939694, 7.211996681277347, 7.179596644654661, 7.176400834683854, 7.160714411811753, 7.148989701997618, 7.121608643137912, 7.119762292245806, 7.084672907260999, 7.071296994921427, 7.064058999795303, 7.04657088348037, 7.025804126871317, 7.000572628023467, 6.983777499618372, 6.965939128780206, 6.950503142613829, 6.9310697022922, 6.912236153478324, 6.905951718201422, 6.8785340176223055, 6.848324514509796, 6.842605711040378, 6.807672215688217, 6.77674960138194, 6.760859995892648, 6.752634314440311, 6.723686569335833, 6.702440158824439, 6.694604600028011, 6.683784679108264, 6.673429465105151, 6.644722590520381, 6.622695361924932, 6.610999036375394, 6.591521192039675, 6.550090856017569, 6.533168272698074, 6.519375998427717, 6.511596563469165, 6.506357057298576, 6.498471430556451, 6.460820626915481, 6.443397847268542, 6.4288345587797115, 6.394716442836591, 6.3853123012235535, 6.376574928492077, 6.3440990005115125, 6.283754358057102, 6.273748835451417, 6.261504676568437, 6.2355593204236754, 6.20920940177648, 6.19788778743571, 6.175751437755008, 6.173139025320187, 6.147672938834449, 6.1310096159257235, 6.107859774572212, 6.100453214498775, 6.074287087309689, 6.050504199372751, 6.007326533030434, 5.9811434639235195, 5.94126291095723, 5.9323218376253, 5.8976051104046965, 5.875899220924232, 5.865850604186454, 5.82177029315102, 5.7764948685028825, 5.744204926209001, 5.727906318414827, 5.655682049000644, 5.626975268673377, 5.57652793933325, 5.525795752700244, 5.511773137550173, 5.486863423199871, 5.460637302896259, 5.3979302630719594, 5.245973130014192, 5.232137016421027, 5.189779925968323, 5.103026866114162, 5.041540719813996, 4.792659891302491, 4.706795059751113, 4.669531361637728, 4.549632574549183, 4.495781327311851, 3.3358507518948195]\n",
            "10.787455457896542\n"
          ]
        }
      ]
    },
    {
      "cell_type": "code",
      "execution_count": null,
      "metadata": {
        "colab": {
          "base_uri": "https://localhost:8080/"
        },
        "id": "ezpjkYP1gC6G",
        "outputId": "0af178fd-c613-45a1-92a7-01bfa9f8ffd1"
      },
      "outputs": [
        {
          "name": "stdout",
          "output_type": "stream",
          "text": [
            "[71.96759972826027, 37.586880567692475, 29.31010471211486, 24.188142361675503, 22.59143050532289, 22.264584217851848, 21.230323441916894, 20.757519033013928, 20.180911430469827, 19.853978218953653, 19.264232442891043, 19.132176209780148, 19.046918525785564, 18.579306881207273, 18.432933095566646, 18.145443435964907, 18.023853970155734, 17.914496852098605, 17.673957081931714, 17.615725620697344, 17.477889086837504, 17.427630549765162, 17.15733249469873, 17.025136972123807, 16.9833776493116, 16.9268507109329, 16.833741173832582, 16.651020739643368, 16.581738267394066, 16.497731977595503, 16.46795285330985, 16.349871197494608, 16.219840600241756, 16.193350768939904, 16.12842851131614, 16.001091100149228, 15.976700157009386, 15.907113164711722, 15.879773530799172, 15.803591586536935, 15.790818469323765, 15.67813155594197, 15.656174000349324, 15.58777917703624, 15.511274110976801, 15.446208826505499, 15.365806738008127, 15.34727550426805, 15.265473025315483, 15.223865457971133, 15.159993859883713, 15.095979680534558, 15.05175201603578, 15.002193349291788, 14.979047008596394, 14.88596462603223, 14.82108537280965, 14.788132869512602, 14.749392163473825, 14.738782355004732, 14.669173526035658, 14.63042947131941, 14.582693706069973, 14.509906128019347, 14.472234762160971, 14.443270491313344, 14.401341704974795, 14.339707118613038, 14.330617333284671, 14.285123082698462, 14.278787806445834, 14.19483395613955, 14.155683722025126, 14.133823460727609, 14.096415583719033, 13.996803719560242, 13.94348265066068, 13.911894949707785, 13.840828242745134, 13.814329185182963, 13.761792192186746, 13.719732860971352, 13.644870862072194, 13.630093740741668, 13.570010841509392, 13.548787986399052, 13.538893633603388, 13.495328789081768, 13.470396498613239, 13.420721256276156, 13.397718904325448, 13.352744552085339, 13.346472106403526, 13.31448896321923, 13.2975979921946, 13.210353248367634, 13.194508560219806, 13.186874301810219, 13.162598378903757, 13.145425317673014, 13.123703223008507, 13.106978089138709, 13.048361986735022, 13.020290500881682, 12.967235095718538, 12.940906263675274, 12.920958283754665, 12.893819171972057, 12.859756053691413, 12.827098105606813, 12.763911040919595, 12.752341855521905, 12.723331973774945, 12.6955436376723, 12.630238054894466, 12.587168123845677, 12.57184355507846, 12.560967912899573, 12.519164014361548, 12.508121108838425, 12.469668182951366, 12.441700154981303, 12.39879379781886, 12.387813365714463, 12.357653964179393, 12.332977677485378, 12.31016462441533, 12.275110615454123, 12.222623509361119, 12.186065258473997, 12.171397368506517, 12.148545312720776, 12.10858981480922, 12.092130824224999, 12.080217106356637, 12.064111182122227, 12.014808840134982, 11.996117728636623, 11.964453545195369, 11.960277183551344, 11.944364958390382, 11.906317399221209, 11.877802905770615, 11.868743234033232, 11.838510982947133, 11.810635294454014, 11.77352510738322, 11.764677725787815, 11.728800119770181, 11.681010651898516, 11.647756661946984, 11.613216746184477, 11.597903991426218, 11.574760835216132, 11.55723155365574, 11.533440816675654, 11.504793157276184, 11.491720320800347, 11.461197650258816, 11.432299395344948, 11.408016059028945, 11.395021764149199, 11.387226407120568, 11.37293385420832, 11.328864024470773, 11.304322531182724, 11.289510436917379, 11.255904449124317, 11.24514436623849, 11.210644852270537, 11.198518318595347, 11.167246740408128, 11.145770229177632, 11.09598343785186, 11.08181165766487, 11.068811869055919, 11.05429814605532, 11.026479524606433, 11.011029338308452, 10.990772638795406, 10.969598494042982, 10.93865377446585, 10.910494092102963, 10.893618016254907, 10.887323089864978, 10.859450619952568, 10.822358554046959, 10.81180788551824, 10.775740218876242, 10.767595929910652, 10.739698992127783, 10.735065241495178, 10.718544663444323, 10.678877095402616, 10.672563086199492, 10.666639628906296, 10.652709531384023, 10.62199593885148, 10.613980218163924, 10.566121311761814, 10.5552513981933, 10.526559672070684, 10.521848052524302, 10.483322141182182, 10.469162356044786, 10.444907016097819, 10.423251271909395, 10.404779404444078, 10.370737591148032, 10.363679834496912, 10.332334499005318, 10.329460407087982, 10.30262458150153, 10.27247374903535, 10.252299233022596, 10.235731149493926, 10.214828398447363, 10.194650568033083, 10.18080493757182, 10.156349157845174, 10.139888465119402, 10.109662539520524, 10.097351021247157, 10.077532218390523, 10.061831738341253, 10.04909001367588, 10.023280863659405, 9.996591678664812, 9.987195260943627, 9.960708067543296, 9.94873681012195, 9.920003493298811, 9.916363526619575, 9.892729500742616, 9.865142072026465, 9.84518217372561, 9.819045093497895, 9.805334183226869, 9.800343517783594, 9.785159452829022, 9.747605253288592, 9.728708022225254, 9.717592098300415, 9.698605268538458, 9.670164516664672, 9.649886059613976, 9.62462222589065, 9.611026978754136, 9.59006826758937, 9.574993666723076, 9.562957871166164, 9.531162873581364, 9.520052138370074, 9.506807737235427, 9.474593584384758, 9.46687851576999, 9.458283637692029, 9.450822077668859, 9.40586060940828, 9.402499491244647, 9.375797139037344, 9.36660267940279, 9.336481806405285, 9.321320093491442, 9.305514358282272, 9.293865470486427, 9.25814428644353, 9.233523916636331, 9.221254906761644, 9.206159868091069, 9.193353933785758, 9.169079891844836, 9.141556455211656, 9.13642851572788, 9.111114392991903, 9.100958621733977, 9.077467123940655, 9.069396326650079, 9.047443747965072, 9.034867798235679, 9.02239211256194, 9.000257901287942, 8.988707317630535, 8.956742024037336, 8.94847715825101, 8.92616089318105, 8.911502399785743, 8.902053269009391, 8.886734188656714, 8.859058731226165, 8.847709527461536, 8.846136310297506, 8.825289980580612, 8.808920893252568, 8.793827992746502, 8.783038772780207, 8.747510119076997, 8.737799427535872, 8.706216213802561, 8.694063781788477, 8.67640949953853, 8.656852337103043, 8.649671376798423, 8.638447744539016, 8.603122265006249, 8.595903743751816, 8.589808042328066, 8.546285183115975, 8.534607826968212, 8.52736382720215, 8.508027721968842, 8.500592135045842, 8.482092357315254, 8.459846687148831, 8.442766292779432, 8.434337190310101, 8.414890094534504, 8.403137940901166, 8.390588900452485, 8.366688680704959, 8.352152452939848, 8.332523612694919, 8.325683394417002, 8.303047375061118, 8.290720584537766, 8.276799443360876, 8.261405479568403, 8.238031267917648, 8.226319987193785, 8.191103193039236, 8.183001253745786, 8.168775445328565, 8.13422100847184, 8.126259768383973, 8.098627330731505, 8.082373154034741, 8.077857223439954, 8.07012487917497, 8.064480053765864, 8.044744664715328, 8.03225449302507, 8.001523937603475, 7.990132483767348, 7.9796579697976595, 7.970156300692594, 7.952636402410719, 7.942892788917029, 7.923045525482424, 7.902419321261207, 7.897206599761373, 7.887474797910087, 7.870127131995389, 7.852671530013335, 7.836774146445397, 7.821283558991835, 7.815397221624946, 7.779019590636108, 7.767277815469457, 7.7440894417968416, 7.731057601779965, 7.721182197643744, 7.703471881321583, 7.693820872409806, 7.674928540133783, 7.663370916203605, 7.648812422378487, 7.620060710903601, 7.606002532708744, 7.582511354843053, 7.552180082760445, 7.547599990955494, 7.538280223063393, 7.520726372729633, 7.504224150770981, 7.484466171773812, 7.458973375407454, 7.448682219306622, 7.424667890962775, 7.414837343988176, 7.391730267047908, 7.381305319033361, 7.368698627001421, 7.356156006239623, 7.352309645890425, 7.331843954190908, 7.307217985729994, 7.302242021750482, 7.280329129483928, 7.259637847422099, 7.246433102479172, 7.23596583977005, 7.225478408728008, 7.195883579510989, 7.163792517337461, 7.159933693442762, 7.155170135851462, 7.129916749392252, 7.124851705793953, 7.094835473434765, 7.0919063958156485, 7.065507681736874, 7.052509808719776, 7.048047320529915, 7.019329307076905, 7.015544627950407, 6.996674204407726, 6.982125889682489, 6.955154646889283, 6.9507665483558725, 6.934106315006918, 6.910935962466482, 6.884019183863179, 6.869856027935256, 6.858560863909227, 6.8527897689161374, 6.817935927626647, 6.807805424009506, 6.788032950719619, 6.7761711251548835, 6.76857122587531, 6.751849322319411, 6.7322882089655405, 6.70111315013376, 6.6885731091679945, 6.686456125304592, 6.6613648050512575, 6.653133970682964, 6.637671576486813, 6.622723340230448, 6.593918659544873, 6.571842521197385, 6.56073196878286, 6.542710069218209, 6.506001343054085, 6.502019981787349, 6.482743783441754, 6.472331114405019, 6.456089569569762, 6.4350481515803715, 6.397134969446315, 6.3742705361771534, 6.366330795795427, 6.356970959969995, 6.354603410365509, 6.320152198705772, 6.305925782171272, 6.2858593813395816, 6.2747646376662845, 6.269069144123593, 6.24077643390946, 6.197435399428855, 6.184436241032544, 6.179662228632578, 6.15442683203902, 6.1168914479614545, 6.105332671261735, 6.095099633192997, 6.056039678973693, 6.053274608772249, 6.03262156986598, 6.00253730812558, 5.970764003354487, 5.939590387371998, 5.92243211307987, 5.913924513269675, 5.898775802323125, 5.8668076719270195, 5.841184454412509, 5.820475448791086, 5.777043223899142, 5.756475796676524, 5.7316448986093365, 5.680311940518742, 5.663368332628596, 5.614686414366836, 5.602964182782088, 5.573087646136088, 5.545272327278416, 5.5012515932303305, 5.489089871916348, 5.466355085029677, 5.449491312530898, 5.429013659023519, 5.376545350432981, 5.327659077165548, 5.27453918379581, 5.2614875042028, 5.230617203158772, 5.162559829823346, 5.121101735409228, 5.08764811397382, 5.010514028254625, 4.910773034190125, 4.839321493949049, 4.732618776059875, 4.629383819313895, 4.595907556419346, 4.463178853183226, 4.449034874295131, 3.7298537033727177, 3.196095628943881e-14, 5.77500889686075e-17]\n",
            "10.694344121359865\n"
          ]
        }
      ],
      "source": [
        "#random文書従来のNCI\n",
        "compute_NCI(A_occurence_s,len(A_occurence_s))"
      ]
    },
    {
      "cell_type": "code",
      "execution_count": null,
      "metadata": {
        "colab": {
          "base_uri": "https://localhost:8080/"
        },
        "id": "qjpLXu1phoyC",
        "outputId": "e5365e89-2e7d-4433-fcf1-3267e798d004"
      },
      "outputs": [
        {
          "name": "stdout",
          "output_type": "stream",
          "text": [
            "[63.0896656282631, 25.949156123991774, 24.220134827332558, 21.318445392777875, 19.844371846261208, 18.303422896328097, 17.838986185119452, 16.576423493631165, 16.20581138301214, 15.680131912733266, 15.526509292779457, 15.381601229423051, 15.295104936128798, 15.02298581285888, 14.942723688815112, 14.907955170050888, 14.638222056818908, 14.550202335415749, 14.420992252777555, 14.303918658712282, 14.16237369243517, 14.077360446813938, 13.976326149548376, 13.918703372804872, 13.747959316403975, 13.7081426107358, 13.657238748055631, 13.62166875117156, 13.502941197477922, 13.429642504505074, 13.298040264612567, 13.26803736995999, 13.20639088591491, 13.119332260470808, 13.082231085475593, 13.050616369450333, 12.978137530750313, 12.953946293954319, 12.901306724473868, 12.874199737029384, 12.796155388532311, 12.784417312034059, 12.690058314232543, 12.665514129328605, 12.649874130143811, 12.614243787113326, 12.544438684855269, 12.535040038291752, 12.39179008498918, 12.354520822790914, 12.338678087551168, 12.279358795640421, 12.264035566154005, 12.26210004946908, 12.18560320381835, 12.16477141327217, 12.10089960419921, 12.00603825525565, 11.955160601124554, 11.940533384235971, 11.928814520092129, 11.84148850784492, 11.83594338457565, 11.802535313822249, 11.782619923650566, 11.750795622960297, 11.713255753558837, 11.667535185189399, 11.638658704145946, 11.609706950531306, 11.54935867676747, 11.525187509461142, 11.479693463853634, 11.462377301719613, 11.413591676786162, 11.380467068781225, 11.329215166707423, 11.291591405725024, 11.271134810731104, 11.22884036887449, 11.210062467118005, 11.184184756569904, 11.149214557754743, 11.125104117333054, 11.10616464292306, 11.091568506911992, 11.079343068149658, 11.002991671081901, 10.994037904223568, 10.95780654954613, 10.914904764290092, 10.89763710119651, 10.867358171253882, 10.820014248593003, 10.793518032483451, 10.774616562835115, 10.738103366607579, 10.707184672714712, 10.679709722642212, 10.659248852635598, 10.635552942614288, 10.611118172092896, 10.582561174690591, 10.556813213382839, 10.52114543002707, 10.486180747964127, 10.472072030054033, 10.455561388865169, 10.436334069266325, 10.395590221082822, 10.370737335314637, 10.361297598036588, 10.325056003294067, 10.297729394876324, 10.249499712985758, 10.230619324814494, 10.222404902964245, 10.197139906699949, 10.193969118330639, 10.155103409224623, 10.150913224705016, 10.134920217204556, 10.077679598314818, 10.038738278789056, 10.030938536813938, 9.999631216300996, 9.99113673472872, 9.972913626572698, 9.957729977147709, 9.91931176578323, 9.912991394575164, 9.909272541838225, 9.881234435212935, 9.855680482970914, 9.832048365405583, 9.813384015285756, 9.78960326176268, 9.768675406590301, 9.745469033771258, 9.717091952323162, 9.680047751804516, 9.67270670001266, 9.656222659650275, 9.633597280190719, 9.625455795155448, 9.593297646126075, 9.550174908303942, 9.538401627557, 9.524948678456239, 9.50807935791851, 9.48145992015007, 9.46342843090751, 9.444857526828645, 9.406857910483202, 9.398531340532688, 9.379891271744082, 9.347535069139582, 9.335349204771283, 9.331674403511535, 9.3115506921638, 9.28408958720876, 9.259890526914702, 9.24844764759812, 9.236329779773385, 9.204229708503982, 9.186418417020883, 9.179200916781141, 9.157064065629802, 9.135859376463605, 9.123250074037944, 9.11451935541976, 9.101285429742271, 9.067523894454359, 9.043873647589974, 9.027532438489079, 9.005224733824143, 8.993503912068443, 8.976281792515703, 8.950115043562763, 8.930360543232238, 8.923231467753324, 8.908727014045821, 8.892996756216373, 8.873266657007719, 8.85435871200281, 8.834762408606712, 8.818288334164052, 8.809910150767129, 8.798506994843383, 8.761416942153566, 8.755040294931584, 8.733577672085707, 8.724995148145545, 8.712965886582703, 8.709327291843207, 8.680467487817841, 8.6515594420045, 8.636256912210657, 8.616312616920196, 8.60001683368983, 8.569120878689528, 8.560616403440546, 8.528583711230626, 8.522832642149078, 8.499419110493195, 8.480550414894184, 8.47158895935207, 8.446669939099783, 8.441074542220441, 8.4225839831904, 8.407433752346776, 8.403903716125912, 8.390191757888273, 8.373631620583291, 8.365766321380415, 8.33322532615261, 8.328042425496932, 8.30965569133936, 8.279722863835111, 8.263109618544322, 8.252964344860347, 8.226000441011164, 8.205980056530477, 8.198244438072605, 8.195186644791141, 8.18156176594813, 8.156791910621841, 8.138452102115425, 8.132641480808184, 8.115525574163726, 8.093245740141581, 8.084120688995654, 8.071986636683572, 8.056693472085525, 8.039317799796473, 8.025719884384177, 8.009717699542277, 8.00124587726939, 7.980739115706804, 7.948898014456411, 7.9483147459924615, 7.925728422587454, 7.911520629814988, 7.898918265305228, 7.896528103853631, 7.860411056315392, 7.849325243552965, 7.831919967202256, 7.82580372076725, 7.81564015539307, 7.802046640546188, 7.776502822972576, 7.77354271972705, 7.766125019024371, 7.738542559124316, 7.730674087210811, 7.728715364128833, 7.711219833082042, 7.698954232803003, 7.687197755397429, 7.654845588537503, 7.6492224287603765, 7.630733130605216, 7.616652257197075, 7.605587795683743, 7.590975034766519, 7.566109429097439, 7.55101390105661, 7.546707930296829, 7.540135646459935, 7.526706434254899, 7.507390360210923, 7.4925400656416965, 7.470532235340584, 7.452879556443439, 7.432316404083833, 7.422057448367799, 7.4134396052382225, 7.406862889883751, 7.404650932303287, 7.39011358681508, 7.367511430908894, 7.357801203731739, 7.3517320013686, 7.333274597172524, 7.328561583464009, 7.308140068672264, 7.3035109655707, 7.291828634653036, 7.272079974072586, 7.264351764305673, 7.250493186855644, 7.23561269779524, 7.208269075009236, 7.196335696115978, 7.178069109800653, 7.171517477917082, 7.163828146495729, 7.141323522899576, 7.13385516112217, 7.129972225341513, 7.115527974453469, 7.096933555911105, 7.0917841763215055, 7.080373952784297, 7.0739933839561635, 7.049903512915875, 7.036583069206991, 7.015803552466565, 7.010873338170303, 6.995326724635436, 6.989052869343637, 6.981120089270666, 6.9683650824801395, 6.9527112131135915, 6.939436191545966, 6.933796316657759, 6.909898902149483, 6.905300524170488, 6.899669140520466, 6.877855676937681, 6.876647673849072, 6.867126906619895, 6.855590530555134, 6.832393071838052, 6.82670019788622, 6.8132787928592355, 6.811441992870366, 6.790084639904956, 6.78712936268824, 6.769457459207538, 6.755020429243958, 6.747598053561107, 6.739423250430975, 6.729699138264454, 6.711481279893924, 6.691278776347647, 6.6837421490054325, 6.67138254562322, 6.661951881701483, 6.648379309390141, 6.635611606649148, 6.628752002998749, 6.605993452933513, 6.5948032369610345, 6.5848911601006, 6.579097325748857, 6.572617810337803, 6.5629801449647065, 6.543064032396109, 6.524628996816947, 6.521263004781613, 6.510725153878474, 6.50588412547714, 6.494828871064789, 6.466580664429953, 6.461798630229207, 6.454996528436545, 6.443755297761762, 6.431429370553518, 6.429930581232308, 6.417667559618378, 6.402948406007121, 6.3962479933075125, 6.382326466872393, 6.369218788779031, 6.355284805111709, 6.3360333206537165, 6.332036324538683, 6.316737872633443, 6.314489627672631, 6.296977227958659, 6.278524763060416, 6.272656187038094, 6.2634516007213605, 6.240635089071587, 6.237528295911406, 6.213315200947372, 6.202775292602851, 6.18740567425594, 6.183215826612263, 6.160294171177483, 6.148959618861224, 6.139247695540357, 6.12754389021214, 6.104949965942051, 6.093188827172775, 6.0713903621878975, 6.0638651465419935, 6.0527731795535455, 6.04221103664366, 6.036559468502826, 6.015746912165324, 5.998694699252298, 5.990581529599671, 5.967739862084626, 5.957019880240264, 5.950357852705401, 5.942004702811517, 5.927032629030053, 5.921349650109136, 5.905749517183957, 5.894287248632589, 5.87714366619417, 5.875589026455541, 5.8639560986223955, 5.845317032844998, 5.836159448457467, 5.8090723291734205, 5.803689004048893, 5.795807298464417, 5.7845472745720965, 5.778971111639379, 5.765387327219109, 5.761508094141229, 5.730529681874713, 5.722681096456288, 5.706361784268147, 5.698795623095792, 5.69258839585623, 5.67172326334707, 5.666684202966535, 5.656391969104285, 5.649417934695721, 5.631380571759047, 5.626707780802821, 5.59249709160015, 5.58871031089203, 5.580844755708762, 5.566212011197035, 5.563190276928196, 5.553398658547539, 5.545270223465798, 5.514888128256321, 5.503341382292415, 5.488351942092824, 5.4869538287564925, 5.479197897954597, 5.464424657157325, 5.447229005369591, 5.433749442513018, 5.432119454629484, 5.412839916912318, 5.3982079395816145, 5.391966462445568, 5.36940543902406, 5.359402549227044, 5.347656250997775, 5.329355517954821, 5.323756219710546, 5.311973108768343, 5.304847879462611, 5.285309212596305, 5.259610300015945, 5.25277861104391, 5.245451894112421, 5.2254972484016, 5.215554856298755, 5.209368382796947, 5.1970598576806175, 5.175325517612531, 5.170429894494601, 5.144683194316513, 5.137809081574571, 5.117856073944235, 5.106240826986347, 5.093796144543067, 5.069695932901899, 5.067485581647494, 5.051142386341997, 5.021406150406389, 5.010368799182739, 5.0012849662557155, 4.970392676128476, 4.9650298822266326, 4.949360081842189, 4.945323149116782, 4.928317123487054, 4.919673743570465, 4.895274038957504, 4.882575917431702, 4.86247575344848, 4.855711654406354, 4.836824527728245, 4.792361202317659, 4.770384484672971, 4.7647286415733605, 4.740755740482415, 4.701983227334887, 4.6889444763338775, 4.655417182611444, 4.613045207698151, 4.566653963479376, 4.550246397578038, 4.470630693021438, 4.420784348523604, 4.3927783342911395, 4.371359379033682, 4.292901139662674, 4.198355670358909, 4.143010509800342, 4.028016858065732]\n",
            "8.04155586083678\n"
          ]
        }
      ],
      "source": [
        "#スポーツの文書　従来のNCI\n",
        "compute_NCI(A_occurence_sport, len(A_occurence_sport))"
      ]
    },
    {
      "cell_type": "code",
      "execution_count": null,
      "metadata": {
        "colab": {
          "base_uri": "https://localhost:8080/"
        },
        "id": "3C1ng5nsGp5X",
        "outputId": "b6afb162-ef84-4341-f951-16d6fc7d70f1"
      },
      "outputs": [
        {
          "name": "stdout",
          "output_type": "stream",
          "text": [
            "[94.01059285323997, 37.08768726147807, 32.16686558154514, 27.004273716367056, 26.732674177060858, 24.73744356268732, 23.365650966559247, 23.331259491603827, 22.10399130787826, 21.679980900033325, 21.452801015343496, 20.821250843157483, 20.618782798842687, 20.487885314843787, 20.24703594646908, 20.205166638374187, 19.925597061260287, 19.816845287591125, 19.736062753251524, 19.368298295001733, 19.31696706843777, 19.12631602438079, 19.028763047694063, 18.83197003259341, 18.762519285813003, 18.574005676319764, 18.516499383015, 18.38006597553616, 18.266560209068075, 18.15060099286349, 18.068206138563472, 18.00224615280675, 17.930944000323787, 17.86442842669776, 17.787294205461055, 17.701687551618914, 17.640391985561646, 17.521691121456392, 17.511418030868143, 17.421719358291327, 17.31984467870258, 17.24873393712501, 17.220909569685233, 17.144705403008334, 17.05786007551702, 16.974133125666736, 16.904699773222177, 16.900371615356143, 16.7749255136754, 16.76503304498592, 16.669613307148786, 16.622908634228555, 16.57826502112869, 16.545995201508816, 16.438063895380925, 16.42403691560144, 16.354922913188076, 16.305541371436554, 16.294573197124024, 16.205295452414155, 16.18627871570506, 16.134202127384555, 16.082307002491955, 16.015977208873625, 15.954027808642573, 15.918034724215625, 15.864956910209377, 15.81709264290729, 15.741977143473958, 15.726234411654088, 15.675560936872877, 15.666020823777915, 15.601394384443099, 15.525489833992369, 15.44619791607664, 15.412144689745332, 15.372537182203546, 15.360538271701598, 15.328072151788023, 15.303625354485934, 15.273325552853555, 15.192236714570178, 15.155111754604214, 15.131190566346167, 15.07215179012495, 15.02738696349285, 15.001266209247442, 14.965842855102288, 14.915355054324309, 14.841955759323346, 14.779038847786518, 14.74923945906188, 14.703243706773216, 14.694191929856308, 14.652563906305232, 14.59560490951975, 14.556713307059345, 14.507292166488492, 14.480100063172332, 14.454906290027562, 14.402894871183689, 14.3851015388463, 14.357265196575192, 14.316327833892734, 14.252748820134457, 14.24076937085972, 14.193889837201183, 14.15016717429085, 14.123212891554108, 14.113355139834786, 14.053934535676754, 14.01764076261773, 13.995627596961432, 13.984044388555501, 13.934633505544765, 13.886248893263307, 13.868108635616021, 13.825027723661002, 13.789662213780638, 13.776809987777394, 13.73415517288359, 13.698357394009586, 13.664974702654845, 13.642636062196258, 13.622266484668968, 13.590799524159877, 13.524099361333354, 13.468658490558596, 13.465757372199393, 13.445768655152307, 13.427598782684756, 13.392771893065312, 13.368998728522481, 13.339647117718698, 13.29935752578397, 13.281089834220513, 13.225782659111053, 13.20140727368232, 13.18425161781405, 13.13151661193809, 13.103605976743417, 13.066649624734875, 13.028166341200127, 13.00868338085977, 12.973820398781754, 12.941733075041816, 12.916733996398344, 12.894582777430948, 12.860944576109642, 12.813010225339422, 12.80419965596786, 12.784601846017686, 12.759632574199195, 12.733344849004736, 12.695095784956434, 12.671437618790382, 12.65272213745057, 12.595994557194372, 12.584572526997913, 12.558553386703348, 12.529714966537233, 12.503367922514759, 12.473783667033477, 12.445613340934734, 12.428676294401765, 12.417315272854552, 12.374831504136349, 12.328994712299918, 12.291949131212641, 12.282392842903914, 12.268935145319452, 12.235393753755659, 12.212987844184191, 12.159161159143917, 12.152804418996984, 12.128407658906847, 12.078742092081175, 12.057193700706117, 12.05006971676799, 12.022073462867207, 12.00086667899482, 11.969671958483511, 11.943603331343464, 11.935997646097496, 11.905456401275979, 11.878386830996655, 11.845444035917541, 11.834530839672913, 11.79267059769558, 11.786205578717746, 11.75656956854451, 11.753705839618874, 11.73292695600522, 11.668139537485803, 11.663989938093337, 11.630874256147914, 11.615262245342937, 11.598761573882976, 11.584635937947086, 11.561966943203661, 11.532046279497882, 11.511954481119917, 11.475826226623957, 11.44426800771537, 11.42587818430844, 11.408072984117213, 11.391524756896164, 11.364179365041801, 11.350233328730555, 11.342961549958128, 11.309743336221569, 11.27686435877958, 11.25220836584588, 11.23303642519611, 11.219735114618775, 11.197564213786418, 11.14362678559254, 11.134585998243594, 11.113774484296517, 11.087554096015237, 11.04508815442231, 11.024458102875396, 10.99857098439477, 10.979273133071596, 10.968156667457354, 10.929660853719861, 10.89620804618118, 10.889781041914379, 10.876092989735593, 10.854971406845054, 10.830877709514997, 10.821863021806132, 10.802807941902811, 10.765954437693711, 10.739508611162853, 10.714631366162644, 10.69577131821942, 10.680430020973187, 10.650091667587036, 10.608941434326942, 10.597538411626665, 10.57624879847653, 10.53664531885667, 10.526745827002056, 10.489843626779729, 10.479648087827549, 10.45789642581338, 10.4425420389475, 10.418683250632233, 10.411306710441181, 10.370406165176965, 10.357934521555341, 10.336584228042677, 10.304694334018613, 10.288118772745317, 10.27694474625503, 10.260773889425527, 10.232889668723272, 10.232060399181174, 10.182550694387027, 10.171130399543863, 10.13886190547237, 10.133032612755175, 10.103612989718718, 10.100342091715826, 10.091473469733977, 10.073488005541243, 10.019741350398663, 9.996827407032992, 9.973506851183208, 9.965296019553824, 9.960349745611872, 9.938319782226158, 9.92105793134329, 9.894305588890463, 9.881013444500129, 9.853215628079266, 9.840763567535506, 9.821438515540653, 9.814062423405842, 9.784191933515197, 9.75453815695098, 9.735662976739835, 9.72267596959593, 9.70761605438665, 9.671300055967299, 9.661830634971157, 9.656278945537988, 9.623210945672927, 9.584824791658935, 9.57340488291407, 9.561609303106234, 9.547052248468379, 9.524389823714106, 9.503829570685014, 9.497253943572499, 9.478981228180801, 9.457793682150694, 9.445470837560968, 9.414788878296608, 9.406494972577192, 9.369525166474407, 9.346888391684184, 9.336506109045596, 9.323023865708487, 9.28962628473871, 9.284801537461291, 9.273026503668172, 9.250992394615137, 9.217014967613576, 9.201207292982067, 9.189404946701291, 9.16590774164357, 9.153483737538377, 9.138211866426168, 9.111717525539165, 9.088631575180262, 9.063588634435574, 9.046200934878012, 9.03208584354383, 8.998703825694655, 8.975039593790273, 8.967810034206762, 8.952784283677099, 8.93804828355293, 8.9079368141479, 8.8787758966482, 8.871997390695674, 8.860779739405343, 8.82544636264821, 8.819483581150932, 8.810037105758758, 8.771809561098689, 8.755943418378477, 8.716069005415067, 8.701268794442106, 8.696243888209098, 8.680224883039575, 8.652420125695091, 8.637877141346555, 8.607438113858063, 8.603386126504814, 8.570439206278426, 8.541588149377255, 8.533765265927258, 8.529186127293348, 8.491361701193268, 8.472045809490416, 8.461889793349732, 8.441467887733161, 8.429805364338012, 8.402998441536003, 8.39197828859055, 8.372061708802152, 8.332007749845111, 8.323061298059613, 8.31458611219367, 8.30113499724434, 8.275495111394457, 8.248480804163405, 8.23183549211208, 8.201290943431287, 8.187200103437885, 8.156980234712497, 8.15012709277144, 8.13168024068844, 8.097360270718326, 8.086985303013437, 8.049337750299971, 8.038853950214243, 8.024043020199018, 8.007302139188761, 8.00356213754266, 7.981563898756896, 7.961476178611388, 7.945497981621039, 7.923158693493428, 7.896288582196693, 7.8682621242294815, 7.851150526114811, 7.844829497637215, 7.816431270494942, 7.800256890898728, 7.78524084720934, 7.758855288329494, 7.744727516870757, 7.722782881234279, 7.679065982230071, 7.673426999584992, 7.650829116567554, 7.634976697372652, 7.631348884888346, 7.583913082488482, 7.56875517770133, 7.560241227863181, 7.531194455099111, 7.517627911396472, 7.470637679604361, 7.46483445301797, 7.454458630929364, 7.431672116985706, 7.419897817540851, 7.408840140912456, 7.382468427957948, 7.344330313209224, 7.336218479750679, 7.31255912305926, 7.2740363841662266, 7.270459259820496, 7.240200717111145, 7.2275533707251585, 7.218942547177534, 7.195170974332718, 7.140595903833527, 7.133352701412851, 7.121860862533766, 7.094935075102958, 7.078140908404863, 7.023282316795459, 7.008708809414032, 7.000243817810493, 6.972969024769125, 6.949273834400857, 6.938436754925028, 6.902379977304104, 6.888760740544681, 6.876325448964771, 6.865830314968935, 6.834381866009345, 6.819596409534386, 6.785351666710797, 6.732917043356648, 6.72492131545409, 6.71783746575214, 6.714123327379429, 6.678978374603009, 6.6279576604804635, 6.585735534852812, 6.572038666118066, 6.542081583004517, 6.523494865533298, 6.501950237812801, 6.4863639450082164, 6.473755837831752, 6.455884266102444, 6.409620580355227, 6.3939104913249505, 6.367785334997582, 6.312488750483345, 6.3019101448942205, 6.247153803722347, 6.2314506993997245, 6.219258645642025, 6.184566536010952, 6.162756841639199, 6.133607091549996, 6.092280602191642, 6.074464855651955, 6.05073792864758, 5.99039844065286, 5.934549307042552, 5.912923612628521, 5.886615242360487, 5.839221822116581, 5.832840453279299, 5.819862620980927, 5.81607889239911, 5.736860445153581, 5.701523858311906, 5.672540381388652, 5.646904391136032, 5.604824971312057, 5.559603375618573, 5.516503792948886, 5.506418234731538, 5.431256141290291, 5.3575666602213445, 5.274560894314883, 5.246892039674606, 5.199823861885485, 5.17690678406548, 5.122781693321822, 5.034276149738475, 4.972071610596762, 4.956315977290118, 4.847352725680812, 4.713635650853375, 4.68898879241469, 4.282110880078424, 1.3924709965802535]\n",
            "18.25385409043958\n"
          ]
        }
      ],
      "source": [
        "#スポーツの文書従来のNCI\n",
        "compute_NCI(A_occurence_movie, len(A_occurence_movie))"
      ]
    },
    {
      "cell_type": "code",
      "execution_count": null,
      "metadata": {
        "colab": {
          "background_save": true
        },
        "id": "VAWZFPJehmqn",
        "outputId": "b5a4c270-5d08-4b5e-b260-665980f88baf"
      },
      "outputs": [
        {
          "name": "stdout",
          "output_type": "stream",
          "text": [
            "[196.95457339606193, 102.07845830699358, 75.39217427719079, 61.79279307857843, 58.71525265969506, 53.92163129105293, 51.94509553354444, 48.580264441526225, 46.65441421517048, 44.62618442055234, 43.10800767737937, 41.887104562733455, 39.01310461640011, 37.805425450671, 37.2383800395256, 36.224353567862735, 35.68471656734948, 34.47559296335899, 33.91223367483864, 33.27866950353736, 32.97961908674129, 32.83541111363956, 32.43878244301578, 32.18204457302448, 31.852111150329872, 31.501935411967576, 31.206723128767447, 31.09992776087236, 30.771617945671828, 30.409154387899964, 30.341467003778664, 30.22674565738896, 30.040833036806788, 29.806178817457194, 29.652366296163606, 29.424688355550007, 29.299063624213836, 29.061060794393605, 28.957759900893976, 28.803306175265373, 28.588269800228957, 28.50817358534861, 28.431928961707865, 28.222910511354094, 28.135748183468845, 27.949845593095183, 27.871613441815164, 27.752839011658818, 27.646945402554923, 27.634325582535617, 27.43488127216775, 27.410715465092817, 27.357264829843135, 27.104834608219107, 27.035364675855394, 26.917243212556187, 26.818413884085636, 26.68323254622582, 26.597258273595813, 26.527964654469812, 26.474474533875583, 26.34715377073082, 26.312486854472464, 26.218946972679188, 26.150561305463203, 26.097751289630175, 25.962617912759683, 25.914974131730233, 25.81217638615514, 25.771952509743766, 25.721842078091214, 25.669051476664904, 25.58848339959615, 25.523694615321595, 25.468299762076914, 25.3724546188057, 25.281994734475305, 25.211740048266762, 25.12847892434931, 25.083039197579275, 25.028902391870773, 24.95734589638722, 24.917618591905843, 24.864807784234497, 24.783807014898507, 24.70726124132861, 24.68405487274027, 24.606733499664603, 24.538972558264945, 24.480549428113644, 24.436854928004763, 24.413106861993008, 24.349748075012645, 24.27318320782826, 24.23864245199447, 24.224130264201623, 24.162194778343782, 24.092284557807968, 24.035819370449364, 23.986221335084025, 23.94587208372346, 23.823539055239788, 23.80759857673034, 23.7124346836755, 23.684954664084106, 23.620108918270102, 23.589945163417337, 23.554853310232076, 23.515081935950928, 23.461022976043655, 23.400071382804523, 23.35794872317096, 23.31607615648243, 23.256519941349957, 23.225541281231767, 23.193859314020877, 23.164001013161673, 23.133794256314083, 23.110316280851226, 23.034903191812916, 22.980184162385203, 22.94291175909542, 22.88716814072841, 22.853429400460907, 22.787757009035005, 22.728143594568127, 22.69424466777613, 22.660367940798174, 22.63912644517005, 22.612952890825127, 22.56242228427899, 22.514561330916354, 22.474051903547572, 22.44643657283645, 22.383399000480388, 22.334718945514563, 22.320569365263896, 22.28599432591076, 22.259572686975023, 22.207155582388026, 22.190306570619413, 22.16521818742204, 22.113538424748835, 22.076483378283232, 22.04992596952811, 22.02180939760213, 22.00000920216504, 21.951357980444453, 21.905966090427714, 21.895838397626154, 21.867434583492145, 21.805229861744333, 21.77145497998107, 21.719604848586293, 21.70647362437421, 21.651742510464658, 21.645617073048243, 21.612645333392443, 21.55062889008362, 21.504159056359036, 21.459226808941278, 21.45254125197296, 21.43242762072943, 21.39444430908473, 21.369278451432542, 21.327651917318597, 21.29381339138591, 21.274863446636147, 21.229067472597723, 21.213521070112094, 21.194623291509632, 21.133633009582066, 21.113745420459928, 21.063166178511267, 21.039815181215626, 21.02750066034858, 20.98564449114999, 20.95157138313064, 20.93822529544509, 20.889406986507208, 20.859142040073195, 20.82765183750438, 20.78266958532344, 20.76511712488675, 20.755513122757574, 20.733902819228746, 20.704574322888483, 20.66214660949369, 20.612994696101126, 20.589712155125728, 20.57546600245029, 20.5286758149474, 20.52413600431547, 20.514980324489663, 20.49287657909371, 20.45566487147196, 20.416479921250772, 20.40553372904385, 20.393868137247654, 20.352421425779514, 20.340357178075656, 20.31523580749645, 20.285149411346044, 20.263206916697374, 20.237595612538737, 20.20811441993879, 20.18585142589914, 20.171169797141243, 20.119848848023565, 20.094125428045622, 20.079001052724504, 20.072772271687178, 20.049779366628464, 20.04590388996297, 20.028785013937497, 19.9690310052563, 19.931601447009356, 19.884607419021716, 19.863437509870494, 19.843715816510624, 19.829810903336103, 19.820757087678363, 19.778628130593642, 19.739501926259425, 19.731202609006274, 19.70057392251259, 19.66822945465086, 19.648403312965783, 19.63393352974061, 19.607741590773866, 19.579518372918443, 19.56788562937562, 19.555803982708603, 19.517798699091664, 19.494984043935787, 19.47737926459162, 19.453961700618876, 19.435365303098376, 19.406003022316497, 19.38399376949718, 19.358387946589836, 19.34827438034222, 19.324717323532226, 19.306039356882167, 19.270134594778657, 19.247608249791543, 19.23032864154516, 19.212220477522997, 19.182274972552992, 19.173179893577707, 19.16090626126206, 19.14964332229811, 19.140103867216208, 19.089599129499508, 19.071407176808677, 19.02844048833118, 18.99680057746787, 18.98816260663589, 18.976472491562, 18.956948319513256, 18.94194213819788, 18.924945315992204, 18.887722565429698, 18.861919940969685, 18.82454107009179, 18.80020751421062, 18.793949961715548, 18.77370316277479, 18.75230548492671, 18.73391513346095, 18.718760060118807, 18.699637179868247, 18.67492491850479, 18.670373210835102, 18.635816694263113, 18.61827006664414, 18.598435368267154, 18.584050197112003, 18.560280691729425, 18.55816209173171, 18.52142040041998, 18.503757808716575, 18.48242562977468, 18.4640259755857, 18.447457496939265, 18.430708531202743, 18.417195320896482, 18.38802016430713, 18.36972626430323, 18.33726010897238, 18.31692674253473, 18.301703195986835, 18.277507136456123, 18.264804531428044, 18.24414482031809, 18.23559089834472, 18.209326213662937, 18.200063964288518, 18.169819370171936, 18.153755424299376, 18.14791311447044, 18.10863305700951, 18.090961445425833, 18.072376462949393, 18.061264840564426, 18.051929978315115, 18.049001966119707, 18.009414372156865, 17.98334474153145, 17.973328645577308, 17.969913131796126, 17.942820983765777, 17.931395962947857, 17.9076003140591, 17.8973363874836, 17.886082738518766, 17.869743802307063, 17.853593665893822, 17.837037673585343, 17.808669832073505, 17.787520440265347, 17.768055011959564, 17.73672578367203, 17.727797405852044, 17.72041016164693, 17.70964292975138, 17.706919096044523, 17.67261445229164, 17.669439766604157, 17.64965380236493, 17.632513734533195, 17.62601094088839, 17.60621055681712, 17.593278710830855, 17.573912819007894, 17.55439715636145, 17.549185342271468, 17.508211723145767, 17.50253153939058, 17.487094634290447, 17.474609313555522, 17.46526371314188, 17.435456389059812, 17.429265977339224, 17.418032818576513, 17.393958401689073, 17.380777077407483, 17.37378017081808, 17.359990648753616, 17.345615325216716, 17.31536758751381, 17.301795122643632, 17.283568412963064, 17.259150224648536, 17.251261319745822, 17.236073603442723, 17.231441106975854, 17.21008393579796, 17.207221879581745, 17.181641986456494, 17.159064125385004, 17.13508432387776, 17.124855307427936, 17.118736058189505, 17.092368158886337, 17.089041006907447, 17.05580535580362, 17.049947057584347, 17.01256991987252, 17.00812517469595, 16.998764304060124, 16.99124380112132, 16.975449012575417, 16.964924626551195, 16.96294329601897, 16.945813178167413, 16.927471004084623, 16.90847369814976, 16.876905942645585, 16.86201295594261, 16.846326527616, 16.826750176870945, 16.81880518810721, 16.807220755005766, 16.778508868560813, 16.77451869549358, 16.769175714269636, 16.756758747137845, 16.741556773952894, 16.72775144439474, 16.707707960292318, 16.69689433531777, 16.680520688782163, 16.674136164056392, 16.65526594911571, 16.646358042177756, 16.63804567989929, 16.621945232436396, 16.61339366645597, 16.59823225486946, 16.57691561143372, 16.563268901956224, 16.54865832045431, 16.54398517760208, 16.529519248731596, 16.51645111514086, 16.509516345615726, 16.476971909231565, 16.471404497597455, 16.46213030516214, 16.450432099606317, 16.432446445291628, 16.422759711047473, 16.394352615687687, 16.391469699072786, 16.38292684591907, 16.36608083296552, 16.34769320708915, 16.332390229655083, 16.329094031188983, 16.316463937503165, 16.297759799270708, 16.289098612647166, 16.28290464770835, 16.263328459490054, 16.25646355568751, 16.239161183686782, 16.212336026772842, 16.2096987512009, 16.193570066623558, 16.170463050753202, 16.163786079434136, 16.145319667268584, 16.138390619756343, 16.122417786956362, 16.110235000821483, 16.10417354417804, 16.08349536067231, 16.073443309238208, 16.06748664386943, 16.05533498844905, 16.03894090723498, 16.02921305148416, 16.018028576301536, 15.981878432897933, 15.97917305640068, 15.977653879217591, 15.971072840859037, 15.956237582692657, 15.952009933434793, 15.92445089456301, 15.904973163820076, 15.890439308233677, 15.880562747045461, 15.862589712054264, 15.851362623068242, 15.838518778099315, 15.83209008233046, 15.816035181958593, 15.809248465601046, 15.797290149453259, 15.78637165176026, 15.771702101394965, 15.762786217669804, 15.749266039538753, 15.74327085542837, 15.716030779881256, 15.707869020564859, 15.691695906628247, 15.680061441404499, 15.662568851422984, 15.659260553765149, 15.643218139387145, 15.632713571531031, 15.62658140378096, 15.612293756544362, 15.596506007665521, 15.585889046904484, 15.572649018617913, 15.556766197171019, 15.544329387000136, 15.540151579216351, 15.538884466177674, 15.519755208391478, 15.505197720750228, 15.499280003625312, 15.47360419967245, 15.467296968348618, 15.44964317861271, 15.44421331735964, 15.426539586197194, 15.423369880717672, 15.419179207589949, 15.393187381622287, 15.380521695911051, 15.374882632592819, 15.36251079237242, 15.35971899829355, 15.347003536036286, 15.334728746536245, 15.31668326758845, 15.30313426736903, 15.286655827340883, 15.278721627693567, 15.277208600350868, 15.26557052212575, 15.260976634071543, 15.23327857293286, 15.226848898453175, 15.220521103389927, 15.208611977138583, 15.198722092650554, 15.18929682303104, 15.183006482033539, 15.163026119815258, 15.157005360257902, 15.146242813378993, 15.133019656470944, 15.126413778964041, 15.113871499959037, 15.101282714390848, 15.088478667904598, 15.071740428030585, 15.06936120452154, 15.064629833228024, 15.049316258140998, 15.041963651017719, 15.026928895242317, 15.008929411425322, 14.989099555586964, 14.976982671625487, 14.96616961543398, 14.95343289435203, 14.93962570291988, 14.932935688179242, 14.92621868173769, 14.92255924718041, 14.904257054230404, 14.901282497594277, 14.889828962874208, 14.878534687726033, 14.86694797908059, 14.85132193159956, 14.84396104659279, 14.833575372328475, 14.827546648657595, 14.804879064380776, 14.802068379977374, 14.79188787019741, 14.77990635952194, 14.774017406931545, 14.760782155900033, 14.746080072563263, 14.742834933939855, 14.718380174428637, 14.710918322981001, 14.704543062018617, 14.7035974867787, 14.684798857047287, 14.682384576751923, 14.673828026496732, 14.667003855408808, 14.647186757348999, 14.635220604446966, 14.628611112244853, 14.617114557985081, 14.606087227522291, 14.600536449862865, 14.5893381727323, 14.585258117041038, 14.572143508955294, 14.559171954268052, 14.550973723097435, 14.538721954969333, 14.525393689209599, 14.507437384237576, 14.501402740612127, 14.493016801354395, 14.482256420229753, 14.481983213828476, 14.460989765790815, 14.443928083554393, 14.434704640749652, 14.430950562434628, 14.409678226232158, 14.406493008018849, 14.392446033772021, 14.387770004889237, 14.380788939545422, 14.366996846990983, 14.358099014948612, 14.351827955498397, 14.349504024959408, 14.329829761869624, 14.306531034715954, 14.300413452048787, 14.298931937886492, 14.294278958038957, 14.287197572383166, 14.264900212623711, 14.254444938144177, 14.24887158599557, 14.240367868120604, 14.226459685639927, 14.217610756267698, 14.209497107968321, 14.200252380724956, 14.191999755855552, 14.180229653505465, 14.174730902144175, 14.171151271174107, 14.15874946410146, 14.143299277160557, 14.139189898946432, 14.131398989182532, 14.128937331935125, 14.120294129376175, 14.106270832393667, 14.100890209042884, 14.096978419337061, 14.083125354162442, 14.069803265543571, 14.058224329498254, 14.035914025885107, 14.032355250064915, 14.02750643036561, 14.017655900929437, 14.013100080637637, 14.001552762215665, 13.988138997360332, 13.980357476953893, 13.970222208602081, 13.963879635396161, 13.9490865379195, 13.93866790984463, 13.92979608735179, 13.91529973555801, 13.911608869846713, 13.903818046869016, 13.896120235827434, 13.892158727105102, 13.884600170326605, 13.872608180586555, 13.863002393380887, 13.851189333507469, 13.848794593488627, 13.839854170902589, 13.829600615407873, 13.818712288782388, 13.806450247159, 13.800958679989703, 13.785570455802613, 13.783523506080867, 13.774208025417346, 13.762618016984558, 13.753075171506337, 13.743495245400231, 13.732790767205364, 13.71967365318865, 13.713746155494572, 13.709945682271677, 13.697029624527342, 13.687439432614074, 13.683856332272157, 13.659560128488671, 13.65580523126533, 13.65401958950052, 13.646516939678602, 13.631118090465774, 13.624785007903945, 13.617667602936002, 13.612244927864685, 13.60791560253926, 13.599714359848633, 13.58964767723804, 13.58239579348514, 13.56920333085429, 13.558906275416398, 13.55551650409038, 13.54400376640695, 13.536894034073226, 13.532001371681899, 13.520218792676095, 13.511976511904379, 13.508933098562608, 13.495337437136786, 13.485882457762123, 13.474689446923412, 13.46861126385214, 13.461101542808494, 13.450511170767493, 13.441329146424133, 13.43936870658138, 13.425542173262455, 13.415267873348878, 13.400118216629146, 13.395460616280795, 13.391997396447321, 13.385420440959004, 13.375385471405428, 13.37228521276892, 13.361439044252249, 13.348660390909458, 13.345857170299562, 13.33600027974706, 13.327346650909195, 13.31881727911972, 13.314782199230883, 13.298270588300834, 13.29112837791446, 13.289088191554294, 13.278827201290168, 13.268262001001304, 13.25903858085489, 13.255554225417557, 13.240353683570065, 13.230281980357342, 13.221502222778184, 13.215638364178869, 13.211220782961657, 13.19945831947324, 13.189318604197773, 13.184465204630769, 13.178313467428323, 13.17227740594935, 13.153725691381675, 13.150949089490572, 13.136838159487214, 13.133545938632345, 13.126125087396558, 13.117175082639756, 13.114922456402848, 13.10444797433983, 13.097064582888054, 13.093574485126387, 13.079656542635414, 13.070853723757555, 13.061467878684045, 13.060219923951253, 13.05169746318071, 13.037337965383534, 13.03460871431959, 13.01814167973674, 13.013130444244, 13.010384937378264, 13.005759092567121, 12.995398319882296, 12.990505496927218, 12.983811435768805, 12.97791298118689, 12.975982884652488, 12.957377971839632, 12.949009992081232, 12.942739118481141, 12.940344609731614, 12.930778113031332, 12.920868057812934, 12.912864308583423, 12.900480633286646, 12.89538169812662, 12.894093783021876, 12.886574186430689, 12.874944224057964, 12.867158080967203, 12.862869065902508, 12.851872864770417, 12.846375941605906, 12.838854476512585, 12.831241474064946, 12.826787621936829, 12.820150555671209, 12.81274612931338, 12.807664652858898, 12.792810046023693, 12.784453116597726, 12.780481977662626, 12.77112028712818, 12.763585039316991, 12.755869870666647, 12.748175015552905, 12.739544660986947, 12.739211989355084, 12.730508245388197, 12.726844862823446, 12.7117491347802, 12.70280812779596, 12.692976222817709, 12.689714762077175, 12.68032178186291, 12.677395041315995, 12.672210800441313, 12.659270737319027, 12.650246874670017, 12.645354589623375, 12.639477499741528, 12.638401907889941, 12.625053501953792, 12.620358046794003, 12.609248413319104, 12.60017200573722, 12.595344947604007, 12.587621440090345, 12.584391701304867, 12.580180992201617, 12.569983049198472, 12.556319306626536, 12.551443145134467, 12.543417682259367, 12.54319654226416, 12.531162186261618, 12.517877309756674, 12.514508628452734, 12.506788324339654, 12.503543253802379, 12.487726090909394, 12.484165636750648, 12.477041012307051, 12.469618565496472, 12.45717398925908, 12.454569749292409, 12.446668776323111, 12.444712659200267, 12.436467895852399, 12.433414526102386, 12.419464295089053, 12.414043389081682, 12.411380920183063, 12.402955855216934, 12.392833440232119, 12.388315668455027, 12.375618531566351, 12.370355445530477, 12.365232352026194, 12.35871926004097, 12.3518264442987, 12.350263272414328, 12.341580018331891, 12.330679853240335, 12.329254893630766, 12.318359324266915, 12.316050411137358, 12.306840436903292, 12.30378545469863, 12.293612103785764, 12.287006969284684, 12.279723616931506, 12.274077777042866, 12.27093243707511, 12.26605437725561, 12.256544973184138, 12.24951990909844, 12.23602606165391, 12.233124278107129, 12.228910306932189, 12.219287082664827, 12.210613173786506, 12.20234163531743, 12.19741773832317, 12.187319733445548, 12.181997878659462, 12.169637933110854, 12.16683844173376, 12.165118997616972, 12.154933174913058, 12.145491101753029, 12.14311565439303, 12.129030405502968, 12.125822515029231, 12.122805780471827, 12.112366405952494, 12.103709132873512, 12.096647161719636, 12.09332141624846, 12.084580663646783, 12.079384351235138, 12.07151017264732, 12.069468056809365, 12.067101839423389, 12.060765001919059, 12.03355468441141, 12.032603901116811, 12.030134916712196, 12.022010284711815, 12.020332532792882, 12.011631089191136, 12.007792863544525, 11.997875557043317, 11.993273098409162, 11.988596303190388, 11.979120591702367, 11.976509667015513, 11.97283482463802, 11.957767719206926, 11.953917882996167, 11.943629341076983, 11.938671202185764, 11.931249475040062, 11.929574391354933, 11.922034347953383, 11.910731776221684, 11.908012965836312, 11.896228918717012, 11.88911685470761, 11.876407398661536, 11.873830870354498, 11.864140262162712, 11.86026876815278, 11.850467708180654, 11.846918650012023, 11.839020005863839, 11.82914766779947, 11.822491806964123, 11.819656735744235, 11.81604513187205, 11.812071359589714, 11.8067529210292, 11.796106478110614, 11.792090293178275, 11.785472261451272, 11.779079786750906, 11.777717061087227, 11.774231384148491, 11.763233459856409, 11.754915316116449, 11.753049993162668, 11.740335565377919, 11.738327778690255, 11.729266890353987, 11.726404020983406, 11.719378007148487, 11.71748689288257, 11.713758917660636, 11.704558615458186, 11.702081934558953, 11.691022078596005, 11.68792880680975, 11.68039334512265, 11.67545482177305, 11.664245077618062, 11.65113461418509, 11.650183314817173, 11.645853517693622, 11.64002753034814, 11.633335174315679, 11.630310415461496, 11.6175133865429, 11.609791543751738, 11.605945536603729, 11.601790464850211, 11.599661907820101, 11.584562869237832, 11.579707859652952, 11.574000444423405, 11.567012785406577, 11.561328479558684, 11.55356508837057, 11.551545640112334, 11.543173958615863, 11.537752607705654, 11.533928949847096, 11.527471162617882, 11.521530790775266, 11.516864577593273, 11.511455313505483, 11.502808284012094, 11.499607602416404, 11.49308602395745, 11.489942227567619, 11.483598743055659, 11.471974744779162, 11.467064136176457, 11.458745194982495, 11.454985502252537, 11.451864106171605, 11.441863942005186, 11.438427143382599, 11.428263666626943, 11.42392096250828, 11.422242693952075, 11.41739668709866, 11.416437811020977, 11.403716781748441, 11.392965302348626, 11.381538867898868, 11.380455138699203, 11.375812603149921, 11.368041581804116, 11.360010913626875, 11.356902766824676, 11.352694922804675, 11.344945576845625, 11.34129311084375, 11.334625906795438, 11.328747342068633, 11.321553313217882, 11.320311234922356, 11.309299882827037, 11.30446260472478, 11.29670011558874, 11.291597317622005, 11.279310900217556, 11.27748942523478, 11.271142163956789, 11.265942634757222, 11.253102840844367, 11.251466175489492, 11.251005552932895, 11.238003294336378, 11.236115131298948, 11.229009050479865, 11.22683061117051, 11.21974731567995, 11.209182272186824, 11.202426161869916, 11.199445543634852, 11.188730023922508, 11.182320797268135, 11.174508043190269, 11.169869600516138, 11.167951716486849, 11.162344352979757, 11.15449924810714, 11.152314359907384, 11.151182305050067, 11.147003861219156, 11.142057839512148, 11.136577373015582, 11.123575618352056, 11.122514155534917, 11.120350796734405, 11.113843572232927, 11.111584406219018, 11.09756513711658, 11.094357254406662, 11.087321580625943, 11.083049190835458, 11.080705968139574, 11.076413602993272, 11.06886367081223, 11.061810727012437, 11.058577358124994, 11.046295899655926, 11.045206740758019, 11.043657292286506, 11.029192713390774, 11.024541930130315, 11.020751368798239, 11.01981901430052, 11.00864890644951, 11.00185767401588, 10.997054311111535, 10.989045211427861, 10.98391072877549, 10.982343795794533, 10.976663252679641, 10.968471409191308, 10.961951790624074, 10.951912632958951, 10.94902289080905, 10.947045498067395, 10.941448024544204, 10.934255050278274, 10.928329376490568, 10.925910067116115, 10.924367380939557, 10.918155392312578, 10.911087085315836, 10.905638229815114, 10.89488271068725, 10.88574797477993, 10.873707852652458, 10.872703193324442, 10.871277052217673, 10.864184240659249, 10.861593965016283, 10.85934069368032, 10.85099729091297, 10.848724508039123, 10.846548749787514, 10.840970105877021, 10.836792235030796, 10.826452051568962, 10.823217338405309, 10.816342122525317, 10.8080318949073, 10.803236642081032, 10.796311916328987, 10.794255336806016, 10.785524553529859, 10.78439129734255, 10.77423953845063, 10.769687424497373, 10.767919539436964, 10.760550909750863, 10.757382213974836, 10.750639277409574, 10.74428791410779, 10.740426630882562, 10.736646547481795, 10.732040640762035, 10.721562922537434, 10.71580156832948, 10.707640370505313, 10.705276207867444, 10.698903882603677, 10.693399123294357, 10.688052596448781, 10.678744815896136, 10.674716882783477, 10.671194638171372, 10.669371486849997, 10.667691388522739, 10.661843705880097, 10.655418153408792, 10.649290131315565, 10.642478916642009, 10.63796861363307, 10.633206241207976, 10.62754930810412, 10.624050259719425, 10.622420765970759, 10.614215501654762, 10.603727593972064, 10.59974613414348, 10.592264776889678, 10.59055354609432, 10.586070265200084, 10.580187940531466, 10.575019531095862, 10.572229975799662, 10.565515480319812, 10.561670863377618, 10.552016001909788, 10.548169796958977, 10.543083377884122, 10.536369833506713, 10.531287900485003, 10.525935898387864, 10.522787164226152, 10.515078934522865, 10.510744053567096, 10.500964414873447, 10.49623405378353, 10.492432607311907, 10.483078313321757, 10.481962756918836, 10.479704750418804, 10.472607382502334, 10.468650538049477, 10.461698526706884, 10.459026707775564, 10.45265919709439, 10.445844190776528, 10.444084417650235, 10.44055659175387, 10.43245712462157, 10.429217140007589, 10.42386095916431, 10.414062102213816, 10.411199021640527, 10.406779944996028, 10.401859815010626, 10.396398224246328, 10.390089432469658, 10.383979990053675, 10.382284163583984, 10.37840113377009, 10.375550231984988, 10.373474972428685, 10.364816775518072, 10.35836257006701, 10.353224246707818, 10.346812230267227, 10.339172482594003, 10.336624064675224, 10.333599362639813, 10.328296224364337, 10.32272818533616, 10.318610449047227, 10.315237049692422, 10.312836745970232, 10.305781324243302, 10.301696142137315, 10.294835948215285, 10.28774265778638, 10.285841974169852, 10.280889798883173, 10.274092445563703, 10.272491408839674, 10.265648822633112, 10.263022963205042, 10.257120172790026, 10.244331930122064, 10.243287564532368, 10.234330183963365, 10.232502984116431, 10.228719088591664, 10.225772879283884, 10.219215619374665, 10.218527828038487, 10.216177078024058, 10.209989897553854, 10.207778452329483, 10.198537733468804, 10.19220143643906, 10.186471905914873, 10.18188125831476, 10.177631651774488, 10.172799941762845, 10.169192786607057, 10.163053792611596, 10.159350623007485, 10.153158902391986, 10.146675140085119, 10.13885337871963, 10.136651015032259, 10.131433072813621, 10.127308900956963, 10.125242595189189, 10.120808678413393, 10.1133797250235, 10.110514102740831, 10.105346925014667, 10.10387330622606, 10.09842322206567, 10.089147907945568, 10.084966415219249, 10.077382402620408, 10.075088027232946, 10.070367892017474, 10.065058068243928, 10.061715528882516, 10.053065115954464, 10.05222389024836, 10.04912638470428, 10.04737648850878, 10.037412756928694, 10.03567672591484, 10.029686031343443, 10.02273082323477, 10.014741311865194, 10.012263996533255, 10.006644476065727, 10.002954041688934, 9.998609642183645, 9.997258902784626, 9.990417655715797, 9.982910458751164, 9.97849214571294, 9.976450264186012, 9.974767860589571, 9.969746292725883, 9.957977970790804, 9.952711950344622, 9.948703493606695, 9.945156909464693, 9.941505108685991, 9.939157570342084, 9.93273367220121, 9.928586812422365, 9.923933693484612, 9.919898872492642, 9.913895610338084, 9.910657023540594, 9.904243064122724, 9.899410220634854, 9.894023512550422, 9.88953900498027, 9.887074956668659, 9.881737750783676, 9.88057265437148, 9.876525117107885, 9.872650859964372, 9.8645226120991, 9.858470990206888, 9.853659401532623, 9.850961867013513, 9.845398452964663, 9.838244454870525, 9.831812333419577, 9.830995534239454, 9.827578040236071, 9.823605085678217, 9.822407734657986, 9.819681945807194, 9.81341956536379, 9.809194237830932, 9.805095851975242, 9.79741827828613, 9.79049844119603, 9.78489193273546, 9.78013333389967, 9.776981757585311, 9.770515755706716, 9.764687974355937, 9.759930405319054, 9.753093012159074, 9.751125231077351, 9.743657677056062, 9.738736767849993, 9.735156418817306, 9.731813815149307, 9.727390574907215, 9.724051934680986, 9.71900111439388, 9.718047961689598, 9.713498105385991, 9.706590891294226, 9.701562193413148, 9.69871392178368, 9.694407884957698, 9.68601621078549, 9.683576846263504, 9.681038348803396, 9.67969760489286, 9.667356501084942, 9.666046955134906, 9.661622331052707, 9.657168815954465, 9.652229184564677, 9.648831300563014, 9.638095483811481, 9.636003440812036, 9.63487309030151, 9.62695550971812, 9.625978870962303, 9.620352707156552, 9.61524671397256, 9.607074948259813, 9.60404722725482, 9.59899696605191, 9.593986713378607, 9.589932275766568, 9.585730325486717, 9.581754188100373, 9.579428696133514, 9.575573031445698, 9.573125763888129, 9.571097967364132, 9.568056649065037, 9.559659483076674, 9.557985688918006, 9.550054266732786, 9.548949152159178, 9.545062981712812, 9.539692345358592, 9.534681577713839, 9.534427589171194, 9.527767743351239, 9.52208783677169, 9.519975332297715, 9.514937073184068, 9.508845392619378, 9.506933416139857, 9.50234708467998, 9.499134256851985, 9.49564034667234, 9.490671473309444, 9.488947926721913, 9.478787674141243, 9.473598630337317, 9.468282288475434, 9.465067195708817, 9.460158137017691, 9.458916501474867, 9.454066144085514, 9.448513911170856, 9.445676357093138, 9.439163881355084, 9.431295405177574, 9.42971084830752, 9.426822338140513, 9.423070974268729, 9.4179315184229, 9.411782835032174, 9.409242513017043, 9.40705070499457, 9.400650955338312, 9.396043689313183, 9.392237579089974, 9.386185201578344, 9.382169419001091, 9.377251919998036, 9.375427455481665, 9.371678842238987, 9.36763872394328, 9.364046296762629, 9.357183801493257, 9.351584596173055, 9.344754437700033, 9.341245003365767, 9.336369024195704, 9.32978516894326, 9.327431432791641, 9.32564140139476, 9.324169972434191, 9.319735600153699, 9.31204679122257, 9.307858541131823, 9.304892232092453, 9.296426424426011, 9.295232201733242, 9.292487419229351, 9.286004024206726, 9.284839815811864, 9.283268464258793, 9.276755659557628, 9.275615610038242, 9.26762758513363, 9.265827849245047, 9.258793573520798, 9.254834546387249, 9.252721078345612, 9.249026716188316, 9.244403746404663, 9.241095373629571, 9.239719098741782, 9.233214566703719, 9.22786647530766, 9.221321067980911, 9.217842132315537, 9.214114106332929, 9.210823289451213, 9.206847724410654, 9.20059742901026, 9.196217314989477, 9.19210730016899, 9.188500721526857, 9.18434430842152, 9.181143726486242, 9.176750995942559, 9.172296924042344, 9.168368631494689, 9.16032271438372, 9.159711902264704, 9.154466790275666, 9.149195351095642, 9.14674505239283, 9.142077564936187, 9.13682015509406, 9.134523144935468, 9.12939597500516, 9.120952528780682, 9.120580570689672, 9.119014423362128, 9.11633140233236, 9.108872610972583, 9.107860032527116, 9.105416647715984, 9.100522413960347, 9.09514937471078, 9.093193184910609, 9.08577576544873, 9.083675286025318, 9.077095011551345, 9.076124387292738, 9.073851504164503, 9.068232644018003, 9.065397613591566, 9.06174485151975, 9.061104458219136, 9.054387145428867, 9.050439112284403, 9.04892208697496, 9.043141770690296, 9.04289463757416, 9.0339932677121, 9.030887335286023, 9.022679928281313, 9.020599129066031, 9.016701222048168, 9.012932457840462, 9.010702373799568, 9.007565929296952, 9.001200987465495, 8.996236660289071, 8.99417479646822, 8.986961846414088, 8.984214222654119, 8.979423936903812, 8.972697561568733, 8.97074644465302, 8.967020490822666, 8.963703416149958, 8.958303397655776, 8.954474267510937, 8.949954840748779, 8.94717224905065, 8.941920638830135, 8.938471141281841, 8.932825179813696, 8.930535365647515, 8.927527291778834, 8.925381475136486, 8.921658561753025, 8.919458348380552, 8.910473386912452, 8.904874686056427, 8.902269690812464, 8.897845216443796, 8.897204799689382, 8.894468485315768, 8.892087987739355, 8.886216349148427, 8.883395062787782, 8.879242063903881, 8.876502825155084, 8.872580771277418, 8.870766786715146, 8.863097366471276, 8.856766035656259, 8.8539750370957, 8.85045812087415, 8.845179424551237, 8.836161453226978, 8.833048805404289, 8.828845663969664, 8.827016355459328, 8.822925350828617, 8.818993751435608, 8.813423081482206, 8.809126232023642, 8.807498180164194, 8.803746661794435, 8.798208763743963, 8.792093453079215, 8.791897854264585, 8.78895947020632, 8.784116766390266, 8.78313327117842, 8.776498954009126, 8.774561548555807, 8.770198809612943, 8.76661233335262, 8.763583331646647, 8.76170636187084, 8.754272155004982, 8.747671969870538, 8.74758020770071, 8.746279460563173, 8.741955433154672, 8.736032972779263, 8.733344001930027, 8.731139284711096, 8.728522998688364, 8.719826298816558, 8.718277544159509, 8.715972471059102, 8.709236264724282, 8.706178932331428, 8.703454582595297, 8.696459812431469, 8.69230625271694, 8.689856767786809, 8.688906070280431, 8.685108127580323, 8.679635408977386, 8.674954081968433, 8.67147887385661, 8.667493425535572, 8.662981299131477, 8.661098329274495, 8.655754361382074, 8.651660713570363, 8.646800659782471, 8.644837794042317, 8.641769539437398, 8.635642605877575, 8.632976435544109, 8.627417450246668, 8.625329025176807, 8.623685581716448, 8.617221871176929, 8.613688551152283, 8.608428885625582, 8.604190117046992, 8.60124426266543, 8.597167517019303, 8.591061557382245, 8.588048404631014, 8.582246355964568, 8.580337011794011, 8.578668914460856, 8.577401077646952, 8.574340195491313, 8.566733592840258, 8.565221944281209, 8.559062351543355, 8.556148790938614, 8.55365635536562, 8.54918027319817, 8.545401141569211, 8.54385398691706, 8.541394873187977, 8.538977864230377, 8.533746276511723, 8.53063539090398, 8.52868914742473, 8.527665813911797, 8.524845245632967, 8.519442571188605, 8.514956004907479, 8.513217343663426, 8.51081421651317, 8.5071297920158, 8.499092620289794, 8.494005051998888, 8.490784374801333, 8.486989293667326, 8.48370253034677, 8.478572972259574, 8.474639611242635, 8.470975541334537, 8.468669305938754, 8.462824084120635, 8.459713324050686, 8.456363915291638, 8.455253585720005, 8.452219036772995, 8.448849138458883, 8.441286130161481, 8.437685126095527, 8.433084044442982, 8.430396956766394, 8.428255907401617, 8.425735794259145, 8.422347561901173, 8.418226228048761, 8.412849842557845, 8.408464543960562, 8.40554407463855, 8.401718429030987, 8.400235839077027, 8.398271693795184, 8.391415789463595, 8.38836478660606, 8.387310148588035, 8.38273999381443, 8.381978711851305, 8.375614243816598, 8.36618686824662, 8.362682361414706, 8.361740725984752, 8.358302369112401, 8.353424838228294, 8.351292516803106, 8.348853734858213, 8.341840682186001, 8.338524286873474, 8.333395369080876, 8.33004432268899, 8.327647610592297, 8.32612411648744, 8.325347138005661, 8.32011287421185, 8.315115697037374, 8.309793715089112, 8.308756441998186, 8.304525159076093, 8.302472356334627, 8.296569905807242, 8.292935778065429, 8.289758880579106, 8.288811932733367, 8.283819125656485, 8.280828227232535, 8.276741667797486, 8.274223344030759, 8.269309089241688, 8.269026804220552, 8.26173999577124, 8.256977668627494, 8.254587668221118, 8.253796137512682, 8.249801959892165, 8.242338663758463, 8.24068507140634, 8.2343751551761, 8.233107592715273, 8.230379159636247, 8.226048800391473, 8.221196690408135, 8.217807365540478, 8.215709939054614, 8.213149422343127, 8.209924874385807, 8.205668516110013, 8.202396589592992, 8.200434148762122, 8.193064904830663, 8.18773965536843, 8.185543230294922, 8.182508572553964, 8.181362417936802, 8.176018033214774, 8.173840983683311, 8.16905066565635, 8.165034529970391, 8.161332891363982, 8.159298471166872, 8.156352959194441, 8.152061287300363, 8.150638480237495, 8.145959010297675, 8.144461351699281, 8.140515841458502, 8.135758273296076, 8.13205751881132, 8.12723429507393, 8.126018680034575, 8.123042813241046, 8.120321554158435, 8.117687043904493, 8.11376538910752, 8.111785669727933, 8.109073673318901, 8.103761158351759, 8.101706310771345, 8.09474368799131, 8.093688192662952, 8.090344709969285, 8.085209129860216, 8.082478725872473, 8.081337135871689, 8.076667826825117, 8.073559292117508, 8.070646206643488, 8.06674148485741, 8.065603767259189, 8.057539922480624, 8.055480389438436, 8.054318348729023, 8.046083872037272, 8.045852129758309, 8.042785318145711, 8.037879011353027, 8.033662420328932, 8.032004932438106, 8.024757223703125, 8.023233596603482, 8.0195674655367, 8.017638221054867, 8.014398276008027, 8.00901460874807, 8.006809947701777, 8.00145231205959, 7.9994689907930105, 7.99744000830882, 7.991465377623988, 7.988690720540496, 7.9860068503562776, 7.983301111310657, 7.979461235625724, 7.978757153374901, 7.9763969632439435, 7.968499002158744, 7.961679006142974, 7.961110821857173, 7.957838170084006, 7.9529504577411005, 7.948613167854193, 7.947607381933999, 7.9451063968480025, 7.941976522173196, 7.938861171315298, 7.934381860301033, 7.9310456429605845, 7.928268698413159, 7.924863910525127, 7.922854582294983, 7.919345014986641, 7.9154516244828566, 7.914147197219688, 7.906721427795858, 7.90344669403681, 7.9022946736262805, 7.898302727141001, 7.89425441974731, 7.893529823065024, 7.888760607931011, 7.88714598234841, 7.8811395431402955, 7.8782599422131945, 7.873418449913894, 7.872848384781228, 7.869522721321575, 7.862395158151415, 7.860617817268794, 7.856510626531604, 7.853318186511487, 7.850257398168772, 7.849134915425649, 7.846368363354687, 7.840494511716805, 7.83683585391712, 7.834295525667282, 7.831727755237595, 7.8294086331410595, 7.825902529408388, 7.824078127542326, 7.818525688384892, 7.816749503182814, 7.810919018644214, 7.809045739265207, 7.806306811670852, 7.803327651805552, 7.800118054561845, 7.796659190500122, 7.7952464411263245, 7.790161508003766, 7.787448600850418, 7.785154104827966, 7.78288174142716, 7.777533522375997, 7.775917386405547, 7.7717686693336745, 7.769387512724405, 7.766351829331915, 7.763067177460941, 7.761030487372447, 7.758164937909614, 7.753523560131397, 7.7501925309166655, 7.7442245371539595, 7.741909261460889, 7.738518451553898, 7.736851641001535, 7.73315673526457, 7.7313198244264525, 7.724346878758558, 7.720620700567817, 7.716720797765931, 7.714838891924634, 7.711490479399792, 7.710332683921373, 7.707103234235923, 7.705039822216642, 7.701125386736833, 7.696169233675637, 7.693762665381262, 7.689493106857539, 7.688169564491688, 7.6858837462344, 7.682837189364618, 7.680392853114602, 7.676518429541191, 7.675047987122754, 7.670377367016581, 7.667534996633916, 7.666481916783372, 7.665022740426998, 7.660075738388383, 7.655804771542885, 7.651092803357498, 7.647171053924263, 7.644905684234053, 7.642402237456535, 7.641863069958626, 7.636543061240923, 7.632095380943293, 7.630850569538102, 7.628193484338901, 7.625610953755925, 7.621059713067078, 7.616766669719379, 7.614322523621127, 7.611845315711082, 7.606241334837837, 7.600370771676309, 7.599310948494945, 7.592729263682101, 7.590893115041101, 7.589143534122672, 7.585026093331724, 7.5808994479449385, 7.579221473533624, 7.57586985980248, 7.572799487715032, 7.56977152116922, 7.5657655010910645, 7.562771923602871, 7.560827345295019, 7.558515370809449, 7.557212525064936, 7.55393047679081, 7.5488892816796005, 7.547700592853967, 7.539663342315685, 7.538239141779889, 7.532420052380512, 7.532049146618716, 7.529573381781864, 7.526685399027425, 7.522294488893477, 7.521537434370107, 7.5185418523171705, 7.516846874146502, 7.512844501575284, 7.506298661128408, 7.505591663810383, 7.502562867396535, 7.500084092040953, 7.496817126470492, 7.493306657728911, 7.49203891525043, 7.486132515908588, 7.484683340517055, 7.483913098450728, 7.479584680952666, 7.47287720755426, 7.4715515055799, 7.468466777331852, 7.465944011629423, 7.461088178037897, 7.460272420088814, 7.458606746263097, 7.45605264651178, 7.453740592526621, 7.448615940838803, 7.444598423787151, 7.439906776006563, 7.4387090588715, 7.435077862134402, 7.431111341222909, 7.428605557929096, 7.425546774838866, 7.4201764868551425, 7.418825250223544, 7.413099056396228, 7.411412978690612, 7.40916789214739, 7.408219870024175, 7.404332616546548, 7.402093172039281, 7.396462811477216, 7.3933275491883395, 7.3878110335708005, 7.385265610235759, 7.381978444841436, 7.3790748203191345, 7.377761259995363, 7.37457371177173, 7.370155203438224, 7.369077162484835, 7.367332486713983, 7.3629544915040075, 7.361693922976687, 7.357847258892842, 7.355172917002376, 7.3518841619868756, 7.351276300293293, 7.346090331145566, 7.3427924001502065, 7.337349880489211, 7.3358312280732365, 7.330615603895842, 7.3297844228333675, 7.327586018449311, 7.325495147791483, 7.321332463566484, 7.3206400124238495, 7.318330613688522, 7.314983068964963, 7.310654820194586, 7.30686406924313, 7.305908097023035, 7.303013970088039, 7.299076634649668, 7.298321754430427, 7.292994277832883, 7.290151880808041, 7.286424310846835, 7.285391516782181, 7.2780897461098375, 7.274216446012888, 7.270661361728711, 7.267971506319955, 7.266312858909506, 7.262780344827036, 7.2597949753773365, 7.258881585828262, 7.256469060188113, 7.251032200199103, 7.250144048972216, 7.248226472958126, 7.245332961118835, 7.243796721630858, 7.2385687180259435, 7.238169493794201, 7.232810226898665, 7.23058137430718, 7.22651922607356, 7.225187173719147, 7.2208143484967655, 7.219692077880548, 7.215727931159531, 7.213600219016912, 7.211138326343278, 7.2086553344727236, 7.203944733849773, 7.2020035930069835, 7.198885952572053, 7.196885720732261, 7.194152863876228, 7.191133899912115, 7.1903250978141084, 7.1863628596058335, 7.1840206382499066, 7.179644872117561, 7.1772919624724025, 7.169297802767332, 7.167597487740673, 7.164656503304896, 7.162969310717887, 7.160957848554553, 7.1587269696118385, 7.1553894126659605, 7.152151829672211, 7.148133199376109, 7.144824648532555, 7.14262074699846, 7.142286918898435, 7.140287358740767, 7.138965823136469, 7.134661697764182, 7.131090293384544, 7.128055324243777, 7.125919177812646, 7.1246967592170085, 7.117190182666861, 7.116131739465468, 7.11414090298111, 7.110917489463484, 7.109104186050912, 7.105947231532469, 7.105482071166478, 7.09963466316697, 7.0962583346980805, 7.09290150718921, 7.090293498159341, 7.089623670215326, 7.086762054533681, 7.083901491738265, 7.082709302933739, 7.07942226561189, 7.072771613387222, 7.070082482805897, 7.066097161349345, 7.061630764202128, 7.059493702308412, 7.058526851733935, 7.05129383211218, 7.04994037642439, 7.049635036625328, 7.045741216064627, 7.043860971474947, 7.043113504380744, 7.036823767291153, 7.03571611130897, 7.034172306380602, 7.0314374883151585, 7.027428150717581, 7.025619761065415, 7.020443927903058, 7.019931191763781, 7.016795968389412, 7.014018980623824, 7.0120337112637925, 7.009912475755046, 7.003410316385692, 7.002677045122578, 6.997955429863174, 6.99621523294144, 6.992597503721435, 6.9895473678697275, 6.982572679959879, 6.980641264176592, 6.977189558906813, 6.975065228221774, 6.972350420265036, 6.97077935509314, 6.9692151048341335, 6.966105933181789, 6.962614394220978, 6.961337133636901, 6.9584458342177555, 6.956606212039642, 6.952929081288524, 6.951325792010854, 6.946652574816796, 6.943101948622417, 6.9405629893538014, 6.937067853556389, 6.934317270487944, 6.933275672854949, 6.926292894236516, 6.922963615477074, 6.921269778946737, 6.918580048377063, 6.915989582665046, 6.915209324238773, 6.909626212769447, 6.907640708314137, 6.905067446744317, 6.902994236336027, 6.898688320097327, 6.8960383352306485, 6.895612459143663, 6.8919796482617235, 6.886527747415539, 6.886047096190516, 6.881666139331504, 6.879866343229348, 6.8761978347223645, 6.872837400956646, 6.869611375655086, 6.86725612099392, 6.865288024761316, 6.860993183593518, 6.859362559382356, 6.8566648612498, 6.854822530631023, 6.850924219139167, 6.848598937526651, 6.847698860674427, 6.8419536567943, 6.839212909141393, 6.83706392550365, 6.836160107666107, 6.83349911940841, 6.829942765043446, 6.826454626164103, 6.825817286464193, 6.821752139832879, 6.819967448859811, 6.813771627654522, 6.8104504284742085, 6.809014871863907, 6.807178109392573, 6.806442222270485, 6.804847240555509, 6.799980539258214, 6.796923516579377, 6.792536713093908, 6.789629750201771, 6.78834404858502, 6.785527657340027, 6.7813765461929565, 6.7791779835944626, 6.7766834348184615, 6.774158861159984, 6.770413980836038, 6.768267555662608, 6.766251019603897, 6.759064435548854, 6.757802017088571, 6.754783958316301, 6.75276621599282, 6.750036968522796, 6.747621736730314, 6.745879857752392, 6.742857190048676, 6.740605820759103, 6.737106319119592, 6.736339610299249, 6.73206072273945, 6.729666918807662, 6.729256453622614, 6.725980660959899, 6.721037447117337, 6.717978742599079, 6.7156217736438055, 6.713670713068248, 6.710173866748624, 6.708966051359068, 6.706552680467288, 6.704083568374987, 6.701267236503425, 6.700746342666527, 6.696021260432971, 6.694644342603574, 6.6916316775201645, 6.688914808589522, 6.6848040717847335, 6.6844465098051185, 6.678132239730549, 6.6767678497700755, 6.674688846584788, 6.673243666178386, 6.671078256593456, 6.664519054935379, 6.664046800092901, 6.659874269594204, 6.656250344367382, 6.655642458106992, 6.653342628319866, 6.648859386310626, 6.645381577158879, 6.642057326908593, 6.638337357228627, 6.637002160248864, 6.634876864907811, 6.630961992151625, 6.629491074672176, 6.628873624792615, 6.621381799923011, 6.61840640407169, 6.614315188175794, 6.613022709294513, 6.611138594985522, 6.61031266646022, 6.606332407330413, 6.604930829488016, 6.603616409128268, 6.599717686146043, 6.5974860370815, 6.5958776882112895, 6.590715393458966, 6.5881831083097735, 6.5870489860710215, 6.583476312194924, 6.58103168362448, 6.5774237110458085, 6.575979649123671, 6.5733657921247595, 6.566678361948508, 6.564255437220822, 6.5610027558383885, 6.559943205934582, 6.557547778737231, 6.554355090522456, 6.553392751820788, 6.550137479008459, 6.548176621724515, 6.545924671635832, 6.543398729196279, 6.537371034543391, 6.5353291501166195, 6.534325985805294, 6.531547945523493, 6.5304074692773675, 6.52661527817733, 6.524360316333174, 6.5205388064083465, 6.518665145681044, 6.518419569413187, 6.512136519852798, 6.510340518396565, 6.508842660596731, 6.50625200827543, 6.50313552219209, 6.500926454090738, 6.497527714204915, 6.494757364897384, 6.49400240469547, 6.492391386865733, 6.490792525224739, 6.488680344734475, 6.483307927376847, 6.4817001265391205, 6.480662673871032, 6.477226562534959, 6.474300820026272, 6.469746625924181, 6.466064845175218, 6.461843050062088, 6.4598321797670675, 6.456189165743092, 6.454425987224876, 6.451159530963048, 6.4506826947219675, 6.447213060929725, 6.4435754912639265, 6.443290431106598, 6.4388732064225715, 6.436428427310756, 6.43572498719528, 6.43269738662799, 6.430376709765105, 6.428640959923611, 6.42504886035012, 6.422203792653167, 6.4212966112683, 6.419560508767408, 6.416646903979213, 6.4143150481750215, 6.409363567210141, 6.4076274755225615, 6.403869540680412, 6.402692727498717, 6.399873151839033, 6.397142037017139, 6.394819575894847, 6.393151231531006, 6.391146388830601, 6.386746997007879, 6.385033713612338, 6.382424729455136, 6.378485451672617, 6.377283327681892, 6.374113317304426, 6.3707103240721015, 6.36751402740142, 6.365485058639568, 6.364221382671267, 6.36220122117777, 6.3605639482774725, 6.358048916603093, 6.356517802595651, 6.354257807987779, 6.348414914893917, 6.34353174300364, 6.343275753813916, 6.337691815798126, 6.336596086331513, 6.332237254986085, 6.3299468332080195, 6.3285099948178924, 6.325987338030862, 6.323425920666475, 6.321605689676277, 6.319541160059796, 6.316803857321649, 6.31608989124311, 6.311835551043524, 6.308342321504175, 6.3042566000876485, 6.303351391570053, 6.298972650458919, 6.297893033063607, 6.297141717479311, 6.2918398186030755, 6.288891471518858, 6.2851689847145416, 6.283131563899584, 6.2801808518618625, 6.279482286631164, 6.277503937660788, 6.275915743730333, 6.2728778245042935, 6.271049399840193, 6.266588580345663, 6.263722640061242, 6.26081757342603, 6.260170977377537, 6.257889678414487, 6.253397637328923, 6.2515693782399095, 6.249270148706083, 6.247527576488085, 6.24311138993459, 6.241182405650661, 6.236650858113005, 6.232888035367557, 6.231381900758375, 6.230631705193844, 6.229318761869086, 6.227137094606197, 6.223842640908151, 6.221475524601781, 6.220179213060182, 6.218999845880799, 6.215894807604134, 6.2148883474177525, 6.211355521624952, 6.207168571376802, 6.206557021073033, 6.202308946219586, 6.1976689657651605, 6.196599365494881, 6.1937764237296955, 6.191640254954079, 6.187558360588801, 6.187535974847514, 6.183508024430005, 6.179981271101779, 6.177451782605355, 6.173241277518141, 6.170608155148008, 6.169057156179992, 6.16636317235571, 6.161569982389257, 6.159759555615594, 6.156485723452228, 6.155433734511258, 6.15146337777371, 6.148709197777227, 6.147805990429167, 6.144479116608674, 6.139708275763567, 6.138764435782557, 6.134466276796044, 6.133241604325959, 6.131649084482406, 6.129554451172055, 6.125659276299353, 6.121352482699885, 6.1207843001483875, 6.118088300384335, 6.116571980559429, 6.115355802040466, 6.110379400616414, 6.109283822808677, 6.1066273153855555, 6.1045219462979095, 6.104397426319456, 6.1011346304232, 6.098881322058467, 6.096514758233091, 6.0931837392063075, 6.090717193666202, 6.0892275027270495, 6.087624986193022, 6.086066495016042, 6.082969140297267, 6.07912483900658, 6.075962958142393, 6.072217198814839, 6.071224050155511, 6.067247418530439, 6.066651581089814, 6.060746894704431, 6.0596468425076475, 6.056961087270424, 6.054465724837718, 6.052771983207274, 6.052345335541955, 6.047796309160448, 6.046295557195841, 6.042698566608615, 6.041819070276047, 6.038558186347481, 6.036637991482529, 6.033686377625443, 6.0320426724447165, 6.0298557589808075, 6.0270449030638575, 6.024465671947322, 6.022366190773834, 6.02016096865772, 6.017330431236248, 6.016025586233206, 6.013254187844712, 6.0121094287690235, 6.008794797814397, 6.004666259114407, 6.004062370882482, 5.999744295448682, 5.999406754850936, 5.995245198751529, 5.994159000992439, 5.993240194250713, 5.990381912134746, 5.988729289045801, 5.985823555660318, 5.982244488221378, 5.978992422418091, 5.978115666649812, 5.973677371461869, 5.972807219252891, 5.969756254691213, 5.9669775920794335, 5.965187892810374, 5.964311337539564, 5.959064095526001, 5.956335813045523, 5.9537918923368025, 5.95137388509287, 5.948281650243926, 5.946678634652027, 5.942099277561946, 5.941569629290556, 5.939943449677887, 5.938949999594059, 5.9359536736820315, 5.933181337012734, 5.931565440150589, 5.926343772320571, 5.924372781968711, 5.922153995990769, 5.919946483360962, 5.91872002245175, 5.91477597909925, 5.913916777795756, 5.909948289946629, 5.907204228743638, 5.906460458784723, 5.904496242644792, 5.903530072708345, 5.900613216522202, 5.897896885990108, 5.897368447943631, 5.894533177344115, 5.891396068247253, 5.888051971476797, 5.886291567143319, 5.881432991642792, 5.879188336554693, 5.8769352271302076, 5.8741156450198995, 5.872130020106887, 5.869773917655614, 5.869027336357044, 5.866711161620185, 5.863907305544115, 5.862485617662593, 5.857388242831128, 5.856164594379922, 5.853845893752969, 5.850681294300761, 5.848955806347552, 5.845291415796465, 5.843433062683407, 5.8391825256679475, 5.83685550617795, 5.833660924587048, 5.831572102942983, 5.830252227668394, 5.826489589472148, 5.825120642978255, 5.821684822641856, 5.821044710694646, 5.817383929568332, 5.814189881661021, 5.813847340457971, 5.812870486611967, 5.808799226620187, 5.806922040221833, 5.806675921312073, 5.804914412538384, 5.801639500165738, 5.798974354183084, 5.7952985303178295, 5.794181879152301, 5.792094285240845, 5.788122808754201, 5.787382750804977, 5.784940720541034, 5.780931861500856, 5.779974720064603, 5.776710010073613, 5.775441326138236, 5.774176713529762, 5.772744344987863, 5.769473214550518, 5.76701278791518, 5.76576710413989, 5.764434815950664, 5.759819460793113, 5.757210653286008, 5.754314640130833, 5.752815542412626, 5.750828749530202, 5.747392691569648, 5.746486210859415, 5.745460494900216, 5.739258870515809, 5.736986950687482, 5.734337400557999, 5.732056606132944, 5.730110078435666, 5.727868338202864, 5.724031234145547, 5.722674528244551, 5.720433057351898, 5.718095519362866, 5.7159285917347, 5.713417562576512, 5.711821346038105, 5.710451754872307, 5.707087648027742, 5.7038010203045255, 5.70233615884326, 5.698294222576626, 5.696404560780934, 5.694256900887596, 5.68972543514153, 5.6876884223699635, 5.6862178488217, 5.685235494561526, 5.68351589774251, 5.682657946932892, 5.678462426862026, 5.676086261089613, 5.6746184191374125, 5.671334038870975, 5.670455529234315, 5.666682232835188, 5.66438865349018, 5.663019154815271, 5.657221973760398, 5.656092764355918, 5.654009998882044, 5.651615235759799, 5.649472892401573, 5.6483116821856, 5.646835737772358, 5.644926364533854, 5.643225732201435, 5.6403372577409705, 5.636987912001515, 5.635402636495635, 5.632036538377792, 5.629710814800678, 5.627119551490885, 5.625953414884809, 5.62544667161783, 5.621172101647132, 5.620709931127489, 5.61774458124378, 5.616940456126948, 5.61285689136378, 5.609909708410154, 5.607806525468723, 5.60606520754626, 5.604027317432618, 5.602157896730864, 5.60048945509431, 5.599301150142859, 5.59608603240047, 5.592732929287213, 5.592035731525854, 5.588834823346588, 5.583776383465267, 5.582262679187064, 5.581250737970006, 5.579831033957971, 5.577403370430359, 5.574638801723628, 5.571494305076147, 5.569148273929466, 5.567949619536992, 5.5645675015314975, 5.561110879033079, 5.5600307763251395, 5.556509073221817, 5.554714128981179, 5.551249199896601, 5.54856518890072, 5.5461162186152295, 5.5447533030389105, 5.544347314970595, 5.541114230929564, 5.539255765968378, 5.5371477094933255, 5.535812135763776, 5.532006833998903, 5.527749429881456, 5.525304103322563, 5.525115014956148, 5.519444200111703, 5.518372813536927, 5.517343812026683, 5.513558257309692, 5.5118847944443505, 5.5101647683848585, 5.5093775922295105, 5.505753146838163, 5.503246730282416, 5.498094687260456, 5.497442427567904, 5.494257544233112, 5.49235280323978, 5.490266246604712, 5.488967903239644, 5.487830857226795, 5.484244169987754, 5.482463182449757, 5.47905352542659, 5.4762822795509365, 5.4759262053239635, 5.4735791229172825, 5.471775524030571, 5.468924290558025, 5.467507529022667, 5.465388176548679, 5.462512137200036, 5.458811040853836, 5.456757026668353, 5.453694022801947, 5.452385126302783, 5.449051883003731, 5.445389247377388, 5.443546398084627, 5.442647709132696, 5.440463899393842, 5.438868235317617, 5.436083435906772, 5.432854825735458, 5.432029210881583, 5.428901047438114, 5.427787394758452, 5.42469090413377, 5.424068164858019, 5.422767901220275, 5.418345166124048, 5.417038410741659, 5.415619436897296, 5.410947580774219, 5.408548664215397, 5.408153857963495, 5.403208701843842, 5.401124916751378, 5.399100331300683, 5.396549987761817, 5.394798409212557, 5.391773697252547, 5.3902651528539325, 5.38922994791225, 5.386095365717136, 5.381859470116603, 5.380115151648332, 5.376937011404871, 5.376333125387454, 5.374028115328245, 5.368686078386647, 5.36823095392738, 5.366621231435401, 5.364244376856683, 5.3621567150620395, 5.36030880915413, 5.359767392087804, 5.35833592252052, 5.35527579602364, 5.352804380797031, 5.3525190944101295, 5.348918053046365, 5.347874615731578, 5.342515254890992, 5.339885587247265, 5.336282776704491, 5.334758760316329, 5.332758663693391, 5.331497615901852, 5.330527856438028, 5.328453163235848, 5.323168982930654, 5.319111133828884, 5.318866424964211, 5.315210760141361, 5.314619803581427, 5.313590850614788, 5.311930344354836, 5.31022178524105, 5.307808242025923, 5.304306931785778, 5.30286310494577, 5.2995599467095715, 5.299020820335667, 5.29682784352745, 5.293886730466784, 5.289351991633169, 5.287630772136148, 5.283583373688517, 5.282473038774184, 5.281311203901312, 5.278828726914901, 5.276473131995978, 5.276116953095592, 5.270739945511808, 5.269425815624897, 5.267287772869911, 5.265668194101456, 5.263534291028003, 5.260564792031266, 5.258564738659996, 5.257278268523825, 5.2536868074858605, 5.253039485422679, 5.250977835133668, 5.248574495295517, 5.245551730514757, 5.2447841322298165, 5.242064929645797, 5.239735998877589, 5.23822331633842, 5.237548486741459, 5.234751497950505, 5.231655972804938, 5.2307064655869535, 5.2276068794851955, 5.225173117864444, 5.2205064561379295, 5.219272218881576, 5.218556766646483, 5.217292590320741, 5.214387507196123, 5.211371277515933, 5.207949922897164, 5.204935927367114, 5.2045340143677095, 5.202763042420378, 5.198447534525391, 5.196680838312638, 5.19486800562429, 5.194234036798736, 5.191153984146338, 5.188163000298082, 5.187899440069176, 5.186062522801121, 5.185274060301866, 5.182615133120622, 5.179895539742013, 5.176254006812114, 5.173746797634795, 5.1709433701174365, 5.168862200958487, 5.167331134671284, 5.166620528591805, 5.162483783833096, 5.159580126239772, 5.158358885322041, 5.155439725791375, 5.155200401335891, 5.15460043920861, 5.152558918459313, 5.147887274138731, 5.145913524827289, 5.144579755754559, 5.141881420896919, 5.137631061925432, 5.134493292686073, 5.131499362026708, 5.13006842718849, 5.129346873724726, 5.125998824995743, 5.12465168510383, 5.122623483596401, 5.120723988467058, 5.118116901506159, 5.116400005678223, 5.11492408885224, 5.112097738899247, 5.1107041075273765, 5.107086295519479, 5.105572960671485, 5.101300108608413, 5.100464829951118, 5.096220970066693, 5.095693045902727, 5.094192473642469, 5.091849709278131, 5.0914406824154534, 5.088697377089887, 5.087734693013177, 5.085294412187306, 5.080895767325587, 5.079006353914956, 5.077985056420777, 5.070824640449016, 5.068714386908125, 5.067640250133589, 5.066642670530929, 5.064998083780638, 5.061267513221666, 5.060478341969725, 5.058767830349042, 5.0554059927786525, 5.053486419425849, 5.052596017908511, 5.049256959873083, 5.048134516281175, 5.045918235937521, 5.042053882703551, 5.037954495597737, 5.037411533007423, 5.036336612985499, 5.033391104513016, 5.031838581763292, 5.030198139729197, 5.029125978482744, 5.028349709802462, 5.024686997782762, 5.023952794465585, 5.021185148860651, 5.0192106836812584, 5.015867548140734, 5.0116579933181145, 5.010189054549934, 5.008385725705302, 5.00632565914346, 5.005881058826186, 5.00185108419218, 5.000375949631166, 4.999344942104334, 4.995426482996591, 4.994715362728102, 4.99093785360586, 4.988358964379028, 4.9869092719326575, 4.984123513768113, 4.9826880303679095, 4.980833494753687, 4.977456318468199, 4.977126633972594, 4.975758088958366, 4.973720499962981, 4.969931669100925, 4.968240168914868, 4.966205181709036, 4.964419843204574, 4.962521498586799, 4.959179260283754, 4.956718887029153, 4.954157672938399, 4.952713534004299, 4.950642865840481, 4.949904536614242, 4.945844858912646, 4.945446987631967, 4.942723249173089, 4.9377766833757155, 4.935738037804817, 4.932958783704331, 4.93109897262755, 4.927808014227441, 4.925815817065681, 4.92509008800879, 4.922599503108822, 4.921334945552435, 4.918391579374535, 4.916846000413709, 4.913557031206669, 4.911432474033557, 4.910463086543958, 4.9090512687418855, 4.906436009191958, 4.903696318639719, 4.901677228625926, 4.899641823430283, 4.897910932958425, 4.895436737026366, 4.892626307490113, 4.890248092556476, 4.88845451265529, 4.885126667542405, 4.88335698728778, 4.880848993780198, 4.878730391686315, 4.877852719341298, 4.875470359268608, 4.8735415395466415, 4.871574369500822, 4.869867064276513, 4.867665819364365, 4.865383879963154, 4.862015565582508, 4.860926344869468, 4.859038752286617, 4.857126352069827, 4.854150492305324, 4.852348887994355, 4.849454377230294, 4.84789262859665, 4.846877679388794, 4.84633691907823, 4.84409480834927, 4.84263261628, 4.8402129214207, 4.8400250278795784, 4.834991247101018, 4.8330355829651115, 4.831732033060373, 4.830658678461571, 4.829338503570434, 4.825294280910828, 4.822415154857396, 4.821559944739357, 4.81871302088883, 4.816498081719881, 4.814260054773623, 4.813940388188261, 4.807686058781065, 4.806898795183187, 4.8040348579036465, 4.803413207008634, 4.799377447872181, 4.7985796364354565, 4.796209675678976, 4.79348082754349, 4.7908162596957435, 4.789410269640363, 4.786693124305358, 4.786163517263089, 4.7818923991189015, 4.779226056733328, 4.777536437501079, 4.775827499996366, 4.775108267316648, 4.7693715555349145, 4.768521430280761, 4.765672036212972, 4.763541358664909, 4.761152328935658, 4.759470693956636, 4.758446895210344, 4.757867736427833, 4.752542849482455, 4.752197827057092, 4.750221946233869, 4.74811900169742, 4.745064180585272, 4.7440319343484285, 4.740595570348075, 4.738912912160001, 4.737610066920372, 4.735497932259334, 4.733019793366218, 4.7310327697502235, 4.727850666120403, 4.725916944971113, 4.725027733941467, 4.719834379165531, 4.7178893572009, 4.716390767158855, 4.715222797664883, 4.714754586796495, 4.711500302571713, 4.710764114164608, 4.708814695719549, 4.705909697690521, 4.702731617985547, 4.699301003565829, 4.698373567089401, 4.694797725519568, 4.694177891662062, 4.691789533342628, 4.690326817131871, 4.6880207637523315, 4.68396095710452, 4.683105637979625, 4.681069596671996, 4.678888806225848, 4.67777966766292, 4.676641384665722, 4.672161616242655, 4.672036123792589, 4.668461532574015, 4.666124038912582, 4.663318730899033, 4.66131753729584, 4.6598544886981, 4.657815210959296, 4.657261217818243, 4.654901498295896, 4.649635331554956, 4.648233389803796, 4.644991311751963, 4.643846851214813, 4.642965776772156, 4.638568360038222, 4.636906990693538, 4.635648950425649, 4.634208235091253, 4.632980000289096, 4.629955668542919, 4.628684229774349, 4.626143165145631, 4.624755238545728, 4.622412979258876, 4.619575823605767, 4.6181089137454165, 4.615648918070938, 4.612406013509983, 4.608844509017354, 4.606632239082949, 4.606417211783442, 4.604257602110119, 4.603500676241046, 4.601594818448939, 4.598246654807475, 4.596575975666381, 4.593221857359129, 4.592794313464302, 4.591469943632531, 4.588682040071497, 4.58708462806162, 4.584939277174645, 4.584368765145924, 4.582763230893084, 4.579466452997627, 4.577179770422845, 4.575586632368298, 4.5742983166174565, 4.570922740186994, 4.569913688668965, 4.565439558435701, 4.565053974909299, 4.562376415286031, 4.560938724587763, 4.558120438247793, 4.55498834866281, 4.552985743583906, 4.550426171608903, 4.549033694180729, 4.548805112723598, 4.546547218529885, 4.5447715446914385, 4.540837973788494, 4.536443051871539, 4.535837854895688, 4.534761015989451, 4.533019101586798, 4.532291493417725, 4.5309726533339685, 4.525957747372896, 4.523907472979601, 4.52239814132325, 4.520390873112932, 4.517985522885407, 4.516568406156962, 4.513316525245176, 4.511280748778806, 4.507520333978443, 4.506575455604007, 4.504698129193336, 4.501911759802645, 4.50039510586464, 4.500071547276715, 4.496356159511352, 4.494373295596954, 4.490778243682576, 4.489564798474362, 4.487840313972249, 4.485223351425829, 4.4817559685675885, 4.481620219804404, 4.479037908065758, 4.478061036423455, 4.47583066941054, 4.473930623597342, 4.471093849476058, 4.468020867146276, 4.467360738205152, 4.465611025401644, 4.462464697043696, 4.4612391725716005, 4.458866459867288, 4.456485190893554, 4.453495344657467, 4.452797336213524, 4.452716397293696, 4.447511504184694, 4.44616482886929, 4.445411070464484, 4.441408820194025, 4.4374623567100935, 4.435610947275601, 4.434881275480539, 4.431554598285815, 4.431135382775169, 4.429582410694467, 4.427894971838227, 4.426241898883854, 4.42382253409442, 4.4210703724135385, 4.420032760781094, 4.416848677783621, 4.41497692042674, 4.413371176237102, 4.4097263104103765, 4.408578226507136, 4.406555222570735, 4.40513453439486, 4.401175848483836, 4.398716368916166, 4.398346882502423, 4.396218280312462, 4.394054073030521, 4.3911456379511575, 4.38973438970734, 4.388209965601106, 4.38607381479525, 4.383134030834456, 4.382402216919147, 4.37922029733861, 4.376550301602907, 4.374863172559449, 4.372931602775706, 4.371083830185045, 4.368637309381111, 4.365104314503711, 4.36286508750098, 4.361368038819354, 4.360397279543957, 4.359138733826667, 4.354693031248624, 4.351741271209899, 4.348838754310251, 4.347509485839733, 4.344498681550741, 4.3428222108987935, 4.341684745582069, 4.339125367321337, 4.338294418934929, 4.335819750815496, 4.335018777876941, 4.331240509472354, 4.328143874946127, 4.324301828452218, 4.321899293817841, 4.3211239182291346, 4.318422743420763, 4.31784477319426, 4.315121333242036, 4.3141438395230445, 4.311022912993697, 4.307779949416481, 4.306748894383299, 4.303629051294961, 4.301931626661765, 4.299588951775546, 4.297663101048284, 4.296469836385615, 4.293742150816391, 4.291320699368428, 4.289262851660941, 4.28764915058781, 4.28606132299501, 4.282804130196373, 4.28022567360237, 4.277926092330937, 4.276903009585969, 4.275456282685984, 4.271502781427847, 4.271126973881827, 4.269105297045837, 4.267397384280209, 4.26555068957787, 4.263412334089742, 4.260995507679434, 4.258312313676459, 4.255805410793461, 4.253172102088957, 4.251343767425997, 4.24856838603126, 4.245718847866454, 4.2438307610737995, 4.242351726635661, 4.242015818930606, 4.240075507636145, 4.237435100234425, 4.235700414781462, 4.233242890300299, 4.230668133752121, 4.229905967304777, 4.227853786230233, 4.224784059894349, 4.224166704000365, 4.220450397106644, 4.217576638593701, 4.216965921848362, 4.214349110150176, 4.21307192379688, 4.2108031172144225, 4.2073649829598745, 4.203927145146386, 4.203748379967406, 4.200367635835451, 4.1981387077379555, 4.196459588562384, 4.196175632342575, 4.1933233252078805, 4.190147109594683, 4.188056459311693, 4.187687756541361, 4.185093948644474, 4.183866374396284, 4.180859913300195, 4.180282710002116, 4.1749881384172465, 4.17264486145681, 4.171026069127294, 4.16947542778327, 4.168221464881034, 4.16567334697793, 4.163384562969856, 4.159161654322583, 4.1569172252593685, 4.155436579586112, 4.152984968467196, 4.152396578628241, 4.148447996098401, 4.146685415104892, 4.145619858982135, 4.143449235061807, 4.138792074479993, 4.137690789028545, 4.136514053663464, 4.135402952693765, 4.13320473104089, 4.131327226618406, 4.127710989998633, 4.126128795471818, 4.124522286743401, 4.123333005389716, 4.11860898821755, 4.117796521944107, 4.11356900641287, 4.112407834445262, 4.111618448311957, 4.108498510287172, 4.106617626802232, 4.1058499410924245, 4.100805770190053, 4.0986528608671815, 4.096809099397727, 4.094851082548132, 4.09157570204764, 4.089706617267541, 4.086982305336372, 4.084734724514634, 4.083473464226851, 4.082332457239294, 4.078621997110896, 4.0770253308114235, 4.0745058891913555, 4.073394962250687, 4.068306953276381, 4.0676832011417146, 4.064505230545942, 4.064371693641481, 4.062266381684726, 4.0614898325122955, 4.060032516851003, 4.058515230363089, 4.055577794849983, 4.054421185795728, 4.051390303010307, 4.04774475514707, 4.045299843655032, 4.0436129279121875, 4.04331137102166, 4.040326967584648, 4.038623177358571, 4.036260047078412, 4.0358236385427695, 4.03433842773956, 4.031274124195504, 4.028667762377643, 4.025993605738991, 4.023396216479036, 4.022235336721279, 4.019569206799482, 4.017474004323077, 4.0158405730012925, 4.013733509914015, 4.01106173466709, 4.0073790193385666, 4.004882227737266, 4.0044116252619935, 4.0029754809158735, 4.002476191192751, 3.999814714834381, 3.9978492088040727, 3.9942710951016975, 3.992527771561287, 3.9908114434485875, 3.989268743153038, 3.9846991181491664, 3.9846280426778935, 3.982975692128346, 3.9810430349489607, 3.978736921240787, 3.972483520958642, 3.9718966999248653, 3.968241035770002, 3.967696927290567, 3.965568267160918, 3.962572655570687, 3.961411137388574, 3.958406826764864, 3.9567405972860215, 3.9550985428828684, 3.952071439207075, 3.9492092462568036, 3.947765652803921, 3.9463926345743996, 3.9445470504245725, 3.9416391206700863, 3.9407062012322136, 3.9360497896371136, 3.9350403053563245, 3.9314354221896433, 3.930964121660289, 3.9286042171668187, 3.926833701065598, 3.9230479331199155, 3.922079785056989, 3.9205502036288187, 3.918551984480033, 3.916285474457074, 3.9150886245976664, 3.912516160516591, 3.9110065929009523, 3.909551547019604, 3.9044285224126973, 3.90341936103979, 3.9016032687211872, 3.8974859430529536, 3.89645367077701, 3.8949897504269004, 3.892830079963616, 3.8905655172716713, 3.888920293424973, 3.884075426806678, 3.8822447208479383, 3.880021212288233, 3.8775787586259134, 3.8734418649233744, 3.8720187065233787, 3.87039694299331, 3.8682829801618195, 3.8672084095713952, 3.8644611448027293, 3.8613931198624294, 3.8602189085527674, 3.856596122944506, 3.8558688645323413, 3.8529230300018096, 3.8508126790532686, 3.8481164970362456, 3.8457566683410884, 3.844703228212208, 3.8433483593640596, 3.8420981181332157, 3.840502113132496, 3.835373677540614, 3.834931291025844, 3.8318909900380964, 3.8296630791017963, 3.8275100860085547, 3.825800101769255, 3.824362019819461, 3.820721472897949, 3.819488760874296, 3.817004138570088, 3.815433094826077, 3.812223684992715, 3.810382655682131, 3.807398966802229, 3.805722532147167, 3.8013706009488106, 3.8003610555465275, 3.7994821003919776, 3.797521931852223, 3.795263059181495, 3.7908184371680664, 3.7892817536114958, 3.7878728444534775, 3.783745942435827, 3.781774829393546, 3.7810639802222483, 3.7797432459265132, 3.776923700431801, 3.7736323755339094, 3.772301049424471, 3.769350601584074, 3.766897398732923, 3.766229562859817, 3.7631597666720773, 3.7601124858734383, 3.758842509500616, 3.7544159353473647, 3.7526262915102304, 3.75191718503537, 3.748943386631341, 3.7468455984207636, 3.7444641914819288, 3.741924568809895, 3.741206244279136, 3.737292658753029, 3.733891771535707, 3.732547863539063, 3.730691376207465, 3.7301007083697746, 3.7274132727125364, 3.72517511137136, 3.722625614953922, 3.722220500607169, 3.72016836532013, 3.716446838118873, 3.715301306133536, 3.7134354624928045, 3.710898968538714, 3.707678525322207, 3.7058963439022596, 3.704900092980346, 3.701486415714023, 3.6975441054858305, 3.695858365561298, 3.6932536650054435, 3.691150907414915, 3.6892430560961404, 3.6884643819103635, 3.68431832682712, 3.682599565454627, 3.6807278804308035, 3.6788008920786854, 3.6758248432818412, 3.6748337892945484, 3.670175290458496, 3.668758464934611, 3.667365939707403, 3.6659807922338623, 3.6646499342175076, 3.6609643422849403, 3.658144402428998, 3.657265143734581, 3.6537450008531227, 3.650519692399121, 3.6477639050348247, 3.645469330638731, 3.643194472503653, 3.6417779481779378, 3.6398111849619266, 3.6392733419848446, 3.638098816486415, 3.6348676641548026, 3.630938700547283, 3.626869283791015, 3.6252968497084828, 3.623567539278397, 3.6225021418780003, 3.618435372445374, 3.6159329583301867, 3.61557196889593, 3.6116606487664455, 3.6103809591441096, 3.6076325321257023, 3.6062997811574355, 3.605107218868155, 3.6004063355300335, 3.59790158327907, 3.5969056046446997, 3.595804376854978, 3.593340965673388, 3.589049847843157, 3.588575527577872, 3.584746258849049, 3.5835014256874804, 3.5822353847077024, 3.579489466978929, 3.5779747726019018, 3.5744589158493207, 3.5702373638028204, 3.569577795497302, 3.5649903271213303, 3.5647342948992753, 3.563658542925113, 3.5589384205354953, 3.557378393787835, 3.5543501364618844, 3.5509842169297734, 3.550482214563891, 3.5500475421189264, 3.5467639284105488, 3.54443363934921, 3.5428823645229715, 3.5394704957538368, 3.537705422100157, 3.5354719429408816, 3.533771540221589, 3.5300438733434722, 3.5273769281318246, 3.5257450951617098, 3.524674135704154, 3.522685388211935, 3.519880798242338, 3.517946625608131, 3.5145038366597317, 3.513088347369255, 3.511576595970864, 3.5099997474586213, 3.506469256968074, 3.50402996338971, 3.5020066902166533, 3.498307805786982, 3.497354141791982, 3.4967743823035295, 3.493304422243634, 3.4908993961048944, 3.4878576551553326, 3.4860825281466403, 3.4821159791405742, 3.4803138699904155, 3.478805574322745, 3.4772795749687075, 3.475442654731484, 3.469463638421283, 3.4688196653126284, 3.467910217411528, 3.463415873998138, 3.4612609976633877, 3.459684855943481, 3.458347754689188, 3.4558151681849028, 3.4511692470112876, 3.4497840349844537, 3.4489421605810056, 3.442712588547727, 3.4412759148757788, 3.43878411209745, 3.4377493616623584, 3.4348671757501608, 3.4327811906210157, 3.429494478062441, 3.429088223895637, 3.4278238209399845, 3.42364131107662, 3.4187545845927665, 3.41784554492758, 3.4160094838225743, 3.412467182903937, 3.4099137034735247, 3.4068816922002187, 3.4035307992664916, 3.4031396323094323, 3.398882457045955, 3.395604691184099, 3.3936171230115697, 3.3920159278976616, 3.3913924689829713, 3.388599635371406, 3.384930566252161, 3.379978978450006, 3.3761535138448826, 3.375323771209571, 3.3721978467165936, 3.3693120382824193, 3.367474953271562, 3.364569408690648, 3.361563158195702, 3.3596993774573845, 3.3582011543983943, 3.3530164491826673, 3.350212778941869, 3.3486843393549526, 3.346485207597804, 3.344072782780571, 3.342895659870652, 3.3395110665991052, 3.3367135485165424, 3.335343120526303, 3.3332400145077017, 3.3307830936284644, 3.3300044438583454, 3.3255242294235274, 3.3244901799750166, 3.321193038839103, 3.3171539156305543, 3.315113546282136, 3.312241552038404, 3.311013681967243, 3.3079308920814174, 3.3052994759888614, 3.3015343860230177, 3.296545828937233, 3.2948183522580976, 3.29245559646253, 3.292171918795544, 3.2897510552580984, 3.287783402212325, 3.286347244191822, 3.2830785023237037, 3.276268505874093, 3.2750485926221953, 3.271533716923006, 3.270178832045341, 3.2679997568029027, 3.263497569549398, 3.2632971353936693, 3.2598577776085844, 3.255388402327839, 3.254297125127968, 3.2501619885025352, 3.2489198506057653, 3.2458943792260926, 3.2441367835303616, 3.2420187230842994, 3.238919373510336, 3.236466095728491, 3.234789443014434, 3.23192985918894, 3.2280435482509864, 3.2241649124403247, 3.223257974517654, 3.219794366399585, 3.2163160763644676, 3.2129867040692828, 3.2106194703136373, 3.209379470763967, 3.204054578220475, 3.203153985626482, 3.200197736681381, 3.196765327137799, 3.1939736458909818, 3.1908333377063367, 3.1877458158458465, 3.1857363345067857, 3.1834089059282347, 3.179759676455005, 3.177905876071243, 3.175588852817166, 3.173090436103522, 3.170058310637286, 3.16686156920061, 3.1665074744609933, 3.1637746476844044, 3.1614542448835117, 3.1551685505815277, 3.150665674898077, 3.1502453094179055, 3.1481718843045945, 3.147011524922841, 3.1416966865181846, 3.1394759346781944, 3.137747751315219, 3.1332580716967255, 3.130844987321744, 3.1278196247354013, 3.12477861419821, 3.119510779085682, 3.119394758305141, 3.1186058411427777, 3.1152677075917947, 3.1123118354831654, 3.1108152445282142, 3.1055331862565416, 3.101945654423484, 3.101615509261526, 3.097206387475152, 3.0924611078492084, 3.0917188877122737, 3.0881347113200253, 3.081246931041665, 3.077760348451083, 3.077310061064739, 3.0734469638742015, 3.066017268092478, 3.0655283137397467, 3.064540681906143, 3.0623342338330417, 3.0588039864172396, 3.0578298046454235, 3.0551206792587893, 3.0493986361990384, 3.0488738299310536, 3.044324143485291, 3.040894072064766, 3.038574170383568, 3.036703648638044, 3.0315975597420692, 3.028434178607523, 3.024661804399507, 3.0200289041444606, 3.01816423769299, 3.0165460253542413, 3.0115909897556845, 3.0080944119108137, 3.004290337061327, 3.0010667210446127, 3.000564495815479, 2.997339960923957, 2.992099651144368, 2.9888572951540695, 2.9871402508758034, 2.9792178467294446, 2.976938351340394, 2.9758138895272936, 2.973473878099502, 2.9677697721593637, 2.963806212589391, 2.9626493988413314, 2.9599951040164836, 2.9572626392375128, 2.953476042107418, 2.9477746770638733, 2.945902363930705, 2.9450465093453677, 2.9399741570248157, 2.938630752464341, 2.9361688873712386, 2.928411529815471, 2.928160934059075, 2.9277784166747227, 2.91949580691022, 2.9172542955278336, 2.916263037013126, 2.909498424648338, 2.905163105965159, 2.900709446614726, 2.8978833537575106, 2.8959164586612323, 2.8935102311744965, 2.8883507632371876, 2.886572388266042, 2.8839886728273134, 2.8765867235485993, 2.8739788035833125, 2.8723355151434813, 2.8665187788446196, 2.864941528565623, 2.860947722054161, 2.853055283127022, 2.85094703089835, 2.8459084926476623, 2.8439258731648853, 2.8369186797520194, 2.8354789520883164, 2.831116426503671, 2.8255517931448697, 2.8197061810313033, 2.815278527730812, 2.8130876703530867, 2.8124733063374245, 2.804868908887308, 2.798298295949996, 2.795213766659576, 2.79047820421393, 2.7888749386339184, 2.784572025370515, 2.780075764247541, 2.7757564228598666, 2.7733147967567353, 2.770765341532958, 2.767218612016116, 2.762656086650031, 2.7606190781139452, 2.752686546746692, 2.746742281013488, 2.74550970097627, 2.744298129870378, 2.7358633415957962, 2.7332053724613905, 2.731957809355207, 2.7292739598855373, 2.7255507277528515, 2.719874421059559, 2.719781860748189, 2.714446210341984, 2.710874868504188, 2.7083250330561515, 2.7040115583572484, 2.7002664255844944, 2.693884610764292, 2.6912004681236725, 2.679084208860046, 2.675603459670125, 2.674605522150643, 2.6704859384584214, 2.665778332134861, 2.659631991529302, 2.6580078034805417, 2.655510514621621, 2.6480535745945892, 2.646445039751312, 2.64339318693536, 2.639268767077872, 2.6354629021109557, 2.62688252198832, 2.6202060373397815, 2.6183934889971097, 2.6132213701349496, 2.6063633917116356, 2.605236671250472, 2.596025151950434, 2.5941544823230704, 2.5893832253302724, 2.5847682695806378, 2.5807370773339, 2.5775098094590003, 2.5723064106705453, 2.571252100879205, 2.567223211918504, 2.5609179338125294, 2.5534497895884636, 2.5514305891013516, 2.546230479570476, 2.5397678615578787, 2.5361431037143385, 2.5277093203174927, 2.5253124207309297, 2.5216444994493457, 2.5116539698899047, 2.5105432825737513, 2.5075186259093734, 2.5019937101931737, 2.4962051708593864, 2.490707639404748, 2.482256554130759, 2.4739440720356645, 2.4704812650663266, 2.4678755089520816, 2.4583570632592138, 2.4573202160763596, 2.4541892094448325, 2.4493467122451413, 2.4421560345950035, 2.4374959908385123, 2.4264785312684247, 2.420610812274159, 2.4159957415359705, 2.4151396661419158, 2.4068699233819526, 2.4047590380998893, 2.3957177570904764, 2.384397056541928, 2.3814130983292707, 2.37050157120712, 2.3631884527004616, 2.357761619947979, 2.3468445122411343, 2.3389036956441553, 2.3344849086576684, 2.328962289225198, 2.324680317680676, 2.3152329461511405, 2.29763733762375, 2.2879979887747517, 2.286315460558637, 2.2703421344482355, 2.267218844273718, 2.2620657050144186, 2.251575760146788, 2.2403377014931887, 2.2318196771731813, 2.2275106158850106, 2.2186384304235998, 2.21308822388626, 2.2065574060574193, 2.1996097517958115, 2.18503306227089, 2.181625924918722, 2.166617250349121, 2.1565482781252876, 2.14373304451313, 2.1391332007826422, 2.132538538347067, 2.10491236872717, 2.1001075140764116, 2.0947501036625344, 2.078943268966762, 2.061567070045777, 2.0502077021103062, 2.047982058595009, 2.0346300647756874, 2.025388774257907, 2.012711600256979, 1.9783693571878367, 1.9738073622728327, 1.9490247548717547, 1.9348513943988357, 1.9295043718575424, 1.8716089181494804, 1.8682449427607148, 1.854538052318226, 1.8493272280824675, 1.83196841460508, 1.8212111913138662, 1.801663996454711, 1.7894923255270334, 1.7760392458183534, 1.757617176656171, 1.740990367943236, 1.73374911896446, 1.7164119441244738, 1.6956679666192802, 1.6671429694286612, 1.6590120444415397, 1.6253959618662361, 1.6136507343198236, 1.5651036171186508, 1.5425427577446973, 1.5124314287035425, 1.508981659503808, 1.4702350681182352, 1.457372361337614, 1.4449150019129158, 1.4122827702606084, 1.4002391120709408, 1.3635141727211566, 1.3539627342090852, 1.2951878605504898, 1.2698525370406701, 1.2549340590906515, 1.153513035901671, 1.121470837611166, 0.9803460678626778, 0.9001750178201192, 0.8834209620875709, 0.7930296703350884, 0.7259537795566683, 0.6880645739245541, 0.5041112485385011, 0.469325335260708, 0.37804724458413763, 8.746540081317629e-14, 7.236647586299902e-15, 3.39419813081226e-15]\n",
            "10.0415586156554\n"
          ]
        }
      ],
      "source": [
        "#ALL文書従来のNCI\n",
        "compute_NCI(A_occurence_all, len(A_occurence_all))"
      ]
    },
    {
      "cell_type": "code",
      "source": [
        ""
      ],
      "metadata": {
        "id": "zmTCfDaVFgWr"
      },
      "execution_count": null,
      "outputs": []
    },
    {
      "cell_type": "code",
      "execution_count": null,
      "metadata": {
        "colab": {
          "base_uri": "https://localhost:8080/"
        },
        "id": "8pYOF5LhRMlr",
        "outputId": "b2e47427-e4d1-49dd-92e6-6cce207453e8"
      },
      "outputs": [
        {
          "name": "stdout",
          "output_type": "stream",
          "text": [
            "all\n",
            "10.73649695256791\n"
          ]
        }
      ],
      "source": [
        "#result \n",
        "# print(\"random\")\n",
        "# matrix_matrix(A_occurence_s)\n",
        "# print(\"sport\")\n",
        "# matrix_matrix(A_occurence_sport)\n",
        "# print(\"movie\")\n",
        "# matrix_matrix(A_occurence_movie)\n",
        "print(\"all\")\n",
        "matrix_matrix(A_occurence_all)"
      ]
    },
    {
      "cell_type": "markdown",
      "metadata": {
        "id": "OlZK_0-iSojI"
      },
      "source": [
        "# 単語の次元数を統一させる。"
      ]
    },
    {
      "cell_type": "markdown",
      "metadata": {
        "id": "jz3ULX6AebVW"
      },
      "source": [
        "単語の次元数が大きくなっても、その単語が文書に登場しないということは0の値をとる。つまりフロベニウムノルムの値は変化なしであるべき。‐→　NCIも同様に"
      ]
    },
    {
      "cell_type": "code",
      "execution_count": 47,
      "metadata": {
        "id": "Yr_N9ARzHWGn"
      },
      "outputs": [],
      "source": [
        "def unify_dim(topic_num,all,allmatrix):\n",
        "  omit_num=[] \n",
        "  for i in range(len(all)):\n",
        "    if i not in topic_num:\n",
        "        omit_num.append(i)\n",
        "  return(np.delete(allmatrix, omit_num, 0))\n"
      ]
    },
    {
      "cell_type": "code",
      "execution_count": null,
      "metadata": {
        "id": "P50A1ZfHH_0V"
      },
      "outputs": [],
      "source": [
        "A_bow_same_s=unify_dim(range(502), alltexts,A_bow_all)\n",
        "A_bow_same_sport=unify_dim(sport_num, alltexts,A_bow_all)\n",
        "A_bow_same_movie=unify_dim(movie_num, alltexts,A_bow_all)"
      ]
    },
    {
      "cell_type": "code",
      "execution_count": null,
      "metadata": {
        "colab": {
          "base_uri": "https://localhost:8080/"
        },
        "id": "oxNtZgXBaCdk",
        "outputId": "8a453f5b-6d16-4903-bcc0-43d715bc5b34"
      },
      "outputs": [
        {
          "name": "stdout",
          "output_type": "stream",
          "text": [
            "[159.45328992803513, 119.09640630566098, 89.15617011986508, 85.60188936895179, 77.64837070702089, 72.28076743551439, 68.51394747828796, 64.81226192401157, 60.92910315720904, 58.793208987831186, 57.93109042735279, 57.188392417437875, 55.31196519581899, 55.02470163405978, 53.019646574862236, 52.83871938819099, 52.177550490900956, 51.20169062090355, 50.37109119981465, 49.47466132743349, 48.85474541203897, 47.864793870809564, 47.5243576073706, 46.64696134208527, 46.33410879947096, 45.37782554128588, 44.84184434855981, 44.73602985171453, 43.75567103221365, 43.64874103905356, 43.28227444039131, 42.16586936268543, 41.46553534821674, 41.320537017072645, 40.920690206128654, 40.661604095536106, 40.04587089551638, 39.694914640128516, 39.262837568295794, 39.169735392828336, 38.4815026840237, 38.20425718807726, 37.68331425184589, 37.49576899294375, 36.912978340789486, 36.746892566113694, 36.44568402540696, 36.22287031004798, 36.148261145026694, 35.66050690789834, 35.460835468780736, 35.314711856646134, 35.141449683110906, 34.51632495643906, 34.440288569533955, 34.23265192133002, 34.137108218078865, 33.59856088191265, 33.34120274754231, 33.3072871250503, 33.011136601681706, 32.84749667669178, 32.839404196703036, 32.63212734744844, 32.490872551584324, 32.314354920016676, 32.07422086733122, 31.87760262621051, 31.72605560813205, 31.59561176099948, 31.336702501158204, 31.255755000329223, 31.039606696424272, 30.934025897407388, 30.884052283490387, 30.536011164226863, 30.443703875309946, 30.190860410099017, 30.16394555726442, 29.99396554362103, 29.961799834924218, 29.90580256415092, 29.735884650577898, 29.449043532575626, 29.415034388785052, 29.322655724923937, 29.1284481456303, 29.045000837138456, 28.838900954673125, 28.78201847679389, 28.688856746651044, 28.59864891115612, 28.496073908336278, 28.351508121977844, 28.196500018300284, 27.94145957500889, 27.82688806139878, 27.787495861723336, 27.702764034759646, 27.62264627222348, 27.51995672614806, 27.31367291753122, 27.195604352367948, 27.075113291174684, 26.966888708849964, 26.848232768815073, 26.78088709801023, 26.68484970810647, 26.629074415743244, 26.514911035171632, 26.478709657376882, 26.387462888605956, 26.26626808296142, 26.01891052914348, 25.900619210115572, 25.837047802937782, 25.656462617115167, 25.647387176574224, 25.60466144338148, 25.505396455147235, 25.329722543495144, 25.29780691614915, 25.2029855407, 25.161621011888414, 25.079308038410048, 25.06667247912582, 24.978022970372773, 24.832620895252138, 24.74389791251789, 24.60979097124548, 24.529313189810214, 24.31422938447931, 24.24059161845364, 24.188728778284556, 24.06698219879374, 23.983528179886346, 23.872159758604976, 23.844633785104467, 23.72850287299262, 23.627381281861847, 23.493874467955035, 23.448258549069095, 23.371319668122357, 23.30238070408445, 23.242768068032234, 23.107793309353603, 23.08517046467346, 22.97865344541555, 22.901286221901728, 22.860317587358377, 22.703014287382064, 22.591623950945177, 22.524977871320143, 22.502789512068105, 22.468577644873555, 22.339251668781287, 22.30097082123816, 22.239171052034646, 22.097096387902944, 21.97615424395739, 21.947153007800654, 21.89887225564811, 21.859646266302942, 21.806578273855067, 21.740419908749153, 21.674768895121115, 21.62902461832013, 21.531868354121986, 21.48993545087449, 21.397931122293134, 21.33901997149373, 21.298408157025513, 21.20846356392458, 21.166726322647136, 21.10058078656543, 21.046250921375243, 20.904550113526817, 20.888113601077414, 20.812402307760884, 20.78311919521285, 20.726320172866156, 20.658836893151417, 20.585795446306985, 20.48799926461242, 20.459373568432294, 20.387195076825385, 20.306307749962745, 20.253726734083262, 20.12806989866193, 20.055643252767254, 20.007302423189646, 19.998264883639788, 19.943855343159015, 19.84212708264793, 19.81535005600694, 19.726037161063953, 19.661667692743663, 19.595621738611385, 19.54049850816329, 19.507630278174254, 19.441551688866475, 19.41438065785071, 19.38794086553684, 19.35100261293402, 19.25156005994808, 19.182367382386808, 19.12776360971395, 19.115208386049655, 19.074269191855613, 18.994019358636642, 18.977956253788854, 18.92864098697425, 18.878017488016994, 18.820886769786053, 18.747676410931405, 18.738218508147312, 18.687198429993742, 18.627627912368062, 18.60337074866491, 18.55816534435217, 18.52610616960074, 18.413662198578958, 18.399037280435508, 18.291352723733045, 18.25276148609994, 18.176158656742135, 18.130528024343448, 18.085733282955207, 18.03224014675611, 17.99850210615996, 17.9707761552136, 17.907755549633237, 17.857391499786633, 17.817597085387735, 17.757098460071838, 17.749615685944352, 17.70812241822992, 17.658057585640254, 17.586976497550637, 17.540149741459444, 17.45414268556701, 17.4042658789441, 17.386344782470008, 17.325016848911467, 17.29137705026671, 17.213090443672716, 17.129070292462114, 17.063292952585694, 16.989547300574245, 16.963802227985607, 16.88507345041306, 16.871093157847042, 16.81110850201945, 16.762539299362953, 16.700717925482703, 16.630698579961276, 16.602901452844097, 16.561244709526314, 16.515458117810077, 16.470609822499885, 16.434320945354848, 16.414476974426375, 16.384238677442987, 16.304047363607143, 16.292009979835683, 16.2470880794244, 16.224787827322945, 16.17955581613183, 16.145054154255494, 16.115996101210573, 16.044935730486518, 16.010352852072373, 15.969562418395585, 15.952503703531619, 15.908805978577776, 15.882346361680709, 15.860034384713995, 15.762047305854743, 15.696115683935567, 15.69031747790515, 15.544455702309307, 15.514104060868343, 15.489376227059159, 15.45263989932597, 15.408457012865203, 15.36819132134793, 15.346950419396883, 15.31800819802621, 15.290454423197344, 15.20109617611616, 15.177088967201753, 15.14775712560218, 15.130116992921954, 15.091809681725513, 15.034048656625858, 15.005883612931404, 14.960247583519772, 14.937523405988776, 14.915773275352441, 14.843867880283348, 14.807792493357976, 14.758086016808203, 14.717715151099798, 14.646802785943416, 14.62581886494028, 14.580692192165678, 14.567568850921429, 14.514682314931614, 14.475545531330955, 14.425790755123906, 14.357859766410604, 14.348414675159345, 14.291368249004565, 14.264599653476077, 14.255238009051874, 14.227533844524366, 14.170487170208837, 14.131218748096838, 14.080391051055384, 13.988626439747888, 13.97187444003855, 13.958657602829181, 13.897103495136728, 13.844372611993116, 13.836954240748579, 13.791045679035397, 13.751050541325887, 13.696025955501085, 13.679500134744368, 13.668546193804959, 13.590032459463517, 13.520674226730454, 13.495739961983197, 13.462950398285397, 13.43691177216396, 13.40431241664952, 13.374080072858765, 13.319491472103298, 13.280675328667384, 13.257164511318676, 13.237924755497541, 13.173945032141686, 13.122055441935698, 13.101837822446889, 13.050579502931958, 13.03301263718217, 12.999512690493471, 12.952836206622722, 12.902241672090943, 12.869191816501386, 12.83465430680231, 12.79956042513768, 12.775485544926772, 12.743146012547987, 12.71136553519166, 12.69035603804612, 12.655163771313761, 12.61707943938706, 12.607534835939083, 12.560624893333845, 12.538621618442788, 12.497122247717959, 12.47884663606444, 12.420568179623974, 12.370312591846721, 12.346067234908682, 12.29356139815798, 12.25841214595274, 12.231002854310706, 12.219281064210428, 12.148681905410267, 12.130352119997996, 12.09508728417485, 12.047837895855343, 11.997182678466672, 11.989470289979227, 11.923407546096191, 11.856275709541713, 11.811473959812911, 11.809166102077167, 11.796959189713464, 11.744350652342266, 11.699565889959551, 11.679497011206218, 11.643410018309645, 11.603652116853166, 11.558022107114295, 11.495983247942851, 11.484703934973195, 11.446930211365173, 11.395134436397807, 11.341769485427672, 11.315471031216747, 11.284103987096213, 11.272358708245822, 11.226003123446914, 11.145204632685127, 11.134092641466054, 11.099707503876624, 11.077304235474266, 11.051943161194476, 11.020896746360444, 10.978980183827344, 10.93601287823534, 10.89615736954881, 10.880842420990282, 10.846686690262036, 10.791851577228934, 10.72468205530374, 10.708533610036657, 10.693284123570267, 10.625522239276306, 10.57533110002122, 10.560253135592045, 10.533282561816092, 10.484047164254713, 10.447323058850856, 10.415180673194055, 10.398225338398415, 10.375853911408596, 10.30703778340556, 10.27458674218545, 10.182220470247339, 10.162240307887778, 10.11973143137985, 10.104953216910735, 10.07043281139763, 10.035461541942283, 9.98580983902895, 9.9792768267023, 9.920882857875831, 9.874268704988316, 9.840492992128054, 9.836287649678143, 9.77543056026682, 9.75819284306849, 9.677989448029262, 9.671667205691387, 9.610331087830223, 9.563988829476576, 9.532289418609508, 9.508496869044798, 9.48412628790307, 9.446232104731843, 9.387866932491923, 9.352869458790764, 9.325007918564044, 9.262713389388981, 9.238114192665993, 9.199674756953877, 9.111733666348497, 9.109519640084981, 9.052216186567426, 9.013669763007835, 8.944725417077432, 8.891944021809554, 8.87563965446338, 8.827977450871412, 8.800762933366613, 8.762241187299484, 8.719569093541708, 8.680681580376726, 8.644893106638976, 8.594948166027786, 8.552801862238791, 8.518418634317136, 8.477226027621962, 8.39229915951249, 8.36563034623476, 8.324307883268991, 8.206882824356649, 8.190509079438558, 8.113384023896122, 8.090787988587794, 8.009052761607524, 7.984535206942505, 7.893688076298223, 7.824695826524504, 7.636769534545795, 7.584333902999679, 7.554312198501331, 7.528350071040049, 7.413257531586525, 7.3579102081246655, 7.1982097113259655, 6.997232583065298, 6.806205298974635, 6.694853030336056, 6.585967516955873, 6.504790858822052, 6.459998216516813, 6.3786709336560055, 6.318898867075473, 6.25039096140319, 6.227764710511667, 6.045512034122361, 5.956670823181933, 5.693126268801366, 5.517513705298727, 5.3304451610670815, 7.081225744630291e-14, 1.3539240335924858e-14]\n",
            "57.99629175804982\n"
          ]
        }
      ],
      "source": [
        "compute_NCI(A_bow_same_s, len(A_bow_same_s)) #NCI for 502 selected item with same enityty dimension\n",
        "#微かな誤差はあるがほぼ同じ値になっている"
      ]
    },
    {
      "cell_type": "code",
      "execution_count": null,
      "metadata": {
        "id": "Ye6JLsZVca_w"
      },
      "outputs": [],
      "source": [
        "compute_NCI(A_bow_same_sport, len(A_bow_same_sport)) #NCI for 502 sport item with same enityty dimension\n",
        "#微かな誤差はあるがほぼ同じ値になっている"
      ]
    },
    {
      "cell_type": "code",
      "execution_count": null,
      "metadata": {
        "colab": {
          "base_uri": "https://localhost:8080/"
        },
        "id": "uqzQsYs1JU8-",
        "outputId": "4e2cbb3f-32b7-48cf-f738-dca1537e224c"
      },
      "outputs": [
        {
          "name": "stdout",
          "output_type": "stream",
          "text": [
            "[105.26701001516216, 54.284184595643325, 49.73683068865134, 45.63645485232523, 40.44965014013048, 38.624137020510176, 35.57883457877521, 35.36189748655758, 34.296405084126775, 33.836052132776274, 33.01612873291126, 32.50142806017175, 32.05666671747254, 30.787376226179997, 30.666370307913894, 29.233899404770344, 28.84043235573921, 28.122700382188746, 28.009863351956223, 27.711565977814956, 26.887576710115557, 26.855582472317657, 26.7800005473876, 26.481483460702577, 26.10813052525268, 25.9005891776822, 25.509558548648762, 25.14154607824051, 24.930089762765487, 24.29778323836914, 24.139808869118525, 24.126238948948515, 23.82115876668211, 23.70677250938046, 23.435307012159953, 23.257871200882757, 23.136958696403596, 22.994150810047515, 22.615358052914523, 22.36667616724439, 22.301533247418135, 22.040744763423024, 21.912861759372415, 21.73067932238836, 21.693285849917114, 21.409226891535027, 21.346802851314337, 21.167862394804533, 20.939361407784315, 20.72051683027557, 20.679006663732018, 20.619469103890466, 20.446676652696965, 20.133179879950415, 20.070206081420128, 20.019514498563915, 19.87556685268801, 19.71423815230946, 19.54739839941923, 19.460546169674704, 19.42461986792796, 19.236468648539677, 19.200359868425426, 19.079501407205413, 18.91795275684033, 18.784399758169428, 18.750317648882586, 18.61985267657287, 18.568256076884992, 18.44708732975051, 18.355187491138764, 18.30771011630197, 18.187246068950266, 18.129870637108766, 18.01659609999601, 17.997895054334577, 17.862610941174363, 17.780625056192342, 17.748742538232182, 17.685489139103346, 17.577742387416702, 17.487768129257656, 17.356185300691337, 17.264576969484583, 17.22308891207415, 17.135573871626683, 17.072212566045323, 16.967891480506914, 16.923133918034207, 16.830391809437554, 16.800364220141756, 16.751539951239423, 16.690640073836416, 16.587943981623564, 16.557640251156524, 16.48996027712008, 16.44701501330158, 16.38494427386463, 16.294441886209572, 16.27752707726376, 16.2248612393916, 16.13245828183191, 16.015325522012933, 15.971774682852438, 15.89481160394591, 15.87210389058878, 15.792862683641486, 15.78341335825722, 15.709920778335443, 15.648271005569649, 15.583189970650322, 15.52607439694194, 15.494120651797353, 15.427048956316487, 15.405550552574455, 15.33438899238782, 15.264209975621979, 15.219666772468248, 15.171304339787557, 15.110530303697825, 15.079638892132785, 15.016275523752487, 14.916799236855464, 14.872624873470649, 14.862820061893633, 14.807553629549364, 14.771049173776527, 14.75786089718891, 14.669688078998053, 14.58919412328755, 14.569707361968423, 14.506026848914187, 14.471240788923325, 14.4509896962433, 14.400125410666298, 14.377377950555069, 14.34549317465559, 14.278741797729575, 14.266651080612833, 14.248726454259254, 14.160116382133843, 14.12538718543325, 14.094002073220617, 14.05329460846518, 14.008884642727983, 13.975280651299805, 13.912055575375662, 13.865111192443084, 13.781590272198528, 13.7640342556637, 13.72838997053601, 13.709254198377625, 13.671782807873024, 13.632115783582528, 13.606787687933274, 13.547399655690544, 13.533274891186583, 13.482876198780406, 13.45741280134378, 13.42156654795515, 13.385066056500987, 13.319514975329042, 13.300279511752244, 13.284210388261512, 13.231830671290579, 13.22810647359455, 13.208033092188007, 13.126309007301398, 13.098645367996664, 13.069552882752001, 13.010112428848661, 12.995719771575875, 12.946712130178708, 12.931601939494993, 12.894449379748128, 12.857105287922636, 12.818441913554501, 12.769419342190307, 12.732750991206679, 12.704941442486804, 12.66387305615108, 12.631074087540211, 12.608789911013039, 12.588075880400838, 12.555233406755898, 12.538584326704251, 12.488187691946855, 12.470714962936558, 12.427730174054846, 12.41146811839785, 12.332399936110805, 12.303653969455002, 12.287588771276061, 12.267402397048743, 12.243493200533536, 12.225484095850973, 12.190259912281606, 12.173019267186207, 12.143428174437515, 12.121113481847743, 12.088117620456954, 12.039267246640172, 12.016046217961321, 11.991207145136382, 11.94528385965326, 11.931935309979671, 11.922641277705987, 11.872515156268866, 11.862805770767448, 11.831969553935798, 11.781500509083088, 11.773814096086957, 11.730981410384597, 11.680889214715771, 11.648305431126607, 11.637829612818207, 11.613222222415134, 11.574713853125603, 11.536127350119115, 11.51458673258079, 11.500612851563483, 11.480282811743006, 11.440809694504619, 11.43562783846819, 11.376747858190415, 11.362893981043067, 11.336176855025824, 11.310863955434986, 11.273641481842787, 11.26203824964056, 11.22990694593696, 11.22656486178944, 11.207721505805889, 11.178441289584997, 11.123998328570316, 11.092397120718088, 11.084162430466343, 11.081334314321685, 11.04650717180864, 11.023360866837084, 11.009649783292016, 10.976217440218221, 10.932404125641245, 10.924676763183589, 10.885200314077082, 10.85724666815903, 10.841408467445685, 10.806382047337841, 10.778395782442235, 10.767478680984942, 10.721571199576339, 10.708505856461754, 10.691647244560855, 10.674500029631545, 10.63866501735568, 10.6124892274133, 10.61011685536102, 10.569573394662527, 10.543658910037415, 10.519552040767755, 10.515513880776085, 10.467561725931334, 10.446074091631017, 10.422802939622448, 10.408850370426642, 10.391959467368649, 10.367564195815232, 10.337977430211524, 10.319535206164579, 10.292652694533146, 10.260590138844835, 10.241721880404004, 10.22188150125141, 10.200410328726067, 10.165742135355474, 10.134984629344686, 10.120170084580419, 10.095107635482186, 10.07399875713604, 10.0498867231734, 10.031769538524564, 10.022089651876735, 10.015522384379885, 9.976278857570442, 9.953399449784087, 9.951930464029358, 9.907429794290165, 9.892008944764664, 9.852509511805614, 9.83630541167617, 9.834890221738721, 9.799216182126095, 9.773641708132963, 9.765090651443444, 9.736910798787882, 9.716715794400356, 9.695439419737571, 9.678295304191685, 9.668026936662189, 9.636278713745622, 9.624324591236398, 9.587735742691793, 9.576840526953479, 9.555295539119072, 9.550115635182472, 9.508826653139865, 9.499122128235529, 9.481744697441167, 9.459737906260855, 9.457294768556528, 9.432212653417883, 9.403810767482462, 9.385434977939807, 9.361493293699015, 9.35049001767786, 9.326569130682433, 9.298968587831911, 9.281243813760971, 9.255606696618324, 9.235621294868475, 9.228167154733676, 9.214484440045808, 9.202590460144075, 9.193011077991851, 9.171426237865166, 9.151348142589846, 9.131955657415794, 9.098609303355081, 9.08717374562189, 9.0569884137796, 9.047538361710123, 9.036130859319998, 9.001445506393706, 8.992364756296404, 8.965079607877236, 8.944728308296076, 8.929035276264063, 8.903402216222027, 8.882425760716684, 8.856181837347734, 8.838018346942299, 8.808932046704763, 8.802361610959716, 8.789346734015414, 8.766007019821489, 8.745419306669515, 8.72735334604143, 8.714067793599876, 8.706476290930128, 8.660571873335789, 8.635516798749629, 8.629842678329734, 8.59815763173423, 8.590172356141348, 8.585005958883542, 8.553379591487952, 8.542803750616615, 8.52358227425195, 8.501082603443237, 8.481657312866487, 8.461577822111888, 8.434953413535514, 8.433514915143915, 8.411695680098243, 8.352839338859399, 8.35015900053477, 8.332975199101947, 8.327485041871247, 8.309556374250846, 8.302864674131342, 8.297126065885188, 8.250971688156826, 8.23889453555584, 8.2228721264785, 8.220740774930476, 8.189363348103367, 8.180088461158794, 8.168378899922816, 8.12455082954976, 8.107852981216729, 8.07974487451263, 8.070816760924794, 8.054714545195957, 8.050782675799798, 8.018610333308207, 7.985337506654046, 7.976806473358874, 7.966281101784994, 7.936049532963505, 7.9129007565955805, 7.897082606625605, 7.883344676288581, 7.863875767514753, 7.8556689985525345, 7.851167155264728, 7.8423029696410484, 7.7976084090679025, 7.785494305878439, 7.752900960996104, 7.723062901789544, 7.717713453207423, 7.688303699458125, 7.683181117296229, 7.660503705077091, 7.645707535958947, 7.628086509247353, 7.619004478831068, 7.610726357273797, 7.574393246653617, 7.567478682749274, 7.540046851604894, 7.521166975873074, 7.506333113768366, 7.487259197841227, 7.455442361270498, 7.428865475072924, 7.40998211860896, 7.396856175772934, 7.367480282475171, 7.348097681783962, 7.329425670623719, 7.326158663409364, 7.310407514000098, 7.277080731074495, 7.246961545288404, 7.219060248847089, 7.208801226889609, 7.1976810336146535, 7.159625389531747, 7.149288281115147, 7.128458420845642, 7.117390493256135, 7.1067906204226885, 7.079850043703856, 7.055897915408554, 7.025635277676371, 7.000759552269507, 6.987879241464216, 6.978414486105603, 6.95008120059508, 6.918956078587524, 6.903053410423251, 6.869828065460619, 6.856414550011161, 6.8217965590873595, 6.807968064699093, 6.792884092711629, 6.770572311996293, 6.76610369430531, 6.7343893538167485, 6.732660882916479, 6.6971251492324, 6.681038743158261, 6.648352863536706, 6.6293452231433445, 6.5958181963846085, 6.577999000351391, 6.5677337725230585, 6.55627914557931, 6.514113385419527, 6.484113016117196, 6.483149770443652, 6.4601954701082756, 6.42442751925348, 6.414116799758212, 6.392166503913055, 6.364301604790207, 6.331363700424747, 6.301298380726106, 6.287786442871125, 6.254162656927933, 6.205021228788938, 6.184868842537852, 6.1639250238091785, 6.160253946626065, 6.1467690439507505, 6.112758770793186, 6.076438030182008, 6.069941134546006, 6.025747258646613, 5.996747940651541, 5.970767803397502, 5.956284424502775, 5.933521208957562, 5.892357946640452, 5.85653932292505, 5.847573720200528, 5.800337086827618, 5.761643301139457, 5.755045811056175, 5.721240594894223, 5.663314875536658, 5.615257033097463, 5.581529762158098, 5.515142834384263, 5.462259105631796, 5.407556463998836, 5.268196047945545, 5.1339579411018885, 5.034120471391096, 4.901995780546268, 4.849475540268235]\n",
            "22.841163190953523\n"
          ]
        }
      ],
      "source": [
        "compute_NCI(A_bow_same_movie, len(A_bow_same_movie)) #NCI for 490 movie item with same enityty dimension\n",
        "#微かな誤差はあるがほぼ同じ値になっている"
      ]
    },
    {
      "cell_type": "code",
      "execution_count": null,
      "metadata": {
        "colab": {
          "base_uri": "https://localhost:8080/"
        },
        "id": "VYdWjth_JrhO",
        "outputId": "53535a52-463a-426d-d155-b1ba1d8cefbd"
      },
      "outputs": [
        {
          "name": "stdout",
          "output_type": "stream",
          "text": [
            "movie\n",
            "107.33230227291159\n"
          ]
        }
      ],
      "source": [
        "#result \n",
        "# print(\"random\")\n",
        "# matrix_matrix(A_bow_same_s)\n",
        "# print(\"sport\")\n",
        "# matrix_matrix(A_bow_same_sport)\n",
        "print(\"movie\")\n",
        "matrix_matrix(A_bow_same_movie)"
      ]
    },
    {
      "cell_type": "markdown",
      "metadata": {
        "id": "0DD5Hj6GfaNM"
      },
      "source": [
        "##論文のOccurrenceの場合はどうか？\n",
        "\n",
        "\n"
      ]
    },
    {
      "cell_type": "code",
      "execution_count": null,
      "metadata": {
        "id": "QdzNq_YEfhE_"
      },
      "outputs": [],
      "source": [
        "A_occurence_same_s= get_ooccurence_MatrixA(A_bow_same_s)\n",
        "A_occurence_same_sport = get_ooccurence_MatrixA(A_bow_same_sport)\n",
        "A_occurence_same_movie= get_ooccurence_MatrixA(A_bow_same_movie)"
      ]
    },
    {
      "cell_type": "code",
      "execution_count": null,
      "metadata": {
        "colab": {
          "base_uri": "https://localhost:8080/"
        },
        "id": "Rsr1n_eTf9vE",
        "outputId": "c7bfcbc8-d178-4b11-d2fd-68957f5cb800"
      },
      "outputs": [
        {
          "name": "stdout",
          "output_type": "stream",
          "text": [
            "[71.96759972826027, 37.58688056769249, 29.310104712114867, 24.188142361675503, 22.59143050532289, 22.264584217851834, 21.23032344191688, 20.757519033013917, 20.180911430469827, 19.853978218953642, 19.264232442891046, 19.132176209780145, 19.046918525785564, 18.57930688120728, 18.432933095566643, 18.145443435964904, 18.023853970155734, 17.91449685209861, 17.673957081931718, 17.615725620697344, 17.477889086837507, 17.427630549765166, 17.157332494698725, 17.025136972123814, 16.983377649311617, 16.926850710932904, 16.83374117383259, 16.651020739643375, 16.581738267394066, 16.497731977595492, 16.46795285330985, 16.349871197494608, 16.219840600241756, 16.19335076893991, 16.12842851131614, 16.001091100149225, 15.976700157009388, 15.907113164711719, 15.879773530799172, 15.803591586536935, 15.790818469323765, 15.678131555941976, 15.656174000349326, 15.58777917703624, 15.511274110976798, 15.446208826505499, 15.365806738008134, 15.347275504268074, 15.265473025315483, 15.22386545797114, 15.159993859883713, 15.095979680534567, 15.051752016035785, 15.00219334929179, 14.97904700859639, 14.885964626032234, 14.82108537280965, 14.788132869512598, 14.74939216347383, 14.738782355004737, 14.669173526035658, 14.630429471319419, 14.582693706069977, 14.509906128019361, 14.472234762160975, 14.443270491313337, 14.401341704974795, 14.339707118613045, 14.33061733328467, 14.285123082698464, 14.278787806445836, 14.194833956139558, 14.15568372202513, 14.133823460727609, 14.096415583719034, 13.996803719560244, 13.943482650660687, 13.911894949707786, 13.840828242745133, 13.814329185182967, 13.761792192186746, 13.719732860971359, 13.644870862072189, 13.630093740741664, 13.570010841509387, 13.548787986399045, 13.538893633603383, 13.495328789081775, 13.47039649861324, 13.420721256276156, 13.397718904325446, 13.35274455208533, 13.346472106403525, 13.314488963219231, 13.2975979921946, 13.210353248367625, 13.194508560219802, 13.186874301810214, 13.162598378903757, 13.145425317673038, 13.123703223008501, 13.106978089138703, 13.04836198673501, 13.020290500881684, 12.967235095718534, 12.94090626367526, 12.920958283754661, 12.893819171972053, 12.859756053691411, 12.827098105606812, 12.7639110409196, 12.752341855521912, 12.723331973774943, 12.695543637672305, 12.630238054894466, 12.587168123845672, 12.571843555078459, 12.560967912899569, 12.51916401436155, 12.50812110883843, 12.469668182951366, 12.441700154981305, 12.398793797818874, 12.387813365714461, 12.3576539641794, 12.33297767748538, 12.310164624415332, 12.275110615454123, 12.222623509361114, 12.18606525847399, 12.171397368506524, 12.148545312720778, 12.108589814809225, 12.092130824224999, 12.080217106356637, 12.06411118212223, 12.014808840134984, 11.996117728636625, 11.964453545195365, 11.960277183551344, 11.944364958390384, 11.906317399221209, 11.877802905770615, 11.86874323403323, 11.838510982947135, 11.81063529445402, 11.773525107383218, 11.76467772578782, 11.728800119770172, 11.681010651898522, 11.647756661946984, 11.613216746184479, 11.597903991426218, 11.57476083521613, 11.55723155365574, 11.533440816675654, 11.504793157276188, 11.491720320800347, 11.461197650258821, 11.432299395344941, 11.408016059028935, 11.395021764149197, 11.387226407120565, 11.372933854208323, 11.328864024470771, 11.304322531182722, 11.289510436917379, 11.25590444912432, 11.245144366238495, 11.210644852270535, 11.198518318595347, 11.167246740408128, 11.14577022917763, 11.09598343785186, 11.081811657664874, 11.068811869055919, 11.054298146055318, 11.026479524606433, 11.011029338308454, 10.990772638795399, 10.969598494042984, 10.938653774465855, 10.91049409210297, 10.893618016254898, 10.88732308986498, 10.859450619952566, 10.822358554046959, 10.81180788551824, 10.775740218876239, 10.76759592991065, 10.739698992127776, 10.735065241495178, 10.718544663444323, 10.678877095402616, 10.672563086199492, 10.666639628906296, 10.652709531384021, 10.62199593885148, 10.613980218163924, 10.566121311761814, 10.555251398193292, 10.526559672070682, 10.521848052524303, 10.483322141182182, 10.469162356044784, 10.444907016097815, 10.423251271909397, 10.404779404444078, 10.370737591148034, 10.363679834496915, 10.332334499005322, 10.329460407087987, 10.302624581501531, 10.272473749035353, 10.252299233022596, 10.235731149493922, 10.214828398447363, 10.19465056803308, 10.180804937571821, 10.156349157845174, 10.139888465119402, 10.10966253952052, 10.097351021247155, 10.077532218390528, 10.061831738341255, 10.04909001367588, 10.023280863659407, 9.996591678664812, 9.987195260943627, 9.9607080675433, 9.94873681012195, 9.920003493298813, 9.916363526619588, 9.892729500742613, 9.865142072026462, 9.84518217372561, 9.819045093497895, 9.805334183226867, 9.800343517783597, 9.785159452829022, 9.747605253288592, 9.728708022225256, 9.71759209830042, 9.69860526853845, 9.670164516664672, 9.649886059613978, 9.624622225890652, 9.611026978754134, 9.590068267589363, 9.574993666723074, 9.562957871166157, 9.531162873581366, 9.520052138370078, 9.506807737235428, 9.474593584384758, 9.466878515769988, 9.45828363769203, 9.45082207766886, 9.405860609408284, 9.402499491244647, 9.375797139037342, 9.366602679402783, 9.336481806405285, 9.321320093491442, 9.305514358282274, 9.293865470486427, 9.258144286443518, 9.233523916636333, 9.221254906761649, 9.206159868091063, 9.193353933785758, 9.169079891844838, 9.14155645521166, 9.136428515727879, 9.111114392991913, 9.100958621733978, 9.077467123940659, 9.069396326650079, 9.047443747965067, 9.034867798235677, 9.022392112561944, 9.000257901287943, 8.988707317630535, 8.956742024037334, 8.948477158251011, 8.92616089318105, 8.911502399785752, 8.902053269009393, 8.88673418865672, 8.859058731226161, 8.84770952746153, 8.846136310297506, 8.825289980580614, 8.80892089325257, 8.793827992746497, 8.783038772780209, 8.747510119076995, 8.737799427535874, 8.706216213802557, 8.694063781788481, 8.67640949953853, 8.656852337103036, 8.649671376798421, 8.638447744539016, 8.60312226500625, 8.595903743751812, 8.589808042328068, 8.546285183115977, 8.534607826968207, 8.527363827202144, 8.508027721968842, 8.500592135045844, 8.482092357315254, 8.459846687148833, 8.442766292779432, 8.434337190310101, 8.414890094534508, 8.403137940901162, 8.390588900452487, 8.366688680704959, 8.352152452939848, 8.332523612694922, 8.325683394417004, 8.303047375061125, 8.290720584537768, 8.276799443360874, 8.261405479568404, 8.238031267917652, 8.226319987193785, 8.191103193039238, 8.183001253745786, 8.168775445328565, 8.134221008471838, 8.12625976838398, 8.098627330731507, 8.082373154034741, 8.077857223439953, 8.070124879174957, 8.064480053765868, 8.044744664715328, 8.03225449302507, 8.001523937603473, 7.990132483767348, 7.979657969797655, 7.9701563006925955, 7.952636402410713, 7.942892788917029, 7.923045525482424, 7.902419321261207, 7.8972065997613745, 7.887474797910089, 7.870127131995391, 7.852671530013339, 7.836774146445397, 7.821283558991835, 7.8153972216249485, 7.779019590636108, 7.767277815469457, 7.7440894417968416, 7.731057601779966, 7.721182197643739, 7.703471881321587, 7.693820872409812, 7.674928540133782, 7.663370916203607, 7.64881242237849, 7.620060710903601, 7.606002532708745, 7.582511354843055, 7.552180082760447, 7.547599990955496, 7.538280223063395, 7.5207263727296345, 7.504224150770983, 7.484466171773814, 7.458973375407452, 7.448682219306625, 7.424667890962767, 7.414837343988179, 7.391730267047908, 7.381305319033363, 7.3686986270014225, 7.356156006239625, 7.352309645890426, 7.331843954190906, 7.307217985729998, 7.302242021750482, 7.280329129483928, 7.2596378474220975, 7.246433102479175, 7.235965839770052, 7.2254784087280095, 7.195883579510989, 7.163792517337461, 7.159933693442767, 7.155170135851463, 7.129916749392254, 7.124851705793948, 7.094835473434764, 7.0919063958156485, 7.065507681736876, 7.052509808719778, 7.048047320529917, 7.019329307076904, 7.015544627950405, 6.996674204407725, 6.982125889682489, 6.955154646889281, 6.95076654835587, 6.934106315006917, 6.91093596246648, 6.884019183863178, 6.869856027935259, 6.858560863909224, 6.852789768916136, 6.817935927626645, 6.807805424009502, 6.788032950719617, 6.776171125154885, 6.768571225875312, 6.751849322319411, 6.7322882089655405, 6.701113150133758, 6.688573109168, 6.6864561253045975, 6.661364805051258, 6.653133970682965, 6.637671576486812, 6.622723340230446, 6.593918659544877, 6.571842521197388, 6.560731968782862, 6.54271006921821, 6.506001343054086, 6.502019981787349, 6.482743783441754, 6.472331114405024, 6.456089569569764, 6.435048151580374, 6.397134969446311, 6.374270536177154, 6.3663307957954265, 6.3569709599699955, 6.35460341036551, 6.320152198705772, 6.3059257821712755, 6.285859381339583, 6.2747646376662845, 6.269069144123593, 6.24077643390946, 6.197435399428857, 6.184436241032547, 6.179662228632584, 6.154426832039022, 6.116891447961454, 6.105332671261731, 6.095099633192998, 6.056039678973699, 6.053274608772253, 6.032621569865979, 6.00253730812558, 5.97076400335449, 5.939590387372, 5.922432113079871, 5.913924513269679, 5.898775802323125, 5.86680767192702, 5.84118445441251, 5.820475448791088, 5.777043223899142, 5.756475796676529, 5.731644898609336, 5.680311940518739, 5.663368332628594, 5.614686414366835, 5.60296418278209, 5.573087646136087, 5.545272327278413, 5.50125159323033, 5.489089871916346, 5.466355085029678, 5.449491312530898, 5.429013659023517, 5.376545350432983, 5.327659077165554, 5.27453918379581, 5.2614875042027975, 5.230617203158772, 5.162559829823348, 5.121101735409227, 5.087648113973818, 5.010514028254626, 4.910773034190123, 4.839321493949049, 4.7326187760598755, 4.629383819313893, 4.595907556419346, 4.463178853183226, 4.4490348742951324, 3.729853703372718, 3.196003711172979e-14, 1.1693110878147765e-15]\n",
            "10.694344121359867\n"
          ]
        }
      ],
      "source": [
        "compute_NCI(A_occurence_same_s, len(A_occurence_same_s))"
      ]
    },
    {
      "cell_type": "code",
      "execution_count": null,
      "metadata": {
        "colab": {
          "base_uri": "https://localhost:8080/"
        },
        "id": "vkLCmaKDgLpY",
        "outputId": "8172a7e3-ab9d-4703-d8fe-d73301251f4f"
      },
      "outputs": [
        {
          "name": "stdout",
          "output_type": "stream",
          "text": [
            "[63.089665628263134, 25.949156123991774, 24.22013482733256, 21.318445392777868, 19.844371846261197, 18.303422896328097, 17.83898618511944, 16.576423493631154, 16.205811383012144, 15.680131912733268, 15.526509292779451, 15.38160122942305, 15.295104936128805, 15.02298581285888, 14.942723688815114, 14.90795517005089, 14.638222056818904, 14.550202335415765, 14.420992252777564, 14.303918658712291, 14.162373692435182, 14.077360446813945, 13.976326149548372, 13.918703372804881, 13.74795931640398, 13.708142610735802, 13.657238748055637, 13.621668751171553, 13.502941197477922, 13.429642504505068, 13.298040264612562, 13.268037369959991, 13.206390885914916, 13.119332260470808, 13.082231085475593, 13.05061636945034, 12.978137530750312, 12.953946293954319, 12.90130672447387, 12.874199737029384, 12.796155388532314, 12.784417312034064, 12.690058314232552, 12.665514129328608, 12.649874130143818, 12.61424378711333, 12.54443868485527, 12.535040038291752, 12.39179008498918, 12.354520822790917, 12.33867808755117, 12.279358795640427, 12.264035566154007, 12.262100049469076, 12.185603203818351, 12.164771413272172, 12.10089960419921, 12.006038255255653, 11.955160601124552, 11.940533384235966, 11.92881452009213, 11.841488507844922, 11.835943384575652, 11.802535313822247, 11.782619923650566, 11.750795622960299, 11.713255753558833, 11.667535185189399, 11.638658704145948, 11.609706950531306, 11.549358676767469, 11.525187509461137, 11.479693463853636, 11.462377301719608, 11.41359167678616, 11.380467068781229, 11.329215166707417, 11.291591405725022, 11.271134810731104, 11.228840368874488, 11.210062467118009, 11.184184756569907, 11.149214557754744, 11.125104117333054, 11.106164642923062, 11.091568506911988, 11.079343068149658, 11.0029916710819, 10.994037904223568, 10.95780654954613, 10.914904764290096, 10.897637101196509, 10.867358171253885, 10.820014248593008, 10.793518032483448, 10.774616562835112, 10.738103366607579, 10.707184672714712, 10.679709722642215, 10.659248852635601, 10.635552942614291, 10.611118172092896, 10.582561174690587, 10.556813213382839, 10.521145430027076, 10.486180747964125, 10.47207203005403, 10.455561388865167, 10.436334069266323, 10.395590221082823, 10.370737335314631, 10.361297598036588, 10.325056003294067, 10.297729394876326, 10.249499712985758, 10.230619324814493, 10.222404902964247, 10.19713990669995, 10.193969118330633, 10.155103409224623, 10.150913224705016, 10.134920217204556, 10.077679598314818, 10.038738278789056, 10.03093853681394, 9.999631216300994, 9.991136734728714, 9.972913626572694, 9.957729977147702, 9.91931176578323, 9.912991394575167, 9.909272541838218, 9.881234435212933, 9.855680482970909, 9.832048365405583, 9.813384015285752, 9.789603261762679, 9.7686754065903, 9.745469033771258, 9.717091952323162, 9.680047751804516, 9.67270670001266, 9.656222659650277, 9.633597280190719, 9.625455795155448, 9.593297646126073, 9.550174908303944, 9.538401627557002, 9.524948678456242, 9.508079357918511, 9.481459920150073, 9.46342843090751, 9.444857526828645, 9.406857910483204, 9.398531340532688, 9.379891271744082, 9.34753506913958, 9.335349204771282, 9.331674403511535, 9.3115506921638, 9.284089587208756, 9.259890526914697, 9.248447647598121, 9.236329779773385, 9.204229708503979, 9.186418417020885, 9.179200916781143, 9.157064065629797, 9.135859376463598, 9.12325007403794, 9.114519355419759, 9.101285429742271, 9.067523894454359, 9.043873647589976, 9.027532438489079, 9.005224733824143, 8.993503912068437, 8.976281792515703, 8.950115043562759, 8.930360543232236, 8.923231467753324, 8.90872701404582, 8.89299675621637, 8.873266657007719, 8.854358712002808, 8.83476240860671, 8.818288334164052, 8.809910150767127, 8.798506994843384, 8.761416942153563, 8.75504029493158, 8.733577672085703, 8.724995148145545, 8.712965886582706, 8.709327291843206, 8.68046748781784, 8.651559442004501, 8.636256912210657, 8.616312616920196, 8.600016833689828, 8.569120878689523, 8.560616403440546, 8.528583711230624, 8.522832642149078, 8.499419110493198, 8.48055041489418, 8.471588959352069, 8.446669939099783, 8.441074542220438, 8.4225839831904, 8.407433752346774, 8.403903716125912, 8.390191757888271, 8.373631620583296, 8.365766321380411, 8.333225326152613, 8.328042425496928, 8.309655691339358, 8.279722863835113, 8.263109618544323, 8.252964344860347, 8.226000441011164, 8.205980056530477, 8.198244438072603, 8.195186644791134, 8.181561765948128, 8.15679191062184, 8.138452102115421, 8.13264148080819, 8.115525574163726, 8.093245740141578, 8.084120688995652, 8.071986636683572, 8.056693472085524, 8.039317799796473, 8.025719884384177, 8.009717699542271, 8.001245877269387, 7.980739115706795, 7.948898014456411, 7.9483147459924615, 7.925728422587451, 7.911520629814987, 7.898918265305225, 7.896528103853629, 7.8604110563153915, 7.849325243552964, 7.831919967202256, 7.82580372076725, 7.8156401553930674, 7.80204664054619, 7.776502822972574, 7.7735427197270495, 7.766125019024374, 7.738542559124316, 7.730674087210815, 7.728715364128833, 7.711219833082042, 7.698954232803006, 7.687197755397429, 7.654845588537503, 7.649222428760377, 7.6307331306052175, 7.616652257197075, 7.6055877956837445, 7.590975034766517, 7.566109429097439, 7.551013901056612, 7.546707930296827, 7.540135646459936, 7.526706434254902, 7.507390360210925, 7.492540065641695, 7.470532235340581, 7.452879556443441, 7.432316404083831, 7.4220574483678, 7.413439605238224, 7.406862889883753, 7.4046509323032845, 7.39011358681508, 7.367511430908894, 7.357801203731739, 7.351732001368601, 7.333274597172522, 7.328561583464007, 7.308140068672264, 7.3035109655707, 7.291828634653034, 7.272079974072585, 7.26435176430567, 7.250493186855645, 7.235612697795241, 7.208269075009236, 7.196335696115979, 7.178069109800651, 7.171517477917073, 7.16382814649573, 7.141323522899574, 7.133855161122171, 7.129972225341513, 7.115527974453471, 7.096933555911105, 7.09178417632151, 7.080373952784299, 7.0739933839561635, 7.049903512915877, 7.036583069206991, 7.015803552466568, 7.0108733381703034, 6.995326724635432, 6.9890528693436345, 6.981120089270664, 6.968365082480138, 6.952711213113593, 6.939436191545966, 6.933796316657759, 6.909898902149485, 6.90530052417049, 6.899669140520463, 6.8778556769376795, 6.87664767384907, 6.867126906619896, 6.855590530555134, 6.832393071838052, 6.826700197886221, 6.813278792859232, 6.811441992870353, 6.790084639904956, 6.787129362688237, 6.769457459207536, 6.7550204292439595, 6.747598053561102, 6.739423250430975, 6.729699138264454, 6.711481279893925, 6.691278776347652, 6.683742149005436, 6.67138254562322, 6.661951881701483, 6.648379309390141, 6.635611606649143, 6.628752002998749, 6.605993452933515, 6.594803236961038, 6.5848911601005975, 6.579097325748853, 6.572617810337803, 6.562980144964708, 6.54306403239611, 6.524628996816949, 6.5212630047816145, 6.510725153878473, 6.505884125477141, 6.494828871064786, 6.466580664429958, 6.4617986302292065, 6.454996528436546, 6.443755297761761, 6.431429370553518, 6.429930581232311, 6.417667559618377, 6.40294840600712, 6.396247993307513, 6.382326466872393, 6.36921878877903, 6.355284805111709, 6.336033320653716, 6.3320363245386835, 6.3167378726334436, 6.314489627672633, 6.296977227958659, 6.278524763060417, 6.272656187038095, 6.263451600721361, 6.240635089071587, 6.237528295911406, 6.21331520094737, 6.2027752926028485, 6.187405674255941, 6.183215826612264, 6.160294171177482, 6.148959618861222, 6.139247695540357, 6.127543890212139, 6.104949965942052, 6.093188827172778, 6.071390362187897, 6.063865146541993, 6.052773179553545, 6.042211036643658, 6.0365594685028245, 6.015746912165325, 5.9986946992522965, 5.990581529599678, 5.967739862084628, 5.957019880240266, 5.950357852705404, 5.942004702811517, 5.927032629030053, 5.921349650109135, 5.905749517183957, 5.89428724863259, 5.877143666194172, 5.8755890264555415, 5.863956098622394, 5.845317032844999, 5.836159448457469, 5.80907232917342, 5.803689004048893, 5.795807298464415, 5.784547274572096, 5.77897111163938, 5.765387327219112, 5.761508094141229, 5.730529681874714, 5.72268109645629, 5.706361784268147, 5.6987956230957915, 5.692588395856231, 5.671723263347071, 5.666684202966536, 5.656391969104286, 5.649417934695721, 5.63138057175905, 5.626707780802823, 5.5924970916001495, 5.588710310892028, 5.580844755708761, 5.566212011197035, 5.563190276928196, 5.553398658547541, 5.545270223465797, 5.514888128256319, 5.5033413822924135, 5.488351942092824, 5.486953828756492, 5.4791978979546, 5.464424657157325, 5.447229005369592, 5.433749442513017, 5.432119454629484, 5.412839916912318, 5.398207939581616, 5.391966462445569, 5.3694054390240575, 5.359402549227045, 5.347656250997778, 5.329355517954823, 5.323756219710547, 5.311973108768344, 5.3048478794626135, 5.285309212596306, 5.259610300015944, 5.25277861104391, 5.2454518941124215, 5.225497248401602, 5.215554856298756, 5.209368382796946, 5.197059857680619, 5.175325517612533, 5.170429894494604, 5.144683194316511, 5.137809081574571, 5.117856073944238, 5.1062408269863475, 5.093796144543067, 5.069695932901898, 5.067485581647493, 5.051142386342, 5.021406150406389, 5.01036879918274, 5.0012849662557155, 4.9703926761284745, 4.965029882226633, 4.949360081842189, 4.945323149116783, 4.928317123487051, 4.919673743570464, 4.895274038957503, 4.882575917431704, 4.862475753448483, 4.855711654406357, 4.836824527728243, 4.792361202317659, 4.770384484672973, 4.7647286415733605, 4.740755740482415, 4.701983227334887, 4.688944476333875, 4.655417182611445, 4.613045207698149, 4.566653963479376, 4.550246397578036, 4.470630693021441, 4.420784348523601, 4.392778334291141, 4.371359379033683, 4.292901139662675, 4.198355670358909, 4.143010509800344, 4.028016858065734]\n",
            "8.04155586083679\n"
          ]
        }
      ],
      "source": [
        "compute_NCI(A_occurence_same_sport, len(A_occurence_same_sport))"
      ]
    },
    {
      "cell_type": "code",
      "execution_count": null,
      "metadata": {
        "id": "nXHJkvO7L8e3"
      },
      "outputs": [],
      "source": [
        "compute_NCI(A_occurence_same_movie, len(A_occurence_same_movie))"
      ]
    },
    {
      "cell_type": "code",
      "execution_count": null,
      "metadata": {
        "colab": {
          "base_uri": "https://localhost:8080/"
        },
        "id": "Xto-v2pVgZds",
        "outputId": "00e70be6-11f5-42da-a695-d005f767d79d"
      },
      "outputs": [
        {
          "name": "stdout",
          "output_type": "stream",
          "text": [
            "ocurence&same dim\n",
            "random\n",
            "12.544370860978763\n",
            "sport\n",
            "9.167502521976019\n",
            "movie\n",
            "19.987325117378056\n"
          ]
        }
      ],
      "source": [
        "#result \n",
        "print(\"ocurence&same dim\")\n",
        "print(\"random\")\n",
        "matrix_matrix(A_occurence_same_s)\n",
        "print(\"sport\")\n",
        "matrix_matrix(A_occurence_same_sport)\n",
        "print(\"movie\")\n",
        "matrix_matrix(A_occurence_same_movie)"
      ]
    },
    {
      "cell_type": "markdown",
      "metadata": {
        "id": "Y-a0Kq0zjZrB"
      },
      "source": [
        "### tf-idf version"
      ]
    },
    {
      "cell_type": "code",
      "execution_count": null,
      "metadata": {
        "id": "yZPiZN1nOhbc"
      },
      "outputs": [],
      "source": [
        "A_tfidf_same_s=unify_dim(range(502), alltexts,A_tfidf_all)\n",
        "A_tfidf_same_sport=unify_dim(sport_num, alltexts,A_tfidf_all)\n",
        "A_tfidf_same_movie=unify_dim(movie_num, alltexts,A_tfidf_all)"
      ]
    },
    {
      "cell_type": "code",
      "execution_count": null,
      "metadata": {
        "colab": {
          "base_uri": "https://localhost:8080/"
        },
        "id": "d3q12WPDjuVA",
        "outputId": "07017684-ab22-46f0-e1a9-a2b3b25edec5"
      },
      "outputs": [
        {
          "name": "stdout",
          "output_type": "stream",
          "text": [
            "[3.603807309988342, 2.6579317267987665, 2.2064933203794737, 1.9489898157088863, 1.916631777018984, 1.803196560950761, 1.7885175964695679, 1.7244644818259425, 1.670139415018991, 1.643573896472216, 1.6038403879285579, 1.5776637261512891, 1.5672094288480507, 1.5339612963523388, 1.5054343297936075, 1.4907741682031057, 1.4824045988188426, 1.4687333123023578, 1.4462234948201105, 1.431241717284542, 1.4230484116716524, 1.4177142663598434, 1.4091506577425483, 1.3995503374467406, 1.393506304906443, 1.3780243090439501, 1.3663914854687604, 1.3590695752001472, 1.3468484579894866, 1.3438129341448348, 1.3315899873703152, 1.3209868086602836, 1.3138586565660786, 1.3079612378172742, 1.3025886198003265, 1.2979236674471293, 1.2895952987137793, 1.2834172950393414, 1.2771129235000953, 1.269723487170321, 1.2617630514471445, 1.2607922152527886, 1.2586340391257809, 1.250671139950583, 1.2460978031337278, 1.2395107672144714, 1.2394353187226184, 1.227904557854587, 1.2259264914478922, 1.2218006179905387, 1.2182952793718882, 1.2147545991214135, 1.2089784857642771, 1.2070210815273439, 1.2045159621629475, 1.1991319979689379, 1.1961530642398064, 1.1952875826665583, 1.1895327441904684, 1.1885941460845948, 1.182247317796067, 1.1816991393139151, 1.1789219073634731, 1.1749508904170285, 1.1730871570690211, 1.172047786091358, 1.1675202516512984, 1.1638179330447345, 1.1631527059612061, 1.1617170986625276, 1.159670331392411, 1.15576837602418, 1.1535261506693966, 1.1524645262904838, 1.1485802223173438, 1.1465915676118812, 1.1441562799073517, 1.1399997309478418, 1.1382951979259686, 1.134727511274525, 1.1331130396796063, 1.1320729464449237, 1.1299812612516744, 1.1288046235228042, 1.127724549906299, 1.124827697827413, 1.1225274740722513, 1.118835460438929, 1.115961288253551, 1.1152562817992537, 1.1149772815410195, 1.110922117179392, 1.1103417347934768, 1.1092087526629009, 1.1063661081903435, 1.1048649802302686, 1.10273956247283, 1.1007728454100127, 1.099849460755555, 1.0990750994079426, 1.0964911299141311, 1.0960315545290769, 1.0926712032109125, 1.0904985279771553, 1.0899586493102642, 1.0888967307204398, 1.0862381717581628, 1.0848195937981338, 1.0844153777204637, 1.082756061094159, 1.0795902443722094, 1.07734271485524, 1.0761665811024967, 1.0754930696115188, 1.0744488920269881, 1.0727502632787946, 1.0716042064622, 1.0701776772751257, 1.068934452859611, 1.0679756747411198, 1.066246034179232, 1.0635460835005381, 1.0625699716370258, 1.0606401500446019, 1.0594458983735846, 1.0584948048328575, 1.0572713393282362, 1.0565221777520342, 1.0552111331763878, 1.053331977826231, 1.0529777254971802, 1.0516763524877644, 1.0505543635889516, 1.048888361279329, 1.0482964706267985, 1.047220795602674, 1.0454787935870373, 1.0441555128179858, 1.0433473009619558, 1.0420526813082345, 1.040463956616491, 1.0400346462229422, 1.038113989249002, 1.0379557886247168, 1.0365179396295074, 1.0358427579620353, 1.0348682371857618, 1.0341789826667953, 1.0321030706149616, 1.0314685728133801, 1.0299377381422583, 1.0289232199407974, 1.0274803284927883, 1.0272081769551493, 1.0244503241522571, 1.0233814806569568, 1.0232148140899284, 1.0228032796515034, 1.0213237693012085, 1.0198029016480232, 1.0185661383056097, 1.01718290092472, 1.016346112803441, 1.0156963331001738, 1.0150452178107843, 1.0143418397612, 1.0117223840018086, 1.0110453695132102, 1.0098350583383529, 1.0095123178361867, 1.0078549358597928, 1.0076536361462949, 1.0069857820204822, 1.0058043443106057, 1.004595414075597, 1.0042314389038303, 1.003442463272499, 1.003239008385175, 1.001500716861834, 1.0006408021378606, 0.9994963374403668, 0.9988353628756017, 0.9984124949458476, 0.9972184513703228, 0.9964739813846462, 0.9956415443052666, 0.9955944412752722, 0.9945816741435486, 0.9930179066002778, 0.991849744420713, 0.9907272802674313, 0.9899100671054453, 0.988398228086247, 0.9882757872596853, 0.9870505886751577, 0.9858599408949514, 0.9850655247918034, 0.9844734703360809, 0.983901349136827, 0.981873338499148, 0.9817404204852288, 0.9812193697668553, 0.9804056268012719, 0.9796140007719204, 0.9791894694077771, 0.9776965408507459, 0.9766884529325548, 0.9759548667540426, 0.9754543156481805, 0.9742961197912765, 0.9730395454269527, 0.9720095060073246, 0.970788335733283, 0.97022718819834, 0.9685233093681155, 0.9683724423197214, 0.9672865573148123, 0.9665003466811412, 0.9653288281586443, 0.9641625644141143, 0.9635081803008995, 0.9633129479109325, 0.962666153784673, 0.9609543077708845, 0.9604186011024994, 0.9594853525270962, 0.9586553501911762, 0.9584200008714504, 0.957845559809245, 0.9564483568429255, 0.9557135231768177, 0.9544654041864442, 0.9538091488832061, 0.9522826356336533, 0.9518951344776467, 0.9509310986306406, 0.9496193181974075, 0.9493360458952705, 0.9478309901761721, 0.9469670419035144, 0.9459687869676102, 0.9456516339364811, 0.9441799947928445, 0.9433577934199672, 0.9418736886694804, 0.9408024028032391, 0.9406020737470419, 0.9399718962404422, 0.939566105136815, 0.9383613661843594, 0.9378808764187153, 0.9375778087519333, 0.9353390887320702, 0.9347793773324465, 0.9342444960131651, 0.93302358581578, 0.9319179482313095, 0.9318697996541373, 0.9305343072242256, 0.9298231427373321, 0.9286330436139131, 0.9279482812637817, 0.927400812364179, 0.926427871701955, 0.9256791601143961, 0.9249504374527929, 0.9237595765445002, 0.9233823215965191, 0.9223186415488094, 0.9221825195918745, 0.9207247320007262, 0.920365835262003, 0.9189725538114686, 0.9184989106383085, 0.9175734036823248, 0.9162198537478122, 0.9146491162192848, 0.9142712559331915, 0.9131010909959992, 0.9123153203022484, 0.9118987812735757, 0.9106562218930917, 0.9105008517522363, 0.9092962061120973, 0.9081414910332416, 0.9067231718306192, 0.9061841423349867, 0.9060801758036552, 0.9039900319433238, 0.9033823550669139, 0.9027905983111132, 0.9025839703106129, 0.9009642182410756, 0.8987783438122837, 0.8975580019702116, 0.8961081471866724, 0.8956999660828113, 0.8952452558945151, 0.8942928531904677, 0.8939999029558955, 0.8922874893643907, 0.8919401929275288, 0.8902098505810873, 0.8888383117058789, 0.8867284443947264, 0.8859575130938373, 0.8856542357786549, 0.8851107837188664, 0.8845598464715558, 0.8827895017045928, 0.8822145160953158, 0.8801042604936301, 0.8785209616708665, 0.8772764196843885, 0.8767003214986033, 0.8762729610551493, 0.8760322534621228, 0.8748966157043118, 0.8744353640808051, 0.873010311270474, 0.8718543715215383, 0.8708111808242625, 0.8694741630509166, 0.8675731969380922, 0.8664342383689733, 0.8656273020495568, 0.8652197349314277, 0.8641251235517792, 0.863588214141843, 0.8611446062016513, 0.8604926950263893, 0.8595509649813768, 0.8588611719468078, 0.8576304759813007, 0.8572526732272556, 0.8565042324111747, 0.8551822121602959, 0.853496009094088, 0.8520547203267899, 0.8510999890929242, 0.8501143897783848, 0.8493998005183133, 0.8482794457632588, 0.8475437769030069, 0.8470054182755187, 0.8458869331531953, 0.8445385453057029, 0.8437042588966569, 0.8430199747745705, 0.8411461258804827, 0.8400105378872607, 0.8393098026591883, 0.8383027743686786, 0.8370156506910811, 0.8356395209932747, 0.8347648306030907, 0.8322624765782378, 0.8320182836078357, 0.8303904387099827, 0.8291459649936851, 0.8286595161088058, 0.8282003476924433, 0.8275904252318695, 0.827135452886794, 0.823289497425889, 0.8228673377584783, 0.8219026247023042, 0.8214734240338708, 0.8204872082369765, 0.8200591380450128, 0.8194123923276249, 0.817455327466733, 0.816311714838242, 0.8155237928003164, 0.8118009134985246, 0.811035218194181, 0.8106583905513746, 0.8090360714535315, 0.8082676916682631, 0.8079251152232111, 0.8070463835963709, 0.8049906976122745, 0.8041864185845324, 0.8020656376026873, 0.802008526324617, 0.8014337593869256, 0.7993722476323816, 0.7984428495965282, 0.7982204947797787, 0.7975776277486084, 0.7971041984517497, 0.7948391303307906, 0.7931848666096749, 0.7924886058214645, 0.790849529528309, 0.7898324656186835, 0.7873963100864191, 0.7867076954650503, 0.78469239850272, 0.7840291293755755, 0.7829839303980288, 0.7805160920293893, 0.7785672870782785, 0.7777770729916974, 0.7762065364841719, 0.7739589920376496, 0.7728604111559936, 0.7710842192759061, 0.7706040349602128, 0.7703820314341512, 0.7678685357903099, 0.7664422542913271, 0.7660230106330904, 0.7636389325577129, 0.762905281073297, 0.7603570164646214, 0.7589192633441474, 0.7576448432415517, 0.757545139728733, 0.754772208712206, 0.7542025557261596, 0.7528643879468194, 0.7499732361237549, 0.7488660135742626, 0.7473890810583466, 0.7465623051657819, 0.7445194109357097, 0.7419309828785334, 0.7412049337112319, 0.7380980216727724, 0.7374692383664592, 0.7363486915786327, 0.7354143438473102, 0.7318699066016564, 0.7301879373922013, 0.7291622949263435, 0.7281069346489875, 0.7267863804268354, 0.725961959434154, 0.722948264045013, 0.7212134653580002, 0.7176013502200227, 0.7167641870784283, 0.7154096479432717, 0.7152642638868157, 0.71388932031432, 0.7115369073856429, 0.7094251331982493, 0.7066296964549146, 0.7045670856858579, 0.7033874827388599, 0.7015222549542234, 0.6998422790504679, 0.6967170333965468, 0.6943526508915319, 0.6907149574860184, 0.689160514783994, 0.6851790031557193, 0.6844069470676727, 0.6830920642228921, 0.6817926429115823, 0.6787297915411556, 0.6754434431202598, 0.6735953461745704, 0.6712099322002193, 0.6671690414160255, 0.665616441500947, 0.662023896090572, 0.6600925238256792, 0.6579947645770429, 0.6548938440969658, 0.6526268513356902, 0.6518234617079809, 0.6480088982399852, 0.6436252117800926, 0.6399476524236272, 0.6364388475809821, 0.6290458608146154, 0.6275051138901668, 0.6237955632013522, 0.6193255838139755, 0.6189610852191509, 0.615212450406066, 0.6102003760564673, 0.6062675824731345, 0.6022157388971078, 0.5971907651108069, 0.5923525752866426, 0.5851668313278101, 0.5847576627972095, 0.5750239290518995, 0.5649407954977059, 0.5603387644336714, 0.5589399960256396, 0.5520654945527325, 0.5369078353583204, 0.5266373024593108, 0.5234577713556011, 0.5187352446249215, 0.1977485477562927, 1.6004906273468454e-15, 1.0651170812204412e-16]\n",
            "0.029451222930701338\n"
          ]
        }
      ],
      "source": [
        "compute_NCI(A_tfidf_same_s, len(A_tfidf_same_s)) #NCI for 502 selected item with same enityty dimension\n",
        "# TF-IDFは次元によって値が変化している"
      ]
    },
    {
      "cell_type": "code",
      "execution_count": null,
      "metadata": {
        "colab": {
          "base_uri": "https://localhost:8080/"
        },
        "id": "GWL_Nk95j3bT",
        "outputId": "a9fdd105-cc18-4d73-c45e-05cd2e273634"
      },
      "outputs": [
        {
          "name": "stdout",
          "output_type": "stream",
          "text": [
            "[4.6748910356330855, 2.9090650655372357, 2.4820676541134556, 2.4149237447565106, 2.2189184691316526, 2.0927053749970432, 2.0403875810805823, 1.988591101059438, 1.9527355445344121, 1.8984883632944727, 1.8485950108632332, 1.8360902313678533, 1.787102296181862, 1.744706497926404, 1.732733138010752, 1.715753204768668, 1.7017443089534614, 1.6685211986714492, 1.6379706777393888, 1.6353059782509543, 1.6174646245317312, 1.5996753926872322, 1.5790210533365159, 1.5712788023169297, 1.5491333484549228, 1.541401108918618, 1.5145875739475536, 1.5029869144919785, 1.4978650425091153, 1.476253058686964, 1.4650895816210825, 1.450506506997814, 1.4434282063626753, 1.4384668038126118, 1.432167995285085, 1.4167151268838427, 1.4095921339051694, 1.4007271476075718, 1.3879822622792413, 1.3829687208005756, 1.374574581256433, 1.3689428490954278, 1.3598885578829465, 1.3451843123200131, 1.3362886578974893, 1.3258719308670592, 1.3215970348608053, 1.3199072729647539, 1.3167671273920483, 1.305441561062037, 1.2990714099068463, 1.2975318941433822, 1.2918893691678233, 1.2863241721089187, 1.2741211869029803, 1.2702471886217932, 1.265541043990285, 1.2567750650317118, 1.2554945176642627, 1.2516528438026997, 1.2483341760858362, 1.244020027532269, 1.236791480541104, 1.23181931469756, 1.2254123757858635, 1.2222990852392115, 1.219084528413414, 1.2144327974502447, 1.2101918429331404, 1.2053895443570444, 1.1997440101952115, 1.1976909838400756, 1.1937603700260777, 1.1923752740433755, 1.1850688002217298, 1.1819681066364185, 1.1788268841888967, 1.1749787900451645, 1.1727668881636515, 1.1708269746032687, 1.1687293285778781, 1.163624062849283, 1.1549793669401214, 1.1523537292501864, 1.1460746463622549, 1.1444024192501607, 1.1428372623154799, 1.1399484243039062, 1.138873613414115, 1.1330992003109825, 1.1309070342545957, 1.1279918138562088, 1.1267237750038244, 1.1232047763815234, 1.1210418134365505, 1.120126851805036, 1.1183194415412636, 1.1155036113130359, 1.1117304961147956, 1.109350517712353, 1.1076112231828277, 1.1033667607886595, 1.1013870697066317, 1.099533866104125, 1.0971751040210056, 1.0954113964815346, 1.094942471003223, 1.0923185263529336, 1.0896987171917183, 1.0872026321394332, 1.086126172389321, 1.0829422639222208, 1.079433191661773, 1.078574494406837, 1.0739364420702224, 1.0725206096987128, 1.0706592933618158, 1.0695913100577563, 1.0677926128939474, 1.0637680390083357, 1.0633575458923, 1.0601436479093405, 1.0586660926186422, 1.0559499737844404, 1.0550560733085443, 1.051814350151949, 1.0508876734660704, 1.0490791590443067, 1.0471362086981506, 1.0446072277593812, 1.0428229187760834, 1.0399775187457458, 1.038911572571842, 1.0373928119194398, 1.0350254743730078, 1.0340027423105569, 1.0308578930999357, 1.0294193357650236, 1.0280758429933796, 1.0257476027378591, 1.023034438667073, 1.0219114571971486, 1.019190504014611, 1.0186456909820807, 1.0185249620901657, 1.0171271520317469, 1.0150484716216432, 1.0132613912753754, 1.0120454219931858, 1.009862468541006, 1.0095247547992263, 1.008829526781739, 1.0054684388206152, 1.0041398980339187, 1.0029550471379112, 1.0021527862878021, 1.0002975746440672, 0.9979648911938801, 0.9943356407139762, 0.9936101900503892, 0.9925109868091901, 0.9911945596751934, 0.9900928688858089, 0.9886896103567377, 0.9878524211641927, 0.9871380041166645, 0.9836494929777541, 0.9824064805273623, 0.9814144877836772, 0.9802531370591155, 0.977152902827302, 0.9765881970410677, 0.9748919837339151, 0.9744266101045496, 0.9737809057356234, 0.9709257031744564, 0.9700452364148102, 0.967299658157109, 0.9669433880286865, 0.9657477355624691, 0.9627242285751443, 0.9621429852220079, 0.9616478016162511, 0.9605308456542283, 0.9582305543152837, 0.9574168182956634, 0.9567845492070954, 0.9550095103375738, 0.9539979466004224, 0.9524579065695636, 0.9495192819046221, 0.9482936835223096, 0.9462037833410354, 0.944824966926079, 0.941731947734756, 0.9405783853767467, 0.9396861744880004, 0.9386345498780196, 0.9378075256636731, 0.9360995320709414, 0.9342408880701026, 0.9331886226973919, 0.9323153300628766, 0.9315644587638652, 0.9304384447138067, 0.9278130110593882, 0.9262901119932236, 0.9255746816906139, 0.9247239147529434, 0.9238090725009972, 0.921253117052281, 0.9203031655303899, 0.9197727980568177, 0.9183321288931252, 0.917510160453794, 0.9147932720840996, 0.9133269648096326, 0.9119955427030725, 0.9100854750213868, 0.9096456648209207, 0.9077878379749201, 0.9067196283086666, 0.9053193597121418, 0.9049982498873692, 0.9035226377555536, 0.9009455167119211, 0.9000919598874614, 0.8990884635642291, 0.8970910076206428, 0.8958217816484153, 0.8937006593487123, 0.8930549548711534, 0.8921344728134182, 0.8919297962634173, 0.890902730923073, 0.8886284060856673, 0.8882081469374742, 0.8866128556935863, 0.8857201749540752, 0.8852382760934899, 0.8848206671584685, 0.8818457932560361, 0.880855990197251, 0.8802266938081064, 0.8777690621886439, 0.8774261976575679, 0.8757387536111805, 0.8740700879576213, 0.8724738230057268, 0.8721170811897245, 0.869593963291299, 0.8675606696852255, 0.867168841601142, 0.8666926748717472, 0.8661403472227878, 0.8649369479677438, 0.8634230237609063, 0.8627038088374366, 0.8615473110037114, 0.8610837196067496, 0.8574118121730807, 0.8564962089703966, 0.8547861296760224, 0.8536574158431776, 0.8532442844903638, 0.8528246574414805, 0.850426636783751, 0.8499224857305363, 0.8478957631860057, 0.8471304897297895, 0.8457034710740509, 0.8453620770992798, 0.8442571517789088, 0.8421802998268989, 0.8409502988916521, 0.8402906033838451, 0.8383180378862757, 0.837688823640025, 0.8364164495157769, 0.8351912252754335, 0.8348806847778998, 0.8326526289286229, 0.8307086865632126, 0.8290938692628282, 0.8285710724460404, 0.82616799306238, 0.8252614222762255, 0.824753432331159, 0.8227314012947994, 0.8215352304636491, 0.82076216196921, 0.8192597821772014, 0.8176257473397978, 0.8171067682256643, 0.814962489603958, 0.814350432351538, 0.8132271308269234, 0.8119848308071363, 0.8101973690404016, 0.8095528957200901, 0.8087512933120776, 0.8063492582752092, 0.8059406218721258, 0.8035910804163698, 0.803154557919678, 0.80194893356585, 0.8011340489759772, 0.7988838032995036, 0.7983780003521762, 0.7974594604588673, 0.7967906927863968, 0.7950028282039977, 0.7947097264266119, 0.7938559447012198, 0.7920316145372561, 0.7905720042084333, 0.7892307025165501, 0.788240670453662, 0.7875488934380179, 0.7864372933237499, 0.7841364461025458, 0.7823657597397525, 0.7814105820018082, 0.7801745681257356, 0.7781425546671913, 0.7777477042188994, 0.7764929750925693, 0.7745952255517011, 0.7730251736889028, 0.7718474169811455, 0.7705608040037683, 0.7683509672560084, 0.7675010105283503, 0.7671167430817527, 0.7658612109910186, 0.7650366635705607, 0.7640006271543806, 0.7630734419402324, 0.7612039506361306, 0.7597446884067187, 0.759411477248248, 0.7559798080293307, 0.7552106557785271, 0.7547548317957887, 0.7538045453128691, 0.7520782065480385, 0.7509971722860489, 0.7497607360379805, 0.7480821027672713, 0.7470838438665588, 0.745679552471047, 0.7448816257114955, 0.7437042942330967, 0.7429048078232229, 0.7424832917686128, 0.7407300491116465, 0.7401562550811481, 0.7383252046721644, 0.737195483448656, 0.7345752759656862, 0.733614452159402, 0.7317285786069233, 0.7303649088600618, 0.7290084920810512, 0.7284863170394089, 0.7278542975089453, 0.7248266221412327, 0.7238026469387162, 0.721940915594083, 0.7205461397788845, 0.7194530780177667, 0.71733679239361, 0.715608516902211, 0.7149528858928065, 0.7135889518888642, 0.7134456014212183, 0.710169733470658, 0.710049484783184, 0.7095478125891649, 0.70872981159335, 0.7079274212407821, 0.7056170386809882, 0.7052447623162081, 0.703361626444781, 0.7017865500675755, 0.7010555304729479, 0.6989381433093098, 0.6988198903306041, 0.6981247879687572, 0.6964916048053897, 0.6946753914264633, 0.6933475750453288, 0.6913687485944452, 0.6905676934203666, 0.6894849353970752, 0.6878694264941779, 0.6859776834656626, 0.6843296194024956, 0.6826804248543892, 0.6824893436756373, 0.6810207084094958, 0.6794227035655661, 0.6785729362637706, 0.6776072608982574, 0.6763460808327143, 0.6730821562960668, 0.671822886112021, 0.6714106118951109, 0.6710003205160169, 0.6703484639745987, 0.6679023042441535, 0.6664930607196794, 0.6650482166079795, 0.6636716056435022, 0.6622287365907933, 0.6594240639988681, 0.6582823048047666, 0.6579261168334805, 0.6570731043957466, 0.655735150818725, 0.6541468733628207, 0.6524683674333409, 0.6506759428096082, 0.6499440111639776, 0.6488260959635934, 0.6477890598413515, 0.6453604303370273, 0.6434931286406022, 0.6424482071047688, 0.639743574809321, 0.6368672051744261, 0.636168152689903, 0.6356226545128308, 0.6341874035110084, 0.6313657981785706, 0.6312624501300689, 0.6296962062130759, 0.6283818077402057, 0.6279840364524578, 0.6264663064211553, 0.624453322872581, 0.6242407520788112, 0.6208198121855872, 0.6181499517359139, 0.6176623824452244, 0.6170348026821392, 0.6125113012353713, 0.611898278606117, 0.6103689035116014, 0.6094958144946052, 0.6071467782103506, 0.6053169043638134, 0.6043555478248798, 0.6026321812835653, 0.6003537192997273, 0.599417202158044, 0.5982328274666574, 0.5956257814212212, 0.5947183532744421, 0.594244017697862, 0.590821631977243, 0.5905949248058505, 0.5880141820721669, 0.5863663707607379, 0.584485976959918, 0.5837586604411661, 0.5816276958337359, 0.5807379918266365, 0.5785110216769104, 0.576926057784854, 0.5719113282060839, 0.5694218041355683, 0.5673171768532048, 0.5641611735537613, 0.5640896041002086, 0.5620329028991196, 0.5595911362099825, 0.5579583645213082, 0.554019609903029, 0.5532644590492084, 0.5518047682700631, 0.5463916669664738, 0.5418770539366754, 0.5412795580682853, 0.5364121832779888, 0.5346996669983611, 0.5343745730389979, 0.5305710819056298, 0.526947270688974, 0.5234645591124019, 0.5181409221040453, 0.5160237030751857, 0.5093221296548464, 0.5082833711231014, 0.5036622881706767, 0.49830488008619384, 0.4934841337856151, 0.48985890353746003, 0.4875467393219899, 0.4623230582584749, 0.45327411099376025, 0.43141411396879414]\n",
            "0.04668501768138708\n"
          ]
        }
      ],
      "source": [
        "compute_NCI(A_tfidf_same_sport, len(A_tfidf_same_sport)) #NCI for 502 sport item with same enityty dimension\n",
        "# big infuluence"
      ]
    },
    {
      "cell_type": "code",
      "execution_count": null,
      "metadata": {
        "colab": {
          "base_uri": "https://localhost:8080/"
        },
        "id": "l1LInzNXO49k",
        "outputId": "8be8ca85-dfbf-46b5-a8e0-dc3d2cfdd5c0"
      },
      "outputs": [
        {
          "name": "stdout",
          "output_type": "stream",
          "text": [
            "[5.796137528412604, 2.64343743652744, 2.3915081668304765, 2.31327248095612, 2.151086064467692, 2.0794033873010807, 2.0174819250705736, 1.9601882622316085, 1.9150164258342968, 1.9096128940842296, 1.8798916720641354, 1.8313491432885831, 1.8047400695540072, 1.784658663252397, 1.7532038175579925, 1.7374560576470577, 1.7250742270217518, 1.6759496138011105, 1.6612254873097008, 1.6528307459300353, 1.6382856646992296, 1.6160198409188822, 1.5968585406901383, 1.5913207695888458, 1.5812525405150075, 1.5623553647550699, 1.5566749894193246, 1.546326710897788, 1.5190216708084143, 1.50198123360435, 1.493781250295962, 1.4778669042192294, 1.4729620624205684, 1.4697206292774674, 1.459936044250571, 1.4490667638342414, 1.4286069078183612, 1.4282666573616114, 1.41492215817816, 1.4106988620730578, 1.4063703786207924, 1.397986107251388, 1.3937649216352466, 1.3800866968345102, 1.3769697866805326, 1.3618735435473388, 1.3577160463487385, 1.3553987134199166, 1.3430820777080237, 1.3371312695100515, 1.3258407435545392, 1.3223343862791148, 1.3157931793221378, 1.3130777015427215, 1.3034265110106094, 1.2965778942516375, 1.2957682290727832, 1.2885942599733022, 1.2791187505741577, 1.2760808563715647, 1.2659663651706907, 1.2601943599474559, 1.2555197305884307, 1.250480291778379, 1.2447429929799614, 1.2405546744339635, 1.2375445138440018, 1.23510644287609, 1.2303380107414854, 1.225740960688498, 1.219147860840748, 1.2154675150736989, 1.2143657233074892, 1.206082529753208, 1.2026462105031381, 1.1995137405211667, 1.197804950946767, 1.194036556219985, 1.1898470371576546, 1.1818960390643551, 1.1805025933765279, 1.1788670753742925, 1.1724832976617872, 1.170492726263363, 1.1671953224853864, 1.1632761199625503, 1.1605217768519576, 1.1540734497873306, 1.147952393737536, 1.1456494215865618, 1.1423299000897174, 1.1356994119900599, 1.1352610483424397, 1.132368881608421, 1.1255766538343506, 1.1226077208338918, 1.118536309856081, 1.116450939781347, 1.1136476458884044, 1.111468564012272, 1.1105338393099529, 1.1062856417543308, 1.1060188468008192, 1.1015291376055252, 1.1000799667329348, 1.0987505148565102, 1.0960562960750437, 1.0903985825577625, 1.0864460082625904, 1.0844264795291676, 1.0811881784797122, 1.0792096872201926, 1.0769913183975102, 1.0738276867368508, 1.072083496547706, 1.071201076920349, 1.0653004492033504, 1.063753071162042, 1.0605228297698623, 1.0586610114481674, 1.0555478560040055, 1.0537874145750699, 1.0499700064807376, 1.048020529058089, 1.0451264212075655, 1.0426166299708473, 1.040285965732035, 1.0377121310343347, 1.035122784821762, 1.034370573688453, 1.03237480318952, 1.0291632469325676, 1.0283161618216152, 1.0249308711195568, 1.0231594840482725, 1.0228249504509306, 1.0204389972140906, 1.0181711506144366, 1.0155031411260464, 1.0142096410749557, 1.01301875476275, 1.0123048658338645, 1.010555453078249, 1.0080717105579164, 1.0064673308500593, 1.004687318223348, 1.0029466895203787, 1.001887152641068, 0.9998629295680392, 0.99728140719501, 0.9966002543108051, 0.9939121076314572, 0.9925420821342604, 0.9899223126522271, 0.9872199229551517, 0.9862628169725507, 0.984362170898945, 0.982989370013991, 0.981140337403637, 0.9809127113664093, 0.9785161624548488, 0.977850626748175, 0.9768240219124538, 0.9749033707180302, 0.9736381423432416, 0.9703515343222748, 0.9686183280200111, 0.9680338170780715, 0.9663261857883095, 0.9650146692705465, 0.9637602694701248, 0.9630115218555451, 0.9607287202990341, 0.9602510283199264, 0.9576113077886377, 0.9557702547384948, 0.954458983482962, 0.9536119727791021, 0.9516002590448983, 0.9511850697759694, 0.9485080670422839, 0.9473818010593953, 0.94690259370839, 0.945356247131611, 0.9428070645039625, 0.9421787502137152, 0.9413905620759602, 0.9369699105143149, 0.93624281387774, 0.9354763089035831, 0.9344934463116074, 0.9328653548887507, 0.9307703810346434, 0.9302468525706744, 0.9293242815311609, 0.9269751193439356, 0.9267964836156578, 0.9256937502588083, 0.9230600611067081, 0.9213882185979038, 0.920018966013963, 0.9181262262800775, 0.9162096449716094, 0.9130407502286639, 0.9117842150301408, 0.9109757969954986, 0.9105884746591644, 0.9096947850813404, 0.9083271979150666, 0.9071149065779797, 0.9058397464843225, 0.9042953941678339, 0.9020864443712837, 0.901786693225156, 0.9013135025071016, 0.9001653492774472, 0.8987470686791388, 0.8945390707350555, 0.8931278544621606, 0.8910758311153322, 0.8876919229848775, 0.8872382069342107, 0.8867525660014787, 0.8841619716331269, 0.8824663956944919, 0.8811654507856118, 0.8804999262634541, 0.879909206576612, 0.8784231382346241, 0.8761977946498894, 0.8760483696930481, 0.8728529159105671, 0.872018188663656, 0.8708320119892783, 0.8700243343386349, 0.8687256273265204, 0.8659207337754926, 0.864288018010321, 0.8636924114331627, 0.8618690401273766, 0.8604223908007138, 0.858818556700904, 0.8567410273100629, 0.8562567907287228, 0.8560541200606872, 0.8538464801301706, 0.8528924697090167, 0.8513711856293974, 0.8509426052715675, 0.8495218468663023, 0.8473585746957962, 0.844051904633119, 0.8431948073194989, 0.8414572023548627, 0.8397833635314984, 0.8378317571430646, 0.8368511497869408, 0.834723249389782, 0.8337810046479345, 0.8318410251603735, 0.8314069362740043, 0.8303093214110838, 0.8281957770298204, 0.8265639841337623, 0.825211858189634, 0.8240511907242197, 0.8220870084813598, 0.821917687850902, 0.8216539750705435, 0.8185935814331353, 0.8170869086929781, 0.8153701127129228, 0.8130158690480676, 0.8123800605552318, 0.8109170375780526, 0.8095735281392676, 0.8081465043147097, 0.8070126808481594, 0.806116752940809, 0.8051720559966703, 0.8035477385086078, 0.8027958157355725, 0.8017321205502147, 0.8003206136454469, 0.7987740148364936, 0.7978567555542614, 0.7965712879934196, 0.7932396894216289, 0.7910183799421531, 0.7907018133098406, 0.7890609859891297, 0.7860945399526519, 0.7854809512691987, 0.7832547989431037, 0.7821499593205606, 0.7809099503072507, 0.7792045319288855, 0.7779131013409774, 0.7744817453541363, 0.772884278260825, 0.7722472267554883, 0.7702702534121084, 0.7698158026532452, 0.7691043098906434, 0.7663887901002694, 0.7654463504619392, 0.7637067088807183, 0.7631162287397946, 0.7623338712304727, 0.7599392474677349, 0.7587316242103397, 0.7574802801099753, 0.7538541792337331, 0.7536366221101545, 0.7521510973137231, 0.7512154122408866, 0.7492783842609547, 0.7486150361426395, 0.746799615643787, 0.7436445568503863, 0.7432009802118607, 0.7424342950870805, 0.7408351561293697, 0.7399348817302428, 0.7377778395650773, 0.7368954614102131, 0.734116527863139, 0.7332934807957775, 0.7305272993755486, 0.7297155189928469, 0.7283085760773755, 0.7271154358874045, 0.7252159575628256, 0.7233458553412918, 0.721682946709282, 0.7199126867487666, 0.717951434505224, 0.7156362867408503, 0.7139413251848161, 0.7133762461392622, 0.7111403251366281, 0.7107042054829286, 0.7083014905698382, 0.7071724204295784, 0.7052654106197954, 0.7040837674169537, 0.7037566042036443, 0.7004875898237996, 0.6993970765993576, 0.6986561870626921, 0.6975609566208443, 0.6963322310220545, 0.6946379954598838, 0.6927203485614335, 0.6909381658174256, 0.6898451159377439, 0.6871691404153584, 0.6860075166432842, 0.6839956034705863, 0.6837297435539728, 0.6815383295024501, 0.6800259609108041, 0.6781833402447262, 0.6761291496831908, 0.6749984904673418, 0.6745892999096122, 0.6707605403184714, 0.6696091243750677, 0.6674871648249976, 0.6672034786270089, 0.6660517246997593, 0.6629640641263325, 0.6615777072631818, 0.660748990884019, 0.6601603249640257, 0.6591081644142934, 0.6577400640599037, 0.6545502097102437, 0.6522364364481769, 0.6514786535433896, 0.6504582917930218, 0.6471309988342359, 0.6454841025676873, 0.6438023099691456, 0.6420805154428194, 0.6400513481682111, 0.6380596479913065, 0.6365294824761164, 0.6357762880792333, 0.6321047339374973, 0.6313345351028312, 0.6305004981570673, 0.627634189220559, 0.6256932813808146, 0.6236742777778315, 0.6221161249794942, 0.6209596248557903, 0.620362299980322, 0.61917171610352, 0.6167784883782851, 0.614044328495205, 0.6126397535987905, 0.6109542882461423, 0.6078222774165662, 0.6052573496893426, 0.6038336787702905, 0.601654879072952, 0.599969369845833, 0.598336029061737, 0.5966519172343098, 0.5961519272154006, 0.5937064544313985, 0.5898773881404148, 0.5886764592817261, 0.5874261192392362, 0.5867881739119016, 0.5847158775243491, 0.5799141460363423, 0.5793272286603334, 0.5784861574795536, 0.576985687030558, 0.5749556823979336, 0.5740777529911419, 0.5729197717287245, 0.5727200460714852, 0.5700029462792526, 0.5675050149553525, 0.5650028292332512, 0.564816744070836, 0.5621855994452019, 0.5612713032289943, 0.5588635914564446, 0.5548682249840928, 0.552903789889681, 0.5519789100106406, 0.5496060788388056, 0.5491385724172604, 0.5483473622906262, 0.5459243974323746, 0.5444505312905147, 0.5412177837101634, 0.5392534814325529, 0.5374316748461233, 0.534338587923468, 0.5325394223559123, 0.5314595786319946, 0.5266260932271485, 0.5239170324719439, 0.5221500190398002, 0.5182235976856728, 0.5170979325469724, 0.5130847264704189, 0.5121917119151187, 0.5101795989018508, 0.5093690532414519, 0.5085481228751494, 0.5051420932578546, 0.5005852580213388, 0.4985989768079207, 0.4966218629051326, 0.4940119888091385, 0.49197429905220624, 0.48615194744104595, 0.48467498347072857, 0.48258844473326457, 0.4811257465114962, 0.47810923421717527, 0.4737471775710311, 0.4708693108007975, 0.4680804820775992, 0.4675897535840953, 0.4573707315729518, 0.45369556711534953, 0.44361259288817173, 0.44000440571742006, 0.4352481403483502, 0.43164906444073314, 0.4303417187840976, 0.42813426640158886, 0.4243511061301942, 0.4227992700561653, 0.4070091249704998, 0.40373038217517565, 0.37782045213228144, 0.3554130004367785, 0.34775755484254384, 0.34543981357680953, 0.29447233786195226, 0.28140287618000553, 0.1637343398288885]\n",
            "0.07002905811282575\n"
          ]
        }
      ],
      "source": [
        "compute_NCI(A_tfidf_same_movie, len(A_tfidf_same_movie)) #NCI for 502 sport item with same enityty dimension"
      ]
    },
    {
      "cell_type": "code",
      "execution_count": null,
      "metadata": {
        "colab": {
          "base_uri": "https://localhost:8080/"
        },
        "id": "EHODucS7j-SR",
        "outputId": "2a8b78ae-315e-45fc-d25c-e631ed4565d0"
      },
      "outputs": [
        {
          "name": "stdout",
          "output_type": "stream",
          "text": [
            "tfidf & same dim\n",
            "random\n",
            "0.05672706910330615\n",
            "sport\n",
            "0.07067278708592144\n",
            "movie\n",
            "0.08818634542378563\n"
          ]
        }
      ],
      "source": [
        "#result \n",
        "print(\"tfidf & same dim\")\n",
        "print(\"random\")\n",
        "matrix_matrix(A_tfidf_same_s)\n",
        "print(\"sport\")\n",
        "matrix_matrix(A_tfidf_same_sport)\n",
        "print(\"movie\")\n",
        "matrix_matrix(A_tfidf_same_movie)"
      ]
    },
    {
      "cell_type": "code",
      "execution_count": null,
      "metadata": {
        "id": "4IZKPy4tPUoa"
      },
      "outputs": [],
      "source": [
        "#random dorpus \n",
        "def allsteps(matrix):\n",
        "  texts=dftotext(matrix)\n",
        "  texts=normal_text(texts)\n",
        "  keywords= get_keywords_list(texts)\n",
        "  word_freq = word_freqs(keywords)\n",
        "  A_bow = get_bow_matrixA(texts)\n",
        "  A_tfidf = get_tf_idf_matrixA(texts)\n",
        "  print(compute_NCI(A_bow, len(A_bow)))\n",
        "  print(compute_NCI(A_tfidf, len(A_tfidf)))\n",
        "  matrix_matrix(A_bow)\n",
        "  matrix_matrix(A_tfidf)\n",
        "  A_occurence = get_ooccurence_MatrixA(A_bow)\n",
        "  print(compute_NCI(A_occurence, len(A_occurence)))\n",
        "  matrix_matrix(A_occurence)"
      ]
    },
    {
      "cell_type": "code",
      "execution_count": null,
      "metadata": {
        "colab": {
          "base_uri": "https://localhost:8080/"
        },
        "id": "tlictlO8RUdE",
        "outputId": "36036e84-180f-4e18-a43d-c6acc2c432d0"
      },
      "outputs": [
        {
          "name": "stdout",
          "output_type": "stream",
          "text": [
            "[145.0065779987557, 105.18565280591739, 83.86513410911849, 75.29914835560659, 70.7098622545562, 67.7565431185075, 67.42642958163366, 59.057787102101024, 57.368184811681054, 56.9450092381943, 54.48356356523782, 51.82027392763417, 51.11355173331474, 49.45440977585427, 49.158663386149044, 48.56738210382193, 47.86486571383924, 46.295897272508846, 45.06498244051684, 44.04817982546809, 43.682177264534154, 43.06937741987228, 41.71424650528661, 41.33023718037433, 40.6134317721893, 39.879334185601145, 39.47067078657774, 39.183182055096594, 38.63500551844703, 38.19543105684491, 38.03411707320656, 37.74309105953249, 37.18257748050161, 36.96687237204897, 36.88846641273437, 36.73492363676718, 36.469354416511656, 35.972153221266865, 35.752124170788775, 35.25307510515771, 35.08468625490278, 34.71151047222598, 34.56183842401187, 34.20169099723602, 34.009938119001085, 33.9151289840986, 33.581199905715536, 33.51527048402382, 33.3402746568822, 33.0449785260799, 32.56263971692587, 32.360614079903925, 32.24331530448279, 32.18104565679998, 31.821696900714866, 31.774777974328963, 31.57792863204896, 31.3245698381448, 31.23582707522816, 31.15156729776667, 30.94799332525194, 30.72384060242142, 30.61724501802322, 30.588345196423052, 30.06881170104481, 30.011309764120938, 29.954730966756085, 29.895592310794022, 29.76592489332913, 29.643339880630958, 29.413920248717872, 29.281373155623342, 29.064533582280923, 28.978606622506717, 28.78660466731393, 28.662154143089317, 28.556783190254578, 28.450453950419746, 28.300005559078173, 28.19727484669344, 28.05673537494976, 27.977156235242347, 27.946712249063026, 27.68065783076243, 27.45094001301902, 27.348990809566708, 27.247445961094115, 27.153388014658784, 27.05302572113664, 26.898226140801853, 26.785224880261634, 26.70527015379661, 26.587203438953964, 26.39189761608776, 26.297534441545555, 26.12418946686293, 26.030799492480778, 25.951710972647366, 25.834312311139414, 25.75817993840907, 25.706061058421252, 25.57058108210786, 25.516804166474632, 25.43919224951723, 25.396934487101973, 25.19973871876846, 25.10208758985187, 25.02291240158408, 24.993582474130214, 24.948440246654307, 24.879128043541723, 24.701674401022004, 24.54979811289971, 24.511559905081185, 24.427560236017584, 24.405363038880463, 24.32077282645026, 24.248192135544155, 24.16024157177632, 24.102502984821953, 24.012466259081087, 23.832400944381945, 23.77843912605757, 23.704451703912845, 23.624029593865284, 23.56639873162632, 23.4327304392448, 23.331280662602417, 23.26171593539572, 23.16162022756981, 23.117350800581757, 23.071936427675773, 22.96189626716361, 22.85430761790536, 22.805748831852465, 22.721701048452097, 22.701728947499728, 22.640661824579674, 22.561897817908374, 22.45259957786915, 22.41889715471977, 22.33642284995088, 22.3144163930166, 22.158618019179368, 22.121974745521356, 22.064448518426108, 22.015203341601314, 21.912796332247183, 21.890235831648745, 21.83166245508427, 21.768854395388907, 21.690383053578543, 21.585543240244274, 21.52513173762103, 21.50065671722684, 21.38963855410435, 21.349760294866957, 21.288957766865156, 21.245368146712906, 21.185609961988188, 21.151046531472, 21.084349341102012, 21.075410703997633, 20.943077912248892, 20.919984758986693, 20.86799259119473, 20.77129105655973, 20.66662802849818, 20.638871674794633, 20.5447500157851, 20.52306961539641, 20.429727184580525, 20.394154238988058, 20.303481861246738, 20.28622924928489, 20.224281587418687, 20.10632740474685, 20.03691466631474, 20.01786873676192, 19.991627345283618, 19.92308855104822, 19.846238288858462, 19.788736861872106, 19.75813334316825, 19.69898087597765, 19.588682165831912, 19.558783737408195, 19.501371786906205, 19.45859639640806, 19.400488178349363, 19.36131948726786, 19.331245652050523, 19.19711787630986, 19.151530372754, 19.090202939849366, 19.028336117997235, 19.007982483821106, 18.928664649432896, 18.82961832841805, 18.768967109960663, 18.72129103497556, 18.669157232107796, 18.632187967889728, 18.59525839227316, 18.512667753728913, 18.465083280993383, 18.409349714803753, 18.360151329423637, 18.3242493022264, 18.300967360844638, 18.264917653776365, 18.177133581428873, 18.1318706488341, 18.098341088862036, 18.029027690645194, 17.95460483492239, 17.920777879962664, 17.85497064499701, 17.830427013059253, 17.73662252432741, 17.6820650766304, 17.602771702145066, 17.57271974892294, 17.536601506206225, 17.51069717817041, 17.481957488194087, 17.390546609200907, 17.311358630214247, 17.22428901530341, 17.165898036542696, 17.141877389358672, 17.112211027204694, 17.10328604708289, 17.050996914054217, 16.980164620047688, 16.917827498353063, 16.87382195344122, 16.793247749039196, 16.77414728399651, 16.733351237759596, 16.69764560033533, 16.619101397948995, 16.544752486144823, 16.52166772485073, 16.49285618789006, 16.428530645189337, 16.41342744956481, 16.358300189231752, 16.29649785740648, 16.273607837727113, 16.24419528174481, 16.144414201900943, 16.083897053352594, 15.997104433383697, 15.99276498532879, 15.968039338185113, 15.872243805883262, 15.83147417012156, 15.797424152310937, 15.779935485601312, 15.710517688126751, 15.663676437923872, 15.582724611554704, 15.527218482983335, 15.52479207589908, 15.435058783746921, 15.423841660022429, 15.38890008355006, 15.331944931595677, 15.256900541945432, 15.240839411124307, 15.183978552615693, 15.135833687261153, 15.121005785897855, 15.058382992563882, 15.029100092964773, 14.94015788125974, 14.918714148446147, 14.89450106632863, 14.847153107286596, 14.826973905038875, 14.770748215920266, 14.73711005232939, 14.68719340946176, 14.614103027907186, 14.596109379253166, 14.569870992466582, 14.526060982218924, 14.490943419996489, 14.460260791483131, 14.431761098099658, 14.359533957044697, 14.299578624638649, 14.258919300668477, 14.217231600042341, 14.16875979499423, 14.09723375935175, 14.084414673544245, 14.066348210094057, 14.017474440102811, 13.989146276782911, 13.964851311889841, 13.914259273518308, 13.880002113057508, 13.824133395495512, 13.776276872037531, 13.672539670019523, 13.640598378485759, 13.635672453129427, 13.578077506854495, 13.559197528497146, 13.524900431686516, 13.490696421698733, 13.450631512760475, 13.387750900824763, 13.38163749825002, 13.350645063587125, 13.306983922055206, 13.257356952669111, 13.221516088971574, 13.172125897362434, 13.119644951928672, 13.090738027333506, 13.072180516072436, 13.05670788449256, 13.022473816460547, 12.970723667002348, 12.94682081003275, 12.84085474668698, 12.81902281432073, 12.776178576983288, 12.772775466544966, 12.735696395780664, 12.693627642723067, 12.633356666331743, 12.621000253134321, 12.576546601920903, 12.563047533507724, 12.520638218533893, 12.499334112523963, 12.450509518340583, 12.403238273756651, 12.373869203673411, 12.334875604938343, 12.28324959888064, 12.238019046137046, 12.182349591838028, 12.147842619613673, 12.125329057054104, 12.099025602166073, 12.076300283518329, 12.055606115683059, 12.020011760233922, 11.971448918559174, 11.937384672219926, 11.912877633079935, 11.87078104481218, 11.833159666797522, 11.782923523442728, 11.758193996779688, 11.723725720574933, 11.685044688145705, 11.645364500374942, 11.613728349567243, 11.596009649534217, 11.557210201623548, 11.546913475900512, 11.48441526637824, 11.439801122841336, 11.420420907712035, 11.390801056140734, 11.362439879490116, 11.304660338785535, 11.290634494602562, 11.27422793901368, 11.265938122486519, 11.201917011462603, 11.15874120421203, 11.145833413026766, 11.114884844516267, 11.091543747394295, 11.07126916121702, 11.0078304471676, 10.986251270560748, 10.921625173471456, 10.899121781260748, 10.856811882737858, 10.852347351164237, 10.84610760339871, 10.786328223183572, 10.756453869367729, 10.723819391394949, 10.705283198447129, 10.629431508246883, 10.625172815594684, 10.621085137008379, 10.541373826840987, 10.516874197176069, 10.476333914477376, 10.449242349396943, 10.410037672278305, 10.373974779462063, 10.341434190352226, 10.33109424325055, 10.292350739585814, 10.241187384962176, 10.208842740948475, 10.132261883340608, 10.12526748394589, 10.07600261015205, 10.049538308551316, 10.027515321061127, 9.989416427902352, 9.976212242614864, 9.93032730876983, 9.897020424749948, 9.874478230967162, 9.831628255849367, 9.802397126611087, 9.788731226035608, 9.767712512101927, 9.734542803268557, 9.70793090180395, 9.625089109250931, 9.58871987311637, 9.560338912018784, 9.541421001687231, 9.524711982298953, 9.498880626108889, 9.459623575362352, 9.425291501354438, 9.416181236754621, 9.38991720770171, 9.319657538892818, 9.299791794618773, 9.292341643787122, 9.252186611021399, 9.200908474726912, 9.179675703499182, 9.14061006773045, 9.121997589013283, 9.097400083705761, 9.072112603218967, 9.045886693050472, 8.99706470058346, 8.95607130744888, 8.928514908757892, 8.861382343706987, 8.816319549383353, 8.814781346250127, 8.694798988404228, 8.684550773174923, 8.64982157091634, 8.626547380738225, 8.605684350109003, 8.553622902700079, 8.504375863105869, 8.482842365294106, 8.433411130882263, 8.403046824703651, 8.330619095171071, 8.300162252972171, 8.291164872425488, 8.232127743934639, 8.215811508352632, 8.159908459474073, 8.094968897834324, 8.051941426301536, 8.04091449674708, 7.976711196414271, 7.896394631439913, 7.881858614446421, 7.848471889820871, 7.8100364413613255, 7.729093719669478, 7.710326455376123, 7.655275705754013, 7.631716601217438, 7.542296947283221, 7.523234076814578, 7.453343663476725, 7.402850060752135, 7.359654529124974, 7.234747732414946, 7.199330190390458, 7.1468912334544585, 7.10517481565433, 7.038101021967128, 6.924954100148861, 6.844509651797457, 6.749151778799548, 6.5412108550024, 6.529847823383413, 6.4313627568650835, 6.188141174012255, 6.119069202664269, 5.902671782373525, 5.861764949449077, 5.446966192279185, 5.2315759851526185, 5.057992381278437, 4.227355289993259]\n",
            "47.330921216050335\n",
            "None\n",
            "[3.745394779972404, 2.7615506537314585, 2.2115394630152814, 2.162887367924664, 2.017002433252047, 1.9393902603533946, 1.904965961436829, 1.8045983981223652, 1.7648601817205785, 1.7337393906137883, 1.7023517877248637, 1.6616151115027211, 1.6006658489251566, 1.539027591478563, 1.5132105785599308, 1.4814355609574037, 1.4544890533854014, 1.4454815786908175, 1.4449216521299046, 1.4329949844797834, 1.4224451980165786, 1.4103923309920334, 1.4015030865182998, 1.3987661903529998, 1.395683781732619, 1.3833809909107635, 1.367241538174007, 1.3613753097501886, 1.3533514007956589, 1.338774649539444, 1.3324842822432388, 1.328380709949041, 1.3225770102897318, 1.3114138943804394, 1.3029129205885959, 1.2933704991127288, 1.2906494683125262, 1.279531348180665, 1.2773590683284208, 1.2754043650701505, 1.2734525596911979, 1.270367531180423, 1.2639299817727494, 1.2597882913623133, 1.2575922885756556, 1.2521221694753, 1.2507884059481538, 1.2490882571141895, 1.2439412237769598, 1.2382920872990848, 1.2374051524134708, 1.2321338933952677, 1.2260018594083701, 1.2200041455327837, 1.2171777277361497, 1.213878713481614, 1.2112448151262207, 1.2068844523392888, 1.2031284205555235, 1.2012648336074225, 1.1963783187575303, 1.1941230152725673, 1.1925957112877463, 1.1906339913952915, 1.188377772219273, 1.1866914982068197, 1.1813819688194178, 1.1784076254879683, 1.176741556672429, 1.1721093573312689, 1.1679815773560922, 1.166278506060066, 1.1644340475739898, 1.161916029340761, 1.1591457025130998, 1.1577727618631635, 1.154318110291161, 1.1535343958285569, 1.1526273706048318, 1.1486105805756623, 1.1454924765109258, 1.142757820291018, 1.1420184181276074, 1.1390457840615136, 1.1370038156675804, 1.1355613504161788, 1.1333867428901552, 1.1321457306772589, 1.128723395928851, 1.127250878982012, 1.1254758140858472, 1.1212445705540497, 1.1206663363776705, 1.1191539782191016, 1.116593122489152, 1.113229875073334, 1.112477894722363, 1.110037715798966, 1.1082625462089535, 1.1054012636547024, 1.104651983564866, 1.1031190830606696, 1.1010593552754635, 1.0990523168303312, 1.0985751208391676, 1.0972856636234467, 1.0957223125781097, 1.0933491858835152, 1.0911157096652055, 1.088266736312484, 1.086465774718626, 1.0851593778871886, 1.0845889647230513, 1.082218459238096, 1.0811998243660867, 1.0808461851530122, 1.0776476880704975, 1.0760217943301351, 1.075246343754285, 1.074266036414786, 1.0726141293597375, 1.071173813386403, 1.0695406607010867, 1.0661672737656485, 1.065340664494566, 1.0643737166418716, 1.0622008449331426, 1.0613045547296607, 1.0597050806789179, 1.0584395256060166, 1.0576934776385942, 1.0566028782837806, 1.0556410987061418, 1.0527427998848815, 1.0521096644093588, 1.0515626259752133, 1.0508775615724208, 1.0488033173666695, 1.0473826593968982, 1.045908065682748, 1.0445925607616855, 1.0433291931299542, 1.0418170753737743, 1.0407110829762167, 1.0390752979095517, 1.038646066343353, 1.037076306373575, 1.0357112753843243, 1.0337304807787093, 1.0335019208038514, 1.0320037725719595, 1.0311520287199107, 1.0293344004247407, 1.0288845417963293, 1.0274510034867836, 1.0260973298967337, 1.0245443649709791, 1.0226512467636757, 1.0214925080486186, 1.0207178509481114, 1.0192898247285915, 1.0184587302933157, 1.017909924736266, 1.0161245721633747, 1.014542320446908, 1.0137834291614267, 1.0125548710879675, 1.0115392871626088, 1.0100310629958336, 1.0098104308320854, 1.0085167666196841, 1.007117035422924, 1.0054062345969945, 1.0046194355720597, 1.0040288403479158, 1.0021964320611751, 1.0007965032628563, 0.9996623117864684, 0.9992454906459591, 0.9984921617185413, 0.9973933278671852, 0.99610158993242, 0.9956282833380672, 0.9938021686913089, 0.9931438365620247, 0.9925620431972697, 0.990316920650294, 0.9897540269038801, 0.9892612240255753, 0.9878269991070651, 0.9865177239453153, 0.9862338260454525, 0.9841845394869448, 0.9839676938927525, 0.9822498952783031, 0.9808095076932097, 0.98047034067338, 0.9796680685269291, 0.9789647943673171, 0.9782682702059896, 0.9770326996161243, 0.9761654961867419, 0.9752518646927119, 0.9734626397226839, 0.9729659209103247, 0.9722874058143617, 0.9707878984459825, 0.969896078736984, 0.9687512899906923, 0.9681622335472266, 0.9673410353714628, 0.966029628797796, 0.9649234486240181, 0.9646419208322338, 0.9636416797996801, 0.9631079624340032, 0.9622334791061165, 0.9600373690728266, 0.9596550708944563, 0.9587673444546969, 0.958491463751186, 0.9573524408651047, 0.955764095582322, 0.9553643892498241, 0.9549077683539002, 0.9542387393451971, 0.9533484688819077, 0.9517009228528287, 0.9508415110407159, 0.9501528524333568, 0.9486941615788167, 0.9485312070067151, 0.9475862472962532, 0.9474661586622457, 0.9466505762335483, 0.94474102457192, 0.9439851972355389, 0.9430005964500386, 0.9424318081867883, 0.9415418216625685, 0.940772147758746, 0.9393122423796192, 0.9387123893149559, 0.9373528836023928, 0.9370344728629665, 0.9353060104225225, 0.935092900379084, 0.9335332954471196, 0.9329561363544563, 0.9318028364326405, 0.930940476803288, 0.9291974422052539, 0.9285795171567612, 0.9273405781238372, 0.9264494005503665, 0.9250182895044905, 0.9246156489766646, 0.9232722478639693, 0.9220586883501792, 0.9212988867985297, 0.9201490075895822, 0.9199686337122472, 0.9191712669472301, 0.9181149308128876, 0.9173848958404509, 0.9158135521986203, 0.9147403118834785, 0.9144530085115424, 0.9141583190019186, 0.9112300711780735, 0.911084765672885, 0.9102580628526558, 0.9090267010165919, 0.9078936682257736, 0.9072466072558263, 0.9060944470187157, 0.9050939526445132, 0.9039972963577002, 0.9031836591182884, 0.901977439077217, 0.9014307636149761, 0.9000178329992654, 0.8984383394988482, 0.8972414563074699, 0.8962864258974709, 0.896160857860949, 0.8946224649858104, 0.8944801148353783, 0.8929962323620432, 0.8920107928679142, 0.8915670006367653, 0.8900682926212518, 0.8899748162718997, 0.8891589370993163, 0.8876272547172903, 0.8857077616694342, 0.8850961732086573, 0.8839986617305626, 0.8828577809933086, 0.8814820390971178, 0.8809454723438978, 0.8803343030597928, 0.8794578593003514, 0.8785347273510256, 0.8764420619969436, 0.8755735257586325, 0.874517090883769, 0.8738137395426406, 0.8729579145160655, 0.8721454609632786, 0.8707515953254145, 0.8704358317333462, 0.8683546176012161, 0.8674896726358637, 0.8660595153919951, 0.8646749288857137, 0.8636797089713878, 0.8624124727704647, 0.8621808905354048, 0.8607787455022841, 0.8598135584132147, 0.8587951270798391, 0.8572937971274375, 0.8566520073283715, 0.8553747591788843, 0.8549922692405237, 0.8533701556797095, 0.8523951882112109, 0.8502051703005165, 0.8489370706494171, 0.8486622133643182, 0.8460182362839072, 0.845707452578046, 0.8446922959252328, 0.8436148970554586, 0.8427996342335152, 0.8416353311480239, 0.8406651492483045, 0.8388930799492931, 0.8385023700177529, 0.8378330632449631, 0.8368764950204368, 0.8357942802829068, 0.8349772290498058, 0.8333460790426729, 0.8326334408704021, 0.8309574122048393, 0.8303997483426007, 0.8290118110541527, 0.8287007475324777, 0.82818719414768, 0.826575331335849, 0.8258082132217289, 0.8245690390746621, 0.8229012541115115, 0.8224256416194526, 0.8211991518876475, 0.8197013179675045, 0.8189808412725436, 0.8186682553006775, 0.8168824980373216, 0.8153656290304395, 0.8143882945779193, 0.813572519167544, 0.8128380456439345, 0.811166801055683, 0.8083757468419046, 0.8071776676550749, 0.8060589399938288, 0.8045742940416453, 0.8036934365203775, 0.8030560738400053, 0.8021417946063255, 0.8009460519748468, 0.8002288245700803, 0.798612522173543, 0.7971115723750638, 0.7947575120642626, 0.7928738862515397, 0.7921676116230097, 0.7917194932843243, 0.7894698327462396, 0.788850050895096, 0.7874038223813927, 0.7865138588600064, 0.7854900077500578, 0.7833908108770664, 0.7815199303685648, 0.781259516083084, 0.7803715110219247, 0.7787669681778357, 0.7773323441669574, 0.7769157109170919, 0.7737593904136795, 0.773519576553798, 0.7722039255441989, 0.7710316692393766, 0.7699664540901319, 0.7685612398971658, 0.7640392851384689, 0.7636565638025914, 0.7619749988721721, 0.7615848027447777, 0.7608314438483469, 0.7601055000921856, 0.7591774836653238, 0.7577537058938102, 0.7552452212840972, 0.7540145974675675, 0.7530142735249364, 0.7514670971800272, 0.7501534596897136, 0.7489114603848374, 0.7453867018516226, 0.743491120859924, 0.7411216652908539, 0.7409549796247482, 0.7402426085013084, 0.7362742497823397, 0.7360981221262513, 0.7334145286938125, 0.7326357533713737, 0.7309798026948375, 0.7292683517405196, 0.7276950295224707, 0.7263209797855698, 0.7244132813421393, 0.7235833695788496, 0.7223589405873524, 0.7214669350271286, 0.7181265408609709, 0.7152823385008875, 0.7147688111515864, 0.7138027260696912, 0.7106107304785226, 0.7076147659421902, 0.7059775880075154, 0.7056092300726889, 0.7019402984444633, 0.7007322986802174, 0.6988198926544021, 0.6978626950382149, 0.6958796957708977, 0.6946767545799207, 0.6933556613912132, 0.6914875040234383, 0.6894042514446641, 0.6858986616889122, 0.6853409088687739, 0.6834263870185988, 0.680859427859167, 0.6784774524585797, 0.6765232335179816, 0.6743077506525772, 0.6731313301465756, 0.6705467522097338, 0.6685688891429876, 0.6673632071809547, 0.6663481876899184, 0.6635912731058546, 0.6626653886844314, 0.6602605058928466, 0.65801616265887, 0.6565143684103597, 0.6524860428173028, 0.6507426863712572, 0.6478130771360096, 0.6454672108605866, 0.6428688217926534, 0.639544248415684, 0.6387530443774981, 0.6355010149043164, 0.6325679487184378, 0.6258125844987701, 0.622575238702916, 0.6198920633130087, 0.6171692895345371, 0.6061194155883473, 0.6010689274290805, 0.6003096245286265, 0.5987455493165675, 0.5853130855176317, 0.5796459979125146, 0.5737906316183923, 0.5697380988878047, 0.5649277402405867, 0.561075524305053, 0.5593005852997406, 0.5588900425669366, 0.548610649555405, 0.5438159728843089, 0.5326887331042928, 0.5186291819052548, 0.4949132675777426, 0.47480409240027693, 0.46716688900300285, 0.450715944904323, 0.4410105141799309, 0.4206989188428897, 0.35722311661938255, 0.3377680380011718, 0.2947559589219667]\n",
            "0.03180661937080967\n",
            "None\n",
            "60.87425721652482\n",
            "0.05878513460536419\n",
            "[69.70608516472328, 36.99923585739275, 28.699206218223146, 25.6287550654747, 23.717311039706303, 22.863519819515112, 21.26778536861195, 21.01402219267292, 19.794595914311905, 19.448288237102, 18.844798395166894, 18.543247401726195, 18.365513881702743, 18.17097472286402, 17.94168540660052, 17.905114395995124, 17.610966444587092, 17.535709492193728, 17.386416545108293, 17.179268931924312, 17.01968211664233, 16.854692761079914, 16.748623653860264, 16.59468708344359, 16.54117174547741, 16.428843946143985, 16.306122606202216, 16.27280551859812, 16.23046423124663, 16.046662516285107, 16.018719491213485, 15.920788328552494, 15.827957272832117, 15.769990340326851, 15.68246334197915, 15.624428925119314, 15.578773011065595, 15.506888023982526, 15.451113479900162, 15.433272669633869, 15.362757020643741, 15.344844387511227, 15.245591201008779, 15.111523038941037, 15.097163210815303, 15.052632950721202, 15.006071376059483, 14.922701880155785, 14.891189741982052, 14.852853811655038, 14.714975644793903, 14.67833277410713, 14.625180422953987, 14.597702164727878, 14.50559555759618, 14.459993696248604, 14.44149162786251, 14.325232309915812, 14.282014419199369, 14.220877430277092, 14.21489328225064, 14.142771582056515, 14.123852750714471, 14.094284294069068, 14.047811672850392, 14.013892638784512, 13.979736511586072, 13.947735469177827, 13.873498464215416, 13.816490922809145, 13.805939642925678, 13.715517880678231, 13.647791937618374, 13.58772921711941, 13.561566620290224, 13.532890368940091, 13.46410295764856, 13.445281409111924, 13.415223910365686, 13.382578391694015, 13.348496060131662, 13.305452802999335, 13.28489897103945, 13.23193429511837, 13.20176157360418, 13.15422345259391, 13.098044155016739, 13.070636062855183, 13.026072816938813, 13.002707717966056, 12.96588975810843, 12.961015942294454, 12.904964686778788, 12.857107045892826, 12.819540226018042, 12.783275780563534, 12.76579952786036, 12.753989265626798, 12.714458589227565, 12.668069434595226, 12.63711946050909, 12.63257006463579, 12.586630982569092, 12.539216804416661, 12.507216069591362, 12.484241021973851, 12.4449841077348, 12.427812116366255, 12.373601137347578, 12.352096868746953, 12.342167743394478, 12.319746346279452, 12.29362462616782, 12.232340953119492, 12.20962487655657, 12.197633722712652, 12.186418131016854, 12.135323586275488, 12.11074459955509, 12.058739031659988, 12.05166721433177, 12.01381506887319, 12.004734841763838, 11.96662436726947, 11.954837454715308, 11.89306733816221, 11.874252621373904, 11.836743809984773, 11.824368400965385, 11.784752603904629, 11.780120142835408, 11.745714244178831, 11.711454821029658, 11.687259598568298, 11.627887376473529, 11.622730477973443, 11.58414854129951, 11.556764115096016, 11.53928366510339, 11.522593486487251, 11.479889437496462, 11.457252642494822, 11.43287893644483, 11.396890033869651, 11.393383274503943, 11.364799519709706, 11.354071907084172, 11.329592387908615, 11.318209962549203, 11.289014325952405, 11.233002771954478, 11.214803427216696, 11.189289380934014, 11.138466094607478, 11.119512551483965, 11.11433660989073, 11.07182357098714, 11.061972525868626, 11.028343240969274, 10.990625718000699, 10.966724626110194, 10.941526201186116, 10.926058176797932, 10.922876469670848, 10.8948250444475, 10.880761878756271, 10.838663339930598, 10.822817866469654, 10.814374365527742, 10.791938366106706, 10.774682327414368, 10.722115165201114, 10.70293250343587, 10.70013381120307, 10.65919513262833, 10.649909972930411, 10.614196251167824, 10.598848096780449, 10.574749226697675, 10.555976600963573, 10.537632827976067, 10.507898676665006, 10.49985728767735, 10.483986035063825, 10.454149842153797, 10.399806979765254, 10.391651636049604, 10.378088126221474, 10.344296170431077, 10.329546484714012, 10.303112235943019, 10.274701643592067, 10.270731757818874, 10.229745116048884, 10.219177151235453, 10.196685760120314, 10.184595545189639, 10.161779813024879, 10.138485477788803, 10.120250070047994, 10.09151721300207, 10.082236581759691, 10.071438687647614, 10.051967113842439, 10.035397197458629, 10.022294514806802, 9.99751484337193, 9.96694425532057, 9.941048087899135, 9.921021195099824, 9.885611297016043, 9.865905397780905, 9.858646610747497, 9.853266932561567, 9.829777401880145, 9.812983809927903, 9.777701305739166, 9.764938724103246, 9.755434584531276, 9.749738934827638, 9.728572728802709, 9.723657828619448, 9.681009644548139, 9.652657879008707, 9.639020719626505, 9.616095289063946, 9.597929757063868, 9.572984730541153, 9.56796808541727, 9.533754847775773, 9.523879280138285, 9.479808841673403, 9.467051441109552, 9.457628090793564, 9.435203538971518, 9.423101021615027, 9.398307546394811, 9.390658968061382, 9.371167731301345, 9.36299451012171, 9.340965291630143, 9.327946944883116, 9.299704897287276, 9.280680533511699, 9.240287310725233, 9.22244770405941, 9.211591932563122, 9.199803987373427, 9.171053294179261, 9.158813102926992, 9.15294635502939, 9.122701465252945, 9.102907547937852, 9.09641760024936, 9.072669719959872, 9.054103590280489, 9.029737248145741, 9.012947259718283, 9.01063527807365, 8.977636039986557, 8.968799264128323, 8.942529251930608, 8.929190305341919, 8.906115432398424, 8.88359751967842, 8.876133038181216, 8.863057967991, 8.854786871077277, 8.828088096925132, 8.814515256264032, 8.798164291896265, 8.782261746147437, 8.753734400426945, 8.73338183099441, 8.727627996525372, 8.715532340360603, 8.695357824234717, 8.677203522733251, 8.669633503605032, 8.659078183312973, 8.636289142458018, 8.6170139149553, 8.591659223507081, 8.581912844297896, 8.558446520497531, 8.552447871527535, 8.526400468133705, 8.510726665243656, 8.493136334894906, 8.475358317111972, 8.466819055643633, 8.462689707418706, 8.433096155290903, 8.404257840833743, 8.394185148036447, 8.381527729592886, 8.37264914433741, 8.332889001449226, 8.31669495061335, 8.306399722196124, 8.297192636435405, 8.26915400002964, 8.252625253072612, 8.242456581436912, 8.23365477398069, 8.2299089209338, 8.209902808699193, 8.201980878436816, 8.163131715155115, 8.159972128226178, 8.142100128761188, 8.11715345036508, 8.113736315359583, 8.103368686843055, 8.096594767408817, 8.082119788908509, 8.047442103292877, 8.030106789096665, 8.00706860788012, 7.996914214400986, 7.983934076986899, 7.976347433218756, 7.933590777727077, 7.923776155610782, 7.919483526312776, 7.909699105639063, 7.8974232465862215, 7.875268237075571, 7.868804031391072, 7.843084834306293, 7.830921817162784, 7.814179734301332, 7.798926577202382, 7.795330557026754, 7.781084112627839, 7.768754265454567, 7.747092803414805, 7.735896813127721, 7.72429631082869, 7.704115335552029, 7.701308678278521, 7.677470068958841, 7.66418045223423, 7.656840109798036, 7.641358642759806, 7.616328064839214, 7.592703254268772, 7.583592106786825, 7.565533548216905, 7.552203680809412, 7.528097037226648, 7.515495373998136, 7.505511446067039, 7.484825739710105, 7.482694270230087, 7.44733111311897, 7.432612447986449, 7.422422960778703, 7.412081258717165, 7.390398715500124, 7.369004608229941, 7.3603116959838415, 7.349827354938958, 7.3329735536888, 7.3268987656043825, 7.310036338806264, 7.293291336539308, 7.278273774375403, 7.256669989694175, 7.250227089193388, 7.236803680383431, 7.22443693077702, 7.209946850404284, 7.199224128142802, 7.182616422552724, 7.174305000227863, 7.1690805967104065, 7.134602183053321, 7.122708995809067, 7.113726225242969, 7.09113621324089, 7.084096660190185, 7.072060459324795, 7.054947767091467, 7.025173915726672, 7.007144624445639, 7.001613098910622, 6.994454346554627, 6.977881214946549, 6.952148604812853, 6.948077541112465, 6.921197678795849, 6.912224622489986, 6.902716484086695, 6.895535669763117, 6.87019261960667, 6.858479270135511, 6.850275588788728, 6.832835433902786, 6.817593066208923, 6.803748082675022, 6.779728671226089, 6.769271119356667, 6.761843303157561, 6.7185374771299315, 6.70447201495816, 6.678995918835957, 6.667942916135931, 6.6530754070024285, 6.6453070281039635, 6.621500155145159, 6.615573975183035, 6.588040432517047, 6.57904328466831, 6.547296153571468, 6.529579334950335, 6.524930277509743, 6.494964407019883, 6.4824129551257235, 6.478852981661326, 6.464046171935891, 6.45624134784731, 6.407420762779753, 6.406030751308087, 6.383623155612923, 6.370001175852101, 6.358815447563208, 6.357599036703297, 6.3402990558387335, 6.328803385837712, 6.27462007069988, 6.268092096229353, 6.25844176996749, 6.237920550942002, 6.2345650413511216, 6.209500956464129, 6.197253064228749, 6.176039735668694, 6.146871573442925, 6.130811499623726, 6.119264493989035, 6.108544252383409, 6.07404965110227, 6.059029266247809, 6.053998920343456, 6.036993720790474, 6.015976411532068, 6.000942688656255, 5.974387181930176, 5.965231643940211, 5.9515814105994, 5.935575297306481, 5.909848057638861, 5.904861756584415, 5.887318880689678, 5.8671586659985335, 5.822558733315604, 5.803880422821796, 5.799271891345172, 5.788102038211614, 5.765254672157476, 5.748237192782696, 5.704872587849195, 5.6924303703109125, 5.682402979479893, 5.654866641087381, 5.6208983952697675, 5.59441687411869, 5.591912441148083, 5.55660102595729, 5.5143915699661, 5.494189199457033, 5.467512622070663, 5.456518168764727, 5.440686880653518, 5.419779955588453, 5.417777858624454, 5.39937152036126, 5.368350364584417, 5.358618670831165, 5.318430719472473, 5.30817226515267, 5.298177574176285, 5.238042691663972, 5.2088097457592495, 5.128886088857784, 5.081183554992949, 5.038457661418029, 4.940864319999518, 4.777285697252231, 4.723440071275666, 4.667743641464389, 4.637593494701152, 4.603354468220397, 4.543264966506198, 4.457589935020696, 4.378111421248246, 4.319815371011603, 4.241227527224513, 4.133168768432095, 3.635436912920701, 3.6170628967306384]\n",
            "10.055970977703327\n",
            "None\n",
            "11.84779842228588\n"
          ]
        }
      ],
      "source": [
        "allsteps(random2df)"
      ]
    },
    {
      "cell_type": "code",
      "execution_count": null,
      "metadata": {
        "id": "3UWO-fLeSRmr"
      },
      "outputs": [],
      "source": [
        "def allsteps_same(matrix,topic_num):\n",
        "  texts=dftotext(matrix)\n",
        "  texts=normal_text(texts)\n",
        "  keywords= get_keywords_list(texts)\n",
        "  word_freq = word_freqs(keywords)\n",
        "  A_bow = get_bow_matrixA(texts)\n",
        "  A_tfidf = get_tf_idf_matrixA(texts)\n",
        "  A_bow_same =  unify_dim(topic_num, texts,A_bow)\n",
        "  A_tfidf_same = unify_dim(topic_num, texts,A_tfidf)\n",
        "  print(compute_NCI(A_bow_same, len(A_bow_same)))\n",
        "  print(compute_NCI(A_tfidf_same, len(A_tfidf_same)))\n",
        "  matrix_matrix(A_bow_same)\n",
        "  matrix_matrix(A_tfidf_same)\n",
        "  A_occurence_same = get_ooccurence_MatrixA(A_bow_same)\n",
        "  print(compute_NCI(A_occurence_same, len(A_occurence_same)))\n",
        "  matrix_matrix(A_occurence_same)"
      ]
    },
    {
      "cell_type": "code",
      "execution_count": null,
      "metadata": {
        "id": "aIUFjGpjshRA"
      },
      "outputs": [],
      "source": [
        "num=[]\n",
        "for i in range(502):\n",
        "  num.append(i+1000)\n",
        "# omit_num=[] \n",
        "# for i in range(len(alltexts)):\n",
        "#     if i not in num:\n",
        "#         omit_num.append(i)\n",
        "# A1_same_r2 = np.delete(A1all, omit_num, 0)\n",
        "# A2_same_r2 = np.delete(A2all, omit_num, 0)\n",
        "# print(compute_NCI(A1_same_r2, len(A1_same_r2)))\n",
        "# print(compute_NCI(A2_same_r2, len(A2_same_r2)))\n",
        "# A1_same_r2T = np.array(A1_same_r2).T\n",
        "# y=np.dot(A1_same_r2,A1_same_r2T)\n",
        "# from numpy import linalg as LA\n",
        "# print(LA.norm(y,\"fro\")/502)\n",
        "\n",
        "# A2_same_r2T = np.array(A2_same_r2).T\n",
        "# y=np.dot(A2_same_r2,A2_same_r2T)\n",
        "# from numpy import linalg as LA\n",
        "# print(LA.norm(y,\"fro\")/502) # ベクトル: 2-ノルム\n",
        "\n",
        "# A1_occurence_same_r2 = get_ooccurence_MatrixA(A1_same_r2)\n",
        "# print(compute_NCI(A1_occurence_same_r2, len(A1_occurence_same_r2)))\n",
        "# A1_occurence_same_r2T = np.array(A1_occurence_same_r2).T\n",
        "# y=np.dot(A1_occurence_same_r2,A1_occurence_same_r2T)\n",
        "# from numpy import linalg as LA\n",
        "# print(LA.norm(y,\"fro\")/502) # ベクトル: 2-ノルム\n"
      ]
    },
    {
      "cell_type": "code",
      "execution_count": null,
      "metadata": {
        "id": "olOeMJLsT9yG"
      },
      "outputs": [],
      "source": [
        "num"
      ]
    },
    {
      "cell_type": "code",
      "execution_count": null,
      "metadata": {
        "id": "ax2g0CaNTott"
      },
      "outputs": [],
      "source": [
        "allsteps_same(mixdf4000,num)"
      ]
    },
    {
      "cell_type": "code",
      "execution_count": null,
      "metadata": {
        "colab": {
          "base_uri": "https://localhost:8080/"
        },
        "id": "E6_JPKRz0qls",
        "outputId": "7e439e00-cb2c-42de-882a-241e22abd75e"
      },
      "outputs": [
        {
          "name": "stdout",
          "output_type": "stream",
          "text": [
            "0.057428206291691326\n"
          ]
        }
      ],
      "source": [
        "A2_same_r2T = np.array(A2_same_r2).T\n",
        "y=np.dot(A2_same_r2,A2_same_r2T)\n",
        "from numpy import linalg as LA\n",
        "print(LA.norm(y,\"fro\")/502) # ベクトル: 2-ノルム\n",
        "\n",
        "A1_occurence_same_r2 = get_ooccurence_MatrixA(A1_same_r2)\n",
        "print(compute_NCI(A1_occurence_same_r2, len(A1_occurence_same_r2)))\n",
        "A1_occurence_same_r2T = np.array(A1_occurence_same_r2).T\n",
        "y=np.dot(A1_occurence_same_r2,A1_occurence_same_r2T)\n",
        "from numpy import linalg as LA\n",
        "print(LA.norm(y,\"fro\")/502)"
      ]
    },
    {
      "cell_type": "code",
      "source": [
        "random3df= mixdf[190:647].reset_index(drop=True)\n",
        "rtexts=dftotext(random3df)\n",
        "rtexts=normal_text(rtexts)\n",
        "A_bow_r3=get_bow_matrixA(rtexts)\n",
        "print(A_bow_r3.shape) #13293"
      ],
      "metadata": {
        "id": "TgKAw0a7jRkQ"
      },
      "execution_count": null,
      "outputs": []
    },
    {
      "cell_type": "code",
      "source": [
        "rtexts=dftotext(random3df)\n",
        "rtexts=normal_text(rtexts)\n",
        "A_bow_r3=get_bow_matrixA(rtexts)\n",
        "print(A_bow_r3.shape)"
      ],
      "metadata": {
        "id": "dm9sV9I-kBVp"
      },
      "execution_count": null,
      "outputs": []
    },
    {
      "cell_type": "code",
      "source": [
        "random3df= mixdf[190:647].reset_index(drop=True)\n",
        "rtexts=dftotext(random3df)\n",
        "rtexts=normal_text(rtexts)\n",
        "A_bow_r3=get_bow_matrixA(rtexts)\n",
        "print(A_bow_r3.shape) #13293"
      ],
      "metadata": {
        "id": "jVWtENWSkIHw"
      },
      "execution_count": null,
      "outputs": []
    },
    {
      "cell_type": "code",
      "source": [
        "print(sum([len(key) for key in random3keywords])) # original word num 2438534\n",
        "random3keywords = [[word for word in key if word not in stopword] for key in random3keywords]\n",
        "print(sum([len(key) for key in random3keywords])) # after removing 1974204"
      ],
      "metadata": {
        "id": "2c29-Oxfkuq0"
      },
      "execution_count": null,
      "outputs": []
    },
    {
      "cell_type": "code",
      "source": [
        "each=[]\n",
        "for i in range(len(random3keywords)):\n",
        "  each.append(len(random3keywords[i]))\n",
        "a = each\n",
        "a= np.array(a)"
      ],
      "metadata": {
        "id": "585iefPIk6DS"
      },
      "execution_count": null,
      "outputs": []
    },
    {
      "cell_type": "code",
      "source": [
        "import matplotlib.pyplot as plt\n",
        "# 箱ひげ図\n",
        "fig, ax = plt.subplots()\n",
        "bp = ax.boxplot(a)\n",
        "plt.title('random')\n",
        "plt.grid() # 横線ラインを入れることができます。\n",
        "# 描画\n",
        "plt.show()"
      ],
      "metadata": {
        "id": "1H6nlMEhlDgq"
      },
      "execution_count": null,
      "outputs": []
    },
    {
      "cell_type": "code",
      "source": [
        "word_freqs_random3 = word_freqs(random3keywords)\n",
        "word_freqs_dokujo = word_freqs(dokujokeywords)\n",
        "a[351]\n",
        "random3keywords[351] #351の文書を除く必要がある\n",
        "word_freqs_random3[351] ##こいつが悪さしていた。\n",
        "#覗いてNCIを計算してみる\n",
        "rtexts.pop(351)\n",
        "# A_bow_random3=get_bow_matrixA(rtexts)\n",
        "# compute_NCI(A_bow_random3, len(A_bow_random3))\n",
        "a[113]"
      ],
      "metadata": {
        "id": "cZ8Q0vMllTk4"
      },
      "execution_count": null,
      "outputs": []
    },
    {
      "cell_type": "markdown",
      "metadata": {
        "id": "iXtXYdjGi4Xt"
      },
      "source": [
        "#トピックモデルの実装"
      ]
    },
    {
      "cell_type": "code",
      "execution_count": 48,
      "metadata": {
        "id": "zO6-f4Z7ilWY"
      },
      "outputs": [],
      "source": [
        "from gensim.corpora import Dictionary\n",
        "from gensim.models import word2vec\n",
        "from gensim.models.ldamodel import LdaModel\n",
        "import gensim"
      ]
    },
    {
      "cell_type": "code",
      "execution_count": 49,
      "metadata": {
        "id": "k0xT5RVWhtS0"
      },
      "outputs": [],
      "source": [
        "def get_corpus(keywords, max_document_frequency,min_document_frequency):\n",
        "    dic = Dictionary(keywords)\n",
        "    dic.filter_extremes(no_above=max_document_frequency, no_below=min_document_frequency)  # 出現頻度\n",
        "    corpus = [dic.doc2bow(key) for key in keywords]\n",
        "    return(corpus)"
      ]
    },
    {
      "cell_type": "code",
      "execution_count": 50,
      "metadata": {
        "id": "E9SLY6TQj-5s"
      },
      "outputs": [],
      "source": [
        "#movieとスポーツで分かり切っている分類\n",
        "corpus =get_corpus(allkeywords,0.75,4)\n",
        "####　関数内で定義されないので外で変数にしています。　対処したいです。\n",
        "dictionary = Dictionary(allkeywords)\n",
        "max_document_frequency, min_document_frequency = 0.75, 4  # 単語の出現頻度の上限下限\n",
        "dictionary.filter_extremes(no_above=max_document_frequency, no_below=min_document_frequency)"
      ]
    },
    {
      "cell_type": "code",
      "execution_count": null,
      "metadata": {
        "id": "Lhi8_pV55a7J"
      },
      "outputs": [],
      "source": [
        "#全体(4000)でやってみる\n",
        "corpus=get_corpus(allkeywords, 0.75,4)\n",
        "dictionary =Dictionary(allkeywords)\n",
        "max_document_frequency, min_document_frequency = 0.75, 4  \n",
        "dictionary.filter_extremes(no_above=max_document_frequency, no_below=min_document_frequency)"
      ]
    },
    {
      "cell_type": "code",
      "execution_count": null,
      "metadata": {
        "id": "G5XzO0Dn-QN6"
      },
      "outputs": [],
      "source": [
        "#マジの全文書\n",
        "corpus = get_corpus(bigkeywords, 0.75, 4)\n",
        "dictionary = Dictionary(allkeywords)\n",
        "max_document_frequency, min_document_frequency = 0.75, 4  \n",
        "dictionary.filter_extremes(no_above=max_document_frequency, no_below=min_document_frequency)"
      ]
    },
    {
      "cell_type": "markdown",
      "metadata": {
        "id": "Nhq-d6PikGvj"
      },
      "source": [
        "#LDAモデル化"
      ]
    },
    {
      "cell_type": "code",
      "execution_count": 53,
      "metadata": {
        "id": "31UOsCpj3UXB"
      },
      "outputs": [],
      "source": [
        "from gensim.models.ldamodel import LdaModel\n",
        "\n",
        "_ = dictionary[0]  # id2tokenは遅延ロードされるため\n",
        "id2word = dictionary.id2token\n",
        "num_topics = 8\n",
        "\n",
        "model = LdaModel(\n",
        "    corpus=corpus,\n",
        "    id2word=id2word,\n",
        "    num_topics=num_topics,\n",
        "    passes=10,\n",
        "    random_state=123,\n",
        ")"
      ]
    },
    {
      "cell_type": "code",
      "execution_count": 54,
      "metadata": {
        "colab": {
          "base_uri": "https://localhost:8080/"
        },
        "id": "dCLmxJrukP-Y",
        "outputId": "8987d4c0-5bda-460b-a9bd-b2e767544636"
      },
      "outputs": [
        {
          "output_type": "stream",
          "name": "stdout",
          "text": [
            "(0, '0.016*\"さん\" + 0.015*\"人\" + 0.010*\"ん\" + 0.009*\"思う\" + 0.009*\"女性\" + 0.009*\"よう\" + 0.008*\"自分\" + 0.007*\"歳\" + 0.007*\"ない\" + 0.006*\"私\" + 0.006*\"言う\" + 0.006*\"結婚\" + 0.006*\"男性\" + 0.005*\"女\" + 0.005*\"いい\" + 0.005*\"しまう\" + 0.005*\"多い\" + 0.005*\"そう\" + 0.005*\"仕事\" + 0.005*\"くる\" + 0.005*\"くれる\" + 0.005*\"みる\" + 0.004*\"彼\" + 0.004*\"年\" + 0.004*\"気\" + 0.004*\"女子\" + 0.003*\"さ\" + 0.003*\"何\" + 0.003*\"方\" + 0.003*\"今\"')\n",
            "(1, '0.024*\"映画\" + 0.014*\"日\" + 0.011*\"月\" + 0.010*\"公開\" + 0.009*\"作\" + 0.008*\"作品\" + 0.007*\"本\" + 0.006*\"年\" + 0.005*\"人\" + 0.005*\"監督\" + 0.005*\"世界\" + 0.005*\"演じる\" + 0.004*\"映像\" + 0.004*\"賞\" + 0.004*\"更新\" + 0.004*\"ドラマ\" + 0.004*\"くださる\" + 0.003*\"役\" + 0.003*\"登場\" + 0.003*\"当選\" + 0.003*\"描く\" + 0.003*\"いただく\" + 0.003*\"観る\" + 0.003*\"主演\" + 0.003*\"応募\" + 0.003*\"D\" + 0.003*\"シーン\" + 0.003*\"全国\" + 0.003*\"よう\" + 0.003*\"サイト\"')\n",
            "(2, '0.011*\"D\" + 0.010*\"対応\" + 0.009*\"S\" + 0.009*\"搭載\" + 0.008*\"スマート\" + 0.008*\"フォン\" + 0.007*\"Android\" + 0.007*\"ドコモ\" + 0.007*\"MAX\" + 0.007*\"モデル\" + 0.007*\"機能\" + 0.006*\"発売\" + 0.006*\"更新\" + 0.006*\"日\" + 0.006*\"ソフトウェア\" + 0.005*\"利用\" + 0.005*\"発表\" + 0.005*\"エスマックス\" + 0.005*\"月\" + 0.005*\"本体\" + 0.005*\"年\" + 0.004*\"製品\" + 0.004*\"時間\" + 0.004*\"機種\" + 0.004*\"端末\" + 0.004*\"通信\" + 0.004*\"充電\" + 0.004*\"NTT\" + 0.004*\"向け\" + 0.004*\"場合\"')\n",
            "(3, '0.006*\"よう\" + 0.005*\"ゴルフ\" + 0.005*\"さ\" + 0.005*\"人\" + 0.004*\"ー\" + 0.004*\"くる\" + 0.004*\"自転車\" + 0.004*\"車\" + 0.004*\"思う\" + 0.004*\"円\" + 0.004*\"一\" + 0.003*\"撮影\" + 0.003*\"ない\" + 0.003*\"年\" + 0.003*\"写真\" + 0.003*\"感\" + 0.003*\"体\" + 0.003*\"クルマ\" + 0.003*\"いく\" + 0.003*\"見る\" + 0.003*\"トレーニング\" + 0.002*\"日\" + 0.002*\"高い\" + 0.002*\"足\" + 0.002*\"方\" + 0.002*\"効果\" + 0.002*\"みる\" + 0.002*\"見える\" + 0.002*\"ん\" + 0.002*\"ダイエット\"')\n",
            "(4, '0.014*\"日\" + 0.012*\"ん\" + 0.009*\"思う\" + 0.008*\"さん\" + 0.008*\"人\" + 0.008*\"年\" + 0.007*\"月\" + 0.006*\"てる\" + 0.006*\"選手\" + 0.006*\"氏\" + 0.005*\"監督\" + 0.005*\"語る\" + 0.005*\"一\" + 0.005*\"くる\" + 0.004*\"やる\" + 0.004*\"代表\" + 0.004*\"写真\" + 0.004*\"放送\" + 0.004*\"言う\" + 0.004*\"ない\" + 0.004*\"番組\" + 0.003*\"開催\" + 0.003*\"試合\" + 0.003*\"野球\" + 0.003*\"戦\" + 0.003*\"よう\" + 0.003*\"イベント\" + 0.003*\"いい\" + 0.003*\"サッカー\" + 0.003*\"見る\"')\n",
            "(5, '0.011*\"月\" + 0.010*\"日\" + 0.008*\"円\" + 0.006*\"年\" + 0.006*\"話題\" + 0.005*\"iPhone\" + 0.005*\"よう\" + 0.005*\"サービス\" + 0.005*\"記事\" + 0.004*\"関連\" + 0.004*\"使う\" + 0.004*\"利用\" + 0.004*\"発売\" + 0.004*\"販売\" + 0.004*\"購入\" + 0.003*\"通\" + 0.003*\"スマート\" + 0.003*\"商品\" + 0.003*\"サイト\" + 0.003*\"肌\" + 0.003*\"チェック\" + 0.003*\"みる\" + 0.003*\"機能\" + 0.003*\"使用\" + 0.003*\"人\" + 0.003*\"人気\" + 0.003*\"フォン\" + 0.003*\"万\" + 0.003*\"ユーザー\" + 0.003*\"店\"')\n",
            "(6, '0.013*\"ネット\" + 0.010*\"日\" + 0.010*\"関連\" + 0.009*\"記事\" + 0.008*\"話題\" + 0.008*\"声\" + 0.007*\"掲示板\" + 0.007*\"韓国\" + 0.007*\"番組\" + 0.006*\"ソフトバンク\" + 0.006*\"人\" + 0.005*\"氏\" + 0.005*\"情報\" + 0.005*\"てる\" + 0.005*\"放送\" + 0.005*\"コメント\" + 0.004*\"ない\" + 0.004*\"AKB\" + 0.004*\"よう\" + 0.004*\"見る\" + 0.004*\"批判\" + 0.004*\"ユーザー\" + 0.004*\"ニュース\" + 0.004*\"発言\" + 0.004*\"寄せる\" + 0.003*\"ツイッター\" + 0.003*\"ん\" + 0.003*\"言う\" + 0.003*\"問題\" + 0.003*\"ファン\"')\n",
            "(7, '0.013*\"アプリ\" + 0.008*\"よう\" + 0.007*\"画面\" + 0.007*\"人\" + 0.007*\"情報\" + 0.006*\"表示\" + 0.006*\"使う\" + 0.005*\"みる\" + 0.005*\"記事\" + 0.005*\"紹介\" + 0.005*\"思う\" + 0.005*\"ゲーム\" + 0.005*\"転職\" + 0.004*\"見る\" + 0.004*\"機能\" + 0.004*\"設定\" + 0.004*\"いく\" + 0.004*\"くる\" + 0.004*\"Google\" + 0.004*\"知る\" + 0.004*\"自分\" + 0.004*\"しまう\" + 0.004*\"iPhone\" + 0.004*\"Twitter\" + 0.004*\"ない\" + 0.003*\"livedoor\" + 0.003*\"ファイル\" + 0.003*\"得る\" + 0.003*\"入力\" + 0.003*\"便利\"')\n"
          ]
        }
      ],
      "source": [
        "#結果 (4000ドキュメント)\n",
        "for t in model.show_topics(num_words=30):\n",
        "    print(t)\n",
        "#topic 0 独女通信\n",
        "#topic 1 movie\n",
        "#topic 2 it \n",
        "#topic 3 movie \n",
        "#topic 4 sport系\n",
        "#topic 5 : 美容とか女性サイト系\n",
        "#topic6 : トピックニュース\n",
        "#topic7: it "
      ]
    },
    {
      "cell_type": "code",
      "execution_count": 74,
      "metadata": {
        "id": "paX6cO4f72Kq",
        "colab": {
          "base_uri": "https://localhost:8080/"
        },
        "outputId": "ff443571-a19c-4662-ee9e-03c759a27865"
      },
      "outputs": [
        {
          "output_type": "stream",
          "name": "stdout",
          "text": [
            "720\n",
            "2249    movie-enter\n",
            "Name: media, dtype: object\n"
          ]
        },
        {
          "output_type": "execute_result",
          "data": {
            "text/plain": [
              "array([0, 0, 0, ..., 0, 0, 0])"
            ]
          },
          "metadata": {},
          "execution_count": 74
        }
      ],
      "source": [
        "# ##checking the model \n",
        "# import random\n",
        "# r =random.randint(0, 4000)\n",
        "# print(r)\n",
        "# print(mixdf4000[2249:2250][\"media\"])\n",
        "# selectone=A_bow_all[r]\n",
        "# selectone\n",
        "# model."
      ]
    }
  ],
  "metadata": {
    "colab": {
      "collapsed_sections": [],
      "name": "livedoorcorpus",
      "toc_visible": true,
      "provenance": [],
      "include_colab_link": true
    },
    "kernelspec": {
      "display_name": "Python 3",
      "name": "python3"
    },
    "language_info": {
      "name": "python"
    }
  },
  "nbformat": 4,
  "nbformat_minor": 0
}